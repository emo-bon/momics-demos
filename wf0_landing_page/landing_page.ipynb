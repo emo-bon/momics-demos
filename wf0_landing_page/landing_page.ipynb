{
 "cells": [
  {
   "cell_type": "markdown",
   "metadata": {},
   "source": [
    "# Display sequencing emo-bon efforts across European sites\n",
    "- At first showing the validated and relessed data from [emo-bon-data-validataion](https://github.com/emo-bon/emo-bon-data-validation/tree/main/validated-data)\n",
    "- Second, ask Cymon what metadata can be shown about data which are not ready/released yet.\n",
    "- I use `leafmap` for GIS integration"
   ]
  },
  {
   "cell_type": "code",
   "execution_count": null,
   "metadata": {},
   "outputs": [],
   "source": [
    "# system dependent setup\n",
    "import sys\n",
    "import os\n",
    "import io\n",
    "import logging\n",
    "from IPython import get_ipython\n",
    "\n",
    "logger = logging.getLogger(name=\"Sequencing Progress\")\n",
    "\n",
    "if 'google.colab' in str(get_ipython()):\n",
    "    print('Setting Google colab, you will need a ngrok account to make the dashboard display over the tunnel. \\\n",
    "    https://ngrok.com/')\n",
    "    # clone the momics-demos repository to use it to load data\n",
    "    try:\n",
    "        os.system('git clone https://github.com/palec87/momics-demos.git')\n",
    "        logger.info(f\"Repository cloned\")\n",
    "    except OSError as e:\n",
    "        logger.info(f\"An error occurred while cloning the repository: {e}\")\n",
    "\n",
    "    sys.path.insert(0,'/content/momics-demos')\n",
    "\n",
    "    # this step takes time beacause of many dependencies\n",
    "    os.system('pip install marine-omics')\n",
    "\n",
    "    os.system('pip install leafmap')\n",
    "    logger.info(f\"leafmap installed\")\n",
    "\n",
    "from momics.utils import (\n",
    "    init_setup, get_notebook_environment,\n",
    "    memory_load, reconfig_logger\n",
    ")\n",
    "\n",
    "# Set up logging\n",
    "reconfig_logger()\n",
    "\n",
    "# Determine the notebook environment\n",
    "env = get_notebook_environment()\n",
    "\n",
    "\n",
    "init_setup()\n",
    "logger.info(f\"Environment: {env}\")"
   ]
  },
  {
   "cell_type": "markdown",
   "metadata": {},
   "source": [
    "## Import"
   ]
  },
  {
   "cell_type": "code",
   "execution_count": null,
   "metadata": {},
   "outputs": [],
   "source": [
    "import sys\n",
    "import os\n",
    "import io\n",
    "\n",
    "import pandas as pd\n",
    "import leafmap\n",
    "from ipywidgets import Layout\n",
    "\n",
    "import panel as pn\n",
    "from dotenv import load_dotenv\n",
    "load_dotenv()\n",
    "\n",
    "from momics.panel_utils import serve_app, close_server, create_indicators_landing_page"
   ]
  },
  {
   "cell_type": "markdown",
   "metadata": {},
   "source": [
    "## User settings"
   ]
  },
  {
   "cell_type": "code",
   "execution_count": null,
   "metadata": {},
   "outputs": [],
   "source": [
    "DEBUG = True  # enable stdout logging"
   ]
  },
  {
   "cell_type": "markdown",
   "metadata": {},
   "source": [
    "## Loading"
   ]
  },
  {
   "cell_type": "code",
   "execution_count": null,
   "metadata": {},
   "outputs": [],
   "source": [
    "# parquet files\n",
    "if 'google.colab' in str(get_ipython()):\n",
    "    root_folder = os.path.abspath(os.path.join('/content/momics-demos'))\n",
    "    df_tracker = pd.read_csv(os.path.join(root_folder,\"wf0_landing_page/emobon_sequencing_master.csv\") ,index_col=False)\n",
    "else:\n",
    "    root_folder = os.path.abspath(os.path.join('../'))\n",
    "    df_tracker = pd.read_csv(\"emobon_sequencing_master.csv\" ,index_col=False)\n",
    "\n",
    "assets_folder = os.path.join(root_folder, 'assets')"
   ]
  },
  {
   "cell_type": "markdown",
   "metadata": {},
   "source": [
    "### Data from the validated-data repo ran through pydantic by Cymon"
   ]
  },
  {
   "cell_type": "code",
   "execution_count": null,
   "metadata": {},
   "outputs": [],
   "source": [
    "url_obs = \"https://raw.githubusercontent.com/emo-bon/emo-bon-data-validation/refs/heads/main/validated-data/Observatory_combined_logsheets_validated.csv\"\n",
    "url_metadata = \"https://raw.githubusercontent.com/emo-bon/emo-bon-data-validation/refs/heads/main/validated-data/Batch1and2_combined_logsheets_2024-11-12.csv\"\n",
    "\n",
    "# tracking csv file\n",
    "df_obs = pd.read_csv(url_obs ,index_col=0)\n",
    "\n",
    "# change string that ';' is followed by a space\n",
    "df_obs['organization'] = df_obs['organization'].str.replace('; ', ';')\n",
    "df_obs['organization'] = df_obs['organization'].str.replace(';', '; ')\n",
    "\n",
    "\n",
    "df_metadata = pd.read_csv(url_metadata ,index_col=0)\n",
    "\n",
    "# df_tracker.columns, df_obs.columns"
   ]
  },
  {
   "cell_type": "code",
   "execution_count": null,
   "metadata": {},
   "outputs": [],
   "source": [
    "# df_obs.head()"
   ]
  },
  {
   "cell_type": "code",
   "execution_count": null,
   "metadata": {},
   "outputs": [],
   "source": [
    "# df_tracker.head()"
   ]
  },
  {
   "cell_type": "code",
   "execution_count": null,
   "metadata": {},
   "outputs": [],
   "source": [
    "# manual hash table because names are pain in the backside and long\n",
    "org_hash = {\n",
    "    'EMT21': 'Toralla Marine Science Station',\n",
    "    'UMF': 'Umea Marine Sciences Centre',\n",
    "    'ROSKOGO': 'Station Biologique de Roscoff',\n",
    "    'LMO': 'Linnaeus University',\n",
    "    'BPNS': 'Flanders Marine Institute (VLIZ)',\n",
    "    'ESC68N': 'The Arctic University of Norway (UiT)',\n",
    "    'OOB': 'Observatoire Océanologique de Banyuls',\n",
    "    'RFormosa': 'Centre of Marine Sciences (CCMAR)',\n",
    "    'Bergen': 'University of Bergen (UiB)',\n",
    "    'OSD74': 'CIIMAR Porto',\n",
    "    'VB': 'Institut de la Mer de Villefranche',\n",
    "    'MBAL4': 'Marine Biological Association, Plymouth',\n",
    "    'HCMR-1': 'Hellenic Centre for Marine Research',\n",
    "    'NRMCB': 'Stazione Zoologica Anton Dohrn',\n",
    "    'PiEGetxo': 'Plentzia Marine Station',\n",
    "    'IUIEilat': 'Interuniversity Institute for Marine Sciences in Eilat',\n",
    "    'AAOT': 'Institute of Marine Science, (ISMAR)'\n",
    "}\n",
    "\n",
    "\n",
    "# statistics part\n",
    "def get_stats(df: pd.DataFrame, hash) -> pd.DataFrame:\n",
    "    # pivot table on run_status\n",
    "    df_pivot = df.pivot_table(index=\"obs_id\", columns=[\"run_status\", 'batch'], values=\"organization\",\n",
    "                              aggfunc=\"count\")\n",
    "\n",
    "    df_pivot['sequenced'] = df_pivot.groupby(level=0, axis=1).sum()[\"COMPLETED\"].astype(int)\n",
    "    df_pivot[\"total\"] = df.groupby(\"obs_id\").count()[\"ref_code\"].astype(int)\n",
    "    df_pivot[\"percentage\"] = round(df_pivot['sequenced'] / df_pivot[\"total\"] * 100, ndigits=2)\n",
    "\n",
    "    #replace Nan in run_status with 'queued'\n",
    "    df['run_status'] = df['run_status'].fillna('queued')\n",
    "\n",
    "    # remove lines which are not in org_hash\n",
    "    df = df[df['obs_id'].isin(hash.keys())]\n",
    "    df_pivot2 = df.pivot_table(index=\"obs_id\",\n",
    "                               columns=[\"run_status\", \"sample_type\"],\n",
    "                               values=\"organization\",\n",
    "                               aggfunc=\"count\")\n",
    "    return df_pivot, df_pivot2\n",
    "\n",
    "\n",
    "def progress_per_station(df: pd.DataFrame, hash_table: dict = None) -> pn.Column:\n",
    "    list_indicators = []\n",
    "\n",
    "    # get the station data\n",
    "    for station in list(df.index):\n",
    "        list_indicators.append(\n",
    "            pn.indicators.LinearGauge(\n",
    "                name=station if station not in org_hash else org_hash[station],\n",
    "                value=int(df.loc[station, \"sequenced\"]), format='{value} sequenced',\n",
    "                bounds=(0, int(df.loc[station, \"total\"])),\n",
    "                colors=[(0.4, '#c2270c'), (0.8, '#f5c011'), (1, '#0b8c21')],\n",
    "                horizontal=True,\n",
    "                width=60,\n",
    "                ),\n",
    "            )\n",
    "    return list_indicators"
   ]
  },
  {
   "cell_type": "markdown",
   "metadata": {},
   "source": [
    "### This is the table to display in the workflow"
   ]
  },
  {
   "cell_type": "code",
   "execution_count": null,
   "metadata": {},
   "outputs": [],
   "source": [
    "# Failed attempt to clean and shorted the org names automatically\n",
    "organizations = df_obs[['organization']]\n",
    "\n",
    "# remore duplicates\n",
    "organizations = organizations.drop_duplicates()\n",
    "organizations = organizations[organizations['organization'] != 'Estación de Ciencias Mariñas de Toralla - Centre of Marine Research, University of Vigo']"
   ]
  },
  {
   "cell_type": "code",
   "execution_count": null,
   "metadata": {},
   "outputs": [],
   "source": [
    "# add organization column from the df_obs to the df_tracker based on the obs_id\n",
    "df_tracker = pd.merge(df_tracker, organizations, on=\"obs_id\", how=\"left\")"
   ]
  },
  {
   "cell_type": "code",
   "execution_count": null,
   "metadata": {},
   "outputs": [],
   "source": [
    "# TODO: refactor to func and put to the momics module.\n",
    "\n",
    "df_stats, df_aggregated = get_stats(df_tracker, org_hash)\n",
    "# Reset index to merge properly\n",
    "df_stats = df_stats.reset_index()\n",
    "\n",
    "# Flatten the multi-level columns\n",
    "df_stats.columns = ['_'.join(col).strip() if isinstance(col, tuple) else col for col in df_stats.columns]\n",
    "\n",
    "df_stats = pd.merge(df_stats, organizations, left_on=\"obs_id_\", right_index=True, how=\"left\")\n",
    "# remove trailing _ from the column names\n",
    "df_stats.columns = df_stats.columns.str.rstrip('_')\n",
    "\n",
    "# set index\n",
    "df_stats.set_index('obs_id', inplace=True)\n",
    "\n",
    "\n",
    "print(df_stats['total'].sum())\n",
    "df_stats.head()"
   ]
  },
  {
   "cell_type": "code",
   "execution_count": null,
   "metadata": {},
   "outputs": [],
   "source": [
    "df_aggregated.head()"
   ]
  },
  {
   "cell_type": "markdown",
   "metadata": {},
   "source": [
    "### Notes on what I need\n",
    "- I want to show NUMBER + PERCENTAGE of processed samplings per station\n",
    "- granular per batch"
   ]
  },
  {
   "cell_type": "markdown",
   "metadata": {},
   "source": [
    "## GIS methods"
   ]
  },
  {
   "cell_type": "code",
   "execution_count": null,
   "metadata": {},
   "outputs": [],
   "source": [
    "def create_map(df: pd.DataFrame) -> leafmap.Map:\n",
    "    # Create a map centered at the given coordinates\n",
    "    m = leafmap.Map(center=(50, 10), zoom=4,\n",
    "                    layout=Layout(height='800px')\n",
    "                    )\n",
    "    m.add_points_from_xy(\n",
    "        df, x=\"longitude\", y=\"latitude\",\n",
    "        popup=['organization', \"contact_name\", \"contact_email\", \"ENA_accession_number_umbrella\", 'tot_depth_water_col'],\n",
    "        layer_name=\"EMO-BON Observatories\",\n",
    "        max_cluster_radius=10,\n",
    "        )\n",
    "    return m"
   ]
  },
  {
   "cell_type": "markdown",
   "metadata": {},
   "source": [
    "## APP setup"
   ]
  },
  {
   "cell_type": "code",
   "execution_count": null,
   "metadata": {},
   "outputs": [],
   "source": [
    "pn.extension(\"tabulator\")\n",
    "if 'google.colab' in str(get_ipython()):\n",
    "    pn.extension(comms='colab')\n",
    "ACCENT = \"teal\"\n",
    "\n",
    "styles = {\n",
    "    \"box-shadow\": \"rgba(50, 50, 93, 0.25) 0px 6px 12px -2px, rgba(0, 0, 0, 0.3) 0px 3px 7px -3px\",\n",
    "    \"border-radius\": \"4px\",\n",
    "    \"padding\": \"10px\",\n",
    "}\n",
    "\n",
    "obs_map = create_map(df_obs)\n",
    "indicators = progress_per_station(df_stats)\n",
    "row = pn.FlexBox(\n",
    "    pn.Row(\n",
    "        *create_indicators_landing_page(df_aggregated),\n",
    "        sizing_mode=\"stretch_both\",\n",
    "    )\n",
    ")\n",
    "\n",
    "\n",
    "def app():\n",
    "    template = pn.template.FastListTemplate(\n",
    "        title=\"EMOBON Sequencing Progress Tracker\",\n",
    "        main=[\n",
    "            pn.Row(\n",
    "                pn.Column(\n",
    "                    pn.pane.Markdown(\"## Aggregated stats for <a href= 'https://www.fairease.eu/' target=_blank>FAIR-EASE project</a>\"),\n",
    "                    row,\n",
    "                    pn.FlexBox(\n",
    "                        obs_map,\n",
    "                    ),\n",
    "                ),\n",
    "                pn.Column(*indicators),\n",
    "            ),\n",
    "        ],\n",
    "        main_layout=None,\n",
    "        accent=ACCENT,\n",
    "    )\n",
    "    return template\n",
    "\n",
    "\n",
    "template = app()\n",
    "if 'google.colab' in str(get_ipython()):    \n",
    "    s = serve_app(template, env=env, name=\"landing_page\")\n",
    "else:\n",
    "    template.servable()"
   ]
  },
  {
   "cell_type": "code",
   "execution_count": null,
   "metadata": {},
   "outputs": [],
   "source": [
    "# only use for the ngrok tunnel in GColab\n",
    "# close_server(s, env=env)"
   ]
  }
 ],
 "metadata": {
  "kernelspec": {
   "display_name": "momics-demos",
   "language": "python",
   "name": "momics-demos"
  },
  "language_info": {
   "codemirror_mode": {
    "name": "ipython",
    "version": 3
   },
   "file_extension": ".py",
   "mimetype": "text/x-python",
   "name": "python",
   "nbconvert_exporter": "python",
   "pygments_lexer": "ipython3",
   "version": "3.13.3"
  }
 },
 "nbformat": 4,
 "nbformat_minor": 4
}
