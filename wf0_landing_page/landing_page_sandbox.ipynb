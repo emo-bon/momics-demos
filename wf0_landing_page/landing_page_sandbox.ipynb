{
 "cells": [
  {
   "cell_type": "markdown",
   "metadata": {},
   "source": [
    "# Display sequencing emo-bon efforts across European sites\n",
    "- At first showing the validated and relessed data from [emo-bon-data-validataion](https://github.com/emo-bon/emo-bon-data-validation/tree/main/validated-data)\n",
    "- Second, ask Cymon what metadata can be shown about data which are not ready/released yet.\n",
    "- I use `leafmap` for GIS integration\n",
    "\n",
    "TODO: refactor with importing funcs from pull_seq_efforts.py"
   ]
  },
  {
   "cell_type": "code",
   "execution_count": null,
   "metadata": {},
   "outputs": [
    {
     "name": "stdout",
     "output_type": "stream",
     "text": [
      "Platform: local Linux\n"
     ]
    }
   ],
   "source": [
    "# system dependent setup\n",
    "import sys\n",
    "import os\n",
    "import io\n",
    "import logging\n",
    "from IPython import get_ipython\n",
    "\n",
    "logger = logging.getLogger(name=\"Diversity analysis app\")\n",
    "\n",
    "if 'google.colab' in str(get_ipython()):\n",
    "    # clone the momics-demos repository to use the utils module from there\n",
    "    # TODO: eventually utils from momics will be used for that\n",
    "    try:\n",
    "        os.system('git clone https://github.com/palec87/momics-demos.git')\n",
    "        logger.info(f\"Repository cloned\")\n",
    "    except OSError as e:\n",
    "        logger.info(f\"An error occurred while cloning the repository: {e}\")\n",
    "\n",
    "    sys.path.insert(0,'/content/momics-demos')\n",
    "\n",
    "else:\n",
    "    sys.path.append(os.path.abspath(os.path.join(os.getcwd(), '..')))  # local utils, to be removed in the future\n",
    "\n",
    "    # downside of this is that all the deps need to be installed in the current (momics-demos) environment\n",
    "    sys.path.append(os.path.abspath(os.path.join(os.getcwd(), '../../../marine-omics')))  # local momics package, to be removed too\n",
    "\n",
    "from utils import init_setup, get_notebook_environment\n",
    "init_setup()\n",
    "\n",
    "# Initialize the environment variable\n",
    "notebook_environment = 'unknown'\n",
    "# Determine the notebook environment\n",
    "env = get_notebook_environment()\n",
    "logger.info(f\"Environment: {env}\")"
   ]
  },
  {
   "cell_type": "markdown",
   "metadata": {},
   "source": [
    "## Imports"
   ]
  },
  {
   "cell_type": "code",
   "execution_count": null,
   "metadata": {},
   "outputs": [],
   "source": [
    "# import requests\n",
    "import pandas as pd\n",
    "# import leafmap.leafmap as leafmap\n",
    "import leafmap"
   ]
  },
  {
   "cell_type": "markdown",
   "metadata": {},
   "source": [
    "## Data from the validated-data repo ran through pydantic by Cymon"
   ]
  },
  {
   "cell_type": "code",
   "execution_count": 3,
   "metadata": {},
   "outputs": [
    {
     "data": {
      "text/plain": [
       "(Index(['project_name', 'latitude', 'longitude', 'geo_loc_name',\n",
       "        'loc_broad_ocean', 'loc_broad_ocean_mrgid', 'loc_regional',\n",
       "        'loc_regional_mrgid', 'loc_loc', 'loc_loc_mrgid', 'env_broad_biome',\n",
       "        'env_local', 'env_package', 'tot_depth_water_col', 'organization',\n",
       "        'organization_country', 'organization_edmoid', 'wa_id',\n",
       "        'extra_site_info', 'contact_name', 'contact_email', 'contact_orcid',\n",
       "        'ENA_accession_number_umbrella', 'ENA_accession_number_project'],\n",
       "       dtype='object'),\n",
       " Index(['source_mat_id_orig', 'samp_description', 'tax_id', 'scientific_name',\n",
       "        'investigation_type', 'env_material', 'collection_date',\n",
       "        'sampling_event', 'sampl_person', 'sampl_person_orcid',\n",
       "        ...\n",
       "        'silicate_method', 'sulfate', 'sulfate_method', 'sulfide',\n",
       "        'sulfide_method', 'turbidity', 'turbidity_method', 'water_current',\n",
       "        'water_current_method', 'env_package'],\n",
       "       dtype='object', length=113))"
      ]
     },
     "execution_count": 3,
     "metadata": {},
     "output_type": "execute_result"
    }
   ],
   "source": [
    "url_obs = \"https://raw.githubusercontent.com/emo-bon/emo-bon-data-validation/refs/heads/main/validated-data/Observatory_combined_logsheets_validated.csv\"\n",
    "url_metadata = \"https://raw.githubusercontent.com/emo-bon/emo-bon-data-validation/refs/heads/main/validated-data/Batch1and2_combined_logsheets_2024-11-12.csv\"\n",
    "\n",
    "\n",
    "df_obs = pd.read_csv(url_obs ,index_col=0)\n",
    "df_metadata = pd.read_csv(url_metadata ,index_col=0)\n",
    "\n",
    "df_obs.columns, df_metadata.columns"
   ]
  },
  {
   "cell_type": "code",
   "execution_count": 4,
   "metadata": {},
   "outputs": [],
   "source": [
    "m = leafmap.Map(center=(50, 10), zoom=4)\n",
    "m.add_points_from_xy(\n",
    "    df_obs, x=\"longitude\", y=\"latitude\",\n",
    "    popup=['organization', \"contact_name\", \"contact_email\", \"ENA_accession_number_umbrella\", 'tot_depth_water_col'],\n",
    "    layer_name=\"EMO-BON Observatories\")\n",
    "# m"
   ]
  },
  {
   "cell_type": "markdown",
   "metadata": {},
   "source": [
    "## Template for the TRACKING table from the `sequencing-crate` repo and Cymon's spreadsheet\n",
    "- sequence [repo](https://github.com/emo-bon/sequencing-crate/tree/main/shipment)\n",
    "- full will combine emo-bon-validation, sequencing-crate and metagoflow tracker"
   ]
  },
  {
   "cell_type": "code",
   "execution_count": 6,
   "metadata": {},
   "outputs": [],
   "source": [
    "from pull_seq_efforts import *"
   ]
  },
  {
   "cell_type": "code",
   "execution_count": null,
   "metadata": {},
   "outputs": [],
   "source": [
    "df_sediment = get_seq_track_data(\"SEDIMENTS\")\n",
    "df_filters = get_seq_track_data(\"FILTERS\")"
   ]
  },
  {
   "cell_type": "code",
   "execution_count": null,
   "metadata": {},
   "outputs": [
    {
     "data": {
      "text/plain": [
       "(Index(['Batch Number', 'Folder @ Genoscope', 'ref_code',\n",
       "        'Seq Run RO-Crate Filename', 'Forward Read Filename',\n",
       "        'BackwardRead Filename', 'Run Status', 'version', 'Date Started',\n",
       "        'Notes', 'who', 'System Run', 'Output Location', 'Output size',\n",
       "        'comments'],\n",
       "       dtype='object'),\n",
       " ['001', '002', '003-0', '003-1', '003-2'])"
      ]
     },
     "execution_count": 9,
     "metadata": {},
     "output_type": "execute_result"
    }
   ],
   "source": [
    "df_filters.columns, ALL_SHIPMENTS  # ALL_SHIPMENTS also imported from pull_seq_efforts"
   ]
  },
  {
   "cell_type": "markdown",
   "metadata": {},
   "source": [
    "### Merging tables"
   ]
  },
  {
   "cell_type": "code",
   "execution_count": null,
   "metadata": {},
   "outputs": [],
   "source": [
    "df_shipments = query_all_shipment_data()\n",
    "df_tracking = query_track_data()"
   ]
  },
  {
   "cell_type": "code",
   "execution_count": null,
   "metadata": {},
   "outputs": [],
   "source": [
    "df_full = min_merge(df_shipments, df_tracking)\n",
    "df_full.head()"
   ]
  },
  {
   "cell_type": "code",
   "execution_count": null,
   "metadata": {},
   "outputs": [],
   "source": []
  }
 ],
 "metadata": {
  "kernelspec": {
   "display_name": "momicsdem",
   "language": "python",
   "name": "momicsdem"
  },
  "language_info": {
   "codemirror_mode": {
    "name": "ipython",
    "version": 3
   },
   "file_extension": ".py",
   "mimetype": "text/x-python",
   "name": "python",
   "nbconvert_exporter": "python",
   "pygments_lexer": "ipython3",
   "version": "3.10.12"
  }
 },
 "nbformat": 4,
 "nbformat_minor": 2
}
