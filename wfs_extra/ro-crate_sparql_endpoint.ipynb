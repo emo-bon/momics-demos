{
 "cells": [
  {
   "cell_type": "markdown",
   "id": "6f5426a2",
   "metadata": {},
   "source": [
    "## Example of future for the RO-Crates and SparQL\n",
    "- set up local SparQL DB\n",
    "- based on few RO-Crates so far published\n",
    "- test methods to query the SparQL\n",
    "  - directly\n",
    "  - or using UDAL\n"
   ]
  },
  {
   "cell_type": "code",
   "execution_count": 2,
   "id": "88ee3a44",
   "metadata": {},
   "outputs": [
    {
     "name": "stderr",
     "output_type": "stream",
     "text": [
      "INFO | root | Logging.basicConfig completed successfully\n",
      "INFO | Diversity analysis app | Environment: vscode\n",
      "INFO | Diversity analysis app | Environment: vscode\n"
     ]
    }
   ],
   "source": [
    "import sys\n",
    "import os\n",
    "import logging\n",
    "from IPython import get_ipython\n",
    "logger = logging.getLogger(name=\"Diversity analysis app\")\n",
    "\n",
    "if 'google.colab' in str(get_ipython()):\n",
    "    print('Setting Google colab, you will need a ngrok account to make the dashboard display over the tunnel. \\\n",
    "    https://ngrok.com/')\n",
    "    # clone the momics-demos repository to use it to load data\n",
    "    try:\n",
    "        os.system('git clone https://github.com/palec87/momics-demos.git')\n",
    "        logger.info(f\"Repository cloned\")\n",
    "    except OSError as e:\n",
    "        logger.info(f\"An error occurred while cloning the repository: {e}\")\n",
    "\n",
    "    sys.path.insert(0,'/content/momics-demos')\n",
    "\n",
    "    # this step takes time beacause of many dependencies\n",
    "    os.system('pip install marine-omics')\n",
    "\n",
    "from momics.utils import (\n",
    "    memory_load, reconfig_logger,\n",
    "    init_setup, get_notebook_environment,\n",
    ")\n",
    "\n",
    "# Set up logging\n",
    "reconfig_logger()\n",
    "\n",
    "# Determine the notebook environment\n",
    "env = get_notebook_environment()\n",
    "\n",
    "init_setup()\n",
    "logger.info(f\"Environment: {env}\")"
   ]
  },
  {
   "cell_type": "markdown",
   "id": "59b86cd6",
   "metadata": {},
   "source": [
    "### Fuseki setup\n",
    "Fuseki is a java SparQL endpoint server.\n",
    "\n",
    "Get java\n",
    "```\n",
    "sudo apt update\n",
    "sudo apt install -y openjdk-17-jre-headless\n",
    "java -version\n",
    "```\n",
    "\n",
    "- download the zip file from https://jena.apache.org/download/index.cgi\n",
    "- run the fuseki server script\n",
    "```\n",
    "cd apache-jena-fuseki-5.5.0/\n",
    "./fuseki-server\n",
    "```\n",
    "the server is at\n",
    "http://localhost:3030/#/"
   ]
  },
  {
   "cell_type": "markdown",
   "id": "c28d496b",
   "metadata": {},
   "source": [
    "### Preparation of a dataset\n",
    "- I want to keep this in pure python\n",
    "- use `rdflib rdflib-jsonld requests`"
   ]
  },
  {
   "cell_type": "code",
   "execution_count": 15,
   "id": "035908fa",
   "metadata": {},
   "outputs": [],
   "source": [
    "import pandas as pd\n",
    "import requests\n",
    "import json\n",
    "import re\n",
    "from rdflib import Graph\n",
    "from urllib.parse import quote_plus, urljoin"
   ]
  },
  {
   "cell_type": "markdown",
   "id": "cc99c978",
   "metadata": {},
   "source": [
    "### Methods to get RO-Crates from GH"
   ]
  },
  {
   "cell_type": "code",
   "execution_count": null,
   "id": "4059c78e",
   "metadata": {},
   "outputs": [],
   "source": [
    "def fetch_rocrate_json_from_github(url):\n",
    "    \"\"\"\n",
    "    Try to obtain the ro-crate-metadata.json (or .jsonld) from a GitHub repo URL\n",
    "    or a raw.githubusercontent.com URL.\n",
    "    Returns text of JSON-LD.\n",
    "    \"\"\"\n",
    "    # quick case: raw URL or direct file link\n",
    "    if \"raw.githubusercontent.com\" in url or url.endswith(\".json\") or url.endswith(\".jsonld\"):\n",
    "        r = requests.get(url, timeout=20)\n",
    "        r.raise_for_status()\n",
    "        return r.text\n",
    "\n",
    "    # try to parse owner/repo from a normal GitHub URL\n",
    "    m = re.search(r\"github.com/([^/]+)/([^/]+)\", url)\n",
    "    if not m:\n",
    "        raise ValueError(\"Provide a GitHub repo url or direct raw URL to ro-crate-metadata.json\")\n",
    "\n",
    "    owner, repo = m.group(1), m.group(2).replace(\".git\", \"\")\n",
    "    # try main and master branches, common filenames\n",
    "    branches = [\"main\", \"master\"]\n",
    "    filenames = [\"ro-crate-metadata.json\", \"ro-crate-metadata.jsonld\", \"ro-crate-metadata.jsonld.json\"]\n",
    "    for br in branches:\n",
    "        for fn in filenames:\n",
    "            raw = f\"https://raw.githubusercontent.com/{owner}/{repo}/{br}/{fn}\"\n",
    "            r = requests.get(raw, timeout=15)\n",
    "            if r.status_code == 200:\n",
    "                return r.text\n",
    "    raise FileNotFoundError(f\"Could not find ro-crate-metadata.json in {owner}/{repo} (tried main/master). \"\n",
    "                            \"If your file is elsewhere, pass its raw URL directly.\")\n",
    "\n",
    "\n",
    "def jsonld_to_rdflib(jsonld_text, base=None):\n",
    "    \"\"\"\n",
    "    Parse JSON-LD text into an rdflib.Graph and return the Graph.\n",
    "    \"\"\"\n",
    "    g = Graph()\n",
    "    # rdflib accepts a JSON-LD string as input; base is optional\n",
    "    g.parse(data=jsonld_text, format=\"json-ld\", publicID=base)\n",
    "    return g\n",
    "\n",
    "\n",
    "def upload_graph_to_fuseki(graph, fuseki_dataset_base, graph_uri=None, method=\"POST\", fmt=\"turtle\"):\n",
    "    \"\"\"\n",
    "    Upload an rdflib.Graph to Fuseki using the Graph Store HTTP endpoint.\n",
    "    - fuseki_dataset_base: e.g. \"http://localhost:3030/rocrate\" (no trailing slash)\n",
    "    - graph_uri: if provided, data will be loaded into that named graph (as a graph IRI)\n",
    "    - method: \"POST\" (append) or \"PUT\" (replace)\n",
    "    - fmt: serialization format for upload ('turtle' recommended)\n",
    "    Returns requests.Response\n",
    "    \"\"\"\n",
    "    if not fuseki_dataset_base.endswith(\"/\"):\n",
    "        fuseki_dataset_base = fuseki_dataset_base\n",
    "    gsp_url = fuseki_dataset_base.rstrip(\"/\") + \"/data\"\n",
    "    params = {}\n",
    "    headers = {}\n",
    "\n",
    "    # serialize\n",
    "    payload = graph.serialize(format=fmt)\n",
    "    # content type mapping\n",
    "    ct = {\n",
    "        \"turtle\": \"text/turtle\",\n",
    "        \"nt\": \"application/n-triples\",\n",
    "        \"json-ld\": \"application/ld+json\",\n",
    "        \"trig\": \"application/trig\",\n",
    "        \"nquads\": \"application/n-quads\"\n",
    "    }.get(fmt, \"text/turtle\")\n",
    "\n",
    "    headers[\"Content-Type\"] = ct\n",
    "\n",
    "    # add graph query parameter if named graph\n",
    "    if graph_uri:\n",
    "        gsp_url = gsp_url + \"?graph=\" + quote_plus(graph_uri)\n",
    "\n",
    "    # choose requests method\n",
    "    if method.upper() == \"POST\":\n",
    "        resp = requests.post(gsp_url, data=payload.encode(\"utf-8\"), headers=headers, timeout=60)\n",
    "    elif method.upper() == \"PUT\":\n",
    "        resp = requests.put(gsp_url, data=payload.encode(\"utf-8\"), headers=headers, timeout=60)\n",
    "    else:\n",
    "        raise ValueError(\"method must be 'POST' or 'PUT'\")\n",
    "\n",
    "    # raise for HTTP error\n",
    "    try:\n",
    "        resp.raise_for_status()\n",
    "    except requests.HTTPError as e:\n",
    "        raise RuntimeError(f\"Upload failed: {resp.status_code} {resp.text}\") from e\n",
    "\n",
    "    return resp\n",
    "\n",
    "\n",
    "def process_github_rocrate(repo_url, fuseki_dataset_base, graph_uri=None, branch=None, fmt=\"turtle\"):\n",
    "    \"\"\"\n",
    "    High level: fetch ro-crate metadata from GitHub, parse, upload.\n",
    "    - repo_url: github repo url or raw file url\n",
    "    - fuseki_dataset_base: e.g. 'http://localhost:3030/rocrate'\n",
    "    - graph_uri: optional named graph IRI; if None uses default graph\n",
    "    - fmt: how to serialize before upload (turtle is robust)\n",
    "    \"\"\"\n",
    "    jsonld_text = fetch_rocrate_json_from_github(repo_url)\n",
    "    g = jsonld_to_rdflib(jsonld_text)\n",
    "    # optional: add provenance triple identifying source\n",
    "    if graph_uri:\n",
    "        # keep graph_uri separate (we upload into that graph)\n",
    "        pass\n",
    "    resp = upload_graph_to_fuseki(g, fuseki_dataset_base, graph_uri=graph_uri, method=\"POST\", fmt=fmt)\n",
    "    return resp"
   ]
  },
  {
   "cell_type": "code",
   "execution_count": 13,
   "id": "5d864718",
   "metadata": {},
   "outputs": [
    {
     "name": "stdout",
     "output_type": "stream",
     "text": [
      "Upload successful: 200\n"
     ]
    }
   ],
   "source": [
    "repo = 'https://raw.githubusercontent.com/emo-bon/analysis-results-cluster-01-crate/refs/heads/main/EMOBON_BPNS_So_34-ro-crate/ro-crate-metadata.json'\n",
    "fuseki_base = \"http://localhost:3030/rocrate\"\n",
    "try:\n",
    "    r = process_github_rocrate(\n",
    "        repo,\n",
    "        fuseki_base,\n",
    "        # graph_uri=\"http://example.org/rocrate/your-repo\",\n",
    "        fmt=\"turtle\")\n",
    "    print(\"Upload successful:\", r.status_code)\n",
    "except Exception as e:\n",
    "    print(\"Error:\", e)"
   ]
  },
  {
   "cell_type": "code",
   "execution_count": 14,
   "id": "ffcd4897",
   "metadata": {},
   "outputs": [
    {
     "name": "stdout",
     "output_type": "stream",
     "text": [
      "{'head': {'vars': ['c']}, 'results': {'bindings': [{'c': {'type': 'literal', 'datatype': 'http://www.w3.org/2001/XMLSchema#integer', 'value': '481'}}]}}\n"
     ]
    }
   ],
   "source": [
    "q = \"SELECT (COUNT(*) AS ?c) WHERE { ?s ?p ?o }\"\n",
    "r = requests.get(\"http://localhost:3030/rocrate/query\", params={\"query\": q}, headers={\"Accept\": \"application/sparql-results+json\"})\n",
    "print(r.json())"
   ]
  },
  {
   "cell_type": "code",
   "execution_count": 16,
   "id": "7b39f7af",
   "metadata": {},
   "outputs": [],
   "source": [
    "def sparql_json_to_df(sparql_json):\n",
    "    \"\"\"\n",
    "    Convert a SPARQL SELECT query JSON result to a pandas DataFrame.\n",
    "    \n",
    "    Parameters\n",
    "    ----------\n",
    "    sparql_json : dict\n",
    "        JSON returned by Fuseki / SPARQL endpoint with Accept: application/sparql-results+json\n",
    "    \n",
    "    Returns\n",
    "    -------\n",
    "    pd.DataFrame\n",
    "    \"\"\"\n",
    "    vars_ = sparql_json.get(\"head\", {}).get(\"vars\", [])\n",
    "    rows = []\n",
    "\n",
    "    for binding in sparql_json.get(\"results\", {}).get(\"bindings\", []):\n",
    "        row = {}\n",
    "        for var in vars_:\n",
    "            # Some results might not bind all variables\n",
    "            if var in binding:\n",
    "                row[var] = binding[var][\"value\"]\n",
    "            else:\n",
    "                row[var] = None\n",
    "        rows.append(row)\n",
    "\n",
    "    df = pd.DataFrame(rows, columns=vars_)\n",
    "    return df"
   ]
  },
  {
   "cell_type": "code",
   "execution_count": 17,
   "id": "af2f709d",
   "metadata": {},
   "outputs": [
    {
     "name": "stdout",
     "output_type": "stream",
     "text": [
      "     c\n",
      "0  481\n"
     ]
    }
   ],
   "source": [
    "df = sparql_json_to_df(r.json())\n",
    "print(df)"
   ]
  },
  {
   "cell_type": "markdown",
   "id": "c553fff3",
   "metadata": {},
   "source": [
    "### Add more than one `repository`\n",
    "- ie. several emo-bon ro-crates"
   ]
  },
  {
   "cell_type": "code",
   "execution_count": 22,
   "id": "1b9dcd6a",
   "metadata": {},
   "outputs": [
    {
     "name": "stdout",
     "output_type": "stream",
     "text": [
      "https://raw.githubusercontent.com/emo-bon/analysis-results-cluster-01-crate/refs/heads/main/EMOBON_BPNS_So_34-ro-crate/ro-crate-metadata.json -> 201\n",
      "https://raw.githubusercontent.com/emo-bon/analysis-results-cluster-01-crate/refs/heads/main/EMOBON_NRMCB_So_1-ro-crate/ro-crate-metadata.json -> 201\n",
      "https://raw.githubusercontent.com/emo-bon/analysis-results-cluster-01-crate/refs/heads/main/EMOBON_NRMCB_So_11-ro-crate/ro-crate-metadata.json -> 201\n",
      "https://raw.githubusercontent.com/emo-bon/analysis-results-cluster-01-crate/refs/heads/main/EMOBON_OOB_So_25-ro-crate/ro-crate-metadata.json -> 201\n",
      "https://raw.githubusercontent.com/emo-bon/analysis-results-cluster-01-crate/refs/heads/main/EMOBON_RFormosa_So_11-ro-crate/ro-crate-metadata.json -> 201\n"
     ]
    }
   ],
   "source": [
    "repos = [\n",
    "    \"https://raw.githubusercontent.com/emo-bon/analysis-results-cluster-01-crate/refs/heads/main/EMOBON_BPNS_So_34-ro-crate/ro-crate-metadata.json\",\n",
    "    \"https://raw.githubusercontent.com/emo-bon/analysis-results-cluster-01-crate/refs/heads/main/EMOBON_NRMCB_So_1-ro-crate/ro-crate-metadata.json\",\n",
    "    \"https://raw.githubusercontent.com/emo-bon/analysis-results-cluster-01-crate/refs/heads/main/EMOBON_NRMCB_So_11-ro-crate/ro-crate-metadata.json\",\n",
    "    'https://raw.githubusercontent.com/emo-bon/analysis-results-cluster-01-crate/refs/heads/main/EMOBON_OOB_So_25-ro-crate/ro-crate-metadata.json',\n",
    "    \"https://raw.githubusercontent.com/emo-bon/analysis-results-cluster-01-crate/refs/heads/main/EMOBON_RFormosa_So_11-ro-crate/ro-crate-metadata.json\"\n",
    "]\n",
    "for r in repos:\n",
    "    try:\n",
    "        resp = process_github_rocrate(\n",
    "            r, \"http://localhost:3030/rocrate\",\n",
    "            graph_uri=f\"http://example.org/rocrate/{r.split('/')[-2]}\")\n",
    "        print(r, \"->\", resp.status_code)\n",
    "    except Exception as e:\n",
    "        print(\"FAILED\", r, e)"
   ]
  },
  {
   "cell_type": "code",
   "execution_count": 25,
   "id": "434ed646",
   "metadata": {},
   "outputs": [
    {
     "name": "stdout",
     "output_type": "stream",
     "text": [
      "     c\n",
      "0  481\n"
     ]
    }
   ],
   "source": [
    "q = \"SELECT (COUNT(*) AS ?c) WHERE { ?s ?p ?o }\"\n",
    "r = requests.get(\"http://localhost:3030/rocrate/query\", params={\"query\": q}, headers={\"Accept\": \"application/sparql-results+json\"})\n",
    "df = sparql_json_to_df(r.json())\n",
    "print(df)"
   ]
  },
  {
   "cell_type": "code",
   "execution_count": null,
   "id": "38aff9ea",
   "metadata": {},
   "outputs": [],
   "source": []
  }
 ],
 "metadata": {
  "kernelspec": {
   "display_name": "momics-demos",
   "language": "python",
   "name": "python3"
  },
  "language_info": {
   "codemirror_mode": {
    "name": "ipython",
    "version": 3
   },
   "file_extension": ".py",
   "mimetype": "text/x-python",
   "name": "python",
   "nbconvert_exporter": "python",
   "pygments_lexer": "ipython3",
   "version": "3.13.3"
  }
 },
 "nbformat": 4,
 "nbformat_minor": 5
}
