{
 "cells": [
  {
   "cell_type": "markdown",
   "metadata": {},
   "source": [
    "# App for analyzing GECCO runs from the Galaxy\n",
    "\n",
    "1. Upload local data or query results of the GECCO from the Galaxy.\n",
    "2. Identifying Biosynthetic Gene Clusters (BGCs).\n",
    "3. Visualize BGCs.\n",
    "4. Compare two samples in respect to each other.\n",
    "\n",
    "Note: Sending GECCO jobs to Galaxy is part of another separate application."
   ]
  },
  {
   "cell_type": "markdown",
   "metadata": {},
   "source": [
    "## Platform dependent part\n",
    "- Resolve platform setup\n",
    "- the difference to local imports should be resolved by setting the VRE packages well"
   ]
  },
  {
   "cell_type": "code",
   "execution_count": null,
   "metadata": {},
   "outputs": [],
   "source": [
    "import os\n",
    "import sys\n",
    "import logging\n",
    "import psutil\n",
    "from IPython import get_ipython\n",
    "\n",
    "logger = logging.getLogger(name=\"GECCO analyzer\")\n",
    "\n",
    "if 'google.colab' in str(get_ipython()):\n",
    "    print('Setting Google colab, you will need a ngrok account to make the dashboard display over the tunnel. \\\n",
    "    https://ngrok.com/')\n",
    "    # clone the momics-demos repository to use it to load data\n",
    "    try:\n",
    "        os.system('git clone https://github.com/palec87/momics-demos.git')\n",
    "        logger.info(f\"Repository cloned\")\n",
    "    except OSError as e:\n",
    "        logger.info(f\"An error occurred while cloning the repository: {e}\")\n",
    "\n",
    "    sys.path.insert(0,'/content/momics-demos')\n",
    "\n",
    "    # this step takes time beacause of many dependencies\n",
    "    os.system('pip install momics@git+https://github.com/emo-bon/marine-omics-methods.git@main')\n",
    "\n",
    "elif psutil.users() == []:\n",
    "    logger.info(\"Binder\")\n",
    "\n",
    "    logger.info('Binder will not allow you to upload the \".env\" file')\n",
    "    os.environ[\"GALAXY_EARTH_URL\"] = \"https://earth-system.usegalaxy.eu/\"\n",
    "    ###########################################################################################\n",
    "    ### INPUT TOKEN HERE, If not using Galaxy, put any string below, but cannot stay empty ####\n",
    "    ###########################################################################################\n",
    "    os.environ[\"GALAXY_EARTH_KEY\"] = \"\"\n",
    "    assert os.environ[\"GALAXY_EARTH_KEY\"] != \"\", \"token cannot be an empty string, SET your API key.\"\n",
    "\n",
    "else:\n",
    "    logger.info(\"Local server\")\n",
    "\n",
    "from momics.utils import init_setup, get_notebook_environment, memory_load\n",
    "init_setup()\n",
    "\n",
    "# Determine the notebook environment\n",
    "env = get_notebook_environment()\n",
    "logger.info(f\"Environment: {env}\")"
   ]
  },
  {
   "cell_type": "markdown",
   "metadata": {},
   "source": [
    "## Imports"
   ]
  },
  {
   "cell_type": "code",
   "execution_count": null,
   "metadata": {},
   "outputs": [],
   "source": [
    "# This needs to be repeated here for the Pannel dashboard to work, WEIRD\n",
    "# TODO: report as possible bug\n",
    "import sys\n",
    "import os\n",
    "import io\n",
    "\n",
    "# import numpy as np\n",
    "import pandas as pd\n",
    "# import matplotlib.pyplot as plt\n",
    "# import seaborn as sns\n",
    "import panel as pn\n",
    "\n",
    "# Import\n",
    "import bioblend.galaxy as g  # BioBlend is a Python library, wrapping the functionality of Galaxy and CloudMan APIs\n",
    "from bioblend.galaxy import GalaxyInstance\n",
    "\n",
    "# All low level functions are imported from the momics package\n",
    "import momics.diversity as div\n",
    "import momics.plotting as pl\n",
    "from momics.panel_utils import serve_app, close_server\n",
    "from momics.loader import bytes_to_df"
   ]
  },
  {
   "cell_type": "markdown",
   "metadata": {},
   "source": [
    "### User settings"
   ]
  },
  {
   "cell_type": "code",
   "execution_count": null,
   "metadata": {},
   "outputs": [],
   "source": [
    "DEBUG = True  # enable stdout logging"
   ]
  },
  {
   "cell_type": "markdown",
   "metadata": {},
   "source": [
    "## Loading and setup"
   ]
  },
  {
   "cell_type": "code",
   "execution_count": null,
   "metadata": {},
   "outputs": [],
   "source": [
    "if 'google.colab' in str(get_ipython()):\n",
    "    root_folder = os.path.abspath(os.path.join('/content/momics-demos'))\n",
    "else:\n",
    "    root_folder = os.path.abspath(os.path.join('../'))\n",
    "\n",
    "assets_folder = os.path.join(root_folder, 'assets')"
   ]
  },
  {
   "cell_type": "markdown",
   "metadata": {},
   "source": [
    "## Content setup"
   ]
  },
  {
   "cell_type": "markdown",
   "metadata": {},
   "source": [
    "### DF display"
   ]
  },
  {
   "cell_type": "code",
   "execution_count": null,
   "metadata": {},
   "outputs": [],
   "source": [
    "pn.extension(\"tabulator\", \"mathjax\", \"filedropper\")\n",
    "DATASETS = {}\n",
    "ACCENT = \"teal\"\n",
    "\n",
    "styles = {\n",
    "    \"box-shadow\": \"rgba(50, 50, 93, 0.25) 0px 6px 12px -2px, rgba(0, 0, 0, 0.3) 0px 3px 7px -3px\",\n",
    "    \"border-radius\": \"4px\",\n",
    "    \"padding\": \"10px\",\n",
    "}\n",
    "\n",
    "image = pn.pane.JPG(os.path.join(assets_folder, \"figs/logo_gecco.jpeg\"),\n",
    "                    width=100, height=100)\n",
    "\n",
    "markdown_intro = pn.pane.Markdown(\n",
    "\"\"\"\n",
    "**If you want to use the Galaxy API:**\n",
    "- you need to provide your credentials.\n",
    "- and `job_id` of the job that created the files to get those files.\n",
    "- For comparison study, you need to provide two job_ids.\n",
    "\"\"\"\n",
    ")\n",
    "\n",
    "md_upload = pn.pane.Markdown(\n",
    "\"\"\"\n",
    "**Upload your files:**\n",
    "You need to select exactly 3 files where filenames contain:\n",
    "- `BGCs` or `clusters`\n",
    "- `features`\n",
    "- `genes`\n",
    "\"\"\"\n",
    ")\n",
    "\n",
    "md_get_galaxy = pn.pane.Markdown(\n",
    "\"\"\"\n",
    "**Get files from Galaxy:**\n",
    "You need to provide your credentials and `job_id`.\n",
    "\"\"\"\n",
    ")\n",
    "\n",
    "upload_local = pn.widgets.FileInput(\n",
    "    multiple=True,\n",
    ")\n",
    "\n",
    "literal_galaxy_url = pn.widgets.TextInput(\n",
    "    name='Galaxy server URL',\n",
    "    placeholder='Enter a https server address here...',\n",
    ")\n",
    "\n",
    "literal_galaxy_key = pn.widgets.PasswordInput(\n",
    "    name='Password',\n",
    "    placeholder='Enter your password here...',\n",
    ")\n",
    "\n",
    "button_display_loaded = pn.widgets.Button(\n",
    "    name=\"Display loaded files\",\n",
    "    button_type=\"primary\",\n",
    "    width=200,\n",
    ")"
   ]
  },
  {
   "cell_type": "markdown",
   "metadata": {},
   "source": [
    "### Analysis page"
   ]
  },
  {
   "cell_type": "code",
   "execution_count": null,
   "metadata": {},
   "outputs": [],
   "source": [
    "bgc_types = pn.pane.Matplotlib(\n",
    "    height=600,\n",
    "    name=\"BGC types\",\n",
    "    )\n",
    "\n",
    "analysis_tab = pn.Column(\n",
    "    bgc_types,\n",
    ")\n",
    "\n",
    "tabs = pn.Tabs(\n",
    "    ('BGCs',\"\"),\n",
    "    ('features', \"\"),\n",
    "    ('genes', \"\"),\n",
    "    (\"Analysis\", analysis_tab),\n",
    "    dynamic=True,\n",
    "    styles=styles,\n",
    "    sizing_mode=\"stretch_height\",\n",
    "    margin=10,\n",
    ")\n"
   ]
  },
  {
   "cell_type": "markdown",
   "metadata": {},
   "source": [
    "### update methods"
   ]
  },
  {
   "cell_type": "code",
   "execution_count": null,
   "metadata": {},
   "outputs": [],
   "source": [
    "def display_tables_after_upload(datasets):\n",
    "    logger.info(\"Displaying tables after upload...\")\n",
    "    tabs.__setitem__(0,\n",
    "                     pn.widgets.Tabulator(\n",
    "                        datasets[next((key for key in datasets if 'BGCs' in key or 'clusters' in key))],\n",
    "                        name='BGCs',\n",
    "                        page_size=50,\n",
    "                    ),\n",
    "                    )\n",
    "    tabs.__setitem__(1,\n",
    "                     pn.widgets.Tabulator(\n",
    "                        datasets[next((key for key in datasets if 'features' in key))],\n",
    "                        name='features',\n",
    "                        page_size=50,\n",
    "                    ),\n",
    "                    )\n",
    "    tabs.__setitem__(2,\n",
    "                     pn.widgets.Tabulator(\n",
    "                        datasets[next((key for key in datasets if 'genes' in key))],\n",
    "                        name='genes',\n",
    "                        page_size=50,\n",
    "                    ),\n",
    "                    )\n",
    "\n",
    "\n",
    "def process_uploaded_tables(file_names, file_data):\n",
    "    \"\"\"\n",
    "    Process the uploaded tables and display them in a tabular format.\n",
    "    \"\"\"\n",
    "    logger.info(\"Processing uploaded tables...\")\n",
    "    logger.info(f\"files: {file_names}\")\n",
    "    DATASETS.clear()\n",
    "    if file_names is []:\n",
    "        return\n",
    "    for i, name in enumerate(file_names):\n",
    "        logger.info(f\"Processing {name}...\")\n",
    "        DATASETS[name] = bytes_to_df(file_data[i])\n",
    "    # Display the first table\n",
    "    display_tables_after_upload(DATASETS)\n",
    "    update_bgs_types_plot()\n",
    "\n",
    "\n",
    "def update_bgs_types_plot():\n",
    "    \"\"\"\n",
    "    Update the BGC types plot.\n",
    "    \"\"\"\n",
    "    logger.info(\"Updating BGC types plot...\")\n",
    "    bgc_types.object = pl.mpl_bgcs_violin(\n",
    "        DATASETS[next((key for key in DATASETS if 'BGCs' in key or 'clusters' in key))],\n",
    "        normalize=False,\n",
    "        )"
   ]
  },
  {
   "cell_type": "markdown",
   "metadata": {},
   "source": [
    "### Bindings"
   ]
  },
  {
   "cell_type": "code",
   "execution_count": null,
   "metadata": {},
   "outputs": [],
   "source": [
    "\n",
    "pn.bind(\n",
    "    process_uploaded_tables,\n",
    "    file_names=upload_local.filename,\n",
    "    file_data = upload_local.value,\n",
    "    watch=True,\n",
    ")\n",
    "\n",
    "button_display_loaded.on_click(\n",
    "    lambda event: process_uploaded_tables(upload_local.filename, upload_local.value)\n",
    ")"
   ]
  },
  {
   "cell_type": "markdown",
   "metadata": {},
   "source": [
    "## APP setup"
   ]
  },
  {
   "cell_type": "code",
   "execution_count": null,
   "metadata": {},
   "outputs": [],
   "source": [
    "pn.extension(\"tabulator\", \"mathjax\")\n",
    "\n",
    "def app():\n",
    "    template = pn.template.FastListTemplate(\n",
    "        title=\"Biosynthetic Gene Cluster Analysis\",\n",
    "        sidebar=[image,\n",
    "                md_upload, \n",
    "                pn.Row(upload_local),\n",
    "                pn.layout.Divider(margin=(-20, 0, 0, 0)),\n",
    "                # this is prepared for galaxy, but not implemented yet\n",
    "                # md_get_galaxy, literal_galaxy_url, literal_galaxy_key,\n",
    "                button_display_loaded,\n",
    "                ],\n",
    "        main=[pn.Column(markdown_intro,\n",
    "                        pn.layout.Divider(margin=(-20, 0, 0, 0)),\n",
    "                        tabs,\n",
    "                        scroll=True,\n",
    "                    )],\n",
    "        main_layout=None,\n",
    "        accent=ACCENT,\n",
    "    )\n",
    "    return template\n",
    "\n",
    "template = app()\n",
    "\n",
    "\n",
    "if 'google.colab' in str(get_ipython()):  \n",
    "    s = serve_app(template, env=env, name=\"GECCO_analyser\")\n",
    "else:\n",
    "    template.servable()"
   ]
  },
  {
   "cell_type": "markdown",
   "metadata": {},
   "source": [
    "### Uncomment this if running if running ngrok tunnel which you want to quit"
   ]
  },
  {
   "cell_type": "code",
   "execution_count": null,
   "metadata": {},
   "outputs": [],
   "source": [
    "# only use for the ngrok tunnel in GColab\n",
    "# close_server(s, env=env)"
   ]
  }
 ],
 "metadata": {
  "kernelspec": {
   "display_name": "momics-demos",
   "language": "python",
   "name": "momics-demos"
  },
  "language_info": {
   "codemirror_mode": {
    "name": "ipython",
    "version": 3
   },
   "file_extension": ".py",
   "mimetype": "text/x-python",
   "name": "python",
   "nbconvert_exporter": "python",
   "pygments_lexer": "ipython3",
   "version": "3.13.3"
  }
 },
 "nbformat": 4,
 "nbformat_minor": 4
}
