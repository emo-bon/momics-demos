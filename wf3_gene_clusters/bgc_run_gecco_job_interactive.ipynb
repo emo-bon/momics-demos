{
 "cells": [
  {
   "cell_type": "markdown",
   "metadata": {},
   "source": [
    "# Run GECCO jobs in Galaxy\n",
    "\n",
    "1. Upload and run workflow.\n",
    "2. Monitor the job.\n",
    "3. Receive completion notification with some basic summary provided by Galaxy.\n",
    "\n",
    "Note: \n",
    "- \"Receiving\" the results (tentatively download) is part of the analysis pipeline.\n",
    "- included `.gb`, `.gbk` and `.embl` formats to be allowed for gecco\n",
    "  - `.embl` from ena comes as `.txt` upon download actually.\n",
    "  - ncbi genbank download full or normal always cames as `.gb`.\n",
    "  \n",
    "**IMPORTANT**\n",
    "You need to have a `.env` file looking like this\n",
    "```\n",
    "GALAXY_URL=\"https://earth-system.usegalaxy.eu/\"\n",
    "GALAXY_KEY=\"...\"\n",
    "```\n",
    "For `binder` users, you cannot upload the `.env` so you will need to hardcode the `API token`."
   ]
  },
  {
   "cell_type": "code",
   "execution_count": null,
   "metadata": {},
   "outputs": [],
   "source": [
    "import os\n",
    "import sys\n",
    "import logging\n",
    "import psutil\n",
    "from IPython import get_ipython"
   ]
  },
  {
   "cell_type": "code",
   "execution_count": null,
   "metadata": {},
   "outputs": [],
   "source": [
    "# NBVAL_SKIP\n",
    "logger = logging.getLogger(name=\"GECCO galaxy runner\")\n",
    "\n",
    "if 'google.colab' in str(get_ipython()):\n",
    "    print('Setting Google colab, you will need a ngrok account to make the dashboard display over the tunnel. \\\n",
    "    https://ngrok.com/')\n",
    "    # clone the momics-demos repository to use it to load data\n",
    "    try:\n",
    "        os.system('git clone https://github.com/palec87/momics-demos.git')\n",
    "        logger.info(f\"Repository cloned\")\n",
    "    except OSError as e:\n",
    "        logger.info(f\"An error occurred while cloning the repository: {e}\")\n",
    "\n",
    "    sys.path.insert(0,'/content/momics-demos')\n",
    "\n",
    "    # this step takes time beacause of many dependencies\n",
    "    os.system('pip install marine-omics')\n",
    "\n",
    "elif psutil.users() == []:\n",
    "    logger.info(\"Binder\")\n",
    "\n",
    "    logger.info('Binder will not allow you to upload the \".env\" file')\n",
    "    os.environ[\"GALAXY_EARTH_URL\"] = \"https://earth-system.usegalaxy.eu/\"\n",
    "    #########################\n",
    "    ### INPUT TOKEN HERE ####\n",
    "    #########################\n",
    "    os.environ[\"GALAXY_EARTH_KEY\"] = \"\"\n",
    "    assert os.environ[\"GALAXY_EARTH_KEY\"] != \"\", \"token cannot be an empty string, SET your API key.\"\n",
    "\n",
    "else:\n",
    "    print('Local environment, you should have .env file at root')"
   ]
  },
  {
   "cell_type": "code",
   "execution_count": null,
   "metadata": {},
   "outputs": [],
   "source": [
    "from momics.utils import reconfig_logger, init_setup\n",
    "\n",
    "# Set up logging\n",
    "reconfig_logger()\n",
    "init_setup()\n",
    "\n",
    "import bioblend.galaxy as g  # BioBlend is a Python library, wrapping the functionality of Galaxy and CloudMan APIs\n",
    "import panel as pn\n",
    "\n",
    "from momics.galaxy import RemGalaxy, Gecco\n",
    "\n",
    "# instead of the jupyter magic, you can also use\n",
    "from dotenv import load_dotenv\n",
    "load_dotenv()"
   ]
  },
  {
   "cell_type": "markdown",
   "metadata": {},
   "source": [
    "## User settings"
   ]
  },
  {
   "cell_type": "code",
   "execution_count": null,
   "metadata": {},
   "outputs": [],
   "source": [
    "DEBUG = True  # enable stdout logging"
   ]
  },
  {
   "cell_type": "markdown",
   "metadata": {},
   "source": [
    "## Session setup"
   ]
  },
  {
   "cell_type": "code",
   "execution_count": null,
   "metadata": {},
   "outputs": [],
   "source": [
    "DEBUG = True  # enable stdout logging\n",
    "reconfig_logger()  # Set up logging\n",
    "\n",
    "# these variables need to be set in the .env file at the root of the project\n",
    "exp = RemGalaxy(\"GALAXY_EARTH_URL\", \"GALAXY_EARTH_KEY\")\n",
    "gecco_tool_id = \"toolshed.g2.bx.psu.edu/repos/althonos/gecco/gecco/0.9.6\"  # The id of the tool GECCO"
   ]
  },
  {
   "cell_type": "code",
   "execution_count": null,
   "metadata": {},
   "outputs": [],
   "source": [
    "# environmentally dependent paths.\n",
    "# TODO: why is this not in the momics package already?\n",
    "if 'google.colab' in str(get_ipython()):\n",
    "    root_folder = os.path.abspath(os.path.join('/content/momics-demos'))\n",
    "else:\n",
    "    root_folder = os.path.abspath(os.path.join('../'))\n",
    "\n",
    "assets_folder = os.path.join(root_folder, 'assets')"
   ]
  },
  {
   "cell_type": "code",
   "execution_count": null,
   "metadata": {},
   "outputs": [],
   "source": [
    "pn.extension(\"tabulator\")\n",
    "if 'google.colab' in str(get_ipython()):\n",
    "    pn.extension(comms='colab')\n",
    "    \n",
    "# buttons\n",
    "but_login = pn.widgets.Button(name=\"🔐 Galaxy Login\")\n",
    "but_get_histories = pn.widgets.Button(name=\"📚 Refresh Histories\")\n",
    "but_create_history = pn.widgets.Button(name=\"📝 Create New History\")\n",
    "but_get_datasets = pn.widgets.Button(name=\"📖 Refresh Datasets\")\n",
    "\n",
    "# input file handling\n",
    "but_upload_dataset = pn.widgets.Button(name=\"📤 Upload Dataset to Galaxy\")\n",
    "\n",
    "# r'(*.fasta|*.gbk|*.embl|*.txt)'), this is a PR i suggested https://github.com/holoviz/panel/issues/7726\n",
    "file_input = pn.widgets.FileSelector('~', file_pattern=\"*\")\n",
    "file_source_checkbox = pn.widgets.Checkbox(name='Use a file from the Galaxy', value=True)\n",
    "\n",
    "but_submit = pn.widgets.Button(name=\"🚀 Submit GECCO task\")\n",
    "\n",
    "# this perhaps can get solved with file selector\n",
    "history_name = pn.widgets.TextInput(name='New History Name', placeholder='Enter a string here...')\n",
    "\n",
    "current_history_name = pn.widgets.StaticText(name='Current History Name', value='No history selected')\n",
    "current_history_id = pn.widgets.StaticText(name='Current History ID', value='')\n",
    "\n",
    "current_file_name = pn.widgets.StaticText(name='Current filename for GECCO', value='No file selected')\n",
    "current_file_id = pn.widgets.StaticText(name='Current file ID for GECCO', value='')\n",
    "\n",
    "# selectors\n",
    "select_history = pn.widgets.Select(\n",
    "    name=\"Select History\",\n",
    "    options=[],\n",
    "    description=\"Your Galaxy histories, create a new one if needed\",\n",
    ")\n",
    "select_dataset = pn.widgets.Select(\n",
    "    name=\"Select Dataset\",\n",
    "    options=[(\"\", \"\")],\n",
    "    description=\"Your Galaxy fasta datasets\",\n",
    "    value=(\"\", \"\"),\n",
    ")\n",
    "\n",
    "\n",
    "# gecco params\n",
    "mask = pn.widgets.Checkbox(name='Enable masking of regions with unknown nucleotides', value=False)\n",
    "pad = pn.widgets.Checkbox(name='Enable padding of gene sequences smaller than the CRF window length', value=True)\n",
    "cds = pn.widgets.IntInput(name='IntInMinimum number of genes required for a clusterput',\n",
    "                          value=3, step=1, start=2, end=1000,\n",
    "                          )\n",
    "threshold = pn.widgets.FloatInput(name='Probability threshold for cluster detection',\n",
    "                                  value=0.05, step=0.01, start=0.0, end=1.0,\n",
    "                                  )\n",
    "postproc = pn.widgets.Select(\n",
    "    name=\"Post-processing method for gene cluster validation\",\n",
    "    options=[\"gecco\", \"antiSMASH\"],\n",
    ")\n",
    "gene_filter = pn.widgets.IntInput(\n",
    "    name='Number of genes from the contig edges to filter out',\n",
    "    value=0, step=1, start=0, end=100)\n",
    "\n",
    "antimash_sideload = pn.widgets.Checkbox(name='Generate an antiSMASH v6 sideload JSON file', value=False)"
   ]
  },
  {
   "cell_type": "code",
   "execution_count": null,
   "metadata": {},
   "outputs": [],
   "source": [
    "gecco_params = {\n",
    "    \"select_history\": select_history,\n",
    "    \"current_history_name\": current_history_name,\n",
    "    \"current_history_id\": current_history_id,\n",
    "    \"select_dataset\": select_dataset,\n",
    "    \"current_file_name\": current_file_name,\n",
    "    \"current_file_id\": current_file_id,\n",
    "    \"file_source_checkbox\": file_source_checkbox,\n",
    "    \"file_input\": file_input,\n",
    "    \"mask\": mask,\n",
    "    \"pad\": pad,\n",
    "    \"cds\": cds,\n",
    "    \"threshold\": threshold,\n",
    "    \"postproc\": postproc,\n",
    "    \"gene_filter\": gene_filter,\n",
    "    \"antimash_sideload\": antimash_sideload,\n",
    "    \"history_name\": history_name,\n",
    "}\n",
    "\n",
    "gecco = Gecco(gecco_params)"
   ]
  },
  {
   "cell_type": "code",
   "execution_count": null,
   "metadata": {},
   "outputs": [],
   "source": [
    "@pn.depends(file_source=file_source_checkbox, watch=True)\n",
    "def _generate_data_input_flexbox(file_source):\n",
    "    if file_source:\n",
    "        global history_flexbox\n",
    "        history_flexbox = pn.Column(\n",
    "            pn.Row(),\n",
    "            pn.Row(but_get_histories, but_create_history),\n",
    "            history_name,\n",
    "            select_history,\n",
    "            pn.bind(gecco.handle_get_histories, clicks=but_get_histories.param.clicks),\n",
    "            pn.bind(gecco.handle_create_history, clicks=but_create_history.param.clicks),\n",
    "            sizing_mode=\"stretch_width\",\n",
    "        )\n",
    "        ret = pn.Column(\n",
    "            \"Select a history to use a file from it.\",\n",
    "            history_flexbox,\n",
    "            current_history_name,\n",
    "            current_history_id,\n",
    "            pn.Row(\n",
    "                but_get_datasets, select_dataset\n",
    "            )\n",
    "        )\n",
    "        return ret\n",
    "    else:\n",
    "        return pn.Column(\n",
    "            \"GECCO accepts `fasta`, GenBank (`.gbk`, `gb`) and EMBL ('.embl'). In principle all of those could be `.txt` files too.\",\n",
    "            file_input,\n",
    "            but_upload_dataset,\n",
    "            )\n"
   ]
  },
  {
   "cell_type": "code",
   "execution_count": null,
   "metadata": {},
   "outputs": [],
   "source": [
    "pn.bind(gecco.handle_get_histories, clicks=but_get_histories.param.clicks, watch=True)\n",
    "pn.bind(gecco.handle_create_history, clicks=but_create_history.param.clicks, watch=True)\n",
    "pn.bind(gecco.handle_update_current_file_name, select_dataset, watch=True)\n",
    "pn.bind(gecco.handle_update_current_history_name, select_history, watch=True)\n",
    "pn.bind(gecco.handle_update_current_history_id, select_history, watch=True)\n",
    "pn.bind(gecco.handle_submit_gecco, but_submit, watch=True)\n",
    "pn.bind(gecco.handle_get_datasets, clicks=but_get_datasets.param.clicks, watch=True)\n",
    "pn.bind(gecco.handle_upload_dataset, clicks=but_upload_dataset.param.clicks, watch=True),"
   ]
  },
  {
   "cell_type": "code",
   "execution_count": null,
   "metadata": {},
   "outputs": [],
   "source": [
    "## login\n",
    "file_source_checkbox"
   ]
  },
  {
   "cell_type": "code",
   "execution_count": null,
   "metadata": {},
   "outputs": [],
   "source": [
    "_generate_data_input_flexbox(file_source_checkbox.value)"
   ]
  },
  {
   "cell_type": "markdown",
   "metadata": {},
   "source": [
    "## Gecco parameters"
   ]
  },
  {
   "cell_type": "code",
   "execution_count": null,
   "metadata": {},
   "outputs": [],
   "source": [
    "gecco_flexbox = pn.FlexBox(\n",
    "        pn.Column(\n",
    "            mask, pad, cds, threshold, postproc, gene_filter, antimash_sideload,\n",
    "            pn.layout.Divider(),\n",
    "            \"## Submit\", current_file_name, current_history_name, but_submit,\n",
    "        ),\n",
    "        sizing_mode=\"stretch_both\",\n",
    "    )\n",
    "\n",
    "gecco_flexbox"
   ]
  },
  {
   "cell_type": "code",
   "execution_count": null,
   "metadata": {},
   "outputs": [],
   "source": []
  }
 ],
 "metadata": {
  "kernelspec": {
   "display_name": "momics-demos",
   "language": "python",
   "name": "python3"
  },
  "language_info": {
   "codemirror_mode": {
    "name": "ipython",
    "version": 3
   },
   "file_extension": ".py",
   "mimetype": "text/x-python",
   "name": "python",
   "nbconvert_exporter": "python",
   "pygments_lexer": "ipython3",
   "version": "3.13.3"
  },
  "panel-cell-order": [
   "ed20ab75",
   "5d7b0436",
   "588e4c4d",
   "8ee8b5ae",
   "a5ba5dba",
   "9e01a365",
   "3886b6e4",
   "d70ab7ec"
  ]
 },
 "nbformat": 4,
 "nbformat_minor": 4
}
