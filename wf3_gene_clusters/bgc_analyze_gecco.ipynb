{
 "cells": [
  {
   "cell_type": "markdown",
   "metadata": {},
   "source": [
    "# App for analyzing GECCO runs from the Galaxy\n",
    "\n",
    "1. Upload local data or query results of the GECCO from the Galaxy.\n",
    "2. Identifying Biosynthetic Gene Clusters (BGCs).\n",
    "3. Visualize BGCs.\n",
    "4. Compare two samples in respect to each other.\n",
    "\n",
    "Note: Sending GECCO jobs to Galaxy is part of another separate application."
   ]
  },
  {
   "cell_type": "markdown",
   "metadata": {},
   "source": [
    "## Platform dependent part\n",
    "- Resolve platform setup\n",
    "- the difference to local imports should be resolved by setting the VRE packages well"
   ]
  },
  {
   "cell_type": "code",
   "execution_count": null,
   "metadata": {},
   "outputs": [],
   "source": [
    "import os\n",
    "import sys\n",
    "import logging\n",
    "import psutil\n",
    "from IPython import get_ipython\n",
    "\n",
    "logger = logging.getLogger(name=\"GECCO galaxy runner\")\n",
    "\n",
    "if 'google.colab' in str(get_ipython()):\n",
    "    # clone the momics-demos repository to use the utils module from there\n",
    "    # TODO: eventually utils from momics will be used for that\n",
    "    try:\n",
    "        os.system('git clone https://github.com/palec87/momics-demos.git')\n",
    "        logger.info(f\"Repository cloned\")\n",
    "    except OSError as e:\n",
    "        logger.info(f\"An error occurred while cloning the repository: {e}\")\n",
    "\n",
    "    sys.path.insert(0,'/content/momics-demos')\n",
    "\n",
    "# I do not know how to distinguish between binder and local jupyter server\n",
    "elif psutil.users()[0].name not in ['davidp', 'david']:  # this is binder \n",
    "# elif \"zmqshell\" in str(get_ipython()):\n",
    "    logger.info(\"Binder\")\n",
    "    sys.path.append(os.path.abspath(os.path.join(os.getcwd(), '..')))\n",
    "\n",
    "    logger.info('Binder will not allow you to upload the \".env\" file')\n",
    "    os.environ[\"GALAXY_EARTH_URL\"] = \"https://earth-system.usegalaxy.eu/\"\n",
    "    #########################\n",
    "    ### INPUT TOKEN HERE ####\n",
    "    #########################\n",
    "    os.environ[\"GALAXY_EARTH_KEY\"] = 0\n",
    "    assert isinstance(os.environ[\"GALAXY_EARTH_KEY\"], str) is True, \"token must be a string\"\n",
    "\n",
    "else:\n",
    "    logger.info(\"Local server\")\n",
    "    sys.path.append(os.path.abspath(os.path.join(os.getcwd(), '..')))  # local utils, to be removed in the future\n",
    "\n",
    "    # downside of this is that all the deps need to be installed in the current (momics-demos) environment\n",
    "    sys.path.append(os.path.abspath(os.path.join(os.getcwd(), '../../../marine-omics')))  # local momics package, to be removed too\n",
    "\n",
    "from utils import init_setup, get_notebook_environment\n",
    "init_setup()\n",
    "\n",
    "# Determine the notebook environment\n",
    "env = get_notebook_environment()\n",
    "logger.info(f\"Environment: {env}\")"
   ]
  },
  {
   "cell_type": "code",
   "execution_count": null,
   "metadata": {},
   "outputs": [],
   "source": [
    "# This needs to be repeated here for the Pannel dashboard to work, WEIRD\n",
    "# TODO: report as possible bug\n",
    "import sys\n",
    "import os\n",
    "import io\n",
    "\n",
    "# import numpy as np\n",
    "import pandas as pd\n",
    "# import matplotlib.pyplot as plt\n",
    "# import seaborn as sns\n",
    "import panel as pn\n",
    "\n",
    "# Import\n",
    "import bioblend.galaxy as g  # BioBlend is a Python library, wrapping the functionality of Galaxy and CloudMan APIs\n",
    "from bioblend.galaxy import GalaxyInstance\n",
    "\n",
    "# All low level functions are imported from the momics package\n",
    "import momics.diversity as div\n",
    "import momics.plotting as pl\n",
    "from momics.panel_utils import diversity_select_widgets, create_indicators_diversity\n",
    "from momics.utils import memory_load\n",
    "from momics.loader import bytes_to_df"
   ]
  },
  {
   "cell_type": "markdown",
   "metadata": {},
   "source": [
    "## Loading and setup"
   ]
  },
  {
   "cell_type": "code",
   "execution_count": null,
   "metadata": {},
   "outputs": [],
   "source": [
    "if 'google.colab' in str(get_ipython()):\n",
    "    root_folder = os.path.abspath(os.path.join('/content/momics-demos'))\n",
    "else:\n",
    "    root_folder = os.path.abspath(os.path.join('../'))\n",
    "\n",
    "assets_folder = os.path.join(root_folder, 'assets')"
   ]
  },
  {
   "cell_type": "markdown",
   "metadata": {},
   "source": [
    "## App Setup"
   ]
  },
  {
   "cell_type": "code",
   "execution_count": null,
   "metadata": {},
   "outputs": [],
   "source": [
    "pn.extension('tabulator')\n",
    "df_grid = pn.GridBox()\n",
    "DATASETS = {}\n",
    "\n",
    "\n",
    "def display_tables_after_upload(datasets):\n",
    "    logger.info(\"Displaying tables after upload...\")\n",
    "    tabs = {\n",
    "        key: pn.widgets.Tabulator(\n",
    "            data,\n",
    "        )\n",
    "        for key, data in datasets.items()\n",
    "    }\n",
    "    df_grid.objects = list(tabs.values())\n",
    "\n",
    "def process_uploaded_tables(file_names, file_data):\n",
    "    \"\"\"\n",
    "    Process the uploaded tables and display them in a tabular format.\n",
    "    \"\"\"\n",
    "    logger.info(\"Processing uploaded tables...\")\n",
    "    logger.info(f\"files: {file_names}\")\n",
    "    DATASETS.clear()\n",
    "    if file_names is []:\n",
    "        return\n",
    "    for i, name in enumerate(file_names):\n",
    "        DATASETS[name] = bytes_to_df(file_data[i])\n",
    "    # Display the first table\n",
    "    display_tables_after_upload(DATASETS)"
   ]
  },
  {
   "cell_type": "code",
   "execution_count": null,
   "metadata": {},
   "outputs": [],
   "source": [
    "pn.extension(\"tabulator\", \"mathjax\", \"filedropper\")\n",
    "ACCENT = \"teal\"\n",
    "\n",
    "styles = {\n",
    "    \"box-shadow\": \"rgba(50, 50, 93, 0.25) 0px 6px 12px -2px, rgba(0, 0, 0, 0.3) 0px 3px 7px -3px\",\n",
    "    \"border-radius\": \"4px\",\n",
    "    \"padding\": \"10px\",\n",
    "}\n",
    "\n",
    "image = pn.pane.JPG(os.path.join(assets_folder, \"figs/logo_gecco.jpeg\"),\n",
    "                    width=100, height=100)\n",
    "\n",
    "markdown_intro = pn.pane.Markdown(\n",
    "\"\"\"\n",
    "**If you want to use the Galaxy API:**\n",
    "- you need to provide your credentials.\n",
    "- and `job_id` of the job that created the files to get those files.\n",
    "- For comparison study, you need to provide two job_ids.\n",
    "\"\"\"\n",
    ")\n",
    "\n",
    "md_upload = pn.pane.Markdown(\n",
    "\"\"\"\n",
    "**Upload your files:**\n",
    "You need to select exactly 3 files with endings:\n",
    "- `_BGC.tsv`\n",
    "- `_features.tsv`\n",
    "- `_genes.tsv`\n",
    "\"\"\"\n",
    ")\n",
    "\n",
    "md_get_galaxy = pn.pane.Markdown(\n",
    "\"\"\"\n",
    "**Get files from Galaxy:**\n",
    "You need to provide your credentials and `job_id`.\n",
    "\"\"\"\n",
    ")\n",
    "\n",
    "upload_local = pn.widgets.FileInput(\n",
    "    multiple=True,\n",
    ")\n",
    "\n",
    "literal_galaxy_url = pn.widgets.TextInput(\n",
    "    name='Galaxy server URL',\n",
    "    placeholder='Enter a https server address here...',\n",
    ")\n",
    "\n",
    "literal_galaxy_key = pn.widgets.PasswordInput(\n",
    "    name='Password',\n",
    "    placeholder='Enter your password here...',\n",
    ")\n",
    "\n",
    "button_display_loaded = pn.widgets.Button(\n",
    "    name=\"Display loaded files\",\n",
    "    button_type=\"primary\",\n",
    "    width=200,\n",
    ")\n",
    "\n",
    "pn.bind(\n",
    "    process_uploaded_tables,\n",
    "    file_names=upload_local.filename,\n",
    "    file_data = upload_local.value,\n",
    "    watch=True,\n",
    ")\n",
    "\n",
    "button_display_loaded.on_click(\n",
    "    lambda event: process_uploaded_tables(upload_local.filename, upload_local.value)\n",
    ")\n",
    "\n",
    "# tabs = pn.Tabs(\n",
    "#     (\"Table 1\", table1),\n",
    "#     dynamic=True,\n",
    "#     styles=styles, sizing_mode=\"stretch_width\", height=500, margin=10,\n",
    "# )\n"
   ]
  },
  {
   "cell_type": "code",
   "execution_count": null,
   "metadata": {},
   "outputs": [],
   "source": [
    "# upload_local"
   ]
  },
  {
   "cell_type": "code",
   "execution_count": null,
   "metadata": {},
   "outputs": [],
   "source": [
    "# upload_local.value"
   ]
  },
  {
   "cell_type": "code",
   "execution_count": null,
   "metadata": {},
   "outputs": [],
   "source": [
    "# upload_local.filename"
   ]
  },
  {
   "cell_type": "code",
   "execution_count": null,
   "metadata": {},
   "outputs": [],
   "source": [
    "# button_display_loaded"
   ]
  },
  {
   "cell_type": "code",
   "execution_count": null,
   "metadata": {},
   "outputs": [],
   "source": [
    "# df_grid"
   ]
  },
  {
   "cell_type": "code",
   "execution_count": null,
   "metadata": {},
   "outputs": [],
   "source": [
    "# DATASETS"
   ]
  },
  {
   "cell_type": "code",
   "execution_count": null,
   "metadata": {},
   "outputs": [],
   "source": [
    "pn.extension(\"tabulator\",\n",
    "             \"mathjax\",\n",
    "            #  \"filedropper\",\n",
    "             )\n",
    "\n",
    "template = pn.template.FastListTemplate(\n",
    "    title=\"DBiosynthetic Gene Cluster Analysis\",\n",
    "    sidebar=[image,\n",
    "             md_upload, \n",
    "             pn.Row(upload_local),\n",
    "             pn.layout.Divider(margin=(-20, 0, 0, 0)),\n",
    "             md_get_galaxy, literal_galaxy_url, literal_galaxy_key,\n",
    "             button_display_loaded,\n",
    "            #  get_galaxy_files,\n",
    "            #  pn.layout.Divider(margin=(-20, 0, 0, 0)),\n",
    "            #  \"# Beta diversity\", select_table_beta, select_taxon, select_beta_factor,\n",
    "             ],\n",
    "    main=[pn.Column(markdown_intro,\n",
    "                    pn.layout.Divider(margin=(-20, 0, 0, 0)),\n",
    "                    df_grid,\n",
    "                    sizing_mode=\"stretch_both\",\n",
    "                   )],\n",
    "    main_layout=None,\n",
    "    accent=ACCENT,\n",
    "    # meta_refresh=\"2\",\n",
    ")\n",
    "\n",
    "template.servable()"
   ]
  },
  {
   "cell_type": "code",
   "execution_count": null,
   "metadata": {},
   "outputs": [],
   "source": []
  }
 ],
 "metadata": {
  "kernelspec": {
   "display_name": "momicsdem",
   "language": "python",
   "name": "momicsdem"
  },
  "language_info": {
   "codemirror_mode": {
    "name": "ipython",
    "version": 3
   },
   "file_extension": ".py",
   "mimetype": "text/x-python",
   "name": "python",
   "nbconvert_exporter": "python",
   "pygments_lexer": "ipython3",
   "version": "3.10.12"
  }
 },
 "nbformat": 4,
 "nbformat_minor": 4
}
