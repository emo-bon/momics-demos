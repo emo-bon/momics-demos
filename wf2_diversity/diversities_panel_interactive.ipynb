{
 "cells": [
  {
   "cell_type": "markdown",
   "metadata": {},
   "source": [
    "# Visualize taxonomy and alpha/beta diversities"
   ]
  },
  {
   "cell_type": "markdown",
   "metadata": {},
   "source": [
    "## Platform dependent part\n",
    "- Resolve platform setup\n",
    "- the difference to local imports should be resolved by setting the Blue Cloud VRE well, Colab will still be an issue."
   ]
  },
  {
   "cell_type": "code",
   "execution_count": null,
   "metadata": {},
   "outputs": [],
   "source": [
    "import sys\n",
    "import os\n",
    "import logging\n",
    "from IPython import get_ipython\n",
    "logger = logging.getLogger(name=\"Diversity analysis app\")\n",
    "\n",
    "if 'google.colab' in str(get_ipython()):\n",
    "    print('Setting Google colab, you will need a ngrok account to make the dashboard display over the tunnel. \\\n",
    "    https://ngrok.com/')\n",
    "    # clone the momics-demos repository to use it to load data\n",
    "    try:\n",
    "        os.system('git clone https://github.com/palec87/momics-demos.git')\n",
    "        logger.info(f\"Repository cloned\")\n",
    "    except OSError as e:\n",
    "        logger.info(f\"An error occurred while cloning the repository: {e}\")\n",
    "\n",
    "    sys.path.insert(0,'/content/momics-demos')\n",
    "\n",
    "    # this step takes time beacause of many dependencies\n",
    "    os.system('pip install marine-omics')\n",
    "\n",
    "from momics.utils import (\n",
    "    memory_load, reconfig_logger,\n",
    "    init_setup, get_notebook_environment,\n",
    ")\n",
    "\n",
    "# Set up logging\n",
    "reconfig_logger()\n",
    "\n",
    "# Determine the notebook environment\n",
    "env = get_notebook_environment()\n",
    "\n",
    "init_setup()\n",
    "logger.info(f\"Environment: {env}\")"
   ]
  },
  {
   "cell_type": "markdown",
   "metadata": {},
   "source": [
    "## Imports"
   ]
  },
  {
   "cell_type": "code",
   "execution_count": null,
   "metadata": {},
   "outputs": [],
   "source": [
    "import warnings\n",
    "import holoviews as hv\n",
    "\n",
    "from functools import partial\n",
    "warnings.filterwarnings('ignore')\n",
    "\n",
    "import pandas as pd\n",
    "import panel as pn\n",
    "\n",
    "from mgo.udal import UDAL\n",
    "\n",
    "# All low level functions are imported from the momics package\n",
    "from momics.loader import load_parquets_udal\n",
    "from momics.metadata import get_metadata_udal, enhance_metadata\n",
    "import momics.plotting as pl\n",
    "from momics.panel_utils import (\n",
    "    diversity_select_widgets, create_indicators_diversity,\n",
    "    serve_app, close_server,\n",
    ")"
   ]
  },
  {
   "cell_type": "markdown",
   "metadata": {},
   "source": [
    "## User settings"
   ]
  },
  {
   "cell_type": "code",
   "execution_count": null,
   "metadata": {},
   "outputs": [],
   "source": [
    "DEBUG = True  # enable stdout logging"
   ]
  },
  {
   "cell_type": "markdown",
   "metadata": {},
   "source": [
    "## Loading"
   ]
  },
  {
   "cell_type": "code",
   "execution_count": null,
   "metadata": {},
   "outputs": [],
   "source": [
    "udal = UDAL()"
   ]
  },
  {
   "cell_type": "code",
   "execution_count": null,
   "metadata": {},
   "outputs": [],
   "source": [
    "# parquet files\n",
    "if 'google.colab' in str(get_ipython()):\n",
    "    root_folder = os.path.abspath(os.path.join('/content/momics-demos'))\n",
    "else:\n",
    "    root_folder = os.path.abspath(os.path.join('../'))\n",
    "\n",
    "assets_folder = os.path.join(root_folder, 'assets')"
   ]
  },
  {
   "cell_type": "code",
   "execution_count": null,
   "metadata": {},
   "outputs": [],
   "source": [
    "@pn.cache()\n",
    "def get_data():\n",
    "    return load_parquets_udal()\n",
    "\n",
    "# Load and merge metadata\n",
    "@pn.cache()\n",
    "def get_full_metadata():\n",
    "    return get_metadata_udal()\n",
    "\n",
    "@pn.cache()\n",
    "def get_valid_samples():\n",
    "    df_valid = pd.read_csv(\n",
    "        os.path.join(root_folder, 'data/shipment_b1b2_181.csv')\n",
    "    )\n",
    "    return df_valid"
   ]
  },
  {
   "cell_type": "code",
   "execution_count": null,
   "metadata": {},
   "outputs": [],
   "source": [
    "# Load metadata\n",
    "full_metadata = get_full_metadata()\n",
    "\n",
    "# filter the metadata only for valid 181 samples\n",
    "valid_samples = get_valid_samples()\n",
    "full_metadata = enhance_metadata(full_metadata, valid_samples)\n",
    "\n",
    "# LOADing data\n",
    "mgf_parquet_dfs = get_data()"
   ]
  },
  {
   "cell_type": "code",
   "execution_count": null,
   "metadata": {},
   "outputs": [],
   "source": [
    "# select categorical columns from metadata\n",
    "categorical_columns = sorted(full_metadata.select_dtypes(include=['object', \"boolean\"]).columns)\n",
    "cat_to_remove = [\"ref_code\", \"samp_description\", \"source_mat_id\", \"source_mat_id_orig\",\n",
    "                 'ENA_accession_number_sample',\n",
    "]\n",
    "# remove columns that are not needed for the analysis\n",
    "categorical_columns = [k for k in categorical_columns if k not in cat_to_remove]\n",
    "\n",
    "# select numerical columns from metadata\n",
    "numerical_columns = sorted(full_metadata.select_dtypes(include=['int64', 'float64']).columns)\n",
    "numerical_columns.remove(\"chem_administration\")\n",
    "numerical_columns.remove(\"bac_prod\")\n",
    "numerical_columns.remove(\"bac_prod_method\")\n",
    "numerical_columns.remove(\"biomass\")\n",
    "numerical_columns.remove(\"biomass_method\")\n",
    "numerical_columns.remove(\"diss_carb_dioxide\")\n",
    "numerical_columns.remove(\"diss_org_carb\")\n",
    "numerical_columns.remove(\"diss_org_carb_method\")\n",
    "numerical_columns.remove(\"diss_inorg_carb\")\n",
    "numerical_columns.remove(\"diss_inorg_carb_method\")\n",
    "numerical_columns.remove(\"diss_org_nitro\")\n",
    "numerical_columns.remove(\"diss_carb_dioxide_method\")\n",
    "numerical_columns.remove(\"diss_org_nitro_method\")\n",
    "numerical_columns.remove(\"down_par\")\n",
    "numerical_columns.remove(\"down_par_method\")\n",
    "numerical_columns.remove(\"long_store\")\n",
    "numerical_columns.remove(\"membr_cut\")\n",
    "numerical_columns.remove(\"n_alkanes\")\n",
    "numerical_columns.remove(\"n_alkanes_method\")\n",
    "numerical_columns.remove(\"part_org_carb\")\n",
    "numerical_columns.remove(\"part_org_carb_method\")\n",
    "numerical_columns.remove(\"part_org_nitro\")\n",
    "numerical_columns.remove(\"part_org_nitro_method\")\n",
    "numerical_columns.remove(\"petroleum_hydrocarb\")\n",
    "numerical_columns.remove(\"petroleum_hydrocarb_method\")\n",
    "numerical_columns.remove(\"sulfate\")\n",
    "numerical_columns.remove(\"sulfate_method\")\n",
    "numerical_columns.remove(\"sulfide\")\n",
    "numerical_columns.remove(\"sulfide_method\")\n",
    "numerical_columns.remove(\"water_current\")\n",
    "numerical_columns.remove(\"water_current_method\")\n",
    "\n",
    "# assert len(full_metadata.columns) == len(numerical_columns) + len(categorical_columns) + len(cat_to_remove)  # + for removed cats\n",
    "\n",
    "if DEBUG:\n",
    "    logger.info(f\"Data table names are:\\n{mgf_parquet_dfs.keys()}\")\n",
    "    logger.info(f\"Categorical metadata columns are:\\n{categorical_columns}\")\n",
    "    logger.info(f\"Numerical metadata columns are:\\n{numerical_columns}\")"
   ]
  },
  {
   "cell_type": "code",
   "execution_count": null,
   "metadata": {},
   "outputs": [],
   "source": [
    "df = mgf_parquet_dfs['ssu'].copy()\n",
    "if DEBUG:\n",
    "    logger.info(f'Number of unique ref_codes: {df.ref_code.nunique()}')"
   ]
  },
  {
   "cell_type": "code",
   "execution_count": null,
   "metadata": {},
   "outputs": [],
   "source": [
    "(select_table, select_cat_factor, \n",
    " select_table_beta, select_taxon,\n",
    " select_beta_factor, beta_norm,\n",
    " ) = diversity_select_widgets(categorical_columns, numerical_columns)"
   ]
  },
  {
   "cell_type": "markdown",
   "metadata": {},
   "source": [
    "## Alpha diversity"
   ]
  },
  {
   "cell_type": "code",
   "execution_count": null,
   "metadata": {},
   "outputs": [],
   "source": [
    "pn.extension(\"tabulator\")\n",
    "hv.extension(\"bokeh\", \"plotly\")\n",
    "if 'google.colab' in str(get_ipython()):\n",
    "    pn.extension(comms='colab')"
   ]
  },
  {
   "cell_type": "code",
   "execution_count": null,
   "metadata": {},
   "outputs": [],
   "source": [
    "sort_alpha = pn.widgets.RadioBoxGroup(\n",
    "    name='Sort by',\n",
    "    options=['factor', 'values'],\n",
    "    inline=True,\n",
    ")\n",
    "sort_alpha.value = 'factor'\n",
    "\n",
    "backend = pn.widgets.RadioBoxGroup(\n",
    "    name='Backend',\n",
    "    options=['matplotlib', 'hvplot'],\n",
    "    inline=True,\n",
    ")\n",
    "\n",
    "pn.Column(\n",
    "    pn.Row(select_table,select_cat_factor),\n",
    "    sort_alpha,\n",
    "    backend\n",
    ")"
   ]
  },
  {
   "cell_type": "code",
   "execution_count": null,
   "metadata": {},
   "outputs": [],
   "source": [
    "pl.alpha_plot(\n",
    "    tables_dict=mgf_parquet_dfs,\n",
    "    table_name=select_table.value,\n",
    "    factor=select_cat_factor.value,\n",
    "    metadata=full_metadata,\n",
    "    order=sort_alpha.value,\n",
    "    backend=backend.value,\n",
    ")"
   ]
  },
  {
   "cell_type": "code",
   "execution_count": null,
   "metadata": {},
   "outputs": [],
   "source": [
    "pl.av_alpha_plot(\n",
    "    tables_dict=mgf_parquet_dfs,\n",
    "    table_name=select_table.value,\n",
    "    factor=select_cat_factor.value,\n",
    "    metadata=full_metadata,\n",
    "    order=sort_alpha.value,\n",
    "    backend=backend.value,\n",
    ")"
   ]
  },
  {
   "cell_type": "markdown",
   "metadata": {},
   "source": [
    "## Beta diversity"
   ]
  },
  {
   "cell_type": "code",
   "execution_count": null,
   "metadata": {},
   "outputs": [],
   "source": [
    "pn.Column(\n",
    "    pn.Row(\n",
    "        select_table_beta,\n",
    "        select_taxon,\n",
    "        select_beta_factor,\n",
    "        \n",
    "    ),\n",
    "    beta_norm\n",
    ")\n"
   ]
  },
  {
   "cell_type": "code",
   "execution_count": null,
   "metadata": {},
   "outputs": [],
   "source": [
    "pl.beta_plot(\n",
    "    tables_dict=mgf_parquet_dfs,\n",
    "    table_name=select_table_beta.value,\n",
    "    norm=beta_norm.value,\n",
    "    taxon=select_taxon.value,\n",
    "    backend=backend.value,\n",
    ")"
   ]
  },
  {
   "cell_type": "code",
   "execution_count": null,
   "metadata": {},
   "outputs": [],
   "source": [
    "beta_pc_plot, explained_var_indicator = pl.beta_plot_pc(\n",
    "        tables_dict=mgf_parquet_dfs,\n",
    "        metadata=full_metadata,\n",
    "        table_name=select_table_beta.value,\n",
    "        factor=select_beta_factor.value,\n",
    "        taxon=select_taxon.value,\n",
    "    )\n",
    "print('Explained variance:', explained_var_indicator)\n",
    "beta_pc_plot.opts(\n",
    "    title=f'Beta diversity PCA plot for {select_table_beta.value} table',\n",
    "    width=1200,\n",
    "    height=800,\n",
    ")"
   ]
  },
  {
   "cell_type": "code",
   "execution_count": null,
   "metadata": {},
   "outputs": [],
   "source": []
  }
 ],
 "metadata": {
  "kernelspec": {
   "display_name": "momics-demos",
   "language": "python",
   "name": "python3"
  },
  "language_info": {
   "codemirror_mode": {
    "name": "ipython",
    "version": 3
   },
   "file_extension": ".py",
   "mimetype": "text/x-python",
   "name": "python",
   "nbconvert_exporter": "python",
   "pygments_lexer": "ipython3",
   "version": "3.13.3"
  },
  "panel-cell-order": [
   "34c21507",
   "5911b6c2",
   "800d5521",
   "b8e2ef8c",
   "3994457e",
   "39906e39",
   "6de5ad4b",
   "bc1d1b61",
   "7485ce5b",
   "8f444fef"
  ]
 },
 "nbformat": 4,
 "nbformat_minor": 4
}
