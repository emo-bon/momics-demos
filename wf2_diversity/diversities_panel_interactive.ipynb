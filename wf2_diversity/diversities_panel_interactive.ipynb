{
 "cells": [
  {
   "cell_type": "markdown",
   "metadata": {},
   "source": [
    "# Visualize taxonomy and alpha/beta diversities"
   ]
  },
  {
   "cell_type": "markdown",
   "metadata": {},
   "source": [
    "## Platform dependent part\n",
    "- Resolve platform setup\n",
    "- the difference to local imports should be resolved by setting the Blue Cloud VRE well, Colab will still be an issue."
   ]
  },
  {
   "cell_type": "code",
   "execution_count": null,
   "metadata": {},
   "outputs": [],
   "source": [
    "import sys\n",
    "import os\n",
    "import logging\n",
    "from IPython import get_ipython\n",
    "logger = logging.getLogger(name=\"Diversity analysis app\")\n",
    "\n",
    "if 'google.colab' in str(get_ipython()):\n",
    "    print('Setting Google colab, you will need a ngrok account to make the dashboard display over the tunnel. \\\n",
    "    https://ngrok.com/')\n",
    "    # clone the momics-demos repository to use it to load data\n",
    "    try:\n",
    "        os.system('git clone https://github.com/palec87/momics-demos.git')\n",
    "        logger.info(f\"Repository cloned\")\n",
    "    except OSError as e:\n",
    "        logger.info(f\"An error occurred while cloning the repository: {e}\")\n",
    "\n",
    "    sys.path.insert(0,'/content/momics-demos')\n",
    "\n",
    "    # this step takes time beacause of many dependencies\n",
    "    os.system('pip install marine-omics')\n",
    "\n",
    "from momics.utils import (\n",
    "    memory_load, reconfig_logger,\n",
    "    init_setup, get_notebook_environment,\n",
    ")\n",
    "\n",
    "# Set up logging\n",
    "reconfig_logger()\n",
    "\n",
    "# Determine the notebook environment\n",
    "env = get_notebook_environment()\n",
    "\n",
    "init_setup()\n",
    "logger.info(f\"Environment: {env}\")"
   ]
  },
  {
   "cell_type": "markdown",
   "metadata": {},
   "source": [
    "## Imports"
   ]
  },
  {
   "cell_type": "code",
   "execution_count": null,
   "metadata": {},
   "outputs": [],
   "source": [
    "import warnings\n",
    "import holoviews as hv\n",
    "from skbio.stats.ordination import pcoa\n",
    "\n",
    "from functools import partial\n",
    "warnings.filterwarnings('ignore')\n",
    "\n",
    "import pandas as pd\n",
    "import panel as pn\n",
    "\n",
    "from mgo.udal import UDAL\n",
    "\n",
    "# All low level functions are imported from the momics package\n",
    "from momics.loader import load_parquets_udal\n",
    "from momics.metadata import get_metadata_udal, enhance_metadata\n",
    "import momics.plotting as pl\n",
    "from momics.panel_utils import diversity_select_widgets\n",
    "\n",
    "from momics.diversity import (\n",
    "    beta_diversity_parametrized,\n",
    ")\n",
    "from momics.utils import load_and_clean, taxonomy_common_preprocess01"
   ]
  },
  {
   "cell_type": "markdown",
   "metadata": {},
   "source": [
    "## User settings"
   ]
  },
  {
   "cell_type": "code",
   "execution_count": null,
   "metadata": {},
   "outputs": [],
   "source": [
    "DEBUG = True  # enable stdout logging"
   ]
  },
  {
   "cell_type": "markdown",
   "metadata": {},
   "source": [
    "## Loading"
   ]
  },
  {
   "cell_type": "code",
   "execution_count": null,
   "metadata": {},
   "outputs": [],
   "source": [
    "# parquet files\n",
    "if 'google.colab' in str(get_ipython()):\n",
    "    root_folder = os.path.abspath(os.path.join('/content/momics-demos'))\n",
    "else:\n",
    "    root_folder = os.path.abspath(os.path.join('../'))\n",
    "\n",
    "assets_folder = os.path.join(root_folder, 'assets')"
   ]
  },
  {
   "cell_type": "code",
   "execution_count": null,
   "metadata": {},
   "outputs": [],
   "source": [
    "def get_valid_samples():\n",
    "    df_valid = pd.read_csv(\n",
    "        os.path.join(root_folder, 'data/shipment_b1b2_181.csv')\n",
    "    )\n",
    "    return df_valid\n",
    "\n",
    "valid_samples = get_valid_samples()"
   ]
  },
  {
   "cell_type": "code",
   "execution_count": null,
   "metadata": {},
   "outputs": [],
   "source": [
    "# High level function from the momics.utils module\n",
    "full_metadata, mgf_parquet_dfs = load_and_clean(valid_samples=valid_samples)"
   ]
  },
  {
   "cell_type": "code",
   "execution_count": null,
   "metadata": {},
   "outputs": [],
   "source": [
    "# select categorical columns from metadata\n",
    "categorical_columns = sorted(full_metadata.select_dtypes(include=['object', \"boolean\"]).columns)\n",
    "\n",
    "# select numerical columns from metadata\n",
    "numerical_columns = sorted(full_metadata.select_dtypes(include=['int64', 'float64']).columns)\n",
    "\n",
    "if DEBUG:\n",
    "    logger.info(f\"Data table names are:\\n{mgf_parquet_dfs.keys()}\")\n",
    "    logger.info(f\"Categorical metadata columns are:\\n{categorical_columns}\")\n",
    "    logger.info(f\"Numerical metadata columns are:\\n{numerical_columns}\")"
   ]
  },
  {
   "cell_type": "code",
   "execution_count": null,
   "metadata": {},
   "outputs": [],
   "source": [
    "# df = mgf_parquet_dfs['ssu'].copy()\n",
    "# if DEBUG:\n",
    "#     logger.info(f'Number of unique ref_codes: {df.ref_code.nunique()}')"
   ]
  },
  {
   "cell_type": "code",
   "execution_count": null,
   "metadata": {},
   "outputs": [],
   "source": [
    "(select_table, select_cat_factor, \n",
    " select_table_beta, select_taxon,\n",
    " select_beta_factor, beta_norm,\n",
    " ) = diversity_select_widgets(categorical_columns, numerical_columns)"
   ]
  },
  {
   "cell_type": "code",
   "execution_count": null,
   "metadata": {},
   "outputs": [],
   "source": [
    "tables = {\n",
    "    \"lsu\": mgf_parquet_dfs['lsu'].copy(),\n",
    "    \"ssu\": mgf_parquet_dfs['ssu'].copy(),\n",
    "}\n",
    "\n",
    "TAXONOMY = pd.DataFrame()\n",
    "TAXONOMY_RANKS = ['superkingdom', 'kingdom', 'phylum', 'class', 'order', 'family', 'genus', 'species']\n",
    "\n",
    "# redefine select_table_beta\n",
    "select_table_beta = pn.widgets.Select(\n",
    "    name='Select table for beta diversity',\n",
    "    options=list(tables.keys()),\n",
    "    value='ssu',\n",
    ")"
   ]
  },
  {
   "cell_type": "markdown",
   "metadata": {},
   "source": [
    "## Alpha diversity"
   ]
  },
  {
   "cell_type": "code",
   "execution_count": null,
   "metadata": {},
   "outputs": [],
   "source": [
    "pn.extension(\"tabulator\")\n",
    "hv.extension(\"bokeh\", \"plotly\")\n",
    "if 'google.colab' in str(get_ipython()):\n",
    "    pn.extension(comms='colab')"
   ]
  },
  {
   "cell_type": "code",
   "execution_count": null,
   "metadata": {},
   "outputs": [],
   "source": [
    "sort_alpha = pn.widgets.RadioBoxGroup(\n",
    "    name='Sort by',\n",
    "    options=['factor', 'values'],\n",
    "    inline=True,\n",
    ")\n",
    "sort_alpha.value = 'factor'\n",
    "\n",
    "backend = pn.widgets.RadioBoxGroup(\n",
    "    name='Backend',\n",
    "    options=['matplotlib', 'hvplot'],\n",
    "    inline=True,\n",
    ")\n",
    "\n",
    "pn.Column(\n",
    "    pn.Row(select_table,select_cat_factor),\n",
    "    sort_alpha,\n",
    "    backend\n",
    ")"
   ]
  },
  {
   "cell_type": "code",
   "execution_count": null,
   "metadata": {},
   "outputs": [],
   "source": [
    "pl.alpha_plot(\n",
    "    tables_dict=mgf_parquet_dfs,\n",
    "    table_name=select_table.value,\n",
    "    factor=select_cat_factor.value,\n",
    "    metadata=full_metadata,\n",
    "    order=sort_alpha.value,\n",
    "    backend=backend.value,\n",
    ")"
   ]
  },
  {
   "cell_type": "code",
   "execution_count": null,
   "metadata": {},
   "outputs": [],
   "source": [
    "avplot = pl.av_alpha_plot(\n",
    "    tables_dict=mgf_parquet_dfs,\n",
    "    table_name=select_table.value,\n",
    "    factor=select_cat_factor.value,\n",
    "    metadata=full_metadata,\n",
    "    order=sort_alpha.value,\n",
    "    backend=backend.value,\n",
    ")\n",
    "avplot.object.opts(\n",
    "    title=f'Alpha diversity plot for {select_table.value} table',\n",
    "    width=1000,\n",
    "    height=600,\n",
    ")"
   ]
  },
  {
   "cell_type": "markdown",
   "metadata": {},
   "source": [
    "## Beta diversity"
   ]
  },
  {
   "cell_type": "code",
   "execution_count": null,
   "metadata": {},
   "outputs": [],
   "source": [
    "mapping = pn.widgets.Checkbox(\n",
    "    name=\"strict mapping to selected taxonomic level (takes time)\",\n",
    "    value=True,\n",
    ")\n",
    "\n",
    "low_prevalence_cutoff = pn.widgets.FloatInput(\n",
    "    name='Low prevalence cutoff [%]',\n",
    "    value=10, step=1, start=0, end=100,\n",
    "    description=\"Percentage of samples in which the taxon must be present not to be removed.\",\n",
    ")\n",
    "\n",
    "button_process_taxonomy = pn.widgets.Button(\n",
    "    name=\"Process taxonomy\",\n",
    "    button_type=\"primary\",\n",
    "    description=\"This will process the taxonomy and update the plots.\",\n",
    "    width=200,\n",
    ")\n",
    "progress1 = pn.indicators.Progress(name='Pre-processing progress', value=-1,\n",
    "                                   active=True, width=200)"
   ]
  },
  {
   "cell_type": "markdown",
   "metadata": {},
   "source": [
    "## Pre-process taxonomy"
   ]
  },
  {
   "cell_type": "code",
   "execution_count": null,
   "metadata": {},
   "outputs": [],
   "source": [
    "def process_taxonomy(table, high_taxon, mapping, prevalence_cutoff_value):\n",
    "    \"\"\"\n",
    "    Preprocess the taxonomy data.\n",
    "    \"\"\"\n",
    "    global TAXONOMY\n",
    "    TAXONOMY = pd.DataFrame()\n",
    "    df_filt = tables[table]\n",
    "\n",
    "    TAXONOMY = taxonomy_common_preprocess01(df_filt, high_taxon, mapping, prevalence_cutoff_value, TAXONOMY_RANKS)\n",
    "\n",
    "    progress1.value = 100\n",
    "\n",
    "button_process_taxonomy.on_click(\n",
    "    lambda event: process_taxonomy(\n",
    "        select_table_beta.value,\n",
    "        select_taxon.value,\n",
    "        mapping.value,\n",
    "        low_prevalence_cutoff.value\n",
    "    )\n",
    ")"
   ]
  },
  {
   "cell_type": "code",
   "execution_count": null,
   "metadata": {},
   "outputs": [],
   "source": [
    "pn.Column(\n",
    "    pn.Row(\n",
    "        select_table_beta,\n",
    "        select_taxon,\n",
    "        select_beta_factor,\n",
    "        \n",
    "    ),\n",
    "    beta_norm,\n",
    "    pn.layout.Divider(),\n",
    "    mapping,\n",
    "    low_prevalence_cutoff,\n",
    "    progress1\n",
    "    # button_process_taxonomy,\n",
    ")"
   ]
  },
  {
   "cell_type": "code",
   "execution_count": null,
   "metadata": {},
   "outputs": [],
   "source": [
    "process_taxonomy(\n",
    "    select_table_beta.value,\n",
    "    select_taxon.value,\n",
    "    mapping.value,\n",
    "    low_prevalence_cutoff.value\n",
    ")"
   ]
  },
  {
   "cell_type": "code",
   "execution_count": null,
   "metadata": {},
   "outputs": [],
   "source": [
    "TAXONOMY.shape"
   ]
  },
  {
   "cell_type": "code",
   "execution_count": null,
   "metadata": {},
   "outputs": [],
   "source": [
    "if TAXONOMY.empty:\n",
    "    pl.beta_pc_plot.object, explained_var = pl.beta_plot_pc(\n",
    "        tables_dict=tables,\n",
    "        metadata=full_metadata,\n",
    "        table_name=select_table_beta.value,\n",
    "        factor=select_beta_factor.value,\n",
    "        taxon=select_taxon.value,\n",
    "    )\n",
    "    \n",
    "else:\n",
    "    beta = beta_diversity_parametrized(\n",
    "        TAXONOMY, taxon=select_taxon.value, metric=\"braycurtis\"\n",
    "    )\n",
    "    pcoa_result = pcoa(beta, method=\"eigh\")  # , number_of_dimensions=3)\n",
    "    explained_variance = (\n",
    "        pcoa_result.proportion_explained[0],\n",
    "        pcoa_result.proportion_explained[1]\n",
    "    )\n",
    "\n",
    "    if not set(pcoa_result.samples.index) == set(full_metadata.index):\n",
    "        raise ValueError(\"Metadata index name does not match PCoA result.\")\n",
    "    pcoa_df = pd.merge(\n",
    "        pcoa_result.samples,\n",
    "        full_metadata,\n",
    "        left_index=True,\n",
    "        right_index=True,\n",
    "        how=\"inner\",\n",
    "    )\n",
    "    beta_pc_plot, explained_var = pl.hvplot_plot_pcoa_black(pcoa_df, color_by=select_beta_factor.value, explained_variance=explained_variance), explained_variance\n",
    "\n",
    "explained_var_indicator = sum(explained_var) * 100  # convert to percentage\n",
    "print('Explained variance:', explained_var_indicator)\n",
    "beta_pc_plot.opts(\n",
    "    title=f'Beta diversity PCA plot for {select_table_beta.value} table',\n",
    "    width=1200,\n",
    "    height=800,\n",
    ")"
   ]
  },
  {
   "cell_type": "code",
   "execution_count": null,
   "metadata": {},
   "outputs": [],
   "source": [
    "beta = beta_diversity_parametrized(\n",
    "            TAXONOMY, taxon=select_taxon.value, metric=\"braycurtis\"\n",
    "        )"
   ]
  },
  {
   "cell_type": "code",
   "execution_count": null,
   "metadata": {},
   "outputs": [],
   "source": [
    "plot = pl.beta_plot(\n",
    "    tables_dict=mgf_parquet_dfs,\n",
    "    table_name=select_table_beta.value,\n",
    "    norm=beta_norm.value,\n",
    "    taxon=select_taxon.value,\n",
    "    backend=backend.value,\n",
    ")\n",
    "\n",
    "plot.object.opts(\n",
    "    title=f'Beta diversity PCA plot for {select_table_beta.value} table',\n",
    "    width=1200,\n",
    "    height=800,\n",
    ")"
   ]
  },
  {
   "cell_type": "code",
   "execution_count": null,
   "metadata": {},
   "outputs": [],
   "source": [
    "beta_pc_plot, explained_var_indicator = pl.beta_plot_pc(\n",
    "        tables_dict=mgf_parquet_dfs,\n",
    "        metadata=full_metadata,\n",
    "        table_name=select_table_beta.value,\n",
    "        factor=select_beta_factor.value,\n",
    "        taxon=select_taxon.value,\n",
    "    )\n",
    "print('Explained variance:', explained_var_indicator)\n",
    "beta_pc_plot.opts(\n",
    "    title=f'Beta diversity PCA plot for {select_table_beta.value} table',\n",
    "    width=1200,\n",
    "    height=800,\n",
    ")"
   ]
  },
  {
   "cell_type": "code",
   "execution_count": null,
   "metadata": {},
   "outputs": [],
   "source": []
  }
 ],
 "metadata": {
  "kernelspec": {
   "display_name": "momics-demos",
   "language": "python",
   "name": "python3"
  },
  "language_info": {
   "codemirror_mode": {
    "name": "ipython",
    "version": 3
   },
   "file_extension": ".py",
   "mimetype": "text/x-python",
   "name": "python",
   "nbconvert_exporter": "python",
   "pygments_lexer": "ipython3",
   "version": "3.13.3"
  },
  "panel-cell-order": [
   "34c21507",
   "5911b6c2",
   "800d5521",
   "b8e2ef8c",
   "3994457e",
   "39906e39",
   "6de5ad4b",
   "bc1d1b61",
   "7485ce5b",
   "8f444fef"
  ]
 },
 "nbformat": 4,
 "nbformat_minor": 4
}
