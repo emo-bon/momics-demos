{
 "cells": [
  {
   "cell_type": "markdown",
   "metadata": {},
   "source": [
    "# Visualize pivoted taxonomy (LSU and SSU tables)\n",
    "- PCoA beta diversities\n",
    "- Permanova calculations"
   ]
  },
  {
   "cell_type": "markdown",
   "metadata": {},
   "source": [
    "## Platform dependent part\n",
    "- Resolve platform setup\n",
    "- the difference to local imports should be resolved by setting the Blue Cloud VRE well, Colab will still be an issue."
   ]
  },
  {
   "cell_type": "code",
   "execution_count": null,
   "metadata": {},
   "outputs": [
    {
     "name": "stderr",
     "output_type": "stream",
     "text": [
      "INFO | root | Logging.basicConfig completed successfully\n"
     ]
    }
   ],
   "source": [
    "import sys\n",
    "import os\n",
    "import gc\n",
    "import logging\n",
    "import psutil\n",
    "\n",
    "from IPython import get_ipython\n",
    "logger = logging.getLogger(name=\"Diversity analysis app\")\n",
    "NUMBER_PERMUTATIONS = 999\n",
    "\n",
    "if 'google.colab' in str(get_ipython()):\n",
    "    print('Setting Google colab, you will need a ngrok account to make the dashboard display over the tunnel. \\\n",
    "    https://ngrok.com/')\n",
    "    # clone the momics-demos repository to use it to load data\n",
    "    try:\n",
    "        os.system('git clone https://github.com/palec87/momics-demos.git')\n",
    "        logger.info(f\"Repository cloned\")\n",
    "    except OSError as e:\n",
    "        logger.info(f\"An error occurred while cloning the repository: {e}\")\n",
    "\n",
    "    sys.path.insert(0,'/content/momics-demos')\n",
    "\n",
    "    # this step takes time beacause of many dependencies\n",
    "    os.system('pip install marine-omics')\n",
    "\n",
    "elif psutil.users() == []:\n",
    "    logger.info(\"Binder\")\n",
    "    NUMBER_PERMUTATIONS = 29  # permanova extremely slow on binder, therefore a change here\n",
    "else:\n",
    "    logger.info(\"Local\")\n",
    "\n",
    "from momics.utils import reconfig_logger, init_setup\n",
    "\n",
    "# Set up logging\n",
    "reconfig_logger()\n",
    "init_setup()"
   ]
  },
  {
   "cell_type": "markdown",
   "metadata": {},
   "source": [
    "## Imports"
   ]
  },
  {
   "cell_type": "code",
   "execution_count": null,
   "metadata": {},
   "outputs": [
    {
     "data": {
      "text/html": [
       "<script type=\"esms-options\">{\"shimMode\": true}</script><style>*[data-root-id],\n",
       "*[data-root-id] > * {\n",
       "  box-sizing: border-box;\n",
       "  font-family: var(--jp-ui-font-family);\n",
       "  font-size: var(--jp-ui-font-size1);\n",
       "  color: var(--vscode-editor-foreground, var(--jp-ui-font-color1));\n",
       "}\n",
       "\n",
       "/* Override VSCode background color */\n",
       ".cell-output-ipywidget-background:has(\n",
       "    > .cell-output-ipywidget-background > .lm-Widget > *[data-root-id]\n",
       "  ),\n",
       ".cell-output-ipywidget-background:has(> .lm-Widget > *[data-root-id]) {\n",
       "  background-color: transparent !important;\n",
       "}\n",
       "</style>"
      ]
     },
     "metadata": {},
     "output_type": "display_data"
    },
    {
     "data": {
      "application/javascript": "(function(root) {\n  function now() {\n    return new Date();\n  }\n\n  const force = true;\n  const py_version = '3.7.3'.replace('rc', '-rc.').replace('.dev', '-dev.');\n  const reloading = false;\n  const Bokeh = root.Bokeh;\n\n  // Set a timeout for this load but only if we are not already initializing\n  if (typeof (root._bokeh_timeout) === \"undefined\" || (force || !root._bokeh_is_initializing)) {\n    root._bokeh_timeout = Date.now() + 5000;\n    root._bokeh_failed_load = false;\n  }\n\n  function run_callbacks() {\n    try {\n      root._bokeh_onload_callbacks.forEach(function(callback) {\n        if (callback != null)\n          callback();\n      });\n    } finally {\n      delete root._bokeh_onload_callbacks;\n    }\n    console.debug(\"Bokeh: all callbacks have finished\");\n  }\n\n  function load_libs(css_urls, js_urls, js_modules, js_exports, callback) {\n    if (css_urls == null) css_urls = [];\n    if (js_urls == null) js_urls = [];\n    if (js_modules == null) js_modules = [];\n    if (js_exports == null) js_exports = {};\n\n    root._bokeh_onload_callbacks.push(callback);\n\n    if (root._bokeh_is_loading > 0) {\n      // Don't load bokeh if it is still initializing\n      console.debug(\"Bokeh: BokehJS is being loaded, scheduling callback at\", now());\n      return null;\n    } else if (js_urls.length === 0 && js_modules.length === 0 && Object.keys(js_exports).length === 0) {\n      // There is nothing to load\n      run_callbacks();\n      return null;\n    }\n\n    function on_load() {\n      root._bokeh_is_loading--;\n      if (root._bokeh_is_loading === 0) {\n        console.debug(\"Bokeh: all BokehJS libraries/stylesheets loaded\");\n        run_callbacks()\n      }\n    }\n    window._bokeh_on_load = on_load\n\n    function on_error(e) {\n      const src_el = e.srcElement\n      console.error(\"failed to load \" + (src_el.href || src_el.src));\n    }\n\n    const skip = [];\n    if (window.requirejs) {\n      window.requirejs.config({'packages': {}, 'paths': {}, 'shim': {}});\n      root._bokeh_is_loading = css_urls.length + 0;\n    } else {\n      root._bokeh_is_loading = css_urls.length + js_urls.length + js_modules.length + Object.keys(js_exports).length;\n    }\n\n    const existing_stylesheets = []\n    const links = document.getElementsByTagName('link')\n    for (let i = 0; i < links.length; i++) {\n      const link = links[i]\n      if (link.href != null) {\n        existing_stylesheets.push(link.href)\n      }\n    }\n    for (let i = 0; i < css_urls.length; i++) {\n      const url = css_urls[i];\n      const escaped = encodeURI(url)\n      if (existing_stylesheets.indexOf(escaped) !== -1) {\n        on_load()\n        continue;\n      }\n      const element = document.createElement(\"link\");\n      element.onload = on_load;\n      element.onerror = on_error;\n      element.rel = \"stylesheet\";\n      element.type = \"text/css\";\n      element.href = url;\n      console.debug(\"Bokeh: injecting link tag for BokehJS stylesheet: \", url);\n      document.body.appendChild(element);\n    }    var existing_scripts = []\n    const scripts = document.getElementsByTagName('script')\n    for (let i = 0; i < scripts.length; i++) {\n      var script = scripts[i]\n      if (script.src != null) {\n        existing_scripts.push(script.src)\n      }\n    }\n    for (let i = 0; i < js_urls.length; i++) {\n      const url = js_urls[i];\n      const escaped = encodeURI(url)\n      if (skip.indexOf(escaped) !== -1 || existing_scripts.indexOf(escaped) !== -1) {\n        if (!window.requirejs) {\n          on_load();\n        }\n        continue;\n      }\n      const element = document.createElement('script');\n      element.onload = on_load;\n      element.onerror = on_error;\n      element.async = false;\n      element.src = url;\n      console.debug(\"Bokeh: injecting script tag for BokehJS library: \", url);\n      document.head.appendChild(element);\n    }\n    for (let i = 0; i < js_modules.length; i++) {\n      const url = js_modules[i];\n      const escaped = encodeURI(url)\n      if (skip.indexOf(escaped) !== -1 || existing_scripts.indexOf(escaped) !== -1) {\n        if (!window.requirejs) {\n          on_load();\n        }\n        continue;\n      }\n      var element = document.createElement('script');\n      element.onload = on_load;\n      element.onerror = on_error;\n      element.async = false;\n      element.src = url;\n      element.type = \"module\";\n      console.debug(\"Bokeh: injecting script tag for BokehJS library: \", url);\n      document.head.appendChild(element);\n    }\n    for (const name in js_exports) {\n      const url = js_exports[name];\n      const escaped = encodeURI(url)\n      if (skip.indexOf(escaped) >= 0 || root[name] != null) {\n        if (!window.requirejs) {\n          on_load();\n        }\n        continue;\n      }\n      var element = document.createElement('script');\n      element.onerror = on_error;\n      element.async = false;\n      element.type = \"module\";\n      console.debug(\"Bokeh: injecting script tag for BokehJS library: \", url);\n      element.textContent = `\n      import ${name} from \"${url}\"\n      window.${name} = ${name}\n      window._bokeh_on_load()\n      `\n      document.head.appendChild(element);\n    }\n    if (!js_urls.length && !js_modules.length) {\n      on_load()\n    }\n  };\n\n  function inject_raw_css(css) {\n    const element = document.createElement(\"style\");\n    element.appendChild(document.createTextNode(css));\n    document.body.appendChild(element);\n  }\n\n  const js_urls = [\"https://cdn.holoviz.org/panel/1.7.0/dist/bundled/reactiveesm/es-module-shims@^1.10.0/dist/es-module-shims.min.js\", \"https://cdn.bokeh.org/bokeh/release/bokeh-3.7.3.min.js\", \"https://cdn.bokeh.org/bokeh/release/bokeh-gl-3.7.3.min.js\", \"https://cdn.bokeh.org/bokeh/release/bokeh-widgets-3.7.3.min.js\", \"https://cdn.bokeh.org/bokeh/release/bokeh-tables-3.7.3.min.js\", \"https://cdn.holoviz.org/panel/1.7.0/dist/panel.min.js\"];\n  const js_modules = [];\n  const js_exports = {};\n  const css_urls = [];\n  const inline_js = [    function(Bokeh) {\n      Bokeh.set_log_level(\"info\");\n    },\nfunction(Bokeh) {} // ensure no trailing comma for IE\n  ];\n\n  function run_inline_js() {\n    if ((root.Bokeh !== undefined) || (force === true)) {\n      for (let i = 0; i < inline_js.length; i++) {\n        try {\n          inline_js[i].call(root, root.Bokeh);\n        } catch(e) {\n          if (!reloading) {\n            throw e;\n          }\n        }\n      }\n      // Cache old bokeh versions\n      if (Bokeh != undefined && !reloading) {\n        var NewBokeh = root.Bokeh;\n        if (Bokeh.versions === undefined) {\n          Bokeh.versions = new Map();\n        }\n        if (NewBokeh.version !== Bokeh.version) {\n          Bokeh.versions.set(NewBokeh.version, NewBokeh)\n        }\n        root.Bokeh = Bokeh;\n      }\n    } else if (Date.now() < root._bokeh_timeout) {\n      setTimeout(run_inline_js, 100);\n    } else if (!root._bokeh_failed_load) {\n      console.log(\"Bokeh: BokehJS failed to load within specified timeout.\");\n      root._bokeh_failed_load = true;\n    }\n    root._bokeh_is_initializing = false\n  }\n\n  function load_or_wait() {\n    // Implement a backoff loop that tries to ensure we do not load multiple\n    // versions of Bokeh and its dependencies at the same time.\n    // In recent versions we use the root._bokeh_is_initializing flag\n    // to determine whether there is an ongoing attempt to initialize\n    // bokeh, however for backward compatibility we also try to ensure\n    // that we do not start loading a newer (Panel>=1.0 and Bokeh>3) version\n    // before older versions are fully initialized.\n    if (root._bokeh_is_initializing && Date.now() > root._bokeh_timeout) {\n      // If the timeout and bokeh was not successfully loaded we reset\n      // everything and try loading again\n      root._bokeh_timeout = Date.now() + 5000;\n      root._bokeh_is_initializing = false;\n      root._bokeh_onload_callbacks = undefined;\n      root._bokeh_is_loading = 0\n      console.log(\"Bokeh: BokehJS was loaded multiple times but one version failed to initialize.\");\n      load_or_wait();\n    } else if (root._bokeh_is_initializing || (typeof root._bokeh_is_initializing === \"undefined\" && root._bokeh_onload_callbacks !== undefined)) {\n      setTimeout(load_or_wait, 100);\n    } else {\n      root._bokeh_is_initializing = true\n      root._bokeh_onload_callbacks = []\n      const bokeh_loaded = root.Bokeh != null && (root.Bokeh.version === py_version || (root.Bokeh.versions !== undefined && root.Bokeh.versions.has(py_version)));\n      if (!reloading && !bokeh_loaded) {\n        if (root.Bokeh) {\n          root.Bokeh = undefined;\n        }\n        console.debug(\"Bokeh: BokehJS not loaded, scheduling load and callback at\", now());\n      }\n      load_libs(css_urls, js_urls, js_modules, js_exports, function() {\n        console.debug(\"Bokeh: BokehJS plotting callback run at\", now());\n        run_inline_js();\n      });\n    }\n  }\n  // Give older versions of the autoload script a head-start to ensure\n  // they initialize before we start loading newer version.\n  setTimeout(load_or_wait, 100)\n}(window));",
      "application/vnd.holoviews_load.v0+json": ""
     },
     "metadata": {},
     "output_type": "display_data"
    },
    {
     "data": {
      "application/javascript": "\nif ((window.PyViz === undefined) || (window.PyViz instanceof HTMLElement)) {\n  window.PyViz = {comms: {}, comm_status:{}, kernels:{}, receivers: {}, plot_index: []}\n}\n\n\n    function JupyterCommManager() {\n    }\n\n    JupyterCommManager.prototype.register_target = function(plot_id, comm_id, msg_handler) {\n      if (window.comm_manager || ((window.Jupyter !== undefined) && (Jupyter.notebook.kernel != null))) {\n        var comm_manager = window.comm_manager || Jupyter.notebook.kernel.comm_manager;\n        comm_manager.register_target(comm_id, function(comm) {\n          comm.on_msg(msg_handler);\n        });\n      } else if ((plot_id in window.PyViz.kernels) && (window.PyViz.kernels[plot_id])) {\n        window.PyViz.kernels[plot_id].registerCommTarget(comm_id, function(comm) {\n          comm.onMsg = msg_handler;\n        });\n      } else if (typeof google != 'undefined' && google.colab.kernel != null) {\n        google.colab.kernel.comms.registerTarget(comm_id, (comm) => {\n          var messages = comm.messages[Symbol.asyncIterator]();\n          function processIteratorResult(result) {\n            var message = result.value;\n            console.log(message)\n            var content = {data: message.data, comm_id};\n            var buffers = []\n            for (var buffer of message.buffers || []) {\n              buffers.push(new DataView(buffer))\n            }\n            var metadata = message.metadata || {};\n            var msg = {content, buffers, metadata}\n            msg_handler(msg);\n            return messages.next().then(processIteratorResult);\n          }\n          return messages.next().then(processIteratorResult);\n        })\n      }\n    }\n\n    JupyterCommManager.prototype.get_client_comm = function(plot_id, comm_id, msg_handler) {\n      if (comm_id in window.PyViz.comms) {\n        return window.PyViz.comms[comm_id];\n      } else if (window.comm_manager || ((window.Jupyter !== undefined) && (Jupyter.notebook.kernel != null))) {\n        var comm_manager = window.comm_manager || Jupyter.notebook.kernel.comm_manager;\n        var comm = comm_manager.new_comm(comm_id, {}, {}, {}, comm_id);\n        if (msg_handler) {\n          comm.on_msg(msg_handler);\n        }\n      } else if ((plot_id in window.PyViz.kernels) && (window.PyViz.kernels[plot_id])) {\n        var comm = window.PyViz.kernels[plot_id].connectToComm(comm_id);\n        comm.open();\n        if (msg_handler) {\n          comm.onMsg = msg_handler;\n        }\n      } else if (typeof google != 'undefined' && google.colab.kernel != null) {\n        var comm_promise = google.colab.kernel.comms.open(comm_id)\n        comm_promise.then((comm) => {\n          window.PyViz.comms[comm_id] = comm;\n          if (msg_handler) {\n            var messages = comm.messages[Symbol.asyncIterator]();\n            function processIteratorResult(result) {\n              var message = result.value;\n              var content = {data: message.data};\n              var metadata = message.metadata || {comm_id};\n              var msg = {content, metadata}\n              msg_handler(msg);\n              return messages.next().then(processIteratorResult);\n            }\n            return messages.next().then(processIteratorResult);\n          }\n        })\n        var sendClosure = (data, metadata, buffers, disposeOnDone) => {\n          return comm_promise.then((comm) => {\n            comm.send(data, metadata, buffers, disposeOnDone);\n          });\n        };\n        var comm = {\n          send: sendClosure\n        };\n      }\n      window.PyViz.comms[comm_id] = comm;\n      return comm;\n    }\n    window.PyViz.comm_manager = new JupyterCommManager();\n    \n\n\nvar JS_MIME_TYPE = 'application/javascript';\nvar HTML_MIME_TYPE = 'text/html';\nvar EXEC_MIME_TYPE = 'application/vnd.holoviews_exec.v0+json';\nvar CLASS_NAME = 'output';\n\n/**\n * Render data to the DOM node\n */\nfunction render(props, node) {\n  var div = document.createElement(\"div\");\n  var script = document.createElement(\"script\");\n  node.appendChild(div);\n  node.appendChild(script);\n}\n\n/**\n * Handle when a new output is added\n */\nfunction handle_add_output(event, handle) {\n  var output_area = handle.output_area;\n  var output = handle.output;\n  if ((output.data == undefined) || (!output.data.hasOwnProperty(EXEC_MIME_TYPE))) {\n    return\n  }\n  var id = output.metadata[EXEC_MIME_TYPE][\"id\"];\n  var toinsert = output_area.element.find(\".\" + CLASS_NAME.split(' ')[0]);\n  if (id !== undefined) {\n    var nchildren = toinsert.length;\n    var html_node = toinsert[nchildren-1].children[0];\n    html_node.innerHTML = output.data[HTML_MIME_TYPE];\n    var scripts = [];\n    var nodelist = html_node.querySelectorAll(\"script\");\n    for (var i in nodelist) {\n      if (nodelist.hasOwnProperty(i)) {\n        scripts.push(nodelist[i])\n      }\n    }\n\n    scripts.forEach( function (oldScript) {\n      var newScript = document.createElement(\"script\");\n      var attrs = [];\n      var nodemap = oldScript.attributes;\n      for (var j in nodemap) {\n        if (nodemap.hasOwnProperty(j)) {\n          attrs.push(nodemap[j])\n        }\n      }\n      attrs.forEach(function(attr) { newScript.setAttribute(attr.name, attr.value) });\n      newScript.appendChild(document.createTextNode(oldScript.innerHTML));\n      oldScript.parentNode.replaceChild(newScript, oldScript);\n    });\n    if (JS_MIME_TYPE in output.data) {\n      toinsert[nchildren-1].children[1].textContent = output.data[JS_MIME_TYPE];\n    }\n    output_area._hv_plot_id = id;\n    if ((window.Bokeh !== undefined) && (id in Bokeh.index)) {\n      window.PyViz.plot_index[id] = Bokeh.index[id];\n    } else {\n      window.PyViz.plot_index[id] = null;\n    }\n  } else if (output.metadata[EXEC_MIME_TYPE][\"server_id\"] !== undefined) {\n    var bk_div = document.createElement(\"div\");\n    bk_div.innerHTML = output.data[HTML_MIME_TYPE];\n    var script_attrs = bk_div.children[0].attributes;\n    for (var i = 0; i < script_attrs.length; i++) {\n      toinsert[toinsert.length - 1].childNodes[1].setAttribute(script_attrs[i].name, script_attrs[i].value);\n    }\n    // store reference to server id on output_area\n    output_area._bokeh_server_id = output.metadata[EXEC_MIME_TYPE][\"server_id\"];\n  }\n}\n\n/**\n * Handle when an output is cleared or removed\n */\nfunction handle_clear_output(event, handle) {\n  var id = handle.cell.output_area._hv_plot_id;\n  var server_id = handle.cell.output_area._bokeh_server_id;\n  if (((id === undefined) || !(id in PyViz.plot_index)) && (server_id !== undefined)) { return; }\n  var comm = window.PyViz.comm_manager.get_client_comm(\"hv-extension-comm\", \"hv-extension-comm\", function () {});\n  if (server_id !== null) {\n    comm.send({event_type: 'server_delete', 'id': server_id});\n    return;\n  } else if (comm !== null) {\n    comm.send({event_type: 'delete', 'id': id});\n  }\n  delete PyViz.plot_index[id];\n  if ((window.Bokeh !== undefined) & (id in window.Bokeh.index)) {\n    var doc = window.Bokeh.index[id].model.document\n    doc.clear();\n    const i = window.Bokeh.documents.indexOf(doc);\n    if (i > -1) {\n      window.Bokeh.documents.splice(i, 1);\n    }\n  }\n}\n\n/**\n * Handle kernel restart event\n */\nfunction handle_kernel_cleanup(event, handle) {\n  delete PyViz.comms[\"hv-extension-comm\"];\n  window.PyViz.plot_index = {}\n}\n\n/**\n * Handle update_display_data messages\n */\nfunction handle_update_output(event, handle) {\n  handle_clear_output(event, {cell: {output_area: handle.output_area}})\n  handle_add_output(event, handle)\n}\n\nfunction register_renderer(events, OutputArea) {\n  function append_mime(data, metadata, element) {\n    // create a DOM node to render to\n    var toinsert = this.create_output_subarea(\n    metadata,\n    CLASS_NAME,\n    EXEC_MIME_TYPE\n    );\n    this.keyboard_manager.register_events(toinsert);\n    // Render to node\n    var props = {data: data, metadata: metadata[EXEC_MIME_TYPE]};\n    render(props, toinsert[0]);\n    element.append(toinsert);\n    return toinsert\n  }\n\n  events.on('output_added.OutputArea', handle_add_output);\n  events.on('output_updated.OutputArea', handle_update_output);\n  events.on('clear_output.CodeCell', handle_clear_output);\n  events.on('delete.Cell', handle_clear_output);\n  events.on('kernel_ready.Kernel', handle_kernel_cleanup);\n\n  OutputArea.prototype.register_mime_type(EXEC_MIME_TYPE, append_mime, {\n    safe: true,\n    index: 0\n  });\n}\n\nif (window.Jupyter !== undefined) {\n  try {\n    var events = require('base/js/events');\n    var OutputArea = require('notebook/js/outputarea').OutputArea;\n    if (OutputArea.prototype.mime_types().indexOf(EXEC_MIME_TYPE) == -1) {\n      register_renderer(events, OutputArea);\n    }\n  } catch(err) {\n  }\n}\n",
      "application/vnd.holoviews_load.v0+json": ""
     },
     "metadata": {},
     "output_type": "display_data"
    },
    {
     "data": {
      "application/vnd.holoviews_exec.v0+json": "",
      "text/html": [
       "<div id='88091d7f-06ac-4cf5-9f00-3d52543dd23c'>\n",
       "  <div id=\"a10e5035-a081-4209-a0b5-3e4bb7ce5d44\" data-root-id=\"88091d7f-06ac-4cf5-9f00-3d52543dd23c\" style=\"display: contents;\"></div>\n",
       "</div>\n",
       "<script type=\"application/javascript\">(function(root) {\n",
       "  var docs_json = {\"90ad79f0-f86f-4a6c-9cf5-ac4319086b6c\":{\"version\":\"3.7.3\",\"title\":\"Bokeh Application\",\"roots\":[{\"type\":\"object\",\"name\":\"panel.models.browser.BrowserInfo\",\"id\":\"88091d7f-06ac-4cf5-9f00-3d52543dd23c\"},{\"type\":\"object\",\"name\":\"panel.models.comm_manager.CommManager\",\"id\":\"bc087ccc-e6bd-48e9-8b28-8e7bcda55ffe\",\"attributes\":{\"plot_id\":\"88091d7f-06ac-4cf5-9f00-3d52543dd23c\",\"comm_id\":\"7c70883b9dbf4762a6e95f88b9eee96f\",\"client_comm_id\":\"054370ddac11438ebf2f004168142715\"}}],\"defs\":[{\"type\":\"model\",\"name\":\"ReactiveHTML1\"},{\"type\":\"model\",\"name\":\"FlexBox1\",\"properties\":[{\"name\":\"align_content\",\"kind\":\"Any\",\"default\":\"flex-start\"},{\"name\":\"align_items\",\"kind\":\"Any\",\"default\":\"flex-start\"},{\"name\":\"flex_direction\",\"kind\":\"Any\",\"default\":\"row\"},{\"name\":\"flex_wrap\",\"kind\":\"Any\",\"default\":\"wrap\"},{\"name\":\"gap\",\"kind\":\"Any\",\"default\":\"\"},{\"name\":\"justify_content\",\"kind\":\"Any\",\"default\":\"flex-start\"}]},{\"type\":\"model\",\"name\":\"FloatPanel1\",\"properties\":[{\"name\":\"config\",\"kind\":\"Any\",\"default\":{\"type\":\"map\"}},{\"name\":\"contained\",\"kind\":\"Any\",\"default\":true},{\"name\":\"position\",\"kind\":\"Any\",\"default\":\"right-top\"},{\"name\":\"offsetx\",\"kind\":\"Any\",\"default\":null},{\"name\":\"offsety\",\"kind\":\"Any\",\"default\":null},{\"name\":\"theme\",\"kind\":\"Any\",\"default\":\"primary\"},{\"name\":\"status\",\"kind\":\"Any\",\"default\":\"normalized\"}]},{\"type\":\"model\",\"name\":\"GridStack1\",\"properties\":[{\"name\":\"ncols\",\"kind\":\"Any\",\"default\":null},{\"name\":\"nrows\",\"kind\":\"Any\",\"default\":null},{\"name\":\"allow_resize\",\"kind\":\"Any\",\"default\":true},{\"name\":\"allow_drag\",\"kind\":\"Any\",\"default\":true},{\"name\":\"state\",\"kind\":\"Any\",\"default\":[]}]},{\"type\":\"model\",\"name\":\"drag1\",\"properties\":[{\"name\":\"slider_width\",\"kind\":\"Any\",\"default\":5},{\"name\":\"slider_color\",\"kind\":\"Any\",\"default\":\"black\"},{\"name\":\"value\",\"kind\":\"Any\",\"default\":50}]},{\"type\":\"model\",\"name\":\"click1\",\"properties\":[{\"name\":\"terminal_output\",\"kind\":\"Any\",\"default\":\"\"},{\"name\":\"debug_name\",\"kind\":\"Any\",\"default\":\"\"},{\"name\":\"clears\",\"kind\":\"Any\",\"default\":0}]},{\"type\":\"model\",\"name\":\"FastWrapper1\",\"properties\":[{\"name\":\"object\",\"kind\":\"Any\",\"default\":null},{\"name\":\"style\",\"kind\":\"Any\",\"default\":null}]},{\"type\":\"model\",\"name\":\"NotificationArea1\",\"properties\":[{\"name\":\"js_events\",\"kind\":\"Any\",\"default\":{\"type\":\"map\"}},{\"name\":\"max_notifications\",\"kind\":\"Any\",\"default\":5},{\"name\":\"notifications\",\"kind\":\"Any\",\"default\":[]},{\"name\":\"position\",\"kind\":\"Any\",\"default\":\"bottom-right\"},{\"name\":\"_clear\",\"kind\":\"Any\",\"default\":0},{\"name\":\"types\",\"kind\":\"Any\",\"default\":[{\"type\":\"map\",\"entries\":[[\"type\",\"warning\"],[\"background\",\"#ffc107\"],[\"icon\",{\"type\":\"map\",\"entries\":[[\"className\",\"fas fa-exclamation-triangle\"],[\"tagName\",\"i\"],[\"color\",\"white\"]]}]]},{\"type\":\"map\",\"entries\":[[\"type\",\"info\"],[\"background\",\"#007bff\"],[\"icon\",{\"type\":\"map\",\"entries\":[[\"className\",\"fas fa-info-circle\"],[\"tagName\",\"i\"],[\"color\",\"white\"]]}]]}]}]},{\"type\":\"model\",\"name\":\"Notification\",\"properties\":[{\"name\":\"background\",\"kind\":\"Any\",\"default\":null},{\"name\":\"duration\",\"kind\":\"Any\",\"default\":3000},{\"name\":\"icon\",\"kind\":\"Any\",\"default\":null},{\"name\":\"message\",\"kind\":\"Any\",\"default\":\"\"},{\"name\":\"notification_type\",\"kind\":\"Any\",\"default\":null},{\"name\":\"_rendered\",\"kind\":\"Any\",\"default\":false},{\"name\":\"_destroyed\",\"kind\":\"Any\",\"default\":false}]},{\"type\":\"model\",\"name\":\"TemplateActions1\",\"properties\":[{\"name\":\"open_modal\",\"kind\":\"Any\",\"default\":0},{\"name\":\"close_modal\",\"kind\":\"Any\",\"default\":0}]},{\"type\":\"model\",\"name\":\"BootstrapTemplateActions1\",\"properties\":[{\"name\":\"open_modal\",\"kind\":\"Any\",\"default\":0},{\"name\":\"close_modal\",\"kind\":\"Any\",\"default\":0}]},{\"type\":\"model\",\"name\":\"TemplateEditor1\",\"properties\":[{\"name\":\"layout\",\"kind\":\"Any\",\"default\":[]}]},{\"type\":\"model\",\"name\":\"MaterialTemplateActions1\",\"properties\":[{\"name\":\"open_modal\",\"kind\":\"Any\",\"default\":0},{\"name\":\"close_modal\",\"kind\":\"Any\",\"default\":0}]},{\"type\":\"model\",\"name\":\"ReactiveESM1\",\"properties\":[{\"name\":\"esm_constants\",\"kind\":\"Any\",\"default\":{\"type\":\"map\"}}]},{\"type\":\"model\",\"name\":\"JSComponent1\",\"properties\":[{\"name\":\"esm_constants\",\"kind\":\"Any\",\"default\":{\"type\":\"map\"}}]},{\"type\":\"model\",\"name\":\"ReactComponent1\",\"properties\":[{\"name\":\"esm_constants\",\"kind\":\"Any\",\"default\":{\"type\":\"map\"}}]},{\"type\":\"model\",\"name\":\"AnyWidgetComponent1\",\"properties\":[{\"name\":\"esm_constants\",\"kind\":\"Any\",\"default\":{\"type\":\"map\"}}]},{\"type\":\"model\",\"name\":\"request_value1\",\"properties\":[{\"name\":\"fill\",\"kind\":\"Any\",\"default\":\"none\"},{\"name\":\"_synced\",\"kind\":\"Any\",\"default\":null},{\"name\":\"_request_sync\",\"kind\":\"Any\",\"default\":0}]}]}};\n",
       "  var render_items = [{\"docid\":\"90ad79f0-f86f-4a6c-9cf5-ac4319086b6c\",\"roots\":{\"88091d7f-06ac-4cf5-9f00-3d52543dd23c\":\"a10e5035-a081-4209-a0b5-3e4bb7ce5d44\"},\"root_ids\":[\"88091d7f-06ac-4cf5-9f00-3d52543dd23c\"]}];\n",
       "  var docs = Object.values(docs_json)\n",
       "  if (!docs) {\n",
       "    return\n",
       "  }\n",
       "  const py_version = docs[0].version.replace('rc', '-rc.').replace('.dev', '-dev.')\n",
       "  async function embed_document(root) {\n",
       "    var Bokeh = get_bokeh(root)\n",
       "    await Bokeh.embed.embed_items_notebook(docs_json, render_items);\n",
       "    for (const render_item of render_items) {\n",
       "      for (const root_id of render_item.root_ids) {\n",
       "\tconst id_el = document.getElementById(root_id)\n",
       "\tif (id_el.children.length && id_el.children[0].hasAttribute('data-root-id')) {\n",
       "\t  const root_el = id_el.children[0]\n",
       "\t  root_el.id = root_el.id + '-rendered'\n",
       "\t  for (const child of root_el.children) {\n",
       "            // Ensure JupyterLab does not capture keyboard shortcuts\n",
       "            // see: https://jupyterlab.readthedocs.io/en/4.1.x/extension/notebook.html#keyboard-interaction-model\n",
       "\t    child.setAttribute('data-lm-suppress-shortcuts', 'true')\n",
       "\t  }\n",
       "\t}\n",
       "      }\n",
       "    }\n",
       "  }\n",
       "  function get_bokeh(root) {\n",
       "    if (root.Bokeh === undefined) {\n",
       "      return null\n",
       "    } else if (root.Bokeh.version !== py_version) {\n",
       "      if (root.Bokeh.versions === undefined || !root.Bokeh.versions.has(py_version)) {\n",
       "\treturn null\n",
       "      }\n",
       "      return root.Bokeh.versions.get(py_version);\n",
       "    } else if (root.Bokeh.version === py_version) {\n",
       "      return root.Bokeh\n",
       "    }\n",
       "    return null\n",
       "  }\n",
       "  function is_loaded(root) {\n",
       "    var Bokeh = get_bokeh(root)\n",
       "    return (Bokeh != null && Bokeh.Panel !== undefined)\n",
       "  }\n",
       "  if (is_loaded(root)) {\n",
       "    embed_document(root);\n",
       "  } else {\n",
       "    var attempts = 0;\n",
       "    var timer = setInterval(function(root) {\n",
       "      if (is_loaded(root)) {\n",
       "        clearInterval(timer);\n",
       "        embed_document(root);\n",
       "      } else if (document.readyState == \"complete\") {\n",
       "        attempts++;\n",
       "        if (attempts > 200) {\n",
       "          clearInterval(timer);\n",
       "\t  var Bokeh = get_bokeh(root)\n",
       "\t  if (Bokeh == null || Bokeh.Panel == null) {\n",
       "            console.warn(\"Panel: ERROR: Unable to run Panel code because Bokeh or Panel library is missing\");\n",
       "\t  } else {\n",
       "\t    console.warn(\"Panel: WARNING: Attempting to render but not all required libraries could be resolved.\")\n",
       "\t    embed_document(root)\n",
       "\t  }\n",
       "        }\n",
       "      }\n",
       "    }, 25, root)\n",
       "  }\n",
       "})(window);</script>"
      ]
     },
     "metadata": {
      "application/vnd.holoviews_exec.v0+json": {
       "id": "88091d7f-06ac-4cf5-9f00-3d52543dd23c"
      }
     },
     "output_type": "display_data"
    }
   ],
   "source": [
    "import os\n",
    "import warnings\n",
    "\n",
    "warnings.filterwarnings('ignore')\n",
    "\n",
    "# import numpy as np\n",
    "import pandas as pd\n",
    "import panel as pn\n",
    "\n",
    "from mgo.udal import UDAL\n",
    "\n",
    "# All low level functions are imported from the momics package\n",
    "from momics.diversity import run_permanova\n",
    "from momics.loader import load_parquets_udal\n",
    "from momics.metadata import get_metadata_udal, enhance_metadata, filter_metadata_table, filter_data\n",
    "import momics.plotting as pl\n",
    "from momics.taxonomy import (\n",
    "    pivot_taxonomic_data,\n",
    "    separate_taxonomy)"
   ]
  },
  {
   "cell_type": "markdown",
   "metadata": {},
   "source": [
    "### User settings"
   ]
  },
  {
   "cell_type": "code",
   "execution_count": 3,
   "metadata": {},
   "outputs": [],
   "source": [
    "DEBUG = True  # enable stdout logging"
   ]
  },
  {
   "cell_type": "markdown",
   "metadata": {},
   "source": [
    "## Loading"
   ]
  },
  {
   "cell_type": "code",
   "execution_count": 4,
   "metadata": {},
   "outputs": [],
   "source": [
    "udal = UDAL()"
   ]
  },
  {
   "cell_type": "code",
   "execution_count": 5,
   "metadata": {},
   "outputs": [],
   "source": [
    "# parquet files\n",
    "if 'google.colab' in str(get_ipython()):\n",
    "    root_folder = os.path.abspath(os.path.join('/content/momics-demos'))\n",
    "else:\n",
    "    root_folder = os.path.abspath(os.path.join('../'))\n",
    "\n",
    "assets_folder = os.path.join(root_folder, 'assets')"
   ]
  },
  {
   "cell_type": "code",
   "execution_count": 6,
   "metadata": {},
   "outputs": [],
   "source": [
    "@pn.cache()\n",
    "def get_data():\n",
    "    return load_parquets_udal()\n",
    "\n",
    "# Load and merge metadata\n",
    "@pn.cache()\n",
    "def get_full_metadata():\n",
    "    return get_metadata_udal()\n",
    "\n",
    "@pn.cache()\n",
    "def get_valid_samples():\n",
    "    df_valid = pd.read_csv(\n",
    "        os.path.join(root_folder, 'data/shipment_b1b2_181.csv')\n",
    "    )\n",
    "    return df_valid"
   ]
  },
  {
   "cell_type": "markdown",
   "metadata": {},
   "source": [
    "### Enhance matadata"
   ]
  },
  {
   "cell_type": "code",
   "execution_count": 7,
   "metadata": {},
   "outputs": [],
   "source": [
    "# Load metadata\n",
    "full_metadata = get_full_metadata()\n",
    "\n",
    "# filter the metadata only for valid 181 samples\n",
    "valid_samples = get_valid_samples()\n",
    "full_metadata = enhance_metadata(full_metadata, valid_samples)\n",
    "\n",
    "# LOADing data\n",
    "mgf_parquet_dfs = get_data()"
   ]
  },
  {
   "cell_type": "code",
   "execution_count": 8,
   "metadata": {},
   "outputs": [
    {
     "name": "stderr",
     "output_type": "stream",
     "text": [
      "INFO | Diversity analysis app | Data table names are:\n",
      "dict_keys(['go', 'go_slim', 'ips', 'ko', 'pfam', 'lsu', 'ssu'])\n",
      "INFO | Diversity analysis app | Categorical metadata columns are:\n",
      "['ENA_accession_number_project', 'ENA_accession_number_umbrella', 'ammonium_method', 'arr_date_hq', 'arr_date_seq', 'chlorophyll_method', 'conduc_method', 'contact_email', 'contact_name', 'contact_orcid', 'density_method', 'diss_oxygen_method', 'env_broad_biome', 'env_local', 'env_material', 'env_package', 'extra_site_info', 'failure', 'failure_comment', 'geo_loc_name', 'investigation_type', 'loc_broad_ocean', 'loc_loc', 'loc_regional', 'month_name', 'nitrate_method', 'nitrite_method', 'obs_id', 'organism_count', 'organism_count_method', 'organization', 'organization_country', 'organization_edmoid', 'other_person', 'other_person_orcid', 'ph_method', 'phaeopigments_method', 'phosphate_method', 'pigments', 'pigments_method', 'pressure_method', 'project_name', 'replicate', 'replicate_info', 'samp_collect_device', 'samp_mat_process', 'samp_mat_process_dev', 'samp_store_date', 'samp_store_loc', 'sampl_person', 'sampl_person_orcid', 'sampling_event', 'scientific_name', 'sea_subsurf_salinity_method', 'sea_subsurf_temp_method', 'sea_surf_salinity_method', 'sea_surf_temp_method', 'season', 'ship_date', 'ship_date_seq', 'silicate_method', 'size_frac', 'store_person', 'store_person_orcid', 'tidal_stage', 'time_fi', 'turbidity_method', 'wa_id']\n",
      "INFO | Diversity analysis app | Numerical metadata columns are:\n",
      "['ENA_accession_number_sample', 'alkalinity', 'alkalinity_method', 'ammonium', 'bac_prod', 'bac_prod_method', 'biomass', 'biomass_method', 'chem_administration', 'chlorophyll', 'conduc', 'day', 'density', 'depth', 'diss_carb_dioxide', 'diss_carb_dioxide_method', 'diss_inorg_carb', 'diss_inorg_carb_method', 'diss_org_carb', 'diss_org_carb_method', 'diss_org_nitro', 'diss_org_nitro_method', 'diss_oxygen', 'down_par', 'down_par_method', 'latitude', 'loc_broad_ocean_mrgid', 'loc_loc_mrgid', 'loc_regional_mrgid', 'long_store', 'longitude', 'membr_cut', 'month', 'n_alkanes', 'n_alkanes_method', 'nitrate', 'nitrite', 'noteworthy_env_cond', 'part_org_carb', 'part_org_carb_method', 'part_org_nitro', 'part_org_nitro_method', 'petroleum_hydrocarb', 'petroleum_hydrocarb_method', 'ph', 'phaeopigments', 'phosphate', 'pressure', 'primary_prod', 'primary_prod_method', 'samp_size_vol', 'samp_store_temp', 'sea_subsurf_salinity', 'sea_subsurf_temp', 'sea_surf_salinity', 'sea_surf_temp', 'silicate', 'size_frac_low', 'size_frac_up', 'store_temp_hq', 'sulfate', 'sulfate_method', 'sulfide', 'sulfide_method', 'tax_id', 'tot_depth_water_col', 'turbidity', 'water_current', 'water_current_method', 'year']\n",
      "INFO | Diversity analysis app | Categorical metadata columns are:\n",
      "['ENA_accession_number_project', 'ENA_accession_number_umbrella', 'ammonium_method', 'arr_date_hq', 'arr_date_seq', 'chlorophyll_method', 'conduc_method', 'contact_email', 'contact_name', 'contact_orcid', 'density_method', 'diss_oxygen_method', 'env_broad_biome', 'env_local', 'env_material', 'env_package', 'extra_site_info', 'failure', 'failure_comment', 'geo_loc_name', 'investigation_type', 'loc_broad_ocean', 'loc_loc', 'loc_regional', 'month_name', 'nitrate_method', 'nitrite_method', 'obs_id', 'organism_count', 'organism_count_method', 'organization', 'organization_country', 'organization_edmoid', 'other_person', 'other_person_orcid', 'ph_method', 'phaeopigments_method', 'phosphate_method', 'pigments', 'pigments_method', 'pressure_method', 'project_name', 'replicate', 'replicate_info', 'samp_collect_device', 'samp_mat_process', 'samp_mat_process_dev', 'samp_store_date', 'samp_store_loc', 'sampl_person', 'sampl_person_orcid', 'sampling_event', 'scientific_name', 'sea_subsurf_salinity_method', 'sea_subsurf_temp_method', 'sea_surf_salinity_method', 'sea_surf_temp_method', 'season', 'ship_date', 'ship_date_seq', 'silicate_method', 'size_frac', 'store_person', 'store_person_orcid', 'tidal_stage', 'time_fi', 'turbidity_method', 'wa_id']\n",
      "INFO | Diversity analysis app | Numerical metadata columns are:\n",
      "['ENA_accession_number_sample', 'alkalinity', 'alkalinity_method', 'ammonium', 'bac_prod', 'bac_prod_method', 'biomass', 'biomass_method', 'chem_administration', 'chlorophyll', 'conduc', 'day', 'density', 'depth', 'diss_carb_dioxide', 'diss_carb_dioxide_method', 'diss_inorg_carb', 'diss_inorg_carb_method', 'diss_org_carb', 'diss_org_carb_method', 'diss_org_nitro', 'diss_org_nitro_method', 'diss_oxygen', 'down_par', 'down_par_method', 'latitude', 'loc_broad_ocean_mrgid', 'loc_loc_mrgid', 'loc_regional_mrgid', 'long_store', 'longitude', 'membr_cut', 'month', 'n_alkanes', 'n_alkanes_method', 'nitrate', 'nitrite', 'noteworthy_env_cond', 'part_org_carb', 'part_org_carb_method', 'part_org_nitro', 'part_org_nitro_method', 'petroleum_hydrocarb', 'petroleum_hydrocarb_method', 'ph', 'phaeopigments', 'phosphate', 'pressure', 'primary_prod', 'primary_prod_method', 'samp_size_vol', 'samp_store_temp', 'sea_subsurf_salinity', 'sea_subsurf_temp', 'sea_surf_salinity', 'sea_surf_temp', 'silicate', 'size_frac_low', 'size_frac_up', 'store_temp_hq', 'sulfate', 'sulfate_method', 'sulfide', 'sulfide_method', 'tax_id', 'tot_depth_water_col', 'turbidity', 'water_current', 'water_current_method', 'year']\n"
     ]
    }
   ],
   "source": [
    "# select categorical columns from metadata\n",
    "categorical_columns = sorted(full_metadata.select_dtypes(include=['object', \"boolean\"]).columns)\n",
    "cat_to_remove = [\"ref_code\", \"samp_description\", \"source_mat_id\", \"source_mat_id_orig\"]\n",
    "categorical_columns = [k for k in categorical_columns if k not in cat_to_remove]\n",
    "\n",
    "# select numerical columns from metadata\n",
    "numerical_columns = sorted(full_metadata.select_dtypes(include=['int64', 'float64']).columns)\n",
    "\n",
    "if DEBUG:\n",
    "    logger.info(f\"Data table names are:\\n{mgf_parquet_dfs.keys()}\")\n",
    "    logger.info(f\"Categorical metadata columns are:\\n{categorical_columns}\")\n",
    "    logger.info(f\"Numerical metadata columns are:\\n{numerical_columns}\")\n",
    "\n",
    "# This is for PCoA from Andrzej more or less\n",
    "factors_to_remove = ['ENA_accession_number_project', \"ENA_accession_number_umbrella\", \"arr_date_hq\",\n",
    "                     \"arr_date_seq\", \"contact_email\", \"contact_name\", \"contact_orcid\",\n",
    "                     \"investigation_type\", \"long_store\", \"organism_count_method\", \"organization_edmoid\",\n",
    "                     'other_person', 'other_person_orcid',\"organization_country\", \"project_name\",\n",
    "                     \"samp_store_date\", 'samp_mat_process', 'samp_mat_process_dev',\n",
    "                     'samp_store_loc', 'sampl_person', 'sampl_person_orcid', 'store_person',\n",
    "                     'store_person_orcid', 'time_fi', \"wa_id\",\n",
    "                     'env_broad_biome', 'env_local', \"extra_site_info\", 'failure_comment',\n",
    "                     'obs_id', 'size_frac','ship_date', 'ship_date_seq', 'sampling_event', 'organism_count',\n",
    "                     'samp_collect_device',\n",
    "                     'ammonium_method', 'chlorophyll_method', 'conduc_method', 'density_method', 'diss_oxygen_method',\n",
    "                     'nitrate_method', 'nitrite_method', 'ph_method', 'phaeopigments_method', 'phosphate_method', 'pigments_method', 'pressure_method',\n",
    "                     'sea_subsurf_salinity_method', 'sea_subsurf_temp_method', 'sea_surf_salinity_method', 'sea_surf_temp_method',\n",
    "                     'silicate_method', 'turbidity_method']\n",
    "\n",
    "factor_cols = [col for col in categorical_columns if col not in factors_to_remove]"
   ]
  },
  {
   "cell_type": "code",
   "execution_count": 9,
   "metadata": {},
   "outputs": [
    {
     "data": {
      "text/plain": [
       "(142, 70, 68, 4)"
      ]
     },
     "execution_count": 9,
     "metadata": {},
     "output_type": "execute_result"
    }
   ],
   "source": [
    "len(full_metadata.columns), len(numerical_columns),len(categorical_columns), len(cat_to_remove)"
   ]
  },
  {
   "cell_type": "markdown",
   "metadata": {},
   "source": [
    "## Pivot the tables"
   ]
  },
  {
   "cell_type": "code",
   "execution_count": 10,
   "metadata": {},
   "outputs": [],
   "source": [
    "# LSU and SSU\n",
    "lsu = mgf_parquet_dfs['lsu']\n",
    "ssu = mgf_parquet_dfs['ssu']\n",
    "\n",
    "lsu_standard = pivot_taxonomic_data(lsu)\n",
    "ssu_standard = pivot_taxonomic_data(ssu)"
   ]
  },
  {
   "cell_type": "code",
   "execution_count": 11,
   "metadata": {},
   "outputs": [
    {
     "data": {
      "text/plain": [
       "60"
      ]
     },
     "execution_count": 11,
     "metadata": {},
     "output_type": "execute_result"
    }
   ],
   "source": [
    "# Free memory\n",
    "del mgf_parquet_dfs\n",
    "del lsu\n",
    "del ssu\n",
    "\n",
    "gc.collect()"
   ]
  },
  {
   "cell_type": "code",
   "execution_count": 12,
   "metadata": {},
   "outputs": [],
   "source": [
    "lsu_standard.set_index('taxonomic_concat', inplace=True)\n",
    "ssu_standard.set_index('taxonomic_concat', inplace=True)\n",
    "\n",
    "split_taxo_tables_lsu = separate_taxonomy(lsu_standard)\n",
    "split_taxo_tables_ssu = separate_taxonomy(ssu_standard)"
   ]
  },
  {
   "cell_type": "code",
   "execution_count": 13,
   "metadata": {},
   "outputs": [
    {
     "data": {
      "text/plain": [
       "6"
      ]
     },
     "execution_count": 13,
     "metadata": {},
     "output_type": "execute_result"
    }
   ],
   "source": [
    "del lsu_standard\n",
    "del ssu_standard\n",
    "gc.collect()"
   ]
  },
  {
   "cell_type": "markdown",
   "metadata": {},
   "source": [
    "## Granular PCoA\n"
   ]
  },
  {
   "cell_type": "code",
   "execution_count": 14,
   "metadata": {},
   "outputs": [
    {
     "data": {
      "text/html": [
       "<script type=\"esms-options\">{\"shimMode\": true}</script><style>*[data-root-id],\n",
       "*[data-root-id] > * {\n",
       "  box-sizing: border-box;\n",
       "  font-family: var(--jp-ui-font-family);\n",
       "  font-size: var(--jp-ui-font-size1);\n",
       "  color: var(--vscode-editor-foreground, var(--jp-ui-font-color1));\n",
       "}\n",
       "\n",
       "/* Override VSCode background color */\n",
       ".cell-output-ipywidget-background:has(\n",
       "    > .cell-output-ipywidget-background > .lm-Widget > *[data-root-id]\n",
       "  ),\n",
       ".cell-output-ipywidget-background:has(> .lm-Widget > *[data-root-id]) {\n",
       "  background-color: transparent !important;\n",
       "}\n",
       "</style>"
      ]
     },
     "metadata": {},
     "output_type": "display_data"
    },
    {
     "data": {
      "application/javascript": "(function(root) {\n  function now() {\n    return new Date();\n  }\n\n  const force = false;\n  const py_version = '3.7.3'.replace('rc', '-rc.').replace('.dev', '-dev.');\n  const reloading = true;\n  const Bokeh = root.Bokeh;\n\n  // Set a timeout for this load but only if we are not already initializing\n  if (typeof (root._bokeh_timeout) === \"undefined\" || (force || !root._bokeh_is_initializing)) {\n    root._bokeh_timeout = Date.now() + 5000;\n    root._bokeh_failed_load = false;\n  }\n\n  function run_callbacks() {\n    try {\n      root._bokeh_onload_callbacks.forEach(function(callback) {\n        if (callback != null)\n          callback();\n      });\n    } finally {\n      delete root._bokeh_onload_callbacks;\n    }\n    console.debug(\"Bokeh: all callbacks have finished\");\n  }\n\n  function load_libs(css_urls, js_urls, js_modules, js_exports, callback) {\n    if (css_urls == null) css_urls = [];\n    if (js_urls == null) js_urls = [];\n    if (js_modules == null) js_modules = [];\n    if (js_exports == null) js_exports = {};\n\n    root._bokeh_onload_callbacks.push(callback);\n\n    if (root._bokeh_is_loading > 0) {\n      // Don't load bokeh if it is still initializing\n      console.debug(\"Bokeh: BokehJS is being loaded, scheduling callback at\", now());\n      return null;\n    } else if (js_urls.length === 0 && js_modules.length === 0 && Object.keys(js_exports).length === 0) {\n      // There is nothing to load\n      run_callbacks();\n      return null;\n    }\n\n    function on_load() {\n      root._bokeh_is_loading--;\n      if (root._bokeh_is_loading === 0) {\n        console.debug(\"Bokeh: all BokehJS libraries/stylesheets loaded\");\n        run_callbacks()\n      }\n    }\n    window._bokeh_on_load = on_load\n\n    function on_error(e) {\n      const src_el = e.srcElement\n      console.error(\"failed to load \" + (src_el.href || src_el.src));\n    }\n\n    const skip = [];\n    if (window.requirejs) {\n      window.requirejs.config({'packages': {}, 'paths': {'tabulator': 'https://cdn.jsdelivr.net/npm/tabulator-tables@6.3.1/dist/js/tabulator.min', 'moment': 'https://cdn.jsdelivr.net/npm/luxon/build/global/luxon.min'}, 'shim': {}});\n      require([\"tabulator\"], function(Tabulator) {\n        window.Tabulator = Tabulator\n        on_load()\n      })\n      require([\"moment\"], function(moment) {\n        window.moment = moment\n        on_load()\n      })\n      root._bokeh_is_loading = css_urls.length + 2;\n    } else {\n      root._bokeh_is_loading = css_urls.length + js_urls.length + js_modules.length + Object.keys(js_exports).length;\n    }\n\n    const existing_stylesheets = []\n    const links = document.getElementsByTagName('link')\n    for (let i = 0; i < links.length; i++) {\n      const link = links[i]\n      if (link.href != null) {\n        existing_stylesheets.push(link.href)\n      }\n    }\n    for (let i = 0; i < css_urls.length; i++) {\n      const url = css_urls[i];\n      const escaped = encodeURI(url)\n      if (existing_stylesheets.indexOf(escaped) !== -1) {\n        on_load()\n        continue;\n      }\n      const element = document.createElement(\"link\");\n      element.onload = on_load;\n      element.onerror = on_error;\n      element.rel = \"stylesheet\";\n      element.type = \"text/css\";\n      element.href = url;\n      console.debug(\"Bokeh: injecting link tag for BokehJS stylesheet: \", url);\n      document.body.appendChild(element);\n    }    if (((window.Tabulator !== undefined) && (!(window.Tabulator instanceof HTMLElement))) || window.requirejs) {\n      var urls = ['https://cdn.holoviz.org/panel/1.7.0/dist/bundled/datatabulator/tabulator-tables@6.3.1/dist/js/tabulator.min.js'];\n      for (var i = 0; i < urls.length; i++) {\n        skip.push(encodeURI(urls[i]))\n      }\n    }    if (((window.moment !== undefined) && (!(window.moment instanceof HTMLElement))) || window.requirejs) {\n      var urls = ['https://cdn.holoviz.org/panel/1.7.0/dist/bundled/datatabulator/luxon/build/global/luxon.min.js'];\n      for (var i = 0; i < urls.length; i++) {\n        skip.push(encodeURI(urls[i]))\n      }\n    }    var existing_scripts = []\n    const scripts = document.getElementsByTagName('script')\n    for (let i = 0; i < scripts.length; i++) {\n      var script = scripts[i]\n      if (script.src != null) {\n        existing_scripts.push(script.src)\n      }\n    }\n    for (let i = 0; i < js_urls.length; i++) {\n      const url = js_urls[i];\n      const escaped = encodeURI(url)\n      if (skip.indexOf(escaped) !== -1 || existing_scripts.indexOf(escaped) !== -1) {\n        if (!window.requirejs) {\n          on_load();\n        }\n        continue;\n      }\n      const element = document.createElement('script');\n      element.onload = on_load;\n      element.onerror = on_error;\n      element.async = false;\n      element.src = url;\n      console.debug(\"Bokeh: injecting script tag for BokehJS library: \", url);\n      document.head.appendChild(element);\n    }\n    for (let i = 0; i < js_modules.length; i++) {\n      const url = js_modules[i];\n      const escaped = encodeURI(url)\n      if (skip.indexOf(escaped) !== -1 || existing_scripts.indexOf(escaped) !== -1) {\n        if (!window.requirejs) {\n          on_load();\n        }\n        continue;\n      }\n      var element = document.createElement('script');\n      element.onload = on_load;\n      element.onerror = on_error;\n      element.async = false;\n      element.src = url;\n      element.type = \"module\";\n      console.debug(\"Bokeh: injecting script tag for BokehJS library: \", url);\n      document.head.appendChild(element);\n    }\n    for (const name in js_exports) {\n      const url = js_exports[name];\n      const escaped = encodeURI(url)\n      if (skip.indexOf(escaped) >= 0 || root[name] != null) {\n        if (!window.requirejs) {\n          on_load();\n        }\n        continue;\n      }\n      var element = document.createElement('script');\n      element.onerror = on_error;\n      element.async = false;\n      element.type = \"module\";\n      console.debug(\"Bokeh: injecting script tag for BokehJS library: \", url);\n      element.textContent = `\n      import ${name} from \"${url}\"\n      window.${name} = ${name}\n      window._bokeh_on_load()\n      `\n      document.head.appendChild(element);\n    }\n    if (!js_urls.length && !js_modules.length) {\n      on_load()\n    }\n  };\n\n  function inject_raw_css(css) {\n    const element = document.createElement(\"style\");\n    element.appendChild(document.createTextNode(css));\n    document.body.appendChild(element);\n  }\n\n  const js_urls = [\"https://cdn.holoviz.org/panel/1.7.0/dist/bundled/reactiveesm/es-module-shims@^1.10.0/dist/es-module-shims.min.js\", \"https://cdn.holoviz.org/panel/1.7.0/dist/bundled/datatabulator/tabulator-tables@6.3.1/dist/js/tabulator.min.js\", \"https://cdn.holoviz.org/panel/1.7.0/dist/bundled/datatabulator/luxon/build/global/luxon.min.js\"];\n  const js_modules = [];\n  const js_exports = {};\n  const css_urls = [\"https://cdn.holoviz.org/panel/1.7.0/dist/bundled/datatabulator/tabulator-tables@6.3.1/dist/css/tabulator_simple.min.css?v=1.7.0\"];\n  const inline_js = [    function(Bokeh) {\n      Bokeh.set_log_level(\"info\");\n    },\nfunction(Bokeh) {} // ensure no trailing comma for IE\n  ];\n\n  function run_inline_js() {\n    if ((root.Bokeh !== undefined) || (force === true)) {\n      for (let i = 0; i < inline_js.length; i++) {\n        try {\n          inline_js[i].call(root, root.Bokeh);\n        } catch(e) {\n          if (!reloading) {\n            throw e;\n          }\n        }\n      }\n      // Cache old bokeh versions\n      if (Bokeh != undefined && !reloading) {\n        var NewBokeh = root.Bokeh;\n        if (Bokeh.versions === undefined) {\n          Bokeh.versions = new Map();\n        }\n        if (NewBokeh.version !== Bokeh.version) {\n          Bokeh.versions.set(NewBokeh.version, NewBokeh)\n        }\n        root.Bokeh = Bokeh;\n      }\n    } else if (Date.now() < root._bokeh_timeout) {\n      setTimeout(run_inline_js, 100);\n    } else if (!root._bokeh_failed_load) {\n      console.log(\"Bokeh: BokehJS failed to load within specified timeout.\");\n      root._bokeh_failed_load = true;\n    }\n    root._bokeh_is_initializing = false\n  }\n\n  function load_or_wait() {\n    // Implement a backoff loop that tries to ensure we do not load multiple\n    // versions of Bokeh and its dependencies at the same time.\n    // In recent versions we use the root._bokeh_is_initializing flag\n    // to determine whether there is an ongoing attempt to initialize\n    // bokeh, however for backward compatibility we also try to ensure\n    // that we do not start loading a newer (Panel>=1.0 and Bokeh>3) version\n    // before older versions are fully initialized.\n    if (root._bokeh_is_initializing && Date.now() > root._bokeh_timeout) {\n      // If the timeout and bokeh was not successfully loaded we reset\n      // everything and try loading again\n      root._bokeh_timeout = Date.now() + 5000;\n      root._bokeh_is_initializing = false;\n      root._bokeh_onload_callbacks = undefined;\n      root._bokeh_is_loading = 0\n      console.log(\"Bokeh: BokehJS was loaded multiple times but one version failed to initialize.\");\n      load_or_wait();\n    } else if (root._bokeh_is_initializing || (typeof root._bokeh_is_initializing === \"undefined\" && root._bokeh_onload_callbacks !== undefined)) {\n      setTimeout(load_or_wait, 100);\n    } else {\n      root._bokeh_is_initializing = true\n      root._bokeh_onload_callbacks = []\n      const bokeh_loaded = root.Bokeh != null && (root.Bokeh.version === py_version || (root.Bokeh.versions !== undefined && root.Bokeh.versions.has(py_version)));\n      if (!reloading && !bokeh_loaded) {\n        if (root.Bokeh) {\n          root.Bokeh = undefined;\n        }\n        console.debug(\"Bokeh: BokehJS not loaded, scheduling load and callback at\", now());\n      }\n      load_libs(css_urls, js_urls, js_modules, js_exports, function() {\n        console.debug(\"Bokeh: BokehJS plotting callback run at\", now());\n        run_inline_js();\n      });\n    }\n  }\n  // Give older versions of the autoload script a head-start to ensure\n  // they initialize before we start loading newer version.\n  setTimeout(load_or_wait, 100)\n}(window));",
      "application/vnd.holoviews_load.v0+json": ""
     },
     "metadata": {},
     "output_type": "display_data"
    },
    {
     "data": {
      "application/javascript": "\nif ((window.PyViz === undefined) || (window.PyViz instanceof HTMLElement)) {\n  window.PyViz = {comms: {}, comm_status:{}, kernels:{}, receivers: {}, plot_index: []}\n}\n\n\n    function JupyterCommManager() {\n    }\n\n    JupyterCommManager.prototype.register_target = function(plot_id, comm_id, msg_handler) {\n      if (window.comm_manager || ((window.Jupyter !== undefined) && (Jupyter.notebook.kernel != null))) {\n        var comm_manager = window.comm_manager || Jupyter.notebook.kernel.comm_manager;\n        comm_manager.register_target(comm_id, function(comm) {\n          comm.on_msg(msg_handler);\n        });\n      } else if ((plot_id in window.PyViz.kernels) && (window.PyViz.kernels[plot_id])) {\n        window.PyViz.kernels[plot_id].registerCommTarget(comm_id, function(comm) {\n          comm.onMsg = msg_handler;\n        });\n      } else if (typeof google != 'undefined' && google.colab.kernel != null) {\n        google.colab.kernel.comms.registerTarget(comm_id, (comm) => {\n          var messages = comm.messages[Symbol.asyncIterator]();\n          function processIteratorResult(result) {\n            var message = result.value;\n            console.log(message)\n            var content = {data: message.data, comm_id};\n            var buffers = []\n            for (var buffer of message.buffers || []) {\n              buffers.push(new DataView(buffer))\n            }\n            var metadata = message.metadata || {};\n            var msg = {content, buffers, metadata}\n            msg_handler(msg);\n            return messages.next().then(processIteratorResult);\n          }\n          return messages.next().then(processIteratorResult);\n        })\n      }\n    }\n\n    JupyterCommManager.prototype.get_client_comm = function(plot_id, comm_id, msg_handler) {\n      if (comm_id in window.PyViz.comms) {\n        return window.PyViz.comms[comm_id];\n      } else if (window.comm_manager || ((window.Jupyter !== undefined) && (Jupyter.notebook.kernel != null))) {\n        var comm_manager = window.comm_manager || Jupyter.notebook.kernel.comm_manager;\n        var comm = comm_manager.new_comm(comm_id, {}, {}, {}, comm_id);\n        if (msg_handler) {\n          comm.on_msg(msg_handler);\n        }\n      } else if ((plot_id in window.PyViz.kernels) && (window.PyViz.kernels[plot_id])) {\n        var comm = window.PyViz.kernels[plot_id].connectToComm(comm_id);\n        comm.open();\n        if (msg_handler) {\n          comm.onMsg = msg_handler;\n        }\n      } else if (typeof google != 'undefined' && google.colab.kernel != null) {\n        var comm_promise = google.colab.kernel.comms.open(comm_id)\n        comm_promise.then((comm) => {\n          window.PyViz.comms[comm_id] = comm;\n          if (msg_handler) {\n            var messages = comm.messages[Symbol.asyncIterator]();\n            function processIteratorResult(result) {\n              var message = result.value;\n              var content = {data: message.data};\n              var metadata = message.metadata || {comm_id};\n              var msg = {content, metadata}\n              msg_handler(msg);\n              return messages.next().then(processIteratorResult);\n            }\n            return messages.next().then(processIteratorResult);\n          }\n        })\n        var sendClosure = (data, metadata, buffers, disposeOnDone) => {\n          return comm_promise.then((comm) => {\n            comm.send(data, metadata, buffers, disposeOnDone);\n          });\n        };\n        var comm = {\n          send: sendClosure\n        };\n      }\n      window.PyViz.comms[comm_id] = comm;\n      return comm;\n    }\n    window.PyViz.comm_manager = new JupyterCommManager();\n    \n\n\nvar JS_MIME_TYPE = 'application/javascript';\nvar HTML_MIME_TYPE = 'text/html';\nvar EXEC_MIME_TYPE = 'application/vnd.holoviews_exec.v0+json';\nvar CLASS_NAME = 'output';\n\n/**\n * Render data to the DOM node\n */\nfunction render(props, node) {\n  var div = document.createElement(\"div\");\n  var script = document.createElement(\"script\");\n  node.appendChild(div);\n  node.appendChild(script);\n}\n\n/**\n * Handle when a new output is added\n */\nfunction handle_add_output(event, handle) {\n  var output_area = handle.output_area;\n  var output = handle.output;\n  if ((output.data == undefined) || (!output.data.hasOwnProperty(EXEC_MIME_TYPE))) {\n    return\n  }\n  var id = output.metadata[EXEC_MIME_TYPE][\"id\"];\n  var toinsert = output_area.element.find(\".\" + CLASS_NAME.split(' ')[0]);\n  if (id !== undefined) {\n    var nchildren = toinsert.length;\n    var html_node = toinsert[nchildren-1].children[0];\n    html_node.innerHTML = output.data[HTML_MIME_TYPE];\n    var scripts = [];\n    var nodelist = html_node.querySelectorAll(\"script\");\n    for (var i in nodelist) {\n      if (nodelist.hasOwnProperty(i)) {\n        scripts.push(nodelist[i])\n      }\n    }\n\n    scripts.forEach( function (oldScript) {\n      var newScript = document.createElement(\"script\");\n      var attrs = [];\n      var nodemap = oldScript.attributes;\n      for (var j in nodemap) {\n        if (nodemap.hasOwnProperty(j)) {\n          attrs.push(nodemap[j])\n        }\n      }\n      attrs.forEach(function(attr) { newScript.setAttribute(attr.name, attr.value) });\n      newScript.appendChild(document.createTextNode(oldScript.innerHTML));\n      oldScript.parentNode.replaceChild(newScript, oldScript);\n    });\n    if (JS_MIME_TYPE in output.data) {\n      toinsert[nchildren-1].children[1].textContent = output.data[JS_MIME_TYPE];\n    }\n    output_area._hv_plot_id = id;\n    if ((window.Bokeh !== undefined) && (id in Bokeh.index)) {\n      window.PyViz.plot_index[id] = Bokeh.index[id];\n    } else {\n      window.PyViz.plot_index[id] = null;\n    }\n  } else if (output.metadata[EXEC_MIME_TYPE][\"server_id\"] !== undefined) {\n    var bk_div = document.createElement(\"div\");\n    bk_div.innerHTML = output.data[HTML_MIME_TYPE];\n    var script_attrs = bk_div.children[0].attributes;\n    for (var i = 0; i < script_attrs.length; i++) {\n      toinsert[toinsert.length - 1].childNodes[1].setAttribute(script_attrs[i].name, script_attrs[i].value);\n    }\n    // store reference to server id on output_area\n    output_area._bokeh_server_id = output.metadata[EXEC_MIME_TYPE][\"server_id\"];\n  }\n}\n\n/**\n * Handle when an output is cleared or removed\n */\nfunction handle_clear_output(event, handle) {\n  var id = handle.cell.output_area._hv_plot_id;\n  var server_id = handle.cell.output_area._bokeh_server_id;\n  if (((id === undefined) || !(id in PyViz.plot_index)) && (server_id !== undefined)) { return; }\n  var comm = window.PyViz.comm_manager.get_client_comm(\"hv-extension-comm\", \"hv-extension-comm\", function () {});\n  if (server_id !== null) {\n    comm.send({event_type: 'server_delete', 'id': server_id});\n    return;\n  } else if (comm !== null) {\n    comm.send({event_type: 'delete', 'id': id});\n  }\n  delete PyViz.plot_index[id];\n  if ((window.Bokeh !== undefined) & (id in window.Bokeh.index)) {\n    var doc = window.Bokeh.index[id].model.document\n    doc.clear();\n    const i = window.Bokeh.documents.indexOf(doc);\n    if (i > -1) {\n      window.Bokeh.documents.splice(i, 1);\n    }\n  }\n}\n\n/**\n * Handle kernel restart event\n */\nfunction handle_kernel_cleanup(event, handle) {\n  delete PyViz.comms[\"hv-extension-comm\"];\n  window.PyViz.plot_index = {}\n}\n\n/**\n * Handle update_display_data messages\n */\nfunction handle_update_output(event, handle) {\n  handle_clear_output(event, {cell: {output_area: handle.output_area}})\n  handle_add_output(event, handle)\n}\n\nfunction register_renderer(events, OutputArea) {\n  function append_mime(data, metadata, element) {\n    // create a DOM node to render to\n    var toinsert = this.create_output_subarea(\n    metadata,\n    CLASS_NAME,\n    EXEC_MIME_TYPE\n    );\n    this.keyboard_manager.register_events(toinsert);\n    // Render to node\n    var props = {data: data, metadata: metadata[EXEC_MIME_TYPE]};\n    render(props, toinsert[0]);\n    element.append(toinsert);\n    return toinsert\n  }\n\n  events.on('output_added.OutputArea', handle_add_output);\n  events.on('output_updated.OutputArea', handle_update_output);\n  events.on('clear_output.CodeCell', handle_clear_output);\n  events.on('delete.Cell', handle_clear_output);\n  events.on('kernel_ready.Kernel', handle_kernel_cleanup);\n\n  OutputArea.prototype.register_mime_type(EXEC_MIME_TYPE, append_mime, {\n    safe: true,\n    index: 0\n  });\n}\n\nif (window.Jupyter !== undefined) {\n  try {\n    var events = require('base/js/events');\n    var OutputArea = require('notebook/js/outputarea').OutputArea;\n    if (OutputArea.prototype.mime_types().indexOf(EXEC_MIME_TYPE) == -1) {\n      register_renderer(events, OutputArea);\n    }\n  } catch(err) {\n  }\n}\n",
      "application/vnd.holoviews_load.v0+json": ""
     },
     "metadata": {},
     "output_type": "display_data"
    },
    {
     "data": {
      "application/vnd.holoviews_exec.v0+json": "",
      "text/html": [
       "<div id='53f3282e-12b2-4e6d-a781-14bd0b7d5afc'>\n",
       "  <div id=\"dc29a565-e1af-48fb-98f7-09d3e962abf4\" data-root-id=\"53f3282e-12b2-4e6d-a781-14bd0b7d5afc\" style=\"display: contents;\"></div>\n",
       "</div>\n",
       "<script type=\"application/javascript\">(function(root) {\n",
       "  var docs_json = {\"4bf917d3-c38c-4a3b-93f0-a22961bbb08a\":{\"version\":\"3.7.3\",\"title\":\"Bokeh Application\",\"roots\":[{\"type\":\"object\",\"name\":\"panel.models.browser.BrowserInfo\",\"id\":\"53f3282e-12b2-4e6d-a781-14bd0b7d5afc\"},{\"type\":\"object\",\"name\":\"panel.models.comm_manager.CommManager\",\"id\":\"dc7edd37-ca52-4e11-95e9-ad02b2a7f5bc\",\"attributes\":{\"plot_id\":\"53f3282e-12b2-4e6d-a781-14bd0b7d5afc\",\"comm_id\":\"47ed422cbf754394bc15c759b5cf9c09\",\"client_comm_id\":\"a35bd32129034eb895a0561950ef8a94\"}}],\"defs\":[{\"type\":\"model\",\"name\":\"ReactiveHTML1\"},{\"type\":\"model\",\"name\":\"FlexBox1\",\"properties\":[{\"name\":\"align_content\",\"kind\":\"Any\",\"default\":\"flex-start\"},{\"name\":\"align_items\",\"kind\":\"Any\",\"default\":\"flex-start\"},{\"name\":\"flex_direction\",\"kind\":\"Any\",\"default\":\"row\"},{\"name\":\"flex_wrap\",\"kind\":\"Any\",\"default\":\"wrap\"},{\"name\":\"gap\",\"kind\":\"Any\",\"default\":\"\"},{\"name\":\"justify_content\",\"kind\":\"Any\",\"default\":\"flex-start\"}]},{\"type\":\"model\",\"name\":\"FloatPanel1\",\"properties\":[{\"name\":\"config\",\"kind\":\"Any\",\"default\":{\"type\":\"map\"}},{\"name\":\"contained\",\"kind\":\"Any\",\"default\":true},{\"name\":\"position\",\"kind\":\"Any\",\"default\":\"right-top\"},{\"name\":\"offsetx\",\"kind\":\"Any\",\"default\":null},{\"name\":\"offsety\",\"kind\":\"Any\",\"default\":null},{\"name\":\"theme\",\"kind\":\"Any\",\"default\":\"primary\"},{\"name\":\"status\",\"kind\":\"Any\",\"default\":\"normalized\"}]},{\"type\":\"model\",\"name\":\"GridStack1\",\"properties\":[{\"name\":\"ncols\",\"kind\":\"Any\",\"default\":null},{\"name\":\"nrows\",\"kind\":\"Any\",\"default\":null},{\"name\":\"allow_resize\",\"kind\":\"Any\",\"default\":true},{\"name\":\"allow_drag\",\"kind\":\"Any\",\"default\":true},{\"name\":\"state\",\"kind\":\"Any\",\"default\":[]}]},{\"type\":\"model\",\"name\":\"drag1\",\"properties\":[{\"name\":\"slider_width\",\"kind\":\"Any\",\"default\":5},{\"name\":\"slider_color\",\"kind\":\"Any\",\"default\":\"black\"},{\"name\":\"value\",\"kind\":\"Any\",\"default\":50}]},{\"type\":\"model\",\"name\":\"click1\",\"properties\":[{\"name\":\"terminal_output\",\"kind\":\"Any\",\"default\":\"\"},{\"name\":\"debug_name\",\"kind\":\"Any\",\"default\":\"\"},{\"name\":\"clears\",\"kind\":\"Any\",\"default\":0}]},{\"type\":\"model\",\"name\":\"FastWrapper1\",\"properties\":[{\"name\":\"object\",\"kind\":\"Any\",\"default\":null},{\"name\":\"style\",\"kind\":\"Any\",\"default\":null}]},{\"type\":\"model\",\"name\":\"NotificationArea1\",\"properties\":[{\"name\":\"js_events\",\"kind\":\"Any\",\"default\":{\"type\":\"map\"}},{\"name\":\"max_notifications\",\"kind\":\"Any\",\"default\":5},{\"name\":\"notifications\",\"kind\":\"Any\",\"default\":[]},{\"name\":\"position\",\"kind\":\"Any\",\"default\":\"bottom-right\"},{\"name\":\"_clear\",\"kind\":\"Any\",\"default\":0},{\"name\":\"types\",\"kind\":\"Any\",\"default\":[{\"type\":\"map\",\"entries\":[[\"type\",\"warning\"],[\"background\",\"#ffc107\"],[\"icon\",{\"type\":\"map\",\"entries\":[[\"className\",\"fas fa-exclamation-triangle\"],[\"tagName\",\"i\"],[\"color\",\"white\"]]}]]},{\"type\":\"map\",\"entries\":[[\"type\",\"info\"],[\"background\",\"#007bff\"],[\"icon\",{\"type\":\"map\",\"entries\":[[\"className\",\"fas fa-info-circle\"],[\"tagName\",\"i\"],[\"color\",\"white\"]]}]]}]}]},{\"type\":\"model\",\"name\":\"Notification\",\"properties\":[{\"name\":\"background\",\"kind\":\"Any\",\"default\":null},{\"name\":\"duration\",\"kind\":\"Any\",\"default\":3000},{\"name\":\"icon\",\"kind\":\"Any\",\"default\":null},{\"name\":\"message\",\"kind\":\"Any\",\"default\":\"\"},{\"name\":\"notification_type\",\"kind\":\"Any\",\"default\":null},{\"name\":\"_rendered\",\"kind\":\"Any\",\"default\":false},{\"name\":\"_destroyed\",\"kind\":\"Any\",\"default\":false}]},{\"type\":\"model\",\"name\":\"TemplateActions1\",\"properties\":[{\"name\":\"open_modal\",\"kind\":\"Any\",\"default\":0},{\"name\":\"close_modal\",\"kind\":\"Any\",\"default\":0}]},{\"type\":\"model\",\"name\":\"BootstrapTemplateActions1\",\"properties\":[{\"name\":\"open_modal\",\"kind\":\"Any\",\"default\":0},{\"name\":\"close_modal\",\"kind\":\"Any\",\"default\":0}]},{\"type\":\"model\",\"name\":\"TemplateEditor1\",\"properties\":[{\"name\":\"layout\",\"kind\":\"Any\",\"default\":[]}]},{\"type\":\"model\",\"name\":\"MaterialTemplateActions1\",\"properties\":[{\"name\":\"open_modal\",\"kind\":\"Any\",\"default\":0},{\"name\":\"close_modal\",\"kind\":\"Any\",\"default\":0}]},{\"type\":\"model\",\"name\":\"ReactiveESM1\",\"properties\":[{\"name\":\"esm_constants\",\"kind\":\"Any\",\"default\":{\"type\":\"map\"}}]},{\"type\":\"model\",\"name\":\"JSComponent1\",\"properties\":[{\"name\":\"esm_constants\",\"kind\":\"Any\",\"default\":{\"type\":\"map\"}}]},{\"type\":\"model\",\"name\":\"ReactComponent1\",\"properties\":[{\"name\":\"esm_constants\",\"kind\":\"Any\",\"default\":{\"type\":\"map\"}}]},{\"type\":\"model\",\"name\":\"AnyWidgetComponent1\",\"properties\":[{\"name\":\"esm_constants\",\"kind\":\"Any\",\"default\":{\"type\":\"map\"}}]},{\"type\":\"model\",\"name\":\"request_value1\",\"properties\":[{\"name\":\"fill\",\"kind\":\"Any\",\"default\":\"none\"},{\"name\":\"_synced\",\"kind\":\"Any\",\"default\":null},{\"name\":\"_request_sync\",\"kind\":\"Any\",\"default\":0}]}]}};\n",
       "  var render_items = [{\"docid\":\"4bf917d3-c38c-4a3b-93f0-a22961bbb08a\",\"roots\":{\"53f3282e-12b2-4e6d-a781-14bd0b7d5afc\":\"dc29a565-e1af-48fb-98f7-09d3e962abf4\"},\"root_ids\":[\"53f3282e-12b2-4e6d-a781-14bd0b7d5afc\"]}];\n",
       "  var docs = Object.values(docs_json)\n",
       "  if (!docs) {\n",
       "    return\n",
       "  }\n",
       "  const py_version = docs[0].version.replace('rc', '-rc.').replace('.dev', '-dev.')\n",
       "  async function embed_document(root) {\n",
       "    var Bokeh = get_bokeh(root)\n",
       "    await Bokeh.embed.embed_items_notebook(docs_json, render_items);\n",
       "    for (const render_item of render_items) {\n",
       "      for (const root_id of render_item.root_ids) {\n",
       "\tconst id_el = document.getElementById(root_id)\n",
       "\tif (id_el.children.length && id_el.children[0].hasAttribute('data-root-id')) {\n",
       "\t  const root_el = id_el.children[0]\n",
       "\t  root_el.id = root_el.id + '-rendered'\n",
       "\t  for (const child of root_el.children) {\n",
       "            // Ensure JupyterLab does not capture keyboard shortcuts\n",
       "            // see: https://jupyterlab.readthedocs.io/en/4.1.x/extension/notebook.html#keyboard-interaction-model\n",
       "\t    child.setAttribute('data-lm-suppress-shortcuts', 'true')\n",
       "\t  }\n",
       "\t}\n",
       "      }\n",
       "    }\n",
       "  }\n",
       "  function get_bokeh(root) {\n",
       "    if (root.Bokeh === undefined) {\n",
       "      return null\n",
       "    } else if (root.Bokeh.version !== py_version) {\n",
       "      if (root.Bokeh.versions === undefined || !root.Bokeh.versions.has(py_version)) {\n",
       "\treturn null\n",
       "      }\n",
       "      return root.Bokeh.versions.get(py_version);\n",
       "    } else if (root.Bokeh.version === py_version) {\n",
       "      return root.Bokeh\n",
       "    }\n",
       "    return null\n",
       "  }\n",
       "  function is_loaded(root) {\n",
       "    var Bokeh = get_bokeh(root)\n",
       "    return (Bokeh != null && Bokeh.Panel !== undefined && ( root.Tabulator !== undefined) && ( root.Tabulator !== undefined))\n",
       "  }\n",
       "  if (is_loaded(root)) {\n",
       "    embed_document(root);\n",
       "  } else {\n",
       "    var attempts = 0;\n",
       "    var timer = setInterval(function(root) {\n",
       "      if (is_loaded(root)) {\n",
       "        clearInterval(timer);\n",
       "        embed_document(root);\n",
       "      } else if (document.readyState == \"complete\") {\n",
       "        attempts++;\n",
       "        if (attempts > 200) {\n",
       "          clearInterval(timer);\n",
       "\t  var Bokeh = get_bokeh(root)\n",
       "\t  if (Bokeh == null || Bokeh.Panel == null) {\n",
       "            console.warn(\"Panel: ERROR: Unable to run Panel code because Bokeh or Panel library is missing\");\n",
       "\t  } else {\n",
       "\t    console.warn(\"Panel: WARNING: Attempting to render but not all required libraries could be resolved.\")\n",
       "\t    embed_document(root)\n",
       "\t  }\n",
       "        }\n",
       "      }\n",
       "    }, 25, root)\n",
       "  }\n",
       "})(window);</script>"
      ]
     },
     "metadata": {
      "application/vnd.holoviews_exec.v0+json": {
       "id": "53f3282e-12b2-4e6d-a781-14bd0b7d5afc"
      }
     },
     "output_type": "display_data"
    }
   ],
   "source": [
    "pn.extension(\"tabulator\")\n",
    "\n",
    "granular_tables = {\n",
    "    \"LSU\": split_taxo_tables_lsu,\n",
    "    \"SSU\": split_taxo_tables_ssu\n",
    "}\n",
    "\n",
    "select_granular_table = pn.widgets.Select(\n",
    "    name=\"Granular analysis\",\n",
    "    options= list(granular_tables.keys()),\n",
    "    description=\"Select a table for granular analysis\",\n",
    ")\n",
    "\n",
    "select_granular_level = pn.widgets.Select(\n",
    "    name=\"Subset taxonomic level\",\n",
    "    options=list(granular_tables[select_granular_table.value].keys()),\n",
    "    description=\"Select a table for analysis\",\n",
    ")\n",
    "\n",
    "pcoa_factor_dropdowns = {\n",
    "    categorical_col: pn.widgets.MultiSelect(\n",
    "        name=categorical_col,\n",
    "        value=['All'],\n",
    "        options=['All'] + list(full_metadata[categorical_col].unique()),\n",
    "        size=6, width=180,)\n",
    "        for categorical_col in factor_cols\n",
    "}\n",
    "\n",
    "box_granular = pn.GridBox(\n",
    "    *pcoa_factor_dropdowns.values(),\n",
    "    ncols=5,\n",
    "    )\n",
    "\n",
    "color_factor_granular = pn.widgets.Select(\n",
    "    name=\"Color by\",\n",
    "    value=factor_cols[0],\n",
    "    options=factor_cols,\n",
    ")"
   ]
  },
  {
   "cell_type": "code",
   "execution_count": null,
   "metadata": {},
   "outputs": [],
   "source": [
    "global subset_selected, taxa_selected, subset\n",
    "\n",
    "\n",
    "def get_filtered_metadata():\n",
    "    # Retrieve the selected factors from the dropdowns\n",
    "    selected_factors = {col: pcoa_factor_dropdowns[col].value for col in factor_cols}\n",
    "    # Filter the metadata table\n",
    "    filtered_metadata = filter_metadata_table(full_metadata, selected_factors)\n",
    "    return filtered_metadata\n",
    "\n",
    "\n",
    "def filter_all_box_selection(df):\n",
    "    # Retrieve the filtered metadata\n",
    "    filtered_metadata = get_filtered_metadata()\n",
    "    # Filter the data\n",
    "    filtered_data = filter_data(df, filtered_metadata)\n",
    "    return filtered_metadata, filtered_data\n",
    "\n",
    "\n",
    "def update_filtered_data(button):\n",
    "    logger.info(f\"Button clicked: {button.name}\")\n",
    "    # Retrieve the filtered metadata\n",
    "    filtered_metadata, filtered_data = filter_all_box_selection(\n",
    "        granular_tables[select_granular_table.value][select_granular_level.value])\n",
    "    logger.info(f\"matadata shape {filtered_metadata.shape}\")\n",
    "    logger.info(f\"data shape {filtered_data.shape}\")\n",
    "    # Update the global variables\n",
    "    subset_selected = filtered_metadata['ref_code'].nunique()\n",
    "    taxa_selected = len(filtered_data)"
   ]
  },
  {
   "cell_type": "code",
   "execution_count": 16,
   "metadata": {},
   "outputs": [],
   "source": [
    "filtered_metadata, filtered_data = filter_all_box_selection(granular_tables['LSU']['Bacteria_phylum'])\n",
    "\n",
    "total_samplings = full_metadata['ref_code'].nunique()\n",
    "subset = filtered_metadata['ref_code'].nunique()\n",
    "taxa_count = len(filtered_data)\n"
   ]
  },
  {
   "cell_type": "code",
   "execution_count": null,
   "metadata": {},
   "outputs": [
    {
     "data": {
      "application/vnd.jupyter.widget-view+json": {
       "model_id": "840816c7058d447aaa95340ca48cd8e0",
       "version_major": 2,
       "version_minor": 0
      },
      "text/plain": [
       "BokehModel(combine_events=True, render_bundle={'docs_json': {'f8a5d60c-f48a-484b-8c33-b1f74115dbb9': {'version…"
      ]
     },
     "execution_count": 17,
     "metadata": {},
     "output_type": "execute_result"
    }
   ],
   "source": [
    "button_filter_table = pn.widgets.Button(\n",
    "    name=\"Filter table\",\n",
    "    button_type=\"primary\",\n",
    "    width=200,\n",
    ")\n",
    "\n",
    "button_filter_table.on_click(update_filtered_data)\n",
    "\n",
    "pn.Column(\n",
    "    pn.Row(\n",
    "        select_granular_table,\n",
    "        select_granular_level,\n",
    "        color_factor_granular,\n",
    "    ),\n",
    "    pn.layout.Divider(),\n",
    "    box_granular,\n",
    "    button_filter_table\n",
    ")"
   ]
  },
  {
   "cell_type": "code",
   "execution_count": null,
   "metadata": {},
   "outputs": [
    {
     "data": {},
     "metadata": {},
     "output_type": "display_data"
    },
    {
     "data": {
      "application/vnd.holoviews_exec.v0+json": "",
      "text/html": [
       "<div id='cbd5ec4c-fe7c-44d5-b048-a74a274b4cf7'>\n",
       "  <div id=\"bdc5f096-631d-44bf-94fa-e85d12e50b7c\" data-root-id=\"cbd5ec4c-fe7c-44d5-b048-a74a274b4cf7\" style=\"display: contents;\"></div>\n",
       "</div>\n",
       "<script type=\"application/javascript\">(function(root) {\n",
       "  var docs_json = {\"a06fb3b9-4992-43b2-9860-57e2cdf3d1ce\":{\"version\":\"3.7.3\",\"title\":\"Bokeh Application\",\"roots\":[{\"type\":\"object\",\"name\":\"Row\",\"id\":\"cbd5ec4c-fe7c-44d5-b048-a74a274b4cf7\",\"attributes\":{\"name\":\"Row00660\",\"tags\":[\"embedded\"],\"stylesheets\":[\"\\n:host(.pn-loading):before, .pn-loading:before {\\n  background-color: #c3c3c3;\\n  mask-size: auto calc(min(50%, 400px));\\n  -webkit-mask-size: auto calc(min(50%, 400px));\\n}\",{\"type\":\"object\",\"name\":\"ImportedStyleSheet\",\"id\":\"9847f154-a392-4422-83e0-a041b32547a6\",\"attributes\":{\"url\":\"https://cdn.holoviz.org/panel/1.7.0/dist/css/loading.css\"}},{\"type\":\"object\",\"name\":\"ImportedStyleSheet\",\"id\":\"df43c152-bede-4b33-9888-a1f693d86f41\",\"attributes\":{\"url\":\"https://cdn.holoviz.org/panel/1.7.0/dist/css/listpanel.css\"}},{\"type\":\"object\",\"name\":\"ImportedStyleSheet\",\"id\":\"c9573fd8-97cc-43aa-afef-172acef7f5e1\",\"attributes\":{\"url\":\"https://cdn.holoviz.org/panel/1.7.0/dist/bundled/theme/default.css\"}},{\"type\":\"object\",\"name\":\"ImportedStyleSheet\",\"id\":\"b84f6909-bdfc-4352-8f1e-5148f97be121\",\"attributes\":{\"url\":\"https://cdn.holoviz.org/panel/1.7.0/dist/bundled/theme/native.css\"}}],\"min_width\":1200,\"margin\":0,\"sizing_mode\":\"stretch_width\",\"align\":\"start\",\"children\":[{\"type\":\"object\",\"name\":\"Spacer\",\"id\":\"010cd216-3054-41dc-b479-b50641f9f603\",\"attributes\":{\"name\":\"HSpacer00664\",\"stylesheets\":[\"\\n:host(.pn-loading):before, .pn-loading:before {\\n  background-color: #c3c3c3;\\n  mask-size: auto calc(min(50%, 400px));\\n  -webkit-mask-size: auto calc(min(50%, 400px));\\n}\",{\"id\":\"9847f154-a392-4422-83e0-a041b32547a6\"},{\"id\":\"c9573fd8-97cc-43aa-afef-172acef7f5e1\"},{\"id\":\"b84f6909-bdfc-4352-8f1e-5148f97be121\"}],\"min_width\":0,\"margin\":0,\"sizing_mode\":\"stretch_width\",\"align\":\"start\"}},{\"type\":\"object\",\"name\":\"Figure\",\"id\":\"b00b6f1f-d39a-4385-bbc2-64c6c1dd60e4\",\"attributes\":{\"width\":1200,\"height\":800,\"margin\":[5,10],\"sizing_mode\":\"fixed\",\"align\":\"start\",\"x_range\":{\"type\":\"object\",\"name\":\"Range1d\",\"id\":\"2684286f-9ded-4c9a-befa-38a3e97bb902\",\"attributes\":{\"name\":\"PC1\",\"tags\":[[[\"PC1\",null]],[]],\"start\":-0.47291580150623563,\"end\":0.4250947382210608,\"reset_start\":-0.47291580150623563,\"reset_end\":0.4250947382210608}},\"y_range\":{\"type\":\"object\",\"name\":\"Range1d\",\"id\":\"68cbb6eb-25b1-4c8f-84b1-02b6cd9f12a1\",\"attributes\":{\"name\":\"PC2\",\"tags\":[[[\"PC2\",null]],{\"type\":\"map\",\"entries\":[[\"invert_yaxis\",false],[\"autorange\",false]]}],\"start\":-0.33791969752775486,\"end\":0.5929979083311339,\"reset_start\":-0.33791969752775486,\"reset_end\":0.5929979083311339}},\"x_scale\":{\"type\":\"object\",\"name\":\"LinearScale\",\"id\":\"e489c799-b567-4ca7-8b9d-be1cd3ebab5b\"},\"y_scale\":{\"type\":\"object\",\"name\":\"LinearScale\",\"id\":\"28640c8b-ac4f-48d0-8b71-6610fa56705e\"},\"title\":{\"type\":\"object\",\"name\":\"Title\",\"id\":\"f02f7e47-c990-445e-a181-a9543b8e4f95\",\"attributes\":{\"text\":\"Beta diversity PCoA\",\"text_color\":\"black\",\"text_font_size\":\"12pt\"}},\"renderers\":[{\"type\":\"object\",\"name\":\"GlyphRenderer\",\"id\":\"9ba858ad-83dc-4834-8d38-f5d27cec3322\",\"attributes\":{\"data_source\":{\"type\":\"object\",\"name\":\"ColumnDataSource\",\"id\":\"bfa7673d-53b8-4bb0-b143-f5504a3fa952\",\"attributes\":{\"selected\":{\"type\":\"object\",\"name\":\"Selection\",\"id\":\"c72f8ccf-cd86-4c38-a1fa-4282a2e6b988\",\"attributes\":{\"indices\":[],\"line_indices\":[]}},\"selection_policy\":{\"type\":\"object\",\"name\":\"UnionRenderers\",\"id\":\"962dbf68-1202-4020-8526-554d97b014c5\"},\"data\":{\"type\":\"map\",\"entries\":[[\"PC1\",{\"type\":\"ndarray\",\"array\":{\"type\":\"bytes\",\"data\":\"Foljj7wf2b8V+HhIUGbav/H8TC45rc8/+RxfdiVQ0D8dm/kYGKy+v4klzyIzvre/ItZ/UCr5wT9SY43/sYTCP3vXJEEG0sy/PDXVnTyfzr9Q8vwFXVjQP+sc//7AT9I/qoVayEKo078OI2HvhP3Wv/LkXlgwZdq/z8yJW6xS2r+ab0oUapjPv7OZR2q/hcA/1DTZ6IgNs7/Nw4DQB4y6v8M8aZlPDdQ/aIJArAiZ0z/zplXoJXrXv0/zSqqhUdm/zF+/Lcnd1T8fG97XCt/VP2iSMlGVNta/n+et/5h6179fMJ+/Os3QP7Oj4C2LcNA/9h0FTP6Jy7+13sx6Aw7Av5Xdv3Yc39I/n8o2EqPx0j8Q9okoqaKyv20xVSCEcK+/i5nHP8Mz0j8u47CaFkLRP2BBfcgotNS/QhaJ5w4bvT+UzMLBEMy8P5xvShRqmM+/ptV7fDNHwz8MbPbBSVjQP3de/1kR9sw/zp7RBN+jyr9HT8lSPirVP7ZSn3j36dQ/z88rJfXO0b+QJXzhpdnYv/M00pS5mdS/E1fFLyWH1r9kwGxAs9HTPxEamoVdZ9Q//L9jnR7Y079q+FK9/4XRPx8jHM7jHdA/S4zVw+GJ1D/qQ5KBwlzUPxUxi5ogztm/SoTdbQML2L8KzTrZxyO9v68BPYmOS6I/FNIekD3MqD+XlJtpItm6vwpukc5QYra/szaKfRVNxb920PrlD6bQvybwczJbU7a/Vhlx12Wyvb8GupBkEVm7v2ncmTo7b72/sRmgjQ8/1D8qZbaR9yrUP3VS3ABgW9e/KPp+kTfL1784sUaJecHQP+aena1wnc4/LcAMJQtgzb/oVXwgJ0zZv+/hOpLfJci/wjxpsNba0D/bIZdEQF/TP6X4LTInQtM/qmNAE7xImT+3sTvfofmXv0QJfWST0tI/oHMwCoxY0z82AcxUmDnBv5Tn0qihaLs/dvtaB0iGur9K2Llo6R7Av59GhD8F0se/Obc0vUKpx79pL6nRLq/XP5RarLaQa9c/1EpmZvXA1b/DLMMD82jTvy0phtADWNA/llEoREjFzz/cktXKq4zOv2N3WmKd4My/45cxdN8U1T93/hOnpj7WP6uaH/LQv9a/rhUwFAni1r94DWp/oVnSPwaAmpLEhNI/jItqYi/V078HsKBAp1zZv5OuPWLIitc/dKYSLGZT1z/GgbuQTd7Vv/jAOmwXk9S/oVURhXlS0z+9Be8lGzbVP+R1az7AO9O/66p7X7SU1L9B29cpYzvTP0EvZnIA3NM/w+0P6Rth2b/VV7vVtezYv14tX7gFztA/IGPpAbAh0T/jizDq04nYv+ECa4s/+di/aVXysVO7zz/FUDyJU0/NP0KTeuMAnp2/sALJrHmYkL+EHhEFSNPXP+yfbyExbNc/YTz4QOxFsr9IMxWGzIPGv2hQRHXWG7G/cjnj6RH5q79rZtiUPljUv7YUU5JAltU/pSjappKOzL/hI7cw5oPFv06R7s++T9A/MnUU/vmc0T+uOFdQ9N/IP5rEY41jZsk/FH3OmPHgxj+hErx0b3jMP/oUHU0F9MI/MhSLwBDJwj/BMArHQDbUP4WtcssYKdM/2P7lrQhHuT8PnEeHIiC7PzwI9za1rdQ/juI+uR1N1D8fOyIdQ3zGv6VspJBUdMO/aGxOUrf7w78FOQjSknLCv3quSxA5pNe/0GOE291X2L8eqexP3TXWP26b0W730dU/5hIY2uD12b/dyMgYyOLav1fP9Owk5cO/Kab4nrAp0T/aa7buVca1vxRxLyvn2bm/jfxlJQHRs7/xMaemsCe6v9p5HtazhqO//DEWxFHTqb/ybS7Vai/Gv1KXVOvrgbo/2eFwHkntxr/YGAW659O7P7kAZNyFxqC/fFcztDjQyD/0RR1UImZ/v0wyeDa2fcc/\"},\"shape\":[180],\"dtype\":\"float64\",\"order\":\"little\"}],[\"PC2\",{\"type\":\"ndarray\",\"array\":{\"type\":\"bytes\",\"data\":\"+Nzfz87hyb+gGBE71+DJvxiJ0XJOvLK/1Jf6G/tqtL/2TYKY/Je0vzy2OK13+7W/ZiR39gQ2h79+C+J8aSiIv847LGA5g8G/YrSnQPNHxr96FEKwVUqQv+qLJMZZdqy/cXQH5t1czb+1V1KTwhvNv3SJalHuRs2/9TUrOJnwzb+hOFlPgpm5v28O4Xx7/Lq/qGLKHxmmwr90HnZpET/BvzbqPcz4W72/+/zBwcZJwr9QJjyYkZ/Bv77j1k7PW8a/CKu7o9+jwb8b6fAEA+S/v4ztC6d2qdC/t0cH9UFl0L/GoMaaUQGwv4mi59T5QK6/2BKQHKUZ0L9cFZg5iQaiv5JJNxkX7rC/Xbhtq+wbtb8PLn5DpAXFv6FXLuCKgMa/yFhVG6rvtb8s69hSC42gvzJdS/QRzbW/GSo2M8POuD9Yx6cm1na4P6I4WU+Cmbm/sqi1B1sBwb/7co3NQ8m0v89okn4pa6e/dhgUQS1rz79AwsVvZXG4v8OqdBkOtLS/82dItkdzvr9zaeiq3ETFv1+z+l+Z78G/JdewT9Q6xb/S2RKeMhiyvwWFhL56d7q/OQLXxvvRuL8EZCf3c1HDv1zWKZ/6YcO/tXlYpkgTub/cuRgo9cO6vz8znvvTysO/2LUZlaWAvb8D5CI27fvdP4XkWs9lB9E/NcJ8dGLlyj/72kHHHXTdP5u4LS2jrN4/nB1ZszBF2D9T4djanCDHPyPpzURSqN4/Y0owG1V+4D8HlEOdJ3ngP2GULmJFZ+A/ZdgE/wTqtr/DZVyXcmq2v1WsWeyhar2/haRAPlLwvb9zYoDYdRGmv1lvrrkbYau/jW1cJJn3Zb/lJtc/kWnDv3cxXeP8zam/nMG+1ZwdoL9yis3qop+lv03LOfmUKKq/4Gq8szzloj+6mqWAbiaiP8TInY38d6K/VwPzi/wxpL8dPU0c/rzXP0yQWLWb4rY/kGynxaNy2j8VwmMkGWPaP/FaL22ZTZ2/jprxFT6an7+EyqgKJlS4v30s41q2VLm/NYzbYgGzuL+u6L24dqjDv/xr+r1CGb2/lWNjmndMtb/93Xsh/e28vz+V3g68hMG/oEiW0kxJsb8i79eirKuwv0IfZcIMfLy/6caZSQrJwL/DSXKsK5+ov0nZIOIJBYO/iNt8jbpSor997PXLSYG7v0W08U85qLq/cbaMQ9Qcsr9RFJArGOO1v15p0B/IQcG/FiSChPt0eL/kOCB7jB6gvweEtY5kJqe/R6BYYwrxqr9dmKxW7z/Bv6LiPlxRNMK/BqaAKpaKub8oQII4oJWzv6RXwf6TO2C/mhHEpV/Nob/45jXVr0LAv7NSWC7MAcK/AC91ECOVvL/Uk4Fbk5O2v/5ST5MpILw/+HoyPH4InT900koIlHqqv4fkBm2jwaC/nTdMqfPd3T8+mvuVQQ/UP67RjuTH190/khq1L75B2z/SvqgJ/o6lv21dPWVR/oC/548t4xXpwr9+sNTvfevBv4ILNLlE+cK/kdOEWfSlub9Mtlx+aYaSP8vIHjMsOJM/0xhe1hn3tT82y8z4n+aqP2kGSg+mQrG/IAzunOc3sL8qZMvpwx+xv6OiajOyt6e/2TXm5BoKmj+L1V6pRyOQP1imjHEO9qy/9ICP2XGio7+ldr4m3w3UP1pUcoyDwdc/MBonc/x71D8eIebv+i3VPyMMi7p9Nce/X383e1n1x784pm4VK363v9gjvg/XSbS/iBDdgrRavL/t1SZjWu69vwO+aFlMUq6/fjX7le4Llr/i8ui+S97dP5QyNxxeNuA/WUSwZM6w3j++3YxGYlTgP9a0iNNQN9g/wRFAw6Na3T+AUAtLiqa5P2VUFbPaYsE/V8K21AgZpD+CMIMlQo7AP+IXYRJN+Mc//R//aaxlvz8mCtEFzyHDPyRghpY7DMI/\"},\"shape\":[180],\"dtype\":\"float64\",\"order\":\"little\"}],[\"env_material\",[\"seawater [ENVO:00002149]; coastal sea water [ENVO:00002150]; surface water [ENVO:00002042]\",\"seawater [ENVO:00002149]; coastal sea water [ENVO:00002150]; surface water [ENVO:00002042]\",\"seawater [ENVO:00002149]; coastal sea water [ENVO:00002150]; surface water [ENVO:00002042]\",\"seawater [ENVO:00002149]; coastal sea water [ENVO:00002150]; surface water [ENVO:00002042]\",\"seawater [ENVO:00002149]; coastal sea water [ENVO:00002150]; surface water [ENVO:00002042]\",\"seawater [ENVO:00002149]; coastal sea water [ENVO:00002150]; surface water [ENVO:00002042]\",\"seawater [ENVO:00002149]; coastal sea water [ENVO:00002150]; surface water [ENVO:00002042]\",\"seawater [ENVO:00002149]; coastal sea water [ENVO:00002150]; surface water [ENVO:00002042]\",\"seawater [ENVO:00002149]; coastal sea water [ENVO:00002150]; surface water [ENVO:00002042]\",\"seawater [ENVO:00002149]; coastal sea water [ENVO:00002150]; surface water [ENVO:00002042]\",\"seawater [ENVO:00002149]; coastal sea water [ENVO:00002150]; surface water [ENVO:00002042]\",\"seawater [ENVO:00002149]; coastal sea water [ENVO:00002150]; surface water [ENVO:00002042]\",\"seawater [ENVO:00002149]; coastal sea water [ENVO:00002150]; surface water [ENVO:00002042]\",\"seawater [ENVO:00002149]; coastal sea water [ENVO:00002150]; surface water [ENVO:00002042]\",\"seawater [ENVO:00002149]; coastal sea water [ENVO:00002150]; surface water [ENVO:00002042]\",\"seawater [ENVO:00002149]; coastal sea water [ENVO:00002150]; surface water [ENVO:00002042]\",\"seawater [ENVO:00002149]; coastal sea water [ENVO:00002150]; surface water [ENVO:00002042]\",\"seawater [ENVO:00002149]; coastal sea water [ENVO:00002150]; surface water [ENVO:00002042]\",\"seawater [ENVO:00002149]; coastal sea water [ENVO:00002150]; surface water [ENVO:00002042]\",\"seawater [ENVO:00002149]; coastal sea water [ENVO:00002150]; surface water [ENVO:00002042]\",\"seawater [ENVO:00002149]; coastal sea water [ENVO:00002150]; surface water [ENVO:00002042]\",\"seawater [ENVO:00002149]; coastal sea water [ENVO:00002150]; surface water [ENVO:00002042]\",\"seawater [ENVO:00002149]; coastal sea water [ENVO:00002150]; surface water [ENVO:00002042]\",\"seawater [ENVO:00002149]; coastal sea water [ENVO:00002150]; surface water [ENVO:00002042]\",\"seawater [ENVO:00002149]; coastal sea water [ENVO:00002150]; surface water [ENVO:00002042]\",\"seawater [ENVO:00002149]; coastal sea water [ENVO:00002150]; surface water [ENVO:00002042]\",\"seawater [ENVO:00002149]; coastal sea water [ENVO:00002150]; surface water [ENVO:00002042]\",\"seawater [ENVO:00002149]; coastal sea water [ENVO:00002150]; surface water [ENVO:00002042]\",\"seawater [ENVO:00002149]; coastal sea water [ENVO:00002150]; surface water [ENVO:00002042]\",\"seawater [ENVO:00002149]; coastal sea water [ENVO:00002150]; surface water [ENVO:00002042]\",\"seawater [ENVO:00002149]; coastal sea water [ENVO:00002150]; surface water [ENVO:00002042]\",\"seawater [ENVO:00002149]; coastal sea water [ENVO:00002150]; surface water [ENVO:00002042]\",\"seawater [ENVO:00002149]; coastal sea water [ENVO:00002150]; surface water [ENVO:00002042]\",\"seawater [ENVO:00002149]; coastal sea water [ENVO:00002150]; surface water [ENVO:00002042]\",\"lagoon [ENVO_00000038];marine water body [ENVO:00001999]; surface water [ENVO:00002042]\",\"lagoon [ENVO_00000038];marine water body [ENVO:00001999]; surface water [ENVO:00002042]\",\"lagoon [ENVO_00000038];marine water body [ENVO:00001999]; surface water [ENVO:00002042]\",\"lagoon [ENVO_00000038];marine water body [ENVO:00001999]; surface water [ENVO:00002042]\",\"seawater [ENVO:00002149]; coastal sea water [ENVO:00002150]; surface water [ENVO:00002042]\",\"seawater [ENVO:00002149]; coastal sea water [ENVO:00002150]; surface water [ENVO:00002042]\",\"seawater [ENVO:00002149]; coastal sea water [ENVO:00002150]; surface water [ENVO:00002042]\",\"seawater [ENVO:00002149]; coastal sea water [ENVO:00002150]; surface water [ENVO:00002042]\",\"seawater [ENVO:00002149]; coastal sea water [ENVO:00002150]; surface water [ENVO:00002042]\",\"seawater [ENVO:00002149]; coastal sea water [ENVO:00002150]; surface water [ENVO:00002042]\",\"seawater [ENVO:00002149]; coastal sea water [ENVO:00002150]; surface water [ENVO:00002042]\",\"seawater [ENVO:00002149]; coastal sea water [ENVO:00002150]; surface water [ENVO:00002042]\",\"seawater [ENVO:00002149]; coastal sea water [ENVO:00002150]; surface water [ENVO:00002042]\",\"seawater [ENVO:00002149]; coastal sea water [ENVO:00002150]; surface water [ENVO:00002042]\",\"seawater [ENVO:00002149]; coastal sea water [ENVO:00002150]; surface water [ENVO:00002042]\",\"seawater [ENVO:00002149]; coastal sea water [ENVO:00002150]; surface water [ENVO:00002042]\",\"seawater [ENVO:00002149]; coastal sea water [ENVO:00002150]; surface water [ENVO:00002042]\",\"seawater [ENVO:00002149]; coastal sea water [ENVO:00002150]; surface water [ENVO:00002042]\",\"seawater [ENVO:00002149]; coastal sea water [ENVO:00002150]; surface water [ENVO:00002042]\",\"seawater [ENVO:00002149]; coastal sea water [ENVO:00002150]; surface water [ENVO:00002042]\",\"seawater [ENVO:00002149]; coastal sea water [ENVO:00002150]\",\"seawater [ENVO:00002149]; coastal sea water [ENVO:00002150]\",\"seawater [ENVO:00002149]; coastal sea water [ENVO:00002150]\",\"seawater [ENVO:00002149]; coastal sea water [ENVO:00002150]; surface water [ENVO:00002042]\",\"seawater [ENVO:00002149]; coastal sea water [ENVO:00002150]; surface water [ENVO:00002042]\",\"seawater [ENVO:00002149]; coastal sea water [ENVO:00002150]; surface water [ENVO:00002042]\",\"seawater [ENVO:00002149]; coastal sea water [ENVO:00002150]; surface water [ENVO:00002042]\",\"sediment [ENVO:00002007]\",\"sediment [ENVO:00002007]\",\"sediment [ENVO:00002007]\",\"sediment [ENVO:00002007]\",\"sediment [ENVO:00002007]\",\"lagoon [ENVO_00000038]; sediment [ENVO:00002007]\",\"lagoon [ENVO_00000038]; sediment [ENVO:00002007]\",\"sediment [ENVO:00002007]\",\"sediment [ENVO:00002007]\",\"sediment [ENVO:00002007]\",\"sediment [ENVO:00002007]\",\"seawater [ENVO:00002149]; coastal sea water [ENVO:00002150]; surface water [ENVO:00002042]\",\"seawater [ENVO:00002149]; coastal sea water [ENVO:00002150]; surface water [ENVO:00002042]\",\"seawater [ENVO:00002149]; coastal sea water [ENVO:00002150]; surface water [ENVO:00002042]\",\"seawater [ENVO:00002149]; coastal sea water [ENVO:00002150]; surface water [ENVO:00002042]\",\"seawater [ENVO:00002149]; coastal sea water [ENVO:00002150]; surface water [ENVO:00002042]\",\"seawater [ENVO:00002149]; coastal sea water [ENVO:00002150]; surface water [ENVO:00002042]\",\"seawater [ENVO:00002149]; coastal sea water [ENVO:00002150]; surface water [ENVO:00002042]\",\"seawater [ENVO:00002149]; coastal sea water [ENVO:00002150]; surface water [ENVO:00002042]\",\"seawater [ENVO:00002149]; coastal sea water [ENVO:00002150]; surface water [ENVO:00002042]\",\"seawater [ENVO:00002149]; coastal sea water [ENVO:00002150]; surface water [ENVO:00002042]\",\"seawater [ENVO:00002149]; coastal sea water [ENVO:00002150]; surface water [ENVO:00002042]\",\"seawater [ENVO:00002149]; coastal sea water [ENVO:00002150]; surface water [ENVO:00002042]\",\"seawater [ENVO:00002149]; coastal sea water [ENVO:00002150]; surface water [ENVO:00002042]\",\"seawater [ENVO:00002149]; coastal sea water [ENVO:00002150]; surface water [ENVO:00002042]\",\"seawater [ENVO:00002149]; coastal sea water [ENVO:00002150]; surface water [ENVO:00002042]\",\"seawater [ENVO:00002149]; coastal sea water [ENVO:00002150]; surface water [ENVO:00002042]\",\"sediment [ENVO:00002007]\",\"sediment [ENVO:00002007]\",\"sediment [ENVO:00002007]\",\"sediment [ENVO:00002007]\",\"seawater [ENVO:00002149]; coastal sea water [ENVO:00002150]; surface water [ENVO:00002042]\",\"seawater [ENVO:00002149]; coastal sea water [ENVO:00002150]; surface water [ENVO:00002042]\",\"seawater [ENVO:00002149]; coastal sea water [ENVO:00002150]; surface water [ENVO:00002042]\",\"seawater [ENVO:00002149]; coastal sea water [ENVO:00002150]; surface water [ENVO:00002042]\",\"seawater [ENVO:00002149]; coastal sea water [ENVO:00002150]; surface water [ENVO:00002042]\",\"seawater [ENVO:00002149]; coastal sea water [ENVO:00002150]; surface water [ENVO:00002042]\",\"seawater [ENVO:00002149]; coastal sea water [ENVO:00002150]; surface water [ENVO:00002042]\",\"seawater [ENVO:00002149]; coastal sea water [ENVO:00002150]; surface water [ENVO:00002042]\",\"seawater [ENVO:00002149]; coastal sea water [ENVO:00002150]; surface water [ENVO:00002042]\",\"seawater [ENVO:00002149]; coastal sea water [ENVO:00002150]; surface water [ENVO:00002042]\",\"seawater [ENVO:00002149]; coastal sea water [ENVO:00002150]; surface water [ENVO:00002042]\",\"seawater [ENVO:00002149]; coastal sea water [ENVO:00002150]; surface water [ENVO:00002042]\",\"seawater [ENVO:00002149]; coastal sea water [ENVO:00002150]; surface water [ENVO:00002042]\",\"seawater [ENVO:00002149]; coastal sea water [ENVO:00002150]; surface water [ENVO:00002042]\",\"seawater [ENVO:00002149]; coastal sea water [ENVO:00002150]; surface water [ENVO:00002042]\",\"seawater [ENVO:00002149]; coastal sea water [ENVO:00002150]; surface water [ENVO:00002042]\",\"seawater [ENVO:00002149]; coastal sea water [ENVO:00002150]; surface water [ENVO:00002042]\",\"seawater [ENVO:00002149]; coastal sea water [ENVO:00002150]; surface water [ENVO:00002042]\",\"seawater [ENVO:00002149]; coastal sea water [ENVO:00002150]; surface water [ENVO:00002042]\",\"seawater [ENVO:00002149]; coastal sea water [ENVO:00002150]; surface water [ENVO:00002042]\",\"seawater [ENVO:00002149]; coastal sea water [ENVO:00002150]; surface water [ENVO:00002042]\",\"seawater [ENVO:00002149]; coastal sea water [ENVO:00002150]; surface water [ENVO:00002042]\",\"seawater [ENVO:00002149]; coastal sea water [ENVO:00002150]; surface water [ENVO:00002042]\",\"seawater [ENVO:00002149]; coastal sea water [ENVO:00002150]; surface water [ENVO:00002042]\",\"seawater [ENVO:00002149]; coastal sea water [ENVO:00002150]; surface water [ENVO:00002042]\",\"seawater [ENVO:00002149]; coastal sea water [ENVO:00002150]; surface water [ENVO:00002042]\",\"seawater [ENVO:00002149]; coastal sea water [ENVO:00002150]; surface water [ENVO:00002042]\",\"seawater [ENVO:00002149]; coastal sea water [ENVO:00002150]; surface water [ENVO:00002042]\",\"seawater [ENVO:00002149]; coastal sea water [ENVO:00002150]; surface water [ENVO:00002042]\",\"seawater [ENVO:00002149]; coastal sea water [ENVO:00002150]; surface water [ENVO:00002042]\",\"seawater [ENVO:00002149]; coastal sea water [ENVO:00002150]; surface water [ENVO:00002042]\",\"seawater [ENVO:00002149]; coastal sea water [ENVO:00002150]; surface water [ENVO:00002042]\",\"seawater [ENVO:00002149]; coastal sea water [ENVO:00002150]; surface water [ENVO:00002042]\",\"seawater [ENVO:00002149]; coastal sea water [ENVO:00002150]; surface water [ENVO:00002042]\",\"seawater [ENVO:00002149]; coastal sea water [ENVO:00002150]; surface water [ENVO:00002042]\",\"seawater [ENVO:00002149]; coastal sea water [ENVO:00002150]; surface water [ENVO:00002042]\",\"seawater [ENVO:00002149]; coastal sea water [ENVO:00002150]; surface water [ENVO:00002042]\",\"seawater [ENVO:00002149]; coastal sea water [ENVO:00002150]; surface water [ENVO:00002042]\",\"seawater [ENVO:00002149]; coastal sea water [ENVO:00002150]; surface water [ENVO:00002042]\",\"seawater [ENVO:00002149]; coastal sea water [ENVO:00002150]; surface water [ENVO:00002042]\",\"sediment [ENVO:00002007]\",\"sediment [ENVO:00002007]\",\"sediment [ENVO:00002007]\",\"sediment [ENVO:00002007]\",\"seawater [ENVO:00002149]; coastal sea water [ENVO:00002150]; surface water [ENVO:00002042]\",\"seawater [ENVO:00002149]; coastal sea water [ENVO:00002150]; surface water [ENVO:00002042]\",\"seawater [ENVO:00002149]; coastal sea water [ENVO:00002150]; surface water [ENVO:00002042]\",\"seawater [ENVO:00002149]; coastal sea water [ENVO:00002150]; surface water [ENVO:00002042]\",\"seawater [ENVO:00002149]; coastal sea water [ENVO:00002150]; surface water [ENVO:00002042]\",\"seawater [ENVO:00002149]; coastal sea water [ENVO:00002150]; surface water [ENVO:00002042]\",\"seawater [ENVO:00002149]; coastal sea water [ENVO:00002150]; surface water [ENVO:00002042]\",\"seawater [ENVO:00002149]; coastal sea water [ENVO:00002150]; surface water [ENVO:00002042]\",\"seawater [ENVO:00002149]; coastal sea water [ENVO:00002150]; surface water [ENVO:00002042]\",\"seawater [ENVO:00002149]; coastal sea water [ENVO:00002150]; surface water [ENVO:00002042]\",\"lagoon [ENVO_00000038];marine water body [ENVO:00001999]; surface water [ENVO:00002042]\",\"lagoon [ENVO_00000038];marine water body [ENVO:00001999]; surface water [ENVO:00002042]\",\"lagoon [ENVO_00000038];marine water body [ENVO:00001999]; surface water [ENVO:00002042]\",\"lagoon [ENVO_00000038];marine water body [ENVO:00001999]; surface water [ENVO:00002042]\",\"lagoon [ENVO_00000038];marine water body [ENVO:00001999]; surface water [ENVO:00002042]\",\"lagoon [ENVO_00000038];marine water body [ENVO:00001999]; surface water [ENVO:00002042]\",\"lagoon [ENVO_00000038];marine water body [ENVO:00001999]; surface water [ENVO:00002042]\",\"lagoon [ENVO_00000038];marine water body [ENVO:00001999]; surface water [ENVO:00002042]\",\"lagoon [ENVO_00000038]; sediment [ENVO:00002007]\",\"lagoon [ENVO_00000038]; sediment [ENVO:00002007]\",\"lagoon [ENVO_00000038]; sediment [ENVO:00002007]\",\"lagoon [ENVO_00000038]; sediment [ENVO:00002007]\",\"seawater [ENVO:00002149]; coastal sea water [ENVO:00002150]; surface water [ENVO:00002042]\",\"seawater [ENVO:00002149]; coastal sea water [ENVO:00002150]; surface water [ENVO:00002042]\",\"seawater [ENVO:00002149]; coastal sea water [ENVO:00002150]; surface water [ENVO:00002042]\",\"seawater [ENVO:00002149]; coastal sea water [ENVO:00002150]; surface water [ENVO:00002042]\",\"seawater [ENVO:00002149]; coastal sea water [ENVO:00002150]; surface water [ENVO:00002042]\",\"seawater [ENVO:00002149]; coastal sea water [ENVO:00002150]; surface water [ENVO:00002042]\",\"seawater [ENVO:00002149]; coastal sea water [ENVO:00002150]; surface water [ENVO:00002042]\",\"seawater [ENVO:00002149]; coastal sea water [ENVO:00002150]; surface water [ENVO:00002042]\",\"sediment [ENVO:00002007]\",\"sediment [ENVO:00002007]\",\"sediment [ENVO:00002007]\",\"sediment [ENVO:00002007]\",\"sediment [ENVO:00002007]\",\"sediment [ENVO:00002007]\",\"seawater [ENVO:00002149]; coastal sea water [ENVO:00002150]; surface water [ENVO:00002042]\",\"seawater [ENVO:00002149]; coastal sea water [ENVO:00002150]; surface water [ENVO:00002042]\",\"seawater [ENVO:00002149]; coastal sea water [ENVO:00002150]; surface water [ENVO:00002042]\",\"seawater [ENVO:00002149]; coastal sea water [ENVO:00002150]; surface water [ENVO:00002042]\",\"seawater [ENVO:00002149]; coastal sea water [ENVO:00002150]; surface water [ENVO:00002042]\",\"seawater [ENVO:00002149]; coastal sea water [ENVO:00002150]; surface water [ENVO:00002042]\",\"seawater [ENVO:00002149]; coastal sea water [ENVO:00002150]; surface water [ENVO:00002042]\",\"seawater [ENVO:00002149]; coastal sea water [ENVO:00002150]; surface water [ENVO:00002042]\"]],[\"color\",[\"seawater [ENVO:00002149]; coastal sea water [ENVO:00002150]; surface water [ENVO:00002042]\",\"seawater [ENVO:00002149]; coastal sea water [ENVO:00002150]; surface water [ENVO:00002042]\",\"seawater [ENVO:00002149]; coastal sea water [ENVO:00002150]; surface water [ENVO:00002042]\",\"seawater [ENVO:00002149]; coastal sea water [ENVO:00002150]; surface water [ENVO:00002042]\",\"seawater [ENVO:00002149]; coastal sea water [ENVO:00002150]; surface water [ENVO:00002042]\",\"seawater [ENVO:00002149]; coastal sea water [ENVO:00002150]; surface water [ENVO:00002042]\",\"seawater [ENVO:00002149]; coastal sea water [ENVO:00002150]; surface water [ENVO:00002042]\",\"seawater [ENVO:00002149]; coastal sea water [ENVO:00002150]; surface water [ENVO:00002042]\",\"seawater [ENVO:00002149]; coastal sea water [ENVO:00002150]; surface water [ENVO:00002042]\",\"seawater [ENVO:00002149]; coastal sea water [ENVO:00002150]; surface water [ENVO:00002042]\",\"seawater [ENVO:00002149]; coastal sea water [ENVO:00002150]; surface water [ENVO:00002042]\",\"seawater [ENVO:00002149]; coastal sea water [ENVO:00002150]; surface water [ENVO:00002042]\",\"seawater [ENVO:00002149]; coastal sea water [ENVO:00002150]; surface water [ENVO:00002042]\",\"seawater [ENVO:00002149]; coastal sea water [ENVO:00002150]; surface water [ENVO:00002042]\",\"seawater [ENVO:00002149]; coastal sea water [ENVO:00002150]; surface water [ENVO:00002042]\",\"seawater [ENVO:00002149]; coastal sea water [ENVO:00002150]; surface water [ENVO:00002042]\",\"seawater [ENVO:00002149]; coastal sea water [ENVO:00002150]; surface water [ENVO:00002042]\",\"seawater [ENVO:00002149]; coastal sea water [ENVO:00002150]; surface water [ENVO:00002042]\",\"seawater [ENVO:00002149]; coastal sea water [ENVO:00002150]; surface water [ENVO:00002042]\",\"seawater [ENVO:00002149]; coastal sea water [ENVO:00002150]; surface water [ENVO:00002042]\",\"seawater [ENVO:00002149]; coastal sea water [ENVO:00002150]; surface water [ENVO:00002042]\",\"seawater [ENVO:00002149]; coastal sea water [ENVO:00002150]; surface water [ENVO:00002042]\",\"seawater [ENVO:00002149]; coastal sea water [ENVO:00002150]; surface water [ENVO:00002042]\",\"seawater [ENVO:00002149]; coastal sea water [ENVO:00002150]; surface water [ENVO:00002042]\",\"seawater [ENVO:00002149]; coastal sea water [ENVO:00002150]; surface water [ENVO:00002042]\",\"seawater [ENVO:00002149]; coastal sea water [ENVO:00002150]; surface water [ENVO:00002042]\",\"seawater [ENVO:00002149]; coastal sea water [ENVO:00002150]; surface water [ENVO:00002042]\",\"seawater [ENVO:00002149]; coastal sea water [ENVO:00002150]; surface water [ENVO:00002042]\",\"seawater [ENVO:00002149]; coastal sea water [ENVO:00002150]; surface water [ENVO:00002042]\",\"seawater [ENVO:00002149]; coastal sea water [ENVO:00002150]; surface water [ENVO:00002042]\",\"seawater [ENVO:00002149]; coastal sea water [ENVO:00002150]; surface water [ENVO:00002042]\",\"seawater [ENVO:00002149]; coastal sea water [ENVO:00002150]; surface water [ENVO:00002042]\",\"seawater [ENVO:00002149]; coastal sea water [ENVO:00002150]; surface water [ENVO:00002042]\",\"seawater [ENVO:00002149]; coastal sea water [ENVO:00002150]; surface water [ENVO:00002042]\",\"lagoon [ENVO_00000038];marine water body [ENVO:00001999]; surface water [ENVO:00002042]\",\"lagoon [ENVO_00000038];marine water body [ENVO:00001999]; surface water [ENVO:00002042]\",\"lagoon [ENVO_00000038];marine water body [ENVO:00001999]; surface water [ENVO:00002042]\",\"lagoon [ENVO_00000038];marine water body [ENVO:00001999]; surface water [ENVO:00002042]\",\"seawater [ENVO:00002149]; coastal sea water [ENVO:00002150]; surface water [ENVO:00002042]\",\"seawater [ENVO:00002149]; coastal sea water [ENVO:00002150]; surface water [ENVO:00002042]\",\"seawater [ENVO:00002149]; coastal sea water [ENVO:00002150]; surface water [ENVO:00002042]\",\"seawater [ENVO:00002149]; coastal sea water [ENVO:00002150]; surface water [ENVO:00002042]\",\"seawater [ENVO:00002149]; coastal sea water [ENVO:00002150]; surface water [ENVO:00002042]\",\"seawater [ENVO:00002149]; coastal sea water [ENVO:00002150]; surface water [ENVO:00002042]\",\"seawater [ENVO:00002149]; coastal sea water [ENVO:00002150]; surface water [ENVO:00002042]\",\"seawater [ENVO:00002149]; coastal sea water [ENVO:00002150]; surface water [ENVO:00002042]\",\"seawater [ENVO:00002149]; coastal sea water [ENVO:00002150]; surface water [ENVO:00002042]\",\"seawater [ENVO:00002149]; coastal sea water [ENVO:00002150]; surface water [ENVO:00002042]\",\"seawater [ENVO:00002149]; coastal sea water [ENVO:00002150]; surface water [ENVO:00002042]\",\"seawater [ENVO:00002149]; coastal sea water [ENVO:00002150]; surface water [ENVO:00002042]\",\"seawater [ENVO:00002149]; coastal sea water [ENVO:00002150]; surface water [ENVO:00002042]\",\"seawater [ENVO:00002149]; coastal sea water [ENVO:00002150]; surface water [ENVO:00002042]\",\"seawater [ENVO:00002149]; coastal sea water [ENVO:00002150]; surface water [ENVO:00002042]\",\"seawater [ENVO:00002149]; coastal sea water [ENVO:00002150]; surface water [ENVO:00002042]\",\"seawater [ENVO:00002149]; coastal sea water [ENVO:00002150]\",\"seawater [ENVO:00002149]; coastal sea water [ENVO:00002150]\",\"seawater [ENVO:00002149]; coastal sea water [ENVO:00002150]\",\"seawater [ENVO:00002149]; coastal sea water [ENVO:00002150]; surface water [ENVO:00002042]\",\"seawater [ENVO:00002149]; coastal sea water [ENVO:00002150]; surface water [ENVO:00002042]\",\"seawater [ENVO:00002149]; coastal sea water [ENVO:00002150]; surface water [ENVO:00002042]\",\"seawater [ENVO:00002149]; coastal sea water [ENVO:00002150]; surface water [ENVO:00002042]\",\"sediment [ENVO:00002007]\",\"sediment [ENVO:00002007]\",\"sediment [ENVO:00002007]\",\"sediment [ENVO:00002007]\",\"sediment [ENVO:00002007]\",\"lagoon [ENVO_00000038]; sediment [ENVO:00002007]\",\"lagoon [ENVO_00000038]; sediment [ENVO:00002007]\",\"sediment [ENVO:00002007]\",\"sediment [ENVO:00002007]\",\"sediment [ENVO:00002007]\",\"sediment [ENVO:00002007]\",\"seawater [ENVO:00002149]; coastal sea water [ENVO:00002150]; surface water [ENVO:00002042]\",\"seawater [ENVO:00002149]; coastal sea water [ENVO:00002150]; surface water [ENVO:00002042]\",\"seawater [ENVO:00002149]; coastal sea water [ENVO:00002150]; surface water [ENVO:00002042]\",\"seawater [ENVO:00002149]; coastal sea water [ENVO:00002150]; surface water [ENVO:00002042]\",\"seawater [ENVO:00002149]; coastal sea water [ENVO:00002150]; surface water [ENVO:00002042]\",\"seawater [ENVO:00002149]; coastal sea water [ENVO:00002150]; surface water [ENVO:00002042]\",\"seawater [ENVO:00002149]; coastal sea water [ENVO:00002150]; surface water [ENVO:00002042]\",\"seawater [ENVO:00002149]; coastal sea water [ENVO:00002150]; surface water [ENVO:00002042]\",\"seawater [ENVO:00002149]; coastal sea water [ENVO:00002150]; surface water [ENVO:00002042]\",\"seawater [ENVO:00002149]; coastal sea water [ENVO:00002150]; surface water [ENVO:00002042]\",\"seawater [ENVO:00002149]; coastal sea water [ENVO:00002150]; surface water [ENVO:00002042]\",\"seawater [ENVO:00002149]; coastal sea water [ENVO:00002150]; surface water [ENVO:00002042]\",\"seawater [ENVO:00002149]; coastal sea water [ENVO:00002150]; surface water [ENVO:00002042]\",\"seawater [ENVO:00002149]; coastal sea water [ENVO:00002150]; surface water [ENVO:00002042]\",\"seawater [ENVO:00002149]; coastal sea water [ENVO:00002150]; surface water [ENVO:00002042]\",\"seawater [ENVO:00002149]; coastal sea water [ENVO:00002150]; surface water [ENVO:00002042]\",\"sediment [ENVO:00002007]\",\"sediment [ENVO:00002007]\",\"sediment [ENVO:00002007]\",\"sediment [ENVO:00002007]\",\"seawater [ENVO:00002149]; coastal sea water [ENVO:00002150]; surface water [ENVO:00002042]\",\"seawater [ENVO:00002149]; coastal sea water [ENVO:00002150]; surface water [ENVO:00002042]\",\"seawater [ENVO:00002149]; coastal sea water [ENVO:00002150]; surface water [ENVO:00002042]\",\"seawater [ENVO:00002149]; coastal sea water [ENVO:00002150]; surface water [ENVO:00002042]\",\"seawater [ENVO:00002149]; coastal sea water [ENVO:00002150]; surface water [ENVO:00002042]\",\"seawater [ENVO:00002149]; coastal sea water [ENVO:00002150]; surface water [ENVO:00002042]\",\"seawater [ENVO:00002149]; coastal sea water [ENVO:00002150]; surface water [ENVO:00002042]\",\"seawater [ENVO:00002149]; coastal sea water [ENVO:00002150]; surface water [ENVO:00002042]\",\"seawater [ENVO:00002149]; coastal sea water [ENVO:00002150]; surface water [ENVO:00002042]\",\"seawater [ENVO:00002149]; coastal sea water [ENVO:00002150]; surface water [ENVO:00002042]\",\"seawater [ENVO:00002149]; coastal sea water [ENVO:00002150]; surface water [ENVO:00002042]\",\"seawater [ENVO:00002149]; coastal sea water [ENVO:00002150]; surface water [ENVO:00002042]\",\"seawater [ENVO:00002149]; coastal sea water [ENVO:00002150]; surface water [ENVO:00002042]\",\"seawater [ENVO:00002149]; coastal sea water [ENVO:00002150]; surface water [ENVO:00002042]\",\"seawater [ENVO:00002149]; coastal sea water [ENVO:00002150]; surface water [ENVO:00002042]\",\"seawater [ENVO:00002149]; coastal sea water [ENVO:00002150]; surface water [ENVO:00002042]\",\"seawater [ENVO:00002149]; coastal sea water [ENVO:00002150]; surface water [ENVO:00002042]\",\"seawater [ENVO:00002149]; coastal sea water [ENVO:00002150]; surface water [ENVO:00002042]\",\"seawater [ENVO:00002149]; coastal sea water [ENVO:00002150]; surface water [ENVO:00002042]\",\"seawater [ENVO:00002149]; coastal sea water [ENVO:00002150]; surface water [ENVO:00002042]\",\"seawater [ENVO:00002149]; coastal sea water [ENVO:00002150]; surface water [ENVO:00002042]\",\"seawater [ENVO:00002149]; coastal sea water [ENVO:00002150]; surface water [ENVO:00002042]\",\"seawater [ENVO:00002149]; coastal sea water [ENVO:00002150]; surface water [ENVO:00002042]\",\"seawater [ENVO:00002149]; coastal sea water [ENVO:00002150]; surface water [ENVO:00002042]\",\"seawater [ENVO:00002149]; coastal sea water [ENVO:00002150]; surface water [ENVO:00002042]\",\"seawater [ENVO:00002149]; coastal sea water [ENVO:00002150]; surface water [ENVO:00002042]\",\"seawater [ENVO:00002149]; coastal sea water [ENVO:00002150]; surface water [ENVO:00002042]\",\"seawater [ENVO:00002149]; coastal sea water [ENVO:00002150]; surface water [ENVO:00002042]\",\"seawater [ENVO:00002149]; coastal sea water [ENVO:00002150]; surface water [ENVO:00002042]\",\"seawater [ENVO:00002149]; coastal sea water [ENVO:00002150]; surface water [ENVO:00002042]\",\"seawater [ENVO:00002149]; coastal sea water [ENVO:00002150]; surface water [ENVO:00002042]\",\"seawater [ENVO:00002149]; coastal sea water [ENVO:00002150]; surface water [ENVO:00002042]\",\"seawater [ENVO:00002149]; coastal sea water [ENVO:00002150]; surface water [ENVO:00002042]\",\"seawater [ENVO:00002149]; coastal sea water [ENVO:00002150]; surface water [ENVO:00002042]\",\"seawater [ENVO:00002149]; coastal sea water [ENVO:00002150]; surface water [ENVO:00002042]\",\"seawater [ENVO:00002149]; coastal sea water [ENVO:00002150]; surface water [ENVO:00002042]\",\"seawater [ENVO:00002149]; coastal sea water [ENVO:00002150]; surface water [ENVO:00002042]\",\"seawater [ENVO:00002149]; coastal sea water [ENVO:00002150]; surface water [ENVO:00002042]\",\"seawater [ENVO:00002149]; coastal sea water [ENVO:00002150]; surface water [ENVO:00002042]\",\"seawater [ENVO:00002149]; coastal sea water [ENVO:00002150]; surface water [ENVO:00002042]\",\"sediment [ENVO:00002007]\",\"sediment [ENVO:00002007]\",\"sediment [ENVO:00002007]\",\"sediment [ENVO:00002007]\",\"seawater [ENVO:00002149]; coastal sea water [ENVO:00002150]; surface water [ENVO:00002042]\",\"seawater [ENVO:00002149]; coastal sea water [ENVO:00002150]; surface water [ENVO:00002042]\",\"seawater [ENVO:00002149]; coastal sea water [ENVO:00002150]; surface water [ENVO:00002042]\",\"seawater [ENVO:00002149]; coastal sea water [ENVO:00002150]; surface water [ENVO:00002042]\",\"seawater [ENVO:00002149]; coastal sea water [ENVO:00002150]; surface water [ENVO:00002042]\",\"seawater [ENVO:00002149]; coastal sea water [ENVO:00002150]; surface water [ENVO:00002042]\",\"seawater [ENVO:00002149]; coastal sea water [ENVO:00002150]; surface water [ENVO:00002042]\",\"seawater [ENVO:00002149]; coastal sea water [ENVO:00002150]; surface water [ENVO:00002042]\",\"seawater [ENVO:00002149]; coastal sea water [ENVO:00002150]; surface water [ENVO:00002042]\",\"seawater [ENVO:00002149]; coastal sea water [ENVO:00002150]; surface water [ENVO:00002042]\",\"lagoon [ENVO_00000038];marine water body [ENVO:00001999]; surface water [ENVO:00002042]\",\"lagoon [ENVO_00000038];marine water body [ENVO:00001999]; surface water [ENVO:00002042]\",\"lagoon [ENVO_00000038];marine water body [ENVO:00001999]; surface water [ENVO:00002042]\",\"lagoon [ENVO_00000038];marine water body [ENVO:00001999]; surface water [ENVO:00002042]\",\"lagoon [ENVO_00000038];marine water body [ENVO:00001999]; surface water [ENVO:00002042]\",\"lagoon [ENVO_00000038];marine water body [ENVO:00001999]; surface water [ENVO:00002042]\",\"lagoon [ENVO_00000038];marine water body [ENVO:00001999]; surface water [ENVO:00002042]\",\"lagoon [ENVO_00000038];marine water body [ENVO:00001999]; surface water [ENVO:00002042]\",\"lagoon [ENVO_00000038]; sediment [ENVO:00002007]\",\"lagoon [ENVO_00000038]; sediment [ENVO:00002007]\",\"lagoon [ENVO_00000038]; sediment [ENVO:00002007]\",\"lagoon [ENVO_00000038]; sediment [ENVO:00002007]\",\"seawater [ENVO:00002149]; coastal sea water [ENVO:00002150]; surface water [ENVO:00002042]\",\"seawater [ENVO:00002149]; coastal sea water [ENVO:00002150]; surface water [ENVO:00002042]\",\"seawater [ENVO:00002149]; coastal sea water [ENVO:00002150]; surface water [ENVO:00002042]\",\"seawater [ENVO:00002149]; coastal sea water [ENVO:00002150]; surface water [ENVO:00002042]\",\"seawater [ENVO:00002149]; coastal sea water [ENVO:00002150]; surface water [ENVO:00002042]\",\"seawater [ENVO:00002149]; coastal sea water [ENVO:00002150]; surface water [ENVO:00002042]\",\"seawater [ENVO:00002149]; coastal sea water [ENVO:00002150]; surface water [ENVO:00002042]\",\"seawater [ENVO:00002149]; coastal sea water [ENVO:00002150]; surface water [ENVO:00002042]\",\"sediment [ENVO:00002007]\",\"sediment [ENVO:00002007]\",\"sediment [ENVO:00002007]\",\"sediment [ENVO:00002007]\",\"sediment [ENVO:00002007]\",\"sediment [ENVO:00002007]\",\"seawater [ENVO:00002149]; coastal sea water [ENVO:00002150]; surface water [ENVO:00002042]\",\"seawater [ENVO:00002149]; coastal sea water [ENVO:00002150]; surface water [ENVO:00002042]\",\"seawater [ENVO:00002149]; coastal sea water [ENVO:00002150]; surface water [ENVO:00002042]\",\"seawater [ENVO:00002149]; coastal sea water [ENVO:00002150]; surface water [ENVO:00002042]\",\"seawater [ENVO:00002149]; coastal sea water [ENVO:00002150]; surface water [ENVO:00002042]\",\"seawater [ENVO:00002149]; coastal sea water [ENVO:00002150]; surface water [ENVO:00002042]\",\"seawater [ENVO:00002149]; coastal sea water [ENVO:00002150]; surface water [ENVO:00002042]\",\"seawater [ENVO:00002149]; coastal sea water [ENVO:00002150]; surface water [ENVO:00002042]\"]]]}}},\"view\":{\"type\":\"object\",\"name\":\"CDSView\",\"id\":\"607691b3-17a9-4178-95ef-7d8bf7bedd23\",\"attributes\":{\"filter\":{\"type\":\"object\",\"name\":\"AllIndices\",\"id\":\"d4475117-686c-493a-a1da-4ddec0e55d7c\"}}},\"glyph\":{\"type\":\"object\",\"name\":\"Scatter\",\"id\":\"852ce0e4-48d2-4d99-aa04-6275a54d6e59\",\"attributes\":{\"tags\":[\"apply_ranges\"],\"x\":{\"type\":\"field\",\"field\":\"PC1\"},\"y\":{\"type\":\"field\",\"field\":\"PC2\"},\"size\":{\"type\":\"value\",\"value\":16},\"line_color\":{\"type\":\"field\",\"field\":\"color\",\"transform\":{\"type\":\"object\",\"name\":\"CategoricalColorMapper\",\"id\":\"fd896150-ef02-4d6a-8237-96a5eed74df0\",\"attributes\":{\"palette\":[\"#1f77b4\",\"#aec7e8\",\"#ff7f0e\",\"#ffbb78\",\"#2ca02c\"],\"factors\":[\"seawater [ENVO:00002149]; coastal sea water [ENVO:00002150]; surface water [ENVO:00002042]\",\"lagoon [ENVO_00000038];marine water body [ENVO:00001999]; surface water [ENVO:00002042]\",\"seawater [ENVO:00002149]; coastal sea water [ENVO:00002150]\",\"sediment [ENVO:00002007]\",\"lagoon [ENVO_00000038]; sediment [ENVO:00002007]\"]}}},\"fill_color\":{\"type\":\"field\",\"field\":\"color\",\"transform\":{\"id\":\"fd896150-ef02-4d6a-8237-96a5eed74df0\"}},\"fill_alpha\":{\"type\":\"value\",\"value\":0.5},\"hatch_color\":{\"type\":\"field\",\"field\":\"color\",\"transform\":{\"id\":\"fd896150-ef02-4d6a-8237-96a5eed74df0\"}}}},\"selection_glyph\":{\"type\":\"object\",\"name\":\"Scatter\",\"id\":\"b945311b-13b8-4bb4-8e02-2a9cfa729afb\",\"attributes\":{\"tags\":[\"apply_ranges\"],\"x\":{\"type\":\"field\",\"field\":\"PC1\"},\"y\":{\"type\":\"field\",\"field\":\"PC2\"},\"size\":{\"type\":\"value\",\"value\":16},\"line_color\":{\"type\":\"field\",\"field\":\"color\",\"transform\":{\"id\":\"fd896150-ef02-4d6a-8237-96a5eed74df0\"}},\"fill_color\":{\"type\":\"field\",\"field\":\"color\",\"transform\":{\"id\":\"fd896150-ef02-4d6a-8237-96a5eed74df0\"}},\"fill_alpha\":{\"type\":\"value\",\"value\":0.5},\"hatch_color\":{\"type\":\"field\",\"field\":\"color\",\"transform\":{\"id\":\"fd896150-ef02-4d6a-8237-96a5eed74df0\"}}}},\"nonselection_glyph\":{\"type\":\"object\",\"name\":\"Scatter\",\"id\":\"7dbc0501-7abc-4fa5-a27c-f30e0d974322\",\"attributes\":{\"tags\":[\"apply_ranges\"],\"x\":{\"type\":\"field\",\"field\":\"PC1\"},\"y\":{\"type\":\"field\",\"field\":\"PC2\"},\"size\":{\"type\":\"value\",\"value\":16},\"line_color\":{\"type\":\"field\",\"field\":\"color\",\"transform\":{\"id\":\"fd896150-ef02-4d6a-8237-96a5eed74df0\"}},\"line_alpha\":{\"type\":\"value\",\"value\":0.1},\"fill_color\":{\"type\":\"field\",\"field\":\"color\",\"transform\":{\"id\":\"fd896150-ef02-4d6a-8237-96a5eed74df0\"}},\"fill_alpha\":{\"type\":\"value\",\"value\":0.5},\"hatch_color\":{\"type\":\"field\",\"field\":\"color\",\"transform\":{\"id\":\"fd896150-ef02-4d6a-8237-96a5eed74df0\"}},\"hatch_alpha\":{\"type\":\"value\",\"value\":0.1}}},\"hover_glyph\":{\"type\":\"object\",\"name\":\"Scatter\",\"id\":\"4261f054-442b-47f7-afc3-e0fd47fce174\",\"attributes\":{\"tags\":[\"apply_ranges\"],\"x\":{\"type\":\"field\",\"field\":\"PC1\"},\"y\":{\"type\":\"field\",\"field\":\"PC2\"},\"size\":{\"type\":\"value\",\"value\":16},\"line_color\":{\"type\":\"field\",\"field\":\"color\",\"transform\":{\"id\":\"fd896150-ef02-4d6a-8237-96a5eed74df0\"}},\"fill_color\":{\"type\":\"field\",\"field\":\"color\",\"transform\":{\"id\":\"fd896150-ef02-4d6a-8237-96a5eed74df0\"}},\"fill_alpha\":{\"type\":\"value\",\"value\":0.5},\"hatch_color\":{\"type\":\"field\",\"field\":\"color\",\"transform\":{\"id\":\"fd896150-ef02-4d6a-8237-96a5eed74df0\"}}}},\"muted_glyph\":{\"type\":\"object\",\"name\":\"Scatter\",\"id\":\"33c511cd-3cc7-47ed-b153-c1d0dfbac50a\",\"attributes\":{\"tags\":[\"apply_ranges\"],\"x\":{\"type\":\"field\",\"field\":\"PC1\"},\"y\":{\"type\":\"field\",\"field\":\"PC2\"},\"size\":{\"type\":\"value\",\"value\":16},\"line_color\":{\"type\":\"field\",\"field\":\"color\",\"transform\":{\"id\":\"fd896150-ef02-4d6a-8237-96a5eed74df0\"}},\"line_alpha\":{\"type\":\"value\",\"value\":0.2},\"fill_color\":{\"type\":\"field\",\"field\":\"color\",\"transform\":{\"id\":\"fd896150-ef02-4d6a-8237-96a5eed74df0\"}},\"fill_alpha\":{\"type\":\"value\",\"value\":0.2},\"hatch_color\":{\"type\":\"field\",\"field\":\"color\",\"transform\":{\"id\":\"fd896150-ef02-4d6a-8237-96a5eed74df0\"}},\"hatch_alpha\":{\"type\":\"value\",\"value\":0.2}}}}}],\"toolbar\":{\"type\":\"object\",\"name\":\"Toolbar\",\"id\":\"777987ee-89fe-4b51-adfe-3897ed9ae0b1\",\"attributes\":{\"tools\":[{\"type\":\"object\",\"name\":\"WheelZoomTool\",\"id\":\"a4f9a6ee-ce04-46f3-8a3e-18938d3edbe0\",\"attributes\":{\"tags\":[\"hv_created\"],\"renderers\":\"auto\",\"zoom_together\":\"none\"}},{\"type\":\"object\",\"name\":\"HoverTool\",\"id\":\"c47883ef-3227-4afe-9707-ce6b6a204d57\",\"attributes\":{\"tags\":[\"hv_created\"],\"renderers\":[{\"id\":\"9ba858ad-83dc-4834-8d38-f5d27cec3322\"}],\"tooltips\":[[\"PC1\",\"@{PC1}\"],[\"PC2\",\"@{PC2}\"],[\"env_material\",\"@{env_material}\"]]}},{\"type\":\"object\",\"name\":\"SaveTool\",\"id\":\"071a9e87-f8e8-4b52-843b-6db1394ef540\"},{\"type\":\"object\",\"name\":\"PanTool\",\"id\":\"8f9ac22f-3e7d-463f-a93e-b84f518e5931\"},{\"type\":\"object\",\"name\":\"BoxZoomTool\",\"id\":\"805fa44d-1f09-4db6-aa7a-ff5aef4cf5b1\",\"attributes\":{\"dimensions\":\"both\",\"overlay\":{\"type\":\"object\",\"name\":\"BoxAnnotation\",\"id\":\"9664bd5d-a505-4320-b93a-0a0f7daefcf2\",\"attributes\":{\"syncable\":false,\"line_color\":\"black\",\"line_alpha\":1.0,\"line_width\":2,\"line_dash\":[4,4],\"fill_color\":\"lightgrey\",\"fill_alpha\":0.5,\"level\":\"overlay\",\"visible\":false,\"left\":{\"type\":\"number\",\"value\":\"nan\"},\"right\":{\"type\":\"number\",\"value\":\"nan\"},\"top\":{\"type\":\"number\",\"value\":\"nan\"},\"bottom\":{\"type\":\"number\",\"value\":\"nan\"},\"left_units\":\"canvas\",\"right_units\":\"canvas\",\"top_units\":\"canvas\",\"bottom_units\":\"canvas\",\"handles\":{\"type\":\"object\",\"name\":\"BoxInteractionHandles\",\"id\":\"76289292-024f-44fc-ac2a-e1c97bf57496\",\"attributes\":{\"all\":{\"type\":\"object\",\"name\":\"AreaVisuals\",\"id\":\"75f4343a-4b5e-4ca8-aa87-e5139e7b5a8d\",\"attributes\":{\"fill_color\":\"white\",\"hover_fill_color\":\"lightgray\"}}}}}}}},{\"type\":\"object\",\"name\":\"ResetTool\",\"id\":\"207fa92d-b61d-4a74-9d1c-5528c1d4221c\"}],\"autohide\":true,\"active_drag\":{\"id\":\"8f9ac22f-3e7d-463f-a93e-b84f518e5931\"},\"active_scroll\":{\"id\":\"a4f9a6ee-ce04-46f3-8a3e-18938d3edbe0\"}}},\"left\":[{\"type\":\"object\",\"name\":\"LinearAxis\",\"id\":\"5978b373-1ccb-40cc-a25a-f91ef92e4073\",\"attributes\":{\"ticker\":{\"type\":\"object\",\"name\":\"BasicTicker\",\"id\":\"77b16923-e9fb-4471-8418-96ddff5b975a\",\"attributes\":{\"mantissas\":[1,2,5]}},\"formatter\":{\"type\":\"object\",\"name\":\"BasicTickFormatter\",\"id\":\"a50c03dd-1d3a-42f6-8b4a-38d314239b9a\"},\"axis_label\":\"PC2\",\"major_label_policy\":{\"type\":\"object\",\"name\":\"AllLabels\",\"id\":\"7e0bcd02-888d-4cbd-8501-040f7a661608\"}}}],\"below\":[{\"type\":\"object\",\"name\":\"LinearAxis\",\"id\":\"dc480904-d152-42d6-abd0-2ffa0eb3a70c\",\"attributes\":{\"ticker\":{\"type\":\"object\",\"name\":\"BasicTicker\",\"id\":\"8335d990-cd45-4a62-8039-79b6c658c758\",\"attributes\":{\"mantissas\":[1,2,5]}},\"formatter\":{\"type\":\"object\",\"name\":\"BasicTickFormatter\",\"id\":\"377ebff9-45b9-48b2-8512-784efea1c4e6\"},\"axis_label\":\"PC1\",\"major_label_policy\":{\"type\":\"object\",\"name\":\"AllLabels\",\"id\":\"c0885219-31c8-4b66-abd8-2e31a0b877f4\"}}}],\"center\":[{\"type\":\"object\",\"name\":\"Grid\",\"id\":\"e8011918-0c23-4d07-92ca-ed1f0d1f076b\",\"attributes\":{\"axis\":{\"id\":\"dc480904-d152-42d6-abd0-2ffa0eb3a70c\"},\"grid_line_color\":null}},{\"type\":\"object\",\"name\":\"Grid\",\"id\":\"58142d97-ef2f-45a7-aca0-56898c23911c\",\"attributes\":{\"dimension\":1,\"axis\":{\"id\":\"5978b373-1ccb-40cc-a25a-f91ef92e4073\"},\"grid_line_color\":null}}],\"min_border_top\":10,\"min_border_bottom\":10,\"min_border_left\":10,\"min_border_right\":10,\"output_backend\":\"webgl\"}},{\"type\":\"object\",\"name\":\"Spacer\",\"id\":\"8d50d3ea-71d5-4f58-b334-bc152766c20e\",\"attributes\":{\"name\":\"HSpacer00665\",\"stylesheets\":[\"\\n:host(.pn-loading):before, .pn-loading:before {\\n  background-color: #c3c3c3;\\n  mask-size: auto calc(min(50%, 400px));\\n  -webkit-mask-size: auto calc(min(50%, 400px));\\n}\",{\"id\":\"9847f154-a392-4422-83e0-a041b32547a6\"},{\"id\":\"c9573fd8-97cc-43aa-afef-172acef7f5e1\"},{\"id\":\"b84f6909-bdfc-4352-8f1e-5148f97be121\"}],\"min_width\":0,\"margin\":0,\"sizing_mode\":\"stretch_width\",\"align\":\"start\"}}]}}],\"defs\":[{\"type\":\"model\",\"name\":\"ReactiveHTML1\"},{\"type\":\"model\",\"name\":\"FlexBox1\",\"properties\":[{\"name\":\"align_content\",\"kind\":\"Any\",\"default\":\"flex-start\"},{\"name\":\"align_items\",\"kind\":\"Any\",\"default\":\"flex-start\"},{\"name\":\"flex_direction\",\"kind\":\"Any\",\"default\":\"row\"},{\"name\":\"flex_wrap\",\"kind\":\"Any\",\"default\":\"wrap\"},{\"name\":\"gap\",\"kind\":\"Any\",\"default\":\"\"},{\"name\":\"justify_content\",\"kind\":\"Any\",\"default\":\"flex-start\"}]},{\"type\":\"model\",\"name\":\"FloatPanel1\",\"properties\":[{\"name\":\"config\",\"kind\":\"Any\",\"default\":{\"type\":\"map\"}},{\"name\":\"contained\",\"kind\":\"Any\",\"default\":true},{\"name\":\"position\",\"kind\":\"Any\",\"default\":\"right-top\"},{\"name\":\"offsetx\",\"kind\":\"Any\",\"default\":null},{\"name\":\"offsety\",\"kind\":\"Any\",\"default\":null},{\"name\":\"theme\",\"kind\":\"Any\",\"default\":\"primary\"},{\"name\":\"status\",\"kind\":\"Any\",\"default\":\"normalized\"}]},{\"type\":\"model\",\"name\":\"GridStack1\",\"properties\":[{\"name\":\"ncols\",\"kind\":\"Any\",\"default\":null},{\"name\":\"nrows\",\"kind\":\"Any\",\"default\":null},{\"name\":\"allow_resize\",\"kind\":\"Any\",\"default\":true},{\"name\":\"allow_drag\",\"kind\":\"Any\",\"default\":true},{\"name\":\"state\",\"kind\":\"Any\",\"default\":[]}]},{\"type\":\"model\",\"name\":\"drag1\",\"properties\":[{\"name\":\"slider_width\",\"kind\":\"Any\",\"default\":5},{\"name\":\"slider_color\",\"kind\":\"Any\",\"default\":\"black\"},{\"name\":\"value\",\"kind\":\"Any\",\"default\":50}]},{\"type\":\"model\",\"name\":\"click1\",\"properties\":[{\"name\":\"terminal_output\",\"kind\":\"Any\",\"default\":\"\"},{\"name\":\"debug_name\",\"kind\":\"Any\",\"default\":\"\"},{\"name\":\"clears\",\"kind\":\"Any\",\"default\":0}]},{\"type\":\"model\",\"name\":\"FastWrapper1\",\"properties\":[{\"name\":\"object\",\"kind\":\"Any\",\"default\":null},{\"name\":\"style\",\"kind\":\"Any\",\"default\":null}]},{\"type\":\"model\",\"name\":\"NotificationArea1\",\"properties\":[{\"name\":\"js_events\",\"kind\":\"Any\",\"default\":{\"type\":\"map\"}},{\"name\":\"max_notifications\",\"kind\":\"Any\",\"default\":5},{\"name\":\"notifications\",\"kind\":\"Any\",\"default\":[]},{\"name\":\"position\",\"kind\":\"Any\",\"default\":\"bottom-right\"},{\"name\":\"_clear\",\"kind\":\"Any\",\"default\":0},{\"name\":\"types\",\"kind\":\"Any\",\"default\":[{\"type\":\"map\",\"entries\":[[\"type\",\"warning\"],[\"background\",\"#ffc107\"],[\"icon\",{\"type\":\"map\",\"entries\":[[\"className\",\"fas fa-exclamation-triangle\"],[\"tagName\",\"i\"],[\"color\",\"white\"]]}]]},{\"type\":\"map\",\"entries\":[[\"type\",\"info\"],[\"background\",\"#007bff\"],[\"icon\",{\"type\":\"map\",\"entries\":[[\"className\",\"fas fa-info-circle\"],[\"tagName\",\"i\"],[\"color\",\"white\"]]}]]}]}]},{\"type\":\"model\",\"name\":\"Notification\",\"properties\":[{\"name\":\"background\",\"kind\":\"Any\",\"default\":null},{\"name\":\"duration\",\"kind\":\"Any\",\"default\":3000},{\"name\":\"icon\",\"kind\":\"Any\",\"default\":null},{\"name\":\"message\",\"kind\":\"Any\",\"default\":\"\"},{\"name\":\"notification_type\",\"kind\":\"Any\",\"default\":null},{\"name\":\"_rendered\",\"kind\":\"Any\",\"default\":false},{\"name\":\"_destroyed\",\"kind\":\"Any\",\"default\":false}]},{\"type\":\"model\",\"name\":\"TemplateActions1\",\"properties\":[{\"name\":\"open_modal\",\"kind\":\"Any\",\"default\":0},{\"name\":\"close_modal\",\"kind\":\"Any\",\"default\":0}]},{\"type\":\"model\",\"name\":\"BootstrapTemplateActions1\",\"properties\":[{\"name\":\"open_modal\",\"kind\":\"Any\",\"default\":0},{\"name\":\"close_modal\",\"kind\":\"Any\",\"default\":0}]},{\"type\":\"model\",\"name\":\"TemplateEditor1\",\"properties\":[{\"name\":\"layout\",\"kind\":\"Any\",\"default\":[]}]},{\"type\":\"model\",\"name\":\"MaterialTemplateActions1\",\"properties\":[{\"name\":\"open_modal\",\"kind\":\"Any\",\"default\":0},{\"name\":\"close_modal\",\"kind\":\"Any\",\"default\":0}]},{\"type\":\"model\",\"name\":\"ReactiveESM1\",\"properties\":[{\"name\":\"esm_constants\",\"kind\":\"Any\",\"default\":{\"type\":\"map\"}}]},{\"type\":\"model\",\"name\":\"JSComponent1\",\"properties\":[{\"name\":\"esm_constants\",\"kind\":\"Any\",\"default\":{\"type\":\"map\"}}]},{\"type\":\"model\",\"name\":\"ReactComponent1\",\"properties\":[{\"name\":\"esm_constants\",\"kind\":\"Any\",\"default\":{\"type\":\"map\"}}]},{\"type\":\"model\",\"name\":\"AnyWidgetComponent1\",\"properties\":[{\"name\":\"esm_constants\",\"kind\":\"Any\",\"default\":{\"type\":\"map\"}}]},{\"type\":\"model\",\"name\":\"request_value1\",\"properties\":[{\"name\":\"fill\",\"kind\":\"Any\",\"default\":\"none\"},{\"name\":\"_synced\",\"kind\":\"Any\",\"default\":null},{\"name\":\"_request_sync\",\"kind\":\"Any\",\"default\":0}]}]}};\n",
       "  var render_items = [{\"docid\":\"a06fb3b9-4992-43b2-9860-57e2cdf3d1ce\",\"roots\":{\"cbd5ec4c-fe7c-44d5-b048-a74a274b4cf7\":\"bdc5f096-631d-44bf-94fa-e85d12e50b7c\"},\"root_ids\":[\"cbd5ec4c-fe7c-44d5-b048-a74a274b4cf7\"]}];\n",
       "  var docs = Object.values(docs_json)\n",
       "  if (!docs) {\n",
       "    return\n",
       "  }\n",
       "  const py_version = docs[0].version.replace('rc', '-rc.').replace('.dev', '-dev.')\n",
       "  async function embed_document(root) {\n",
       "    var Bokeh = get_bokeh(root)\n",
       "    await Bokeh.embed.embed_items_notebook(docs_json, render_items);\n",
       "    for (const render_item of render_items) {\n",
       "      for (const root_id of render_item.root_ids) {\n",
       "\tconst id_el = document.getElementById(root_id)\n",
       "\tif (id_el.children.length && id_el.children[0].hasAttribute('data-root-id')) {\n",
       "\t  const root_el = id_el.children[0]\n",
       "\t  root_el.id = root_el.id + '-rendered'\n",
       "\t  for (const child of root_el.children) {\n",
       "            // Ensure JupyterLab does not capture keyboard shortcuts\n",
       "            // see: https://jupyterlab.readthedocs.io/en/4.1.x/extension/notebook.html#keyboard-interaction-model\n",
       "\t    child.setAttribute('data-lm-suppress-shortcuts', 'true')\n",
       "\t  }\n",
       "\t}\n",
       "      }\n",
       "    }\n",
       "  }\n",
       "  function get_bokeh(root) {\n",
       "    if (root.Bokeh === undefined) {\n",
       "      return null\n",
       "    } else if (root.Bokeh.version !== py_version) {\n",
       "      if (root.Bokeh.versions === undefined || !root.Bokeh.versions.has(py_version)) {\n",
       "\treturn null\n",
       "      }\n",
       "      return root.Bokeh.versions.get(py_version);\n",
       "    } else if (root.Bokeh.version === py_version) {\n",
       "      return root.Bokeh\n",
       "    }\n",
       "    return null\n",
       "  }\n",
       "  function is_loaded(root) {\n",
       "    var Bokeh = get_bokeh(root)\n",
       "    return (Bokeh != null && Bokeh.Panel !== undefined && ( root.Tabulator !== undefined) && ( root.Tabulator !== undefined))\n",
       "  }\n",
       "  if (is_loaded(root)) {\n",
       "    embed_document(root);\n",
       "  } else {\n",
       "    var attempts = 0;\n",
       "    var timer = setInterval(function(root) {\n",
       "      if (is_loaded(root)) {\n",
       "        clearInterval(timer);\n",
       "        embed_document(root);\n",
       "      } else if (document.readyState == \"complete\") {\n",
       "        attempts++;\n",
       "        if (attempts > 200) {\n",
       "          clearInterval(timer);\n",
       "\t  var Bokeh = get_bokeh(root)\n",
       "\t  if (Bokeh == null || Bokeh.Panel == null) {\n",
       "            console.warn(\"Panel: ERROR: Unable to run Panel code because Bokeh or Panel library is missing\");\n",
       "\t  } else {\n",
       "\t    console.warn(\"Panel: WARNING: Attempting to render but not all required libraries could be resolved.\")\n",
       "\t    embed_document(root)\n",
       "\t  }\n",
       "        }\n",
       "      }\n",
       "    }, 25, root)\n",
       "  }\n",
       "})(window);</script>"
      ],
      "text/plain": [
       ":Scatter   [PC1]   (PC2,env_material)"
      ]
     },
     "execution_count": 18,
     "metadata": {
      "application/vnd.holoviews_exec.v0+json": {
       "id": "cbd5ec4c-fe7c-44d5-b048-a74a274b4cf7"
      }
     },
     "output_type": "execute_result"
    }
   ],
   "source": [
    "filtered_metadata, filtered_data = filter_all_box_selection(\n",
    "        granular_tables[select_granular_table.value][select_granular_level.value],\n",
    "        )\n",
    "\n",
    "beta_pc_plot_granular, explained_var = pl.beta_plot_pc_granular(\n",
    "    filtered_data=filtered_data,\n",
    "    metadata=filtered_metadata,\n",
    "    factor=color_factor_granular.value)\n",
    "    \n",
    "beta_pc_plot_granular.opts(\n",
    "    title=\"Beta diversity PCoA\",\n",
    "    width=1200,\n",
    "    height=800,\n",
    ")"
   ]
  },
  {
   "cell_type": "markdown",
   "metadata": {},
   "source": [
    "## Permanova testing"
   ]
  },
  {
   "cell_type": "code",
   "execution_count": null,
   "metadata": {},
   "outputs": [],
   "source": [
    "# PERMANOVA Dropdowns\n",
    "permanova_factor = pn.widgets.Select(\n",
    "    name=\"Main Permanova factor\",\n",
    "    options=['All'] + factor_cols,\n",
    "    description='Limit by group(s) in factor:',\n",
    ")\n",
    "\n",
    "permanova_group = pn.widgets.MultiSelect(\n",
    "    name=\"Groups of unique values of the factor\",\n",
    "    options=[],\n",
    "    description='Groups:',\n",
    ")\n",
    "\n",
    "permanova_additional_factors = pn.widgets.MultiSelect(\n",
    "    name=\"Factors to test vs ALL the rest\",\n",
    "    options=factor_cols,\n",
    "    description='PERMANOVA Factors:',\n",
    ")\n",
    "\n",
    "permanova_button = pn.widgets.Button(\n",
    "    name=\"PERMANOVA\",\n",
    "    button_type=\"primary\",\n",
    "    width=200,\n",
    ")"
   ]
  },
  {
   "cell_type": "code",
   "execution_count": null,
   "metadata": {},
   "outputs": [
    {
     "name": "stderr",
     "output_type": "stream",
     "text": [
      "WARNING:param.ParamFunction00707: The function supplied for Panel to display was declared with `watch=True`, which will cause the function to be called twice for any change in a dependent Parameter. `watch` should be False when Panel is responsible for displaying the result of the function call, while `watch=True` should be reserved for functions that work via side-effects, e.g. by modifying internal state of a class or global state in an application's namespace.\n",
      "WARNING | param.ParamFunction00707 | The function supplied for Panel to display was declared with `watch=True`, which will cause the function to be called twice for any change in a dependent Parameter. `watch` should be False when Panel is responsible for displaying the result of the function call, while `watch=True` should be reserved for functions that work via side-effects, e.g. by modifying internal state of a class or global state in an application's namespace.\n",
      "INFO | Diversity analysis app | Permanova factor value: All\n"
     ]
    },
    {
     "data": {
      "application/vnd.jupyter.widget-view+json": {
       "model_id": "5e9725e69bf4478e9d330f38e6dca685",
       "version_major": 2,
       "version_minor": 0
      },
      "text/plain": [
       "<function param.reactive.bind.<locals>.wrapped(*wargs, **wkwargs)>"
      ]
     },
     "execution_count": 23,
     "metadata": {},
     "output_type": "execute_result"
    }
   ],
   "source": [
    "permanova_button.on_click(\n",
    "    lambda event: update_permanova_result()\n",
    ")\n",
    "\n",
    "\n",
    "def update_permanova_result():\n",
    "    global permanova_result\n",
    "    # Run the permanova function and update the result indicator\n",
    "    permanova_results = run_permanova(\n",
    "        granular_tables[select_granular_table.value][select_granular_level.value],\n",
    "        full_metadata,\n",
    "        permanova_factor.value,\n",
    "        permanova_group.value,\n",
    "        permanova_additional_factors.value,\n",
    "        permutations=NUMBER_PERMUTATIONS,  # 29 for binder, 999 for local\n",
    "        verbose=True,\n",
    "    )\n",
    "    permanova_result = pd.DataFrame.from_dict(permanova_results)\n",
    "\n",
    "\n",
    "# Update groups based on selected factor\n",
    "def update_groups(permanova_factor):\n",
    "    logger.info(f\"Permanova factor value: {permanova_factor}\")\n",
    "    if permanova_factor in factor_cols:\n",
    "        unique_groups = sorted(full_metadata[permanova_factor].dropna().unique())\n",
    "        permanova_group.options = unique_groups\n",
    "    elif permanova_factor == 'All':\n",
    "        permanova_group.options = sorted(full_metadata['ref_code'].dropna().unique())\n",
    "    else:\n",
    "        raise ValueError(f\"Unknown factor: {permanova_factor}\")\n",
    "    \n",
    "pn.bind(update_groups,\n",
    "    permanova_factor,\n",
    "    watch=True,\n",
    ")"
   ]
  },
  {
   "cell_type": "code",
   "execution_count": 24,
   "metadata": {},
   "outputs": [
    {
     "data": {
      "application/vnd.jupyter.widget-view+json": {
       "model_id": "b352fc42bce9460e867a59b6005d3500",
       "version_major": 2,
       "version_minor": 0
      },
      "text/plain": [
       "BokehModel(combine_events=True, render_bundle={'docs_json': {'c3e9c8ea-7626-4fb8-8b7e-29ae828f3ac7': {'version…"
      ]
     },
     "execution_count": 24,
     "metadata": {},
     "output_type": "execute_result"
    }
   ],
   "source": [
    "pn.Row(\n",
    "    permanova_factor,\n",
    "    permanova_group,\n",
    "    permanova_additional_factors,\n",
    "    permanova_button,\n",
    ")"
   ]
  },
  {
   "cell_type": "markdown",
   "metadata": {},
   "source": [
    "### Updates and bindings"
   ]
  },
  {
   "cell_type": "code",
   "execution_count": null,
   "metadata": {},
   "outputs": [
    {
     "data": {
      "text/html": [
       "<div>\n",
       "<style scoped>\n",
       "    .dataframe tbody tr th:only-of-type {\n",
       "        vertical-align: middle;\n",
       "    }\n",
       "\n",
       "    .dataframe tbody tr th {\n",
       "        vertical-align: top;\n",
       "    }\n",
       "\n",
       "    .dataframe thead th {\n",
       "        text-align: right;\n",
       "    }\n",
       "</style>\n",
       "<table border=\"1\" class=\"dataframe\">\n",
       "  <thead>\n",
       "    <tr style=\"text-align: right;\">\n",
       "      <th></th>\n",
       "      <th>env_package</th>\n",
       "    </tr>\n",
       "  </thead>\n",
       "  <tbody>\n",
       "    <tr>\n",
       "      <th>method name</th>\n",
       "      <td>PERMANOVA</td>\n",
       "    </tr>\n",
       "    <tr>\n",
       "      <th>test statistic name</th>\n",
       "      <td>pseudo-F</td>\n",
       "    </tr>\n",
       "    <tr>\n",
       "      <th>sample size</th>\n",
       "      <td>181</td>\n",
       "    </tr>\n",
       "    <tr>\n",
       "      <th>number of groups</th>\n",
       "      <td>2</td>\n",
       "    </tr>\n",
       "    <tr>\n",
       "      <th>test statistic</th>\n",
       "      <td>31.561698</td>\n",
       "    </tr>\n",
       "    <tr>\n",
       "      <th>p-value</th>\n",
       "      <td>0.001</td>\n",
       "    </tr>\n",
       "    <tr>\n",
       "      <th>number of permutations</th>\n",
       "      <td>999</td>\n",
       "    </tr>\n",
       "  </tbody>\n",
       "</table>\n",
       "</div>"
      ],
      "text/plain": [
       "                       env_package\n",
       "method name              PERMANOVA\n",
       "test statistic name       pseudo-F\n",
       "sample size                    181\n",
       "number of groups                 2\n",
       "test statistic           31.561698\n",
       "p-value                      0.001\n",
       "number of permutations         999"
      ]
     },
     "execution_count": 25,
     "metadata": {},
     "output_type": "execute_result"
    }
   ],
   "source": [
    "permanova_result"
   ]
  }
 ],
 "metadata": {
  "kernelspec": {
   "display_name": "momics-demos",
   "language": "python",
   "name": "python3"
  },
  "language_info": {
   "codemirror_mode": {
    "name": "ipython",
    "version": 3
   },
   "file_extension": ".py",
   "mimetype": "text/x-python",
   "name": "python",
   "nbconvert_exporter": "python",
   "pygments_lexer": "ipython3",
   "version": "3.13.3"
  },
  "panel-cell-order": [
   "34c21507",
   "5911b6c2",
   "800d5521",
   "b8e2ef8c",
   "3994457e",
   "39906e39",
   "6de5ad4b",
   "bc1d1b61",
   "7485ce5b",
   "8f444fef"
  ]
 },
 "nbformat": 4,
 "nbformat_minor": 4
}
