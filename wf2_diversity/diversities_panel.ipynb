{
 "cells": [
  {
   "cell_type": "markdown",
   "metadata": {},
   "source": [
    "# Visualize taxonomy and alpha/beta diversities"
   ]
  },
  {
   "cell_type": "markdown",
   "metadata": {},
   "source": [
    "## Platform dependent part\n",
    "- Resolve platform setup\n",
    "- the difference to local imports should be resolved by setting the Blue Cloud VRE well, Colab will still be an issue."
   ]
  },
  {
   "cell_type": "code",
   "execution_count": null,
   "metadata": {},
   "outputs": [],
   "source": [
    "import sys\n",
    "import os\n",
    "import io\n",
    "\n",
    "sys.path.append(os.path.abspath(os.path.join(os.getcwd(), '..')))\n",
    "from utils import init_setup\n",
    "init_setup()"
   ]
  },
  {
   "cell_type": "markdown",
   "metadata": {},
   "source": [
    "## Imports"
   ]
  },
  {
   "cell_type": "code",
   "execution_count": null,
   "metadata": {},
   "outputs": [],
   "source": [
    "# This needs to be repeated here for the Pannel dashboard to work, WEIRD\n",
    "# TODO: report as possible bug\n",
    "import sys\n",
    "import os\n",
    "import io\n",
    "\n",
    "# import numpy as np\n",
    "import pandas as pd\n",
    "# import matplotlib.pyplot as plt\n",
    "# import seaborn as sns\n",
    "import panel as pn\n",
    "\n",
    "from skbio.diversity import beta_diversity\n",
    "from skbio.stats.ordination import pcoa\n",
    "\n",
    "# All low level functions are imported from the momics package\n",
    "from momics.loader import load_parquets\n",
    "import momics.plotting as pl\n",
    "from momics.panel_utils import diversity_select_widgets, create_indicators\n",
    "from momics.utils import memory_load\n",
    "\n",
    "# Note: This is breaking the panel preview functionality\n",
    "# %load_ext autoreload\n",
    "# %autoreload 2"
   ]
  },
  {
   "cell_type": "markdown",
   "metadata": {},
   "source": [
    "## Loading"
   ]
  },
  {
   "cell_type": "code",
   "execution_count": 6,
   "metadata": {},
   "outputs": [],
   "source": [
    "@pn.cache()\n",
    "def get_data(folder):\n",
    "    return load_parquets(folder)\n",
    "\n",
    "@pn.cache()\n",
    "def get_metadata(folder):\n",
    "    # Load metadata\n",
    "    sample_metadata = pd.read_csv(\n",
    "        os.path.join(folder, \"Batch1and2_combined_logsheets_2024-09-11.csv\")\n",
    "    )\n",
    "\n",
    "    observatory_metadata = pd.read_csv(\n",
    "        os.path.join(folder, \"Observatory_combined_logsheets_validated.csv\")\n",
    "    )\n",
    "\n",
    "    # Merge metadata\n",
    "    full_metadata = pd.merge(\n",
    "        sample_metadata,\n",
    "        observatory_metadata,\n",
    "        on=[\"obs_id\", \"env_package\"],  # Matching conditions\n",
    "        how=\"inner\"  # Inner join\n",
    "    )\n",
    "\n",
    "    # Sort the merged dataframe by 'ref_code' column in ascending order\n",
    "    full_metadata = full_metadata.sort_values(by=\"ref_code\", ascending=True)\n",
    "    \n",
    "    return full_metadata"
   ]
  },
  {
   "cell_type": "code",
   "execution_count": 7,
   "metadata": {},
   "outputs": [],
   "source": [
    "# parquet files\n",
    "if 'google.colab' in str(get_ipython()):\n",
    "    root_folder = os.path.abspath(os.path.join('/content/momics-demos'))\n",
    "else:\n",
    "    root_folder = os.path.abspath(os.path.join('../'))\n",
    "\n",
    "\n",
    "data_folder = os.path.join(root_folder, 'data/parquet_files')\n",
    "assets_folder = os.path.join(root_folder, 'assets')\n",
    "\n",
    "\n",
    "mgf_parquet_dfs = get_data(data_folder)"
   ]
  },
  {
   "cell_type": "code",
   "execution_count": null,
   "metadata": {},
   "outputs": [],
   "source": [
    "type(mgf_parquet_dfs)"
   ]
  },
  {
   "cell_type": "code",
   "execution_count": 9,
   "metadata": {},
   "outputs": [],
   "source": [
    "# Load and merge metadata\n",
    "full_metadata = get_metadata(data_folder)\n",
    "\n",
    "# select categorical columns from metadata\n",
    "categorical_columns = sorted(full_metadata.select_dtypes(include=['object']).columns)\n",
    "\n",
    "# select numerical columns from metadata\n",
    "numerical_columns = sorted(full_metadata.select_dtypes(include=['int64', 'float64']).columns)\n",
    "\n",
    "assert len(full_metadata.columns) == len(numerical_columns) + len(categorical_columns)\n",
    "\n",
    "# print(f\"Data table names are:\\n{mgf_parquet_dfs.keys()}\")\n",
    "# print(f\"Categorical metadata columns are:\\n{categorical_columns}\")\n",
    "# print(f\"Numerical metadata columns are:\\n{numerical_columns}\")\n",
    "# mgf_parquet_dfs['SSU'].sort_values(by='abundance', ascending=False)"
   ]
  },
  {
   "cell_type": "code",
   "execution_count": null,
   "metadata": {},
   "outputs": [],
   "source": [
    "df = mgf_parquet_dfs['SSU'].copy()\n",
    "df.ref_code.nunique(), df.reads_name.nunique()"
   ]
  },
  {
   "cell_type": "markdown",
   "metadata": {},
   "source": [
    "`ref_code` and `reads_name` are the same length so I will use the `ref_code`"
   ]
  },
  {
   "cell_type": "markdown",
   "metadata": {},
   "source": [
    "## Development of the beta diversity part"
   ]
  },
  {
   "cell_type": "code",
   "execution_count": 11,
   "metadata": {},
   "outputs": [],
   "source": [
    "# TODO: link these functions to the indicator\n",
    "# TODO: put them in the momics package\n",
    "def get_missing_taxa(df):\n",
    "    for taxon in [\"superkingdom\", \"kingdom\", \"phylum\", \"class\", \"order\", \"family\", \"genus\", \"species\"]:\n",
    "        print(f'Not classified on {taxon}: {get_missing_taxa_single(df, taxon)}')\n",
    "    return\n",
    "\n",
    "def get_missing_taxa_single(df, taxon):\n",
    "    return len(df[df[taxon].isnull()])"
   ]
  },
  {
   "cell_type": "markdown",
   "metadata": {},
   "source": [
    "## App setup"
   ]
  },
  {
   "cell_type": "code",
   "execution_count": null,
   "metadata": {},
   "outputs": [],
   "source": [
    "pn.extension(\"tabulator\")\n",
    "ACCENT = \"teal\"\n",
    "\n",
    "styles = {\n",
    "    \"box-shadow\": \"rgba(50, 50, 93, 0.25) 0px 6px 12px -2px, rgba(0, 0, 0, 0.3) 0px 3px 7px -3px\",\n",
    "    \"border-radius\": \"4px\",\n",
    "    \"padding\": \"10px\",\n",
    "}\n",
    "\n",
    "# TODO: there is a bug in the panel library that does not allow to open png files, renoming does not help \n",
    "image = pn.pane.JPG(os.path.join(assets_folder, \"figs/metaGOflow_logo_italics.jpg\"),\n",
    "                    width=200, height=100)\n",
    "\n",
    "(select_table, select_cat_factor, \n",
    " select_table_beta, select_taxon,\n",
    " select_beta_factor,\n",
    " ) = diversity_select_widgets(categorical_columns, numerical_columns, styles)\n",
    "\n",
    "indicators = create_indicators()\n",
    "used_gb, total_gb = memory_load()\n",
    "indicator_test = pn.FlexBox(\n",
    "    pn.indicators.Number(\n",
    "        value=used_gb, name=\"RAM usage [GB]\",\n",
    "        format=\"{value:,.1f}\",\n",
    "    ),\n",
    ")\n",
    "\n",
    "# TODO: learn the periodic callbacks\n",
    "# indicators.append(indicator_test)\n",
    "# cb = pn.state.add_periodic_callback(memory_load, 200, timeout=5000)\n",
    "# toggle = pn.widgets.Toggle(name='Toggle callback', value=True)\n",
    "# toggle.link(cb, bidirectional=True, value='running')\n",
    "\n",
    "bplot_alpha = pn.bind(pl.alpha_plot,\n",
    "                      table_list=mgf_parquet_dfs,\n",
    "                      table_name=select_table,\n",
    "                      factor=select_cat_factor,\n",
    "                      metadata=full_metadata)\n",
    "\n",
    "bplot_av_alpha = pn.bind(pl.av_alpha_plot,\n",
    "                         table_list=mgf_parquet_dfs,\n",
    "                         table_name=select_table,\n",
    "                         factor=select_cat_factor,\n",
    "                         metadata=full_metadata)\n",
    "\n",
    "\n",
    "bplot_beta_heatmap = pn.bind(pl.beta_plot,\n",
    "                             table_list=mgf_parquet_dfs,\n",
    "                             table_name=select_table_beta,\n",
    "                             taxon=select_taxon,\n",
    "                             )\n",
    "\n",
    "bplot_beta_pc = pn.bind(pl.beta_plot_pc,\n",
    "                        table_list=mgf_parquet_dfs,\n",
    "                        metadata=full_metadata,\n",
    "                        table_name=select_table_beta,\n",
    "                        taxon=select_taxon,\n",
    "                        factor=select_beta_factor,\n",
    "                        )\n",
    "\n",
    "atable = pn.widgets.Tabulator(df, sizing_mode=\"stretch_both\", name=\"Data View\")\n",
    "\n",
    "tabs = pn.Tabs(\n",
    "    ('Alpha div.', bplot_alpha),\n",
    "    ('Av Aplpha div.', bplot_av_alpha),\n",
    "    ('Beta div.', bplot_beta_heatmap),\n",
    "    ('PCoA', bplot_beta_pc),\n",
    "    atable,\n",
    "    styles=styles, sizing_mode=\"stretch_width\", height=500, margin=10\n",
    ")\n",
    "\n",
    "template = pn.template.FastListTemplate(\n",
    "    title=\"Diversity Analysis\",\n",
    "    sidebar=[image,\n",
    "            #  toggle,\n",
    "             \"# Alpha diversity\", select_table, select_cat_factor,\n",
    "             pn.layout.Divider(),\n",
    "             \"# Beta diversity\", select_table_beta, select_taxon, select_beta_factor,\n",
    "             ],\n",
    "    main=[pn.Column(indicators,\n",
    "                    tabs,\n",
    "                    sizing_mode=\"stretch_both\",\n",
    "                   )],\n",
    "    main_layout=None,\n",
    "    accent=ACCENT,\n",
    "    meta_refresh=\"2\",\n",
    ")\n",
    "\n",
    "template.servable()"
   ]
  },
  {
   "cell_type": "code",
   "execution_count": null,
   "metadata": {},
   "outputs": [],
   "source": []
  }
 ],
 "metadata": {
  "kernelspec": {
   "display_name": "momicsdem",
   "language": "python",
   "name": "python3"
  },
  "language_info": {
   "codemirror_mode": {
    "name": "ipython",
    "version": 3
   },
   "file_extension": ".py",
   "mimetype": "text/x-python",
   "name": "python",
   "nbconvert_exporter": "python",
   "pygments_lexer": "ipython3",
   "version": "3.10.12"
  }
 },
 "nbformat": 4,
 "nbformat_minor": 4
}
