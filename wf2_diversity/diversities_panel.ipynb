{
 "cells": [
  {
   "cell_type": "markdown",
   "metadata": {},
   "source": [
    "# Visualize taxonomy and alpha/beta diversities"
   ]
  },
  {
   "cell_type": "markdown",
   "metadata": {},
   "source": [
    "## Platform dependent part\n",
    "- Resolve platform setup\n",
    "- the difference to local imports should be resolved by setting the Blue Cloud VRE well, Colab will still be an issue."
   ]
  },
  {
   "cell_type": "code",
   "execution_count": 1,
   "metadata": {},
   "outputs": [
    {
     "name": "stderr",
     "output_type": "stream",
     "text": [
      "INFO | root | Logging.basicConfig completed successfully\n",
      "INFO | Diversity analysis app | Environment: vscode\n",
      "INFO | Diversity analysis app | Environment: vscode\n"
     ]
    }
   ],
   "source": [
    "import sys\n",
    "import os\n",
    "import io\n",
    "import logging\n",
    "from IPython import get_ipython\n",
    "logger = logging.getLogger(name=\"Diversity analysis app\")\n",
    "\n",
    "if 'google.colab' in str(get_ipython()):\n",
    "    print('Setting Google colab, you will need a ngrok account to make the dashboard display over the tunnel. \\\n",
    "    https://ngrok.com/')\n",
    "    # clone the momics-demos repository to use it to load data\n",
    "    try:\n",
    "        os.system('git clone https://github.com/palec87/momics-demos.git')\n",
    "        logger.info(f\"Repository cloned\")\n",
    "    except OSError as e:\n",
    "        logger.info(f\"An error occurred while cloning the repository: {e}\")\n",
    "\n",
    "    sys.path.insert(0,'/content/momics-demos')\n",
    "\n",
    "    # this step takes time beacause of many dependencies\n",
    "    os.system('pip install momics@git+https://github.com/emo-bon/marine-omics-methods.git@main')\n",
    "\n",
    "from momics.utils import (\n",
    "    memory_load, reconfig_logger,\n",
    "    init_setup, get_notebook_environment,\n",
    ")\n",
    "\n",
    "# Set up logging\n",
    "reconfig_logger()\n",
    "\n",
    "# Determine the notebook environment\n",
    "env = get_notebook_environment()\n",
    "\n",
    "init_setup()\n",
    "logger.info(f\"Environment: {env}\")"
   ]
  },
  {
   "cell_type": "markdown",
   "metadata": {},
   "source": [
    "## Imports"
   ]
  },
  {
   "cell_type": "code",
   "execution_count": 2,
   "metadata": {},
   "outputs": [],
   "source": [
    "# This needs to be repeated here for the Pannel dashboard to work, WEIRD\n",
    "# TODO: report as possible bug\n",
    "import sys\n",
    "import os\n",
    "import io\n",
    "import warnings\n",
    "\n",
    "from functools import partial\n",
    "warnings.filterwarnings('ignore')\n",
    "\n",
    "# import numpy as np\n",
    "import pandas as pd\n",
    "# import matplotlib.pyplot as plt\n",
    "# import seaborn as sns\n",
    "import panel as pn\n",
    "from dotenv import load_dotenv\n",
    "load_dotenv()\n",
    "\n",
    "from skbio.diversity import beta_diversity\n",
    "from skbio.stats.ordination import pcoa\n",
    "\n",
    "# All low level functions are imported from the momics package\n",
    "from momics.loader import load_parquets\n",
    "from momics.metadata import get_metadata, enhance_metadata\n",
    "import momics.plotting as pl\n",
    "from momics.panel_utils import (\n",
    "    diversity_select_widgets, create_indicators_diversity,\n",
    "    serve_app, close_server,\n",
    ")"
   ]
  },
  {
   "cell_type": "markdown",
   "metadata": {},
   "source": [
    "## User settings"
   ]
  },
  {
   "cell_type": "code",
   "execution_count": 3,
   "metadata": {},
   "outputs": [],
   "source": [
    "DEBUG = True  # enable stdout logging"
   ]
  },
  {
   "cell_type": "markdown",
   "metadata": {},
   "source": [
    "## Loading"
   ]
  },
  {
   "cell_type": "code",
   "execution_count": 4,
   "metadata": {},
   "outputs": [],
   "source": [
    "@pn.cache()\n",
    "def get_data(folder):\n",
    "    return load_parquets(folder)\n",
    "\n",
    "@pn.cache()\n",
    "def load_metadata(folder):\n",
    "    return get_metadata(folder)"
   ]
  },
  {
   "cell_type": "code",
   "execution_count": 5,
   "metadata": {},
   "outputs": [],
   "source": [
    "# parquet files\n",
    "if 'google.colab' in str(get_ipython()):\n",
    "    root_folder = os.path.abspath(os.path.join('/content/momics-demos'))\n",
    "else:\n",
    "    root_folder = os.path.abspath(os.path.join('../'))\n",
    "\n",
    "\n",
    "data_folder = os.path.join(root_folder, 'data/parquet_files')\n",
    "assets_folder = os.path.join(root_folder, 'assets')\n",
    "\n",
    "\n",
    "mgf_parquet_dfs = get_data(data_folder)"
   ]
  },
  {
   "cell_type": "code",
   "execution_count": null,
   "metadata": {},
   "outputs": [],
   "source": [
    "# Load and merge metadata\n",
    "full_metadata = load_metadata(os.path.join(root_folder, 'data'))\n",
    "\n",
    "# fiter the metadata only for valid 181 samples\n",
    "df_valid = pd.read_csv(\n",
    "    os.path.join(root_folder, 'data/shipment_b1b2_181.csv')\n",
    ")\n",
    "\n",
    "full_metadata = enhance_metadata(full_metadata, df_valid)"
   ]
  },
  {
   "cell_type": "code",
   "execution_count": 12,
   "metadata": {},
   "outputs": [
    {
     "name": "stderr",
     "output_type": "stream",
     "text": [
      "INFO | Diversity analysis app | Data table names are:\n",
      "dict_keys(['go', 'LSU', 'pfam', 'ips', 'go_slim', 'ko', 'SSU'])\n",
      "INFO | Diversity analysis app | Categorical metadata columns are:\n",
      "['ENA_accession_number_project', 'ENA_accession_number_umbrella', 'ammonium_method', 'arr_date_hq', 'arr_date_seq', 'chlorophyll_method', 'conduc_method', 'contact_email', 'contact_name', 'contact_orcid', 'density_method', 'diss_oxygen_method', 'env_broad_biome', 'env_local', 'env_material', 'env_package', 'extra_site_info', 'failure', 'failure_comment', 'geo_loc_name', 'investigation_type', 'loc_broad_ocean', 'loc_loc', 'loc_regional', 'month_name', 'nitrate_method', 'nitrite_method', 'obs_id', 'organism_count', 'organism_count_method', 'organization', 'organization_country', 'organization_edmoid', 'other_person', 'other_person_orcid', 'ph_method', 'phaeopigments_method', 'phosphate_method', 'pigments', 'pigments_method', 'pressure_method', 'project_name', 'replicate', 'samp_collect_device', 'samp_mat_process', 'samp_mat_process_dev', 'samp_store_date', 'samp_store_loc', 'sampl_person', 'sampl_person_orcid', 'sampling_event', 'scientific_name', 'sea_subsurf_salinity_method', 'sea_subsurf_temp_method', 'sea_surf_salinity_method', 'sea_surf_temp_method', 'season', 'ship_date', 'ship_date_seq', 'silicate_method', 'size_frac', 'store_person', 'store_person_orcid', 'tidal_stage', 'time_fi', 'turbidity_method', 'wa_id']\n",
      "INFO | Diversity analysis app | Numerical metadata columns are:\n",
      "['ENA_accession_number_sample', 'alkalinity', 'alkalinity_method', 'ammonium', 'bac_prod', 'bac_prod_method', 'biomass', 'biomass_method', 'chem_administration', 'chlorophyll', 'conduc', 'day', 'density', 'depth', 'diss_carb_dioxide', 'diss_carb_dioxide_method', 'diss_inorg_carb', 'diss_inorg_carb_method', 'diss_org_carb', 'diss_org_carb_method', 'diss_org_nitro', 'diss_org_nitro_method', 'diss_oxygen', 'down_par', 'down_par_method', 'latitude', 'loc_broad_ocean_mrgid', 'loc_loc_mrgid', 'loc_regional_mrgid', 'long_store', 'longitude', 'membr_cut', 'month', 'n_alkanes', 'n_alkanes_method', 'nitrate', 'nitrite', 'noteworthy_env_cond', 'part_org_carb', 'part_org_carb_method', 'part_org_nitro', 'part_org_nitro_method', 'petroleum_hydrocarb', 'petroleum_hydrocarb_method', 'ph', 'phaeopigments', 'phosphate', 'pressure', 'primary_prod', 'primary_prod_method', 'samp_size_vol', 'samp_store_temp', 'sea_subsurf_salinity', 'sea_subsurf_temp', 'sea_surf_salinity', 'sea_surf_temp', 'silicate', 'size_frac_low', 'size_frac_up', 'store_temp_hq', 'sulfate', 'sulfate_method', 'sulfide', 'sulfide_method', 'tax_id', 'tot_depth_water_col', 'turbidity', 'water_current', 'water_current_method', 'year']\n",
      "INFO | Diversity analysis app | Categorical metadata columns are:\n",
      "['ENA_accession_number_project', 'ENA_accession_number_umbrella', 'ammonium_method', 'arr_date_hq', 'arr_date_seq', 'chlorophyll_method', 'conduc_method', 'contact_email', 'contact_name', 'contact_orcid', 'density_method', 'diss_oxygen_method', 'env_broad_biome', 'env_local', 'env_material', 'env_package', 'extra_site_info', 'failure', 'failure_comment', 'geo_loc_name', 'investigation_type', 'loc_broad_ocean', 'loc_loc', 'loc_regional', 'month_name', 'nitrate_method', 'nitrite_method', 'obs_id', 'organism_count', 'organism_count_method', 'organization', 'organization_country', 'organization_edmoid', 'other_person', 'other_person_orcid', 'ph_method', 'phaeopigments_method', 'phosphate_method', 'pigments', 'pigments_method', 'pressure_method', 'project_name', 'replicate', 'samp_collect_device', 'samp_mat_process', 'samp_mat_process_dev', 'samp_store_date', 'samp_store_loc', 'sampl_person', 'sampl_person_orcid', 'sampling_event', 'scientific_name', 'sea_subsurf_salinity_method', 'sea_subsurf_temp_method', 'sea_surf_salinity_method', 'sea_surf_temp_method', 'season', 'ship_date', 'ship_date_seq', 'silicate_method', 'size_frac', 'store_person', 'store_person_orcid', 'tidal_stage', 'time_fi', 'turbidity_method', 'wa_id']\n",
      "INFO | Diversity analysis app | Numerical metadata columns are:\n",
      "['ENA_accession_number_sample', 'alkalinity', 'alkalinity_method', 'ammonium', 'bac_prod', 'bac_prod_method', 'biomass', 'biomass_method', 'chem_administration', 'chlorophyll', 'conduc', 'day', 'density', 'depth', 'diss_carb_dioxide', 'diss_carb_dioxide_method', 'diss_inorg_carb', 'diss_inorg_carb_method', 'diss_org_carb', 'diss_org_carb_method', 'diss_org_nitro', 'diss_org_nitro_method', 'diss_oxygen', 'down_par', 'down_par_method', 'latitude', 'loc_broad_ocean_mrgid', 'loc_loc_mrgid', 'loc_regional_mrgid', 'long_store', 'longitude', 'membr_cut', 'month', 'n_alkanes', 'n_alkanes_method', 'nitrate', 'nitrite', 'noteworthy_env_cond', 'part_org_carb', 'part_org_carb_method', 'part_org_nitro', 'part_org_nitro_method', 'petroleum_hydrocarb', 'petroleum_hydrocarb_method', 'ph', 'phaeopigments', 'phosphate', 'pressure', 'primary_prod', 'primary_prod_method', 'samp_size_vol', 'samp_store_temp', 'sea_subsurf_salinity', 'sea_subsurf_temp', 'sea_surf_salinity', 'sea_surf_temp', 'silicate', 'size_frac_low', 'size_frac_up', 'store_temp_hq', 'sulfate', 'sulfate_method', 'sulfide', 'sulfide_method', 'tax_id', 'tot_depth_water_col', 'turbidity', 'water_current', 'water_current_method', 'year']\n"
     ]
    }
   ],
   "source": [
    "# select categorical columns from metadata\n",
    "categorical_columns = sorted(full_metadata.select_dtypes(include=['object', \"boolean\"]).columns)\n",
    "cat_to_remove = [\"ref_code\", \"samp_description\", \"source_mat_id\", \"source_mat_id_orig\"]\n",
    "categorical_columns = [k for k in categorical_columns if k not in cat_to_remove]\n",
    "\n",
    "# select numerical columns from metadata\n",
    "numerical_columns = sorted(full_metadata.select_dtypes(include=['int64', 'float64']).columns)\n",
    "\n",
    "# assert len(full_metadata.columns) == len(numerical_columns) + len(categorical_columns) + len(cat_to_remove)  # + for removed cats\n",
    "\n",
    "if DEBUG:\n",
    "    logger.info(f\"Data table names are:\\n{mgf_parquet_dfs.keys()}\")\n",
    "    logger.info(f\"Categorical metadata columns are:\\n{categorical_columns}\")\n",
    "    logger.info(f\"Numerical metadata columns are:\\n{numerical_columns}\")"
   ]
  },
  {
   "cell_type": "code",
   "execution_count": null,
   "metadata": {},
   "outputs": [],
   "source": [
    "df = mgf_parquet_dfs['SSU'].copy()\n",
    "if DEBUG:\n",
    "    logger.info(f'Number of unique ref_codes: {df.ref_code.nunique()}')"
   ]
  },
  {
   "cell_type": "markdown",
   "metadata": {},
   "source": [
    "## APP setup"
   ]
  },
  {
   "cell_type": "code",
   "execution_count": null,
   "metadata": {
    "scrolled": true
   },
   "outputs": [],
   "source": [
    "pn.extension(\"tabulator\")\n",
    "if 'google.colab' in str(get_ipython()):\n",
    "    pn.extension(comms='colab')\n",
    "ACCENT = \"teal\"\n",
    "\n",
    "styles = {\n",
    "    \"box-shadow\": \"rgba(50, 50, 93, 0.25) 0px 6px 12px -2px, rgba(0, 0, 0, 0.3) 0px 3px 7px -3px\",\n",
    "    \"border-radius\": \"4px\",\n",
    "    \"padding\": \"10px\",\n",
    "}\n",
    "\n",
    "# TODO: there is a bug in the panel library that does not allow to open png files, renoming does not help \n",
    "image = pn.pane.JPG(os.path.join(assets_folder, \"figs/metaGOflow_logo_italics.jpg\"),\n",
    "                    width=200,\n",
    "                    height=100,\n",
    "                    )\n",
    "\n",
    "(select_table, select_cat_factor, \n",
    " select_table_beta, select_taxon,\n",
    " select_beta_factor, beta_norm,\n",
    " ) = diversity_select_widgets(categorical_columns, numerical_columns)\n",
    "\n",
    "progress_bar, indicator_usage = create_indicators_diversity()\n",
    "\n",
    "def update_used_gb(event):\n",
    "    if not event:\n",
    "        return\n",
    "\n",
    "    used_gb, total_gb = memory_load()\n",
    "    progress_bar.value = int(used_gb / total_gb * 100)\n",
    "    indicator_usage.value = used_gb\n",
    "\n",
    "bplot_alpha = pn.bind(\n",
    "    pl.alpha_plot,\n",
    "    tables_dict=mgf_parquet_dfs,\n",
    "    table_name=select_table,\n",
    "    factor=select_cat_factor,\n",
    "    metadata=full_metadata,\n",
    ")\n",
    "\n",
    "bplot_av_alpha = pn.bind(\n",
    "    pl.av_alpha_plot,\n",
    "    tables_dict=mgf_parquet_dfs,\n",
    "    table_name=select_table,\n",
    "    factor=select_cat_factor,\n",
    "    metadata=full_metadata,\n",
    ")\n",
    "\n",
    "bplot_beta_heatmap = pn.bind(\n",
    "    pl.beta_plot,\n",
    "    tables_dict=mgf_parquet_dfs,\n",
    "    table_name=select_table_beta,\n",
    "    norm=beta_norm,\n",
    "    taxon=select_taxon,\n",
    ")\n",
    "\n",
    "def update_beta_pc_plot(tables_dict, metadata, table_name, taxon, factor):\n",
    "    beta_pc_plot.object, explained_var_indicator.value = pl.beta_plot_pc(\n",
    "        tables_dict=tables_dict,\n",
    "        metadata=metadata,\n",
    "        table_name=table_name,\n",
    "        taxon=taxon,\n",
    "        factor=factor)\n",
    "\n",
    "beta_pc_plot = pn.pane.Matplotlib(\n",
    "    name=\"Beta PCoA\",\n",
    "    height=600,\n",
    "    )\n",
    "\n",
    "pn.bind(update_beta_pc_plot,\n",
    "    tables_dict=mgf_parquet_dfs,\n",
    "    metadata=full_metadata,\n",
    "    table_name=select_table_beta,\n",
    "    taxon=select_taxon,\n",
    "    factor=select_beta_factor,\n",
    "    watch=True,\n",
    "    )\n",
    "\n",
    "# show indicator of the explained variance\n",
    "explained_var_indicator = pn.indicators.Number(\n",
    "    name='Explained variance by PC1 + PC2', value=0, format='{value:.1f}%',\n",
    "    font_size='20pt',\n",
    "    title_size='12pt',\n",
    "    colors=[(33, 'red'), (50, 'gold'), (66, 'green')]\n",
    ")\n",
    "\n",
    "atable = pn.widgets.Tabulator(\n",
    "    df,\n",
    "    name=\"Data View\")\n",
    "\n",
    "# assemble tab with the matrix and checkbox\n",
    "heatmap_tab = pn.Column(\n",
    "    beta_norm,\n",
    "    bplot_beta_heatmap,\n",
    "    height=600,\n",
    "    scroll=True,\n",
    ")\n",
    "\n",
    "pcoa_tab = pn.Column(\n",
    "    explained_var_indicator,\n",
    "    beta_pc_plot,\n",
    "    height=600,\n",
    "    scroll=True,\n",
    ")\n",
    "\n",
    "tabs = pn.Tabs(\n",
    "    ('Alpha div.', bplot_alpha),\n",
    "    ('Av Aplpha div.', bplot_av_alpha),\n",
    "    ('Beta div.', heatmap_tab),\n",
    "    ('PCoA', pcoa_tab),\n",
    "    atable,\n",
    "    styles=styles,\n",
    "    margin=10,\n",
    ")\n",
    "\n",
    "def app():\n",
    "    cb = pn.state.add_periodic_callback(\n",
    "        partial(update_used_gb, indicator_usage),\n",
    "        period=1000,\n",
    "        timeout=None,\n",
    "        )\n",
    "    cb2 = pn.state.add_periodic_callback(\n",
    "        partial(update_used_gb, progress_bar),\n",
    "        period=1000,\n",
    "        timeout=None,\n",
    "        )\n",
    "    toggle = pn.widgets.Toggle(name='Toggle callback', value=True)\n",
    "    toggle.link(cb, bidirectional=True, value='running')\n",
    "    toggle.link(cb2, bidirectional=True, value='running')\n",
    "\n",
    "    indicators = pn.FlexBox(\n",
    "        progress_bar, indicator_usage, toggle)\n",
    "\n",
    "    template = pn.template.FastListTemplate(\n",
    "        title=\"Diversity Analysis\",\n",
    "        sidebar=[image,\n",
    "                \"# Alpha diversity\", select_table, select_cat_factor,\n",
    "                pn.layout.Divider(),\n",
    "                \"# Beta diversity\", select_table_beta, select_taxon, select_beta_factor,\n",
    "                ],\n",
    "        main=[pn.Column(indicators,\n",
    "                        tabs,\n",
    "                    )],\n",
    "        main_layout=None,\n",
    "        accent=ACCENT,\n",
    "    )\n",
    "    return template\n",
    "\n",
    "template = app()\n",
    "\n",
    "# stupid trick to trigger updata()\n",
    "select_beta_factor.value = select_beta_factor.options[1]\n",
    "select_beta_factor.value = select_beta_factor.options[0]\n",
    "\n",
    "if 'google.colab' in str(get_ipython()):  \n",
    "    s = serve_app(template, env=env, name=\"diversity_analysis\")\n",
    "else:\n",
    "    template.servable()"
   ]
  },
  {
   "cell_type": "markdown",
   "metadata": {},
   "source": [
    "### Uncomment this if running if running ngrok tunnel which you want to quit"
   ]
  },
  {
   "cell_type": "code",
   "execution_count": null,
   "metadata": {},
   "outputs": [],
   "source": [
    "# only use for the ngrok tunnel in GColab\n",
    "# close_server(s, env=env)"
   ]
  }
 ],
 "metadata": {
  "kernelspec": {
   "display_name": "momics-demos",
   "language": "python",
   "name": "momics-demos"
  },
  "language_info": {
   "codemirror_mode": {
    "name": "ipython",
    "version": 3
   },
   "file_extension": ".py",
   "mimetype": "text/x-python",
   "name": "python",
   "nbconvert_exporter": "python",
   "pygments_lexer": "ipython3",
   "version": "3.13.3"
  },
  "panel-cell-order": [
   "34c21507",
   "5911b6c2",
   "800d5521",
   "b8e2ef8c",
   "3994457e",
   "39906e39",
   "6de5ad4b",
   "bc1d1b61",
   "7485ce5b",
   "8f444fef"
  ]
 },
 "nbformat": 4,
 "nbformat_minor": 4
}
