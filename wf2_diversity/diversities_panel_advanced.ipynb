{
 "cells": [
  {
   "cell_type": "markdown",
   "metadata": {},
   "source": [
    "# Visualize pivoted taxonomy (LSU and SSU tables)\n",
    "- PCoA beta diversities\n",
    "- Permanova calculations"
   ]
  },
  {
   "cell_type": "markdown",
   "metadata": {},
   "source": [
    "## Platform dependent part\n",
    "- Resolve platform setup\n",
    "- the difference to local imports should be resolved by setting the Blue Cloud VRE well, Colab will still be an issue."
   ]
  },
  {
   "cell_type": "code",
   "execution_count": null,
   "metadata": {},
   "outputs": [],
   "source": [
    "import sys\n",
    "import os\n",
    "import io\n",
    "import gc\n",
    "import logging\n",
    "import psutil\n",
    "\n",
    "from IPython import get_ipython\n",
    "logger = logging.getLogger(name=\"Diversity analysis app\")\n",
    "\n",
    "if 'google.colab' in str(get_ipython()):\n",
    "    print('Setting Google colab, you will need a ngrok account to make the dashboard display over the tunnel. \\\n",
    "    https://ngrok.com/')\n",
    "    # clone the momics-demos repository to use it to load data\n",
    "    try:\n",
    "        os.system('git clone https://github.com/palec87/momics-demos.git')\n",
    "        logger.info(f\"Repository cloned\")\n",
    "    except OSError as e:\n",
    "        logger.info(f\"An error occurred while cloning the repository: {e}\")\n",
    "\n",
    "    sys.path.insert(0,'/content/momics-demos')\n",
    "\n",
    "    # this step takes time beacause of many dependencies\n",
    "    os.system('pip install momics@git+https://github.com/emo-bon/marine-omics-methods.git@main')\n",
    "\n",
    "elif psutil.users() == []:\n",
    "    logger.info(\"Binder\")\n",
    "    NUMBER_PERMUTATIONS = 29  # permanova extremely slow on binder\n",
    "else:\n",
    "    logger.info(\"Local\")\n",
    "    NUMBER_PERMUTATIONS = 999\n",
    "\n",
    "from momics.utils import (\n",
    "    memory_load, reconfig_logger,\n",
    "    init_setup, get_notebook_environment,\n",
    ")\n",
    "\n",
    "# Set up logging\n",
    "reconfig_logger()\n",
    "\n",
    "# Determine the notebook environment\n",
    "env = get_notebook_environment()\n",
    "\n",
    "init_setup()\n",
    "logger.info(f\"Environment: {env}\")"
   ]
  },
  {
   "cell_type": "markdown",
   "metadata": {},
   "source": [
    "## Imports"
   ]
  },
  {
   "cell_type": "code",
   "execution_count": null,
   "metadata": {},
   "outputs": [],
   "source": [
    "# This needs to be repeated here for the Pannel dashboard to work, WEIRD\n",
    "# TODO: report as possible bug\n",
    "import sys\n",
    "import os\n",
    "import io\n",
    "import warnings\n",
    "\n",
    "from functools import partial\n",
    "warnings.filterwarnings('ignore')\n",
    "\n",
    "# import numpy as np\n",
    "import pandas as pd\n",
    "# import matplotlib.pyplot as plt\n",
    "# import seaborn as sns\n",
    "import panel as pn\n",
    "from dotenv import load_dotenv\n",
    "load_dotenv()\n",
    "\n",
    "# from skbio.diversity import beta_diversity\n",
    "# from skbio.stats.ordination import pcoa\n",
    "\n",
    "# All low level functions are imported from the momics package\n",
    "from momics.diversity import run_permanova, update_subset_indicator, update_taxa_count_indicator\n",
    "from momics.loader import load_parquets\n",
    "from momics.metadata import enhance_metadata, filter_metadata_table, filter_data\n",
    "import momics.plotting as pl\n",
    "from momics.panel_utils import (\n",
    "    create_indicators_diversity,\n",
    "    serve_app,\n",
    "    close_server,\n",
    ")\n",
    "from momics.utils import memory_load, reconfig_logger\n",
    "from momics.taxonomy import (\n",
    "    pivot_taxonomic_data,\n",
    "    separate_taxonomy)"
   ]
  },
  {
   "cell_type": "markdown",
   "metadata": {},
   "source": [
    "### User settings"
   ]
  },
  {
   "cell_type": "code",
   "execution_count": null,
   "metadata": {},
   "outputs": [],
   "source": [
    "DEBUG = True  # enable stdout logging"
   ]
  },
  {
   "cell_type": "markdown",
   "metadata": {},
   "source": [
    "## Loading"
   ]
  },
  {
   "cell_type": "code",
   "execution_count": null,
   "metadata": {},
   "outputs": [],
   "source": [
    "def fill_na_for_object_columns(df):\n",
    "    \"\"\"\n",
    "    Fill NA values with 'NA' for object columns in the dataframe.\n",
    "\n",
    "    Args:\n",
    "        df (pd.DataFrame): The input dataframe.\n",
    "\n",
    "    Returns:\n",
    "        pd.DataFrame: The dataframe with NA values filled for object columns.\n",
    "    \"\"\"\n",
    "    # Apply fillna only to object columns\n",
    "    df[df.select_dtypes(include=['object']).columns] = df.select_dtypes(include=['object']).apply(lambda col: col.fillna('NA'))\n",
    "    return df\n",
    "\n",
    "@pn.cache()\n",
    "def get_data(folder):\n",
    "    return load_parquets(folder)\n",
    "\n",
    "@pn.cache()\n",
    "def get_metadata(folder):\n",
    "    # Load metadata\n",
    "    sample_metadata = pd.read_csv(\n",
    "        os.path.join(folder, \"Batch1and2_combined_logsheets_2024-11-12.csv\")\n",
    "    )\n",
    "\n",
    "    observatory_metadata = pd.read_csv(\n",
    "        os.path.join(folder, \"Observatory_combined_logsheets_validated.csv\")\n",
    "    )\n",
    "\n",
    "    # Merge metadata\n",
    "    full_metadata = pd.merge(\n",
    "        sample_metadata,\n",
    "        observatory_metadata,\n",
    "        on=[\"obs_id\", \"env_package\"],  # Matching conditions\n",
    "        how=\"inner\"  # Inner join\n",
    "    )\n",
    "\n",
    "    # Sort the merged dataframe by 'ref_code' column in ascending order\n",
    "    full_metadata = full_metadata.sort_values(by=\"ref_code\", ascending=True)\n",
    "\n",
    "    # first convert some of the boolean cols\n",
    "    full_metadata[\"failure\"] = full_metadata[\"failure\"].astype(str)\n",
    "    # replace the 'nan' values with 'NA'\n",
    "    full_metadata[\"failure\"] = full_metadata[\"failure\"].replace(\"nan\", \"NA\")\n",
    "\n",
    "\n",
    "    # adding replacement for the missing values for object type columns\n",
    "    full_metadata = fill_na_for_object_columns(full_metadata)\n",
    "    \n",
    "    return full_metadata"
   ]
  },
  {
   "cell_type": "markdown",
   "metadata": {},
   "source": [
    "### Data"
   ]
  },
  {
   "cell_type": "code",
   "execution_count": null,
   "metadata": {},
   "outputs": [],
   "source": [
    "# parquet files\n",
    "if 'google.colab' in str(get_ipython()):\n",
    "    root_folder = os.path.abspath(os.path.join('/content/momics-demos'))\n",
    "else:\n",
    "    root_folder = os.path.abspath(os.path.join('../'))\n",
    "\n",
    "\n",
    "data_folder = os.path.join(root_folder, 'data/parquet_files')\n",
    "assets_folder = os.path.join(root_folder, 'assets')\n",
    "\n",
    "\n",
    "mgf_parquet_dfs = get_data(data_folder)"
   ]
  },
  {
   "cell_type": "markdown",
   "metadata": {},
   "source": [
    "### Enhance matadata"
   ]
  },
  {
   "cell_type": "code",
   "execution_count": null,
   "metadata": {},
   "outputs": [],
   "source": [
    "## TODO: enhace metadata here\n",
    "# Load and merge metadata\n",
    "full_metadata = get_metadata(os.path.join(root_folder, 'data'))\n",
    "# fiter the metadata only for valid 181 samples\n",
    "df_valid = pd.read_csv(\n",
    "    os.path.join(root_folder, 'data/shipment_b1b2_181.csv')\n",
    ")\n",
    "\n",
    "full_metadata = enhance_metadata(full_metadata, df_valid)"
   ]
  },
  {
   "cell_type": "code",
   "execution_count": null,
   "metadata": {},
   "outputs": [],
   "source": [
    "# select categorical columns from metadata\n",
    "categorical_columns = sorted(full_metadata.select_dtypes(include=['object', \"boolean\"]).columns)\n",
    "cat_to_remove = [\"ref_code\", \"samp_description\", \"source_mat_id\", \"source_mat_id_orig\"]\n",
    "categorical_columns = [k for k in categorical_columns if k not in cat_to_remove]\n",
    "\n",
    "# select numerical columns from metadata\n",
    "numerical_columns = sorted(full_metadata.select_dtypes(include=['int64', 'float64']).columns)\n",
    "\n",
    "assert (\n",
    "    len(full_metadata.columns) == len(numerical_columns) + len(categorical_columns) + len(cat_to_remove), # + for removed cats\n",
    "\"i have wrong number orf columns in the metadata\",\n",
    ")\n",
    "\n",
    "if DEBUG:\n",
    "    logger.info(f\"Data table names are:\\n{mgf_parquet_dfs.keys()}\")\n",
    "    logger.info(f\"Categorical metadata columns are:\\n{categorical_columns}\")\n",
    "    logger.info(f\"Numerical metadata columns are:\\n{numerical_columns}\")\n",
    "\n",
    "# This is for PCoA from Andrzej more or less\n",
    "factors_to_remove = ['ENA_accession_number_project', \"ENA_accession_number_umbrella\", \"arr_date_hq\",\n",
    "                     \"arr_date_seq\", \"contact_email\", \"contact_name\", \"contact_orcid\",\n",
    "                     \"investigation_type\", \"long_store\", \"organism_count_method\", \"organization_edmoid\",\n",
    "                     'other_person', 'other_person_orcid',\"organization_country\", \"project_name\",\n",
    "                     \"samp_store_date\", 'samp_mat_process', 'samp_mat_process_dev',\n",
    "                     'samp_store_loc', 'sampl_person', 'sampl_person_orcid', 'store_person',\n",
    "                     'store_person_orcid', 'time_fi', \"wa_id\",\n",
    "                     'env_broad_biome', 'env_local', \"extra_site_info\", 'failure_comment',\n",
    "                     'obs_id', 'size_frac','ship_date', 'ship_date_seq', 'sampling_event', 'organism_count',\n",
    "                     'samp_collect_device',\n",
    "                     'ammonium_method', 'chlorophyll_method', 'conduc_method', 'density_method', 'diss_oxygen_method',\n",
    "                     'nitrate_method', 'nitrite_method', 'ph_method', 'phaeopigments_method', 'phosphate_method', 'pigments_method', 'pressure_method',\n",
    "                     'sea_subsurf_salinity_method', 'sea_subsurf_temp_method', 'sea_surf_salinity_method', 'sea_surf_temp_method',\n",
    "                     'silicate_method', 'turbidity_method']\n",
    "\n",
    "factor_cols = [col for col in categorical_columns if col not in factors_to_remove]"
   ]
  },
  {
   "cell_type": "markdown",
   "metadata": {},
   "source": [
    "## Pivot the tables"
   ]
  },
  {
   "cell_type": "code",
   "execution_count": null,
   "metadata": {},
   "outputs": [],
   "source": [
    "# LSU and SSU\n",
    "lsu = mgf_parquet_dfs['LSU']\n",
    "ssu = mgf_parquet_dfs['SSU']\n",
    "\n",
    "lsu_standard = pivot_taxonomic_data(lsu)\n",
    "ssu_standard = pivot_taxonomic_data(ssu)"
   ]
  },
  {
   "cell_type": "code",
   "execution_count": null,
   "metadata": {},
   "outputs": [],
   "source": [
    "# Free memory\n",
    "del mgf_parquet_dfs\n",
    "del lsu\n",
    "del ssu\n",
    "\n",
    "gc.collect()"
   ]
  },
  {
   "cell_type": "code",
   "execution_count": null,
   "metadata": {},
   "outputs": [],
   "source": [
    "lsu_standard.set_index('taxonomic_concat', inplace=True)\n",
    "ssu_standard.set_index('taxonomic_concat', inplace=True)\n",
    "\n",
    "split_taxo_tables_lsu = separate_taxonomy(lsu_standard)\n",
    "split_taxo_tables_ssu = separate_taxonomy(ssu_standard)"
   ]
  },
  {
   "cell_type": "code",
   "execution_count": null,
   "metadata": {},
   "outputs": [],
   "source": [
    "del lsu_standard\n",
    "del ssu_standard\n",
    "gc.collect()"
   ]
  },
  {
   "cell_type": "markdown",
   "metadata": {},
   "source": [
    "## Granular PCoA page for the app\n"
   ]
  },
  {
   "cell_type": "markdown",
   "metadata": {},
   "source": [
    "### Dropdowns for the pCOA\n",
    "- credits for inspiration to Andrzej Tkacz's NB"
   ]
  },
  {
   "cell_type": "code",
   "execution_count": null,
   "metadata": {},
   "outputs": [],
   "source": [
    "pn.extension(\"tabulator\")\n",
    "\n",
    "\n",
    "granular_tables = {\n",
    "    \"LSU\": split_taxo_tables_lsu,\n",
    "    \"SSU\": split_taxo_tables_ssu\n",
    "}\n",
    "\n",
    "select_granular_table = pn.widgets.Select(\n",
    "    name=\"Granular analysis\",\n",
    "    options= list(granular_tables.keys()),\n",
    "    description=\"Select a table for granular analysis\",\n",
    ")\n",
    "\n",
    "select_granular_level = pn.widgets.Select(\n",
    "    name=\"Subset taxonomic level\",\n",
    "    options=list(granular_tables[select_granular_table.value].keys()),\n",
    "    description=\"Select a table for analysis\",\n",
    ")\n",
    "\n",
    "pcoa_factor_dropdowns = {\n",
    "    categorical_col: pn.widgets.MultiSelect(\n",
    "        name=categorical_col,\n",
    "        value=['All'],\n",
    "        options=['All'] + list(full_metadata[categorical_col].unique()),\n",
    "        size=6, width=180,)\n",
    "        for categorical_col in factor_cols\n",
    "}\n",
    "\n",
    "box_granular = pn.GridBox(\n",
    "    *pcoa_factor_dropdowns.values(),\n",
    "    ncols=5,\n",
    "    )\n",
    "\n",
    "color_factor_granular = pn.widgets.Select(\n",
    "    name=\"Color by\",\n",
    "    value=factor_cols[0],\n",
    "    options=factor_cols,\n",
    ")\n",
    "\n",
    "# show indicator of the explained variance\n",
    "explained_var_indicator = pn.indicators.Number(\n",
    "    name='Explained variance by PC1 + PC2', value=0, format='{value:.1f}%',\n",
    "    font_size='20pt',\n",
    "    title_size='12pt',\n",
    "    colors=[(33, 'red'), (50, 'gold'), (66, 'green')]\n",
    ")\n",
    "\n",
    "beta_pc_plot_granular = pn.pane.Matplotlib(\n",
    "    height=600,\n",
    "    name=\"Beta PCoA\",\n",
    "    )\n",
    "\n",
    "button_filter_table = pn.widgets.Button(\n",
    "    name=\"Filter table\",\n",
    "    button_type=\"primary\",\n",
    "    width=200,\n",
    ")\n",
    "\n",
    "if DEBUG:\n",
    "    logger.info(f\"Granular levels are:\\n{list(granular_tables[select_granular_table.value].keys())}\")"
   ]
  },
  {
   "cell_type": "markdown",
   "metadata": {},
   "source": [
    "### Methods\n",
    "- filter data and metadata\n",
    "- update widgets"
   ]
  },
  {
   "cell_type": "code",
   "execution_count": null,
   "metadata": {},
   "outputs": [],
   "source": [
    "def get_filtered_metadata():\n",
    "    # Retrieve the selected factors from the dropdowns\n",
    "    selected_factors = {col: pcoa_factor_dropdowns[col].value for col in factor_cols}\n",
    "    # Filter the metadata table\n",
    "    filtered_metadata = filter_metadata_table(full_metadata, selected_factors)\n",
    "    return filtered_metadata\n",
    "\n",
    "\n",
    "def filter_all_box_selection(df):\n",
    "    # Retrieve the filtered metadata\n",
    "    filtered_metadata = get_filtered_metadata()\n",
    "    # Filter the data\n",
    "    filtered_data = filter_data(df, filtered_metadata)\n",
    "    return filtered_metadata, filtered_data\n",
    "\n",
    "\n",
    "def update_beta_pc_plot_granular(filtered_data, metadata, factor):\n",
    "    beta_pc_plot_granular.object, explained_var_indicator.value = pl.beta_plot_pc_granular(\n",
    "        filtered_data=filtered_data,\n",
    "        metadata=metadata,\n",
    "        factor=factor)\n",
    "\n",
    "\n",
    "def update_filtered_data(button):\n",
    "    logger.info(f\"Button clicked: {button.name}\")\n",
    "    # Retrieve the filtered metadata\n",
    "    filtered_metadata, filtered_data = filter_all_box_selection(\n",
    "        granular_tables[select_granular_table.value][select_granular_level.value])\n",
    "    logger.info(f\"matadata shape {filtered_metadata.shape}\")\n",
    "    logger.info(f\"data shape {filtered_data.shape}\")\n",
    "    # Update the beta plot\n",
    "    update_beta_pc_plot_granular(filtered_data, filtered_metadata, color_factor_granular.value)\n",
    "    update_subset_indicator(subset_selected, filtered_metadata)\n",
    "    update_taxa_count_indicator(taxa_selected, filtered_data)"
   ]
  },
  {
   "cell_type": "code",
   "execution_count": null,
   "metadata": {},
   "outputs": [],
   "source": [
    "filtered_metadata, filtered_data = filter_all_box_selection(granular_tables['LSU']['Bacteria_phylum'])"
   ]
  },
  {
   "cell_type": "markdown",
   "metadata": {},
   "source": [
    "### Bindings"
   ]
  },
  {
   "cell_type": "code",
   "execution_count": null,
   "metadata": {},
   "outputs": [],
   "source": [
    "button_filter_table.on_click(update_filtered_data)\n",
    "\n",
    "pn.bind(update_beta_pc_plot_granular,\n",
    "    filtered_data=filtered_data,\n",
    "    metadata=filtered_metadata,\n",
    "    factor=color_factor_granular,\n",
    "    watch=True,\n",
    "    )\n",
    "\n",
    "\n",
    "pcoa_instructions = pn.pane.Markdown(\n",
    "    \"\"\"\n",
    "    ### Instructions\n",
    "    1. Side panel filters LSU/SSU tables by taxonomy levels.\n",
    "    2. Color_by is used to color the beta diversity plot.\n",
    "    3. Main panel filter further the table by the metadata values.\n",
    "        - `Ctrl`-click to select multiple values in the dropdowns.\n",
    "    4. Filtering and update of the plot happens only after clicking the `Filter table` button to save CPU.\n",
    "    \"\"\"\n",
    ")\n",
    "\n",
    "pcoa_tab_granular = pn.Column(\n",
    "    pcoa_instructions,\n",
    "    box_granular,\n",
    "    button_filter_table,\n",
    "    explained_var_indicator,\n",
    "    beta_pc_plot_granular,\n",
    "    scroll=True,\n",
    ")"
   ]
  },
  {
   "cell_type": "markdown",
   "metadata": {},
   "source": [
    "## Permanova page for the app\n",
    "- Credits to Andrzej Tkacz"
   ]
  },
  {
   "cell_type": "markdown",
   "metadata": {},
   "source": [
    "### Widgets"
   ]
  },
  {
   "cell_type": "code",
   "execution_count": null,
   "metadata": {},
   "outputs": [],
   "source": [
    "# PERMANOVA Dropdowns\n",
    "permanova_factor = pn.widgets.Select(\n",
    "    name=\"Main Permanova factor\",\n",
    "    options=['All'] + factor_cols,\n",
    "    description='Limit by group(s) in factor:',\n",
    ")\n",
    "\n",
    "permanova_group = pn.widgets.MultiSelect(\n",
    "    name=\"Groups of unique values of the factor\",\n",
    "    options=[],\n",
    "    description='Groups:',\n",
    ")\n",
    "\n",
    "permanova_additional_factors = pn.widgets.MultiSelect(\n",
    "    name=\"Factors to test vs ALL the rest\",\n",
    "    options=factor_cols,\n",
    "    description='PERMANOVA Factors:',\n",
    ")\n",
    "\n",
    "permanova_button = pn.widgets.Button(\n",
    "    name=\"PERMANOVA\",\n",
    "    button_type=\"primary\",\n",
    "    width=200,\n",
    ")\n",
    "\n",
    "permanova_result_indicator = pn.widgets.Tabulator(pd.DataFrame(), name='Permanova Result')\n",
    "\n",
    "permanova_instructions = pn.pane.Markdown(\n",
    "    \"\"\"\n",
    "    ### Instructions\n",
    "    1. Select a factor to limit the analysis.\n",
    "    2. Select groups in the factor (`Ctrl`-click to select multiple).\n",
    "    3. Select additional factors for against which PERMANOVA will be run (`Ctrl`-click to select multiple).\n",
    "    4. Click the `PERMANOVA` button to run the analysis.\n",
    "    5. **NOTE**, locally permanova with 999 permutations is instant, however takes extremely long on binder.\n",
    "        - the number of permutations is set to 29 (for binder) and does not lead to correct p-value.\n",
    "        - If you run locally it is 999.\n",
    "    \"\"\"\n",
    ")"
   ]
  },
  {
   "cell_type": "markdown",
   "metadata": {},
   "source": [
    "### Updates and bindings"
   ]
  },
  {
   "cell_type": "code",
   "execution_count": null,
   "metadata": {},
   "outputs": [],
   "source": [
    "def update_permanova_result():\n",
    "    # Run the permanova function and update the result indicator\n",
    "    permanova_results = run_permanova(\n",
    "        granular_tables[select_granular_table.value][select_granular_level.value],\n",
    "        full_metadata,\n",
    "        permanova_factor.value,\n",
    "        permanova_group.value,\n",
    "        permanova_additional_factors.value,\n",
    "        permutations=NUMBER_PERMUTATIONS,  # 29 for binder, 999 for local\n",
    "        verbose=True,\n",
    "    )\n",
    "    permanova_result_indicator.value = pd.DataFrame.from_dict(permanova_results)\n",
    "\n",
    "# Update groups based on selected factor\n",
    "def update_groups(permanova_factor):\n",
    "    logger.info(f\"Permanova factor value: {permanova_factor}\")\n",
    "    if permanova_factor in factor_cols:\n",
    "        unique_groups = sorted(full_metadata[permanova_factor].dropna().unique())\n",
    "        permanova_group.options = unique_groups\n",
    "    elif permanova_factor == 'All':\n",
    "        permanova_group.options = sorted(full_metadata['ref_code'].dropna().unique())\n",
    "    else:\n",
    "        raise ValueError(f\"Unknown factor: {permanova_factor}\")\n",
    "    \n",
    "pn.bind(update_groups,\n",
    "    permanova_factor,\n",
    "    watch=True,\n",
    ")\n",
    "\n",
    "permanova_button.on_click(\n",
    "    lambda event: update_permanova_result()\n",
    ")"
   ]
  },
  {
   "cell_type": "code",
   "execution_count": null,
   "metadata": {},
   "outputs": [],
   "source": [
    "permanova_tab = pn.Column(\n",
    "    permanova_instructions,\n",
    "    pn.Row(\n",
    "        permanova_factor,\n",
    "        permanova_group,\n",
    "        permanova_additional_factors,\n",
    "    ),\n",
    "    permanova_button,\n",
    "    permanova_result_indicator,\n",
    "    scroll=True,\n",
    ")"
   ]
  },
  {
   "cell_type": "markdown",
   "metadata": {},
   "source": [
    "### Add to the side panel"
   ]
  },
  {
   "cell_type": "code",
   "execution_count": null,
   "metadata": {},
   "outputs": [],
   "source": [
    "total_samplings = full_metadata['ref_code'].nunique()\n",
    "subset = filtered_metadata['ref_code'].nunique()\n",
    "taxa_count = len(filtered_data)\n",
    "\n",
    "\n",
    "subset_selected = pn.indicators.Number(\n",
    "    name=\"Subset of samples you filtered\",\n",
    "    value=subset,\n",
    "    format=\"{value}\" + f\"/{total_samplings}\",\n",
    "    width=150,\n",
    "    font_size=\"34px\",\n",
    "    title_size=\"14px\",\n",
    ")\n",
    "\n",
    "taxa_selected = pn.indicators.Number(\n",
    "    name=\"Taxa in the selection.\",\n",
    "    value=taxa_count,\n",
    "    format=\"{value}\",\n",
    "    width=150,\n",
    "    font_size=\"34px\",\n",
    "    title_size=\"14px\",\n",
    ")"
   ]
  },
  {
   "cell_type": "markdown",
   "metadata": {},
   "source": [
    "## APP setup"
   ]
  },
  {
   "cell_type": "code",
   "execution_count": null,
   "metadata": {
    "scrolled": true
   },
   "outputs": [],
   "source": [
    "pn.extension(\"tabulator\")\n",
    "if 'google.colab' in str(get_ipython()):\n",
    "    pn.extension(comms='colab')\n",
    "ACCENT = \"teal\"\n",
    "\n",
    "styles = {\n",
    "    \"box-shadow\": \"rgba(50, 50, 93, 0.25) 0px 6px 12px -2px, rgba(0, 0, 0, 0.3) 0px 3px 7px -3px\",\n",
    "    \"border-radius\": \"4px\",\n",
    "    \"padding\": \"10px\",\n",
    "}\n",
    "\n",
    "# TODO: there is a bug in the panel library that does not allow to open png files, renoming does not help \n",
    "image = pn.pane.JPG(os.path.join(assets_folder, \"figs/metaGOflow_logo_italics.jpg\"),\n",
    "                    width=200,\n",
    "                    height=100,\n",
    "                    )\n",
    "\n",
    "tabs = pn.Tabs(\n",
    "    ('PCoA', pcoa_tab_granular),\n",
    "    ('Permanova', permanova_tab),\n",
    "    # atable,\n",
    "    styles=styles,\n",
    "    margin=10\n",
    ")\n",
    "_, indicator_usage = create_indicators_diversity()\n",
    "\n",
    "def update_used_gb(event):\n",
    "    if not event:\n",
    "        return\n",
    "\n",
    "    used_gb, total_gb = memory_load()\n",
    "    indicator_usage.value = used_gb\n",
    "\n",
    "\n",
    "# logger.info(f\"just before the app definition {granular_tables[select_granular_table][select_granular_level].shape}\")\n",
    "filtered_metadata, filtered_data = filter_all_box_selection(\n",
    "        granular_tables[select_granular_table.value][select_granular_level.value],\n",
    "        )\n",
    "\n",
    "def app():\n",
    "    cb = pn.state.add_periodic_callback(\n",
    "        partial(update_used_gb, indicator_usage),\n",
    "        period=1000,\n",
    "        timeout=None,\n",
    "        )\n",
    "\n",
    "    toggle = pn.widgets.Toggle(\n",
    "        name='Toggle callback',\n",
    "        value=True,\n",
    "        button_type='success',)\n",
    "    toggle.link(cb, bidirectional=True, value='running')\n",
    "\n",
    "    template = pn.template.FastListTemplate(\n",
    "        title=\"Diversity Analysis\",\n",
    "        sidebar=[image,\n",
    "                \"# Beta granular\", select_granular_table, select_granular_level,\n",
    "                color_factor_granular,\n",
    "                pn.layout.Divider(),\n",
    "                subset_selected,\n",
    "                taxa_selected,\n",
    "                pn.layout.Divider(),\n",
    "                indicator_usage,\n",
    "                toggle,\n",
    "                ],\n",
    "        main=[pn.Column(\n",
    "                tabs,\n",
    "            )],\n",
    "        main_layout=None,\n",
    "        accent=ACCENT,\n",
    "    )\n",
    "    return template\n",
    "\n",
    "template = app()\n",
    "\n",
    "# stupid trick to trigger updata()\n",
    "color_factor_granular.value = color_factor_granular.options[1]\n",
    "color_factor_granular.value = color_factor_granular.options[0]\n",
    "\n",
    "if 'google.colab' in str(get_ipython()):  \n",
    "    s = serve_app(template, env=env, name=\"diversity_analysis\")\n",
    "else:\n",
    "    template.servable()"
   ]
  },
  {
   "cell_type": "markdown",
   "metadata": {},
   "source": [
    "### Uncomment this if running if running ngrok tunnel which you want to quit"
   ]
  },
  {
   "cell_type": "code",
   "execution_count": null,
   "metadata": {},
   "outputs": [],
   "source": [
    "# only use for the ngrok tunnel in GColab\n",
    "# close_server(s, env=env)"
   ]
  }
 ],
 "metadata": {
  "kernelspec": {
   "display_name": "momicsdem",
   "language": "python",
   "name": "momicsdem"
  },
  "language_info": {
   "codemirror_mode": {
    "name": "ipython",
    "version": 3
   },
   "file_extension": ".py",
   "mimetype": "text/x-python",
   "name": "python",
   "nbconvert_exporter": "python",
   "pygments_lexer": "ipython3",
   "version": "3.10.12"
  },
  "panel-cell-order": [
   "34c21507",
   "5911b6c2",
   "800d5521",
   "b8e2ef8c",
   "3994457e",
   "39906e39",
   "6de5ad4b",
   "bc1d1b61",
   "7485ce5b",
   "8f444fef"
  ]
 },
 "nbformat": 4,
 "nbformat_minor": 4
}
