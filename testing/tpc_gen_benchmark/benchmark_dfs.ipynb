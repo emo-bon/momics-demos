{
 "cells": [
  {
   "cell_type": "markdown",
   "metadata": {},
   "source": [
    "# Compare pandas with polars and ducks\n",
    "* artificial dataframe of genetic data? Is there other data with general interest\n",
    "* what ARE the time expensive operations?\n",
    "* I will use the `ko` parquet file\n",
    "* I want to reproduce queries from TPC-H benchmark\n",
    "  * fireducks developed codes in https://github.com/fireducks-dev/polars-tpch/tree/fireducks_20250204\n",
    "  "
   ]
  },
  {
   "cell_type": "code",
   "execution_count": 1,
   "metadata": {},
   "outputs": [],
   "source": [
    "import pandas as pd\n",
    "import polars as pl\n",
    "\n",
    "\n",
    "import utils_pandas as upd\n",
    "import utils_polars as upl\n",
    "import utils_fireducks as ufd\n",
    "\n",
    "%load_ext autoreload\n",
    "%autoreload 2\n"
   ]
  },
  {
   "cell_type": "code",
   "execution_count": 2,
   "metadata": {},
   "outputs": [],
   "source": [
    "\n",
    "def q1_pandas() -> None:\n",
    "    # first call one time to cache in case we don't include the IO times\n",
    "    lineitem = upd.get_line_item_ds()\n",
    "\n",
    "    def query():\n",
    "        lineitem = upd.get_line_item_ds()\n",
    "\n",
    "        q_final = (\n",
    "            lineitem[lineitem[\"abundance\"] >= 1000]\n",
    "            .groupby(\"ref_code\")\n",
    "            .agg(\n",
    "                sum_abundance=(\"abundance\", \"sum\"),\n",
    "                avg_abundance=(\"abundance\", \"mean\"),\n",
    "                count_abundance=(\"abundance\", \"count\"),\n",
    "            )\n",
    "            .sort_values(\"sum_abundance\")\n",
    "        )\n",
    "        # q_final = (\n",
    "        #     lineitem[lineitem[\"l_shipdate\"] <= date(1998, 9, 2)]\n",
    "        #     .assign(\n",
    "        #         disc_price=lambda df: df[\"l_extendedprice\"] * (1 - df[\"l_discount\"])\n",
    "        #     )\n",
    "        #     .assign(charge=lambda df: df[\"disc_price\"] * (1 + df[\"l_tax\"]))\n",
    "        #     .groupby([\"l_returnflag\", \"l_linestatus\"], as_index=False)\n",
    "        #     .agg(\n",
    "        #         sum_qty=(\"l_quantity\", \"sum\"),\n",
    "        #         sum_base_price=(\"l_extendedprice\", \"sum\"),\n",
    "        #         sum_disc_price=(\"disc_price\", \"sum\"),\n",
    "        #         sum_charge=(\"charge\", \"sum\"),\n",
    "        #         avg_qty=(\"l_quantity\", \"mean\"),\n",
    "        #         avg_price=(\"l_extendedprice\", \"mean\"),\n",
    "        #         avg_disc=(\"l_discount\", \"mean\"),\n",
    "        #         count_order=(\"l_returnflag\", \"count\"),\n",
    "        #     )\n",
    "        #     .sort_values([\"l_returnflag\", \"l_linestatus\"])\n",
    "        # )\n",
    "\n",
    "        return q_final\n",
    "    \n",
    "    upd.run_query(Q_NUM, query)\n",
    "\n",
    "\n",
    "def q1_polars() -> None:\n",
    "    lineitem = upl.get_line_item_ds()\n",
    "\n",
    "    var1 = 1000\n",
    "    q_final = (\n",
    "        lineitem.filter(pl.col(\"abundance\") >= var1)\n",
    "        .group_by(\"ref_code\")\n",
    "        .agg(\n",
    "            pl.sum(\"abundance\").alias(\"sum_abundance\"),\n",
    "            pl.mean(\"abundance\").alias(\"avg_abundance\"),\n",
    "            pl.len().alias(\"count\"),\n",
    "        )\n",
    "        .sort(\"sum_abundance\")\n",
    "    )\n",
    "    # q_final = (\n",
    "    #     lineitem.filter(pl.col(\"l_shipdate\") <= var1)\n",
    "    #     .group_by(\"l_returnflag\", \"l_linestatus\")\n",
    "    #     .agg(\n",
    "    #         pl.sum(\"l_quantity\").alias(\"sum_qty\"),\n",
    "    #         pl.sum(\"l_extendedprice\").alias(\"sum_base_price\"),\n",
    "    #         (pl.col(\"l_extendedprice\") * (1.0 - pl.col(\"l_discount\")))\n",
    "    #         .sum()\n",
    "    #         .alias(\"sum_disc_price\"),\n",
    "    #         (\n",
    "    #             pl.col(\"l_extendedprice\")\n",
    "    #             * (1.0 - pl.col(\"l_discount\"))\n",
    "    #             * (1.0 + pl.col(\"l_tax\"))\n",
    "    #         )\n",
    "    #         .sum()\n",
    "    #         .alias(\"sum_charge\"),\n",
    "    #         pl.mean(\"l_quantity\").alias(\"avg_qty\"),\n",
    "    #         pl.mean(\"l_extendedprice\").alias(\"avg_price\"),\n",
    "    #         pl.mean(\"l_discount\").alias(\"avg_disc\"),\n",
    "    #         pl.len().alias(\"count_order\"),\n",
    "    #     )\n",
    "    #     .sort(\"l_returnflag\", \"l_linestatus\")\n",
    "    # )\n",
    "\n",
    "    upl.run_query(Q_NUM, q_final)\n",
    "\n",
    "\n",
    "def q1_fireducks():\n",
    "    # first call one time to cache in case we don't include the IO times\n",
    "    ufd.get_line_item_ds()\n",
    "\n",
    "    def query():\n",
    "        lineitem = upd.get_line_item_ds()\n",
    "\n",
    "        q_final = (\n",
    "            lineitem[lineitem[\"abundance\"] >= 1000]\n",
    "            .groupby(\"ref_code\")\n",
    "            .agg(\n",
    "                sum_abundance=(\"abundance\", \"sum\"),\n",
    "                avg_abundance=(\"abundance\", \"mean\"),\n",
    "                count_abundance=(\"abundance\", \"count\"),\n",
    "            )\n",
    "            .sort_values(\"sum_abundance\")\n",
    "        )\n",
    "\n",
    "        return q_final\n",
    "\n",
    "    ufd.run_query(Q_NUM, query)\n"
   ]
  },
  {
   "cell_type": "code",
   "execution_count": 3,
   "metadata": {},
   "outputs": [],
   "source": [
    "# df = upd.get_line_item_ds()\n",
    "# df.info(), df.nunique()"
   ]
  },
  {
   "cell_type": "code",
   "execution_count": 4,
   "metadata": {},
   "outputs": [],
   "source": [
    "Q_NUM = 1"
   ]
  },
  {
   "cell_type": "code",
   "execution_count": 5,
   "metadata": {},
   "outputs": [
    {
     "name": "stdout",
     "output_type": "stream",
     "text": [
      "Code block 'Run pandas query 1' took: 0.08028 s\n",
      "Code block 'Run polars query 1' took: 0.00321 s\n"
     ]
    }
   ],
   "source": [
    "q1_pandas()\n",
    "q1_polars()\n"
   ]
  },
  {
   "cell_type": "code",
   "execution_count": 6,
   "metadata": {},
   "outputs": [
    {
     "name": "stdout",
     "output_type": "stream",
     "text": [
      "Code block 'Run fireducks query 1' took: 0.00805 s\n"
     ]
    }
   ],
   "source": [
    "%load_ext fireducks.pandas\n",
    "import pandas as pd\n",
    "\n",
    "q1_fireducks()\n"
   ]
  }
 ],
 "metadata": {
  "kernelspec": {
   "display_name": "momicsdem",
   "language": "python",
   "name": "python3"
  },
  "language_info": {
   "codemirror_mode": {
    "name": "ipython",
    "version": 3
   },
   "file_extension": ".py",
   "mimetype": "text/x-python",
   "name": "python",
   "nbconvert_exporter": "python",
   "pygments_lexer": "ipython3",
   "version": "3.10.12"
  }
 },
 "nbformat": 4,
 "nbformat_minor": 2
}
