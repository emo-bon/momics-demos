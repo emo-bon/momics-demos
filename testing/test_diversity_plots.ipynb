{
 "cells": [
  {
   "cell_type": "markdown",
   "metadata": {},
   "source": [
    "## Fater testing out of the panel app integrations"
   ]
  },
  {
   "cell_type": "code",
   "execution_count": 1,
   "metadata": {},
   "outputs": [
    {
     "name": "stdout",
     "output_type": "stream",
     "text": [
      "Platform: local Linux\n"
     ]
    }
   ],
   "source": [
    "import sys\n",
    "import os\n",
    "import io\n",
    "\n",
    "sys.path.append(os.path.abspath(os.path.join(os.getcwd(), '..')))\n",
    "from utils import init_setup\n",
    "init_setup()\n",
    "\n",
    "import warnings\n",
    "warnings.filterwarnings('ignore')\n",
    "\n",
    "import numpy as np\n",
    "import pandas as pd\n",
    "import matplotlib.pyplot as plt\n",
    "import seaborn as sns\n",
    "# import panel as pn\n",
    "\n",
    "from skbio.diversity import beta_diversity\n",
    "from skbio.stats.ordination import pcoa\n",
    "\n",
    "# All low level functions are imported from the momics package\n",
    "from momics.loader import load_parquets\n",
    "import momics.plotting as pl\n",
    "# from momics.panel_utils import diversity_select_widgets, create_indicators\n",
    "# from momics.utils import memory_load\n",
    "from momics.diversity import (\n",
    "    shannon_index,\n",
    "    calculate_alpha_diversity,\n",
    "    alpha_diversity_parametrized,\n",
    "    beta_diversity_parametrized,\n",
    ")\n",
    "\n",
    "# Note: This is breaking the panel preview functionality\n",
    "%load_ext autoreload\n",
    "%autoreload 2"
   ]
  },
  {
   "cell_type": "code",
   "execution_count": 2,
   "metadata": {},
   "outputs": [],
   "source": [
    "def get_data(folder):\n",
    "    return load_parquets(folder)\n",
    "\n",
    "def fill_na_for_object_columns(df):\n",
    "    \"\"\"\n",
    "    Fill NA values with 'NA' for object columns in the dataframe.\n",
    "\n",
    "    Args:\n",
    "        df (pd.DataFrame): The input dataframe.\n",
    "\n",
    "    Returns:\n",
    "        pd.DataFrame: The dataframe with NA values filled for object columns.\n",
    "    \"\"\"\n",
    "    # Apply fillna only to object columns\n",
    "    df[df.select_dtypes(include=['object']).columns] = df.select_dtypes(include=['object']).apply(lambda col: col.fillna('NA'))\n",
    "    return df\n",
    "\n",
    "def get_metadata(folder):\n",
    "    # Load metadata\n",
    "    sample_metadata = pd.read_csv(\n",
    "        os.path.join(folder, \"Batch1and2_combined_logsheets_2024-09-11.csv\")\n",
    "    )\n",
    "\n",
    "    observatory_metadata = pd.read_csv(\n",
    "        os.path.join(folder, \"Observatory_combined_logsheets_validated.csv\")\n",
    "    )\n",
    "\n",
    "    # Merge metadata\n",
    "    full_metadata = pd.merge(\n",
    "        sample_metadata,\n",
    "        observatory_metadata,\n",
    "        on=[\"obs_id\", \"env_package\"],  # Matching conditions\n",
    "        how=\"inner\"  # Inner join\n",
    "    )\n",
    "\n",
    "    # Sort the merged dataframe by 'ref_code' column in ascending order\n",
    "    full_metadata = full_metadata.sort_values(by=\"ref_code\", ascending=True)\n",
    "\n",
    "    # first convert some of the boolean cols\n",
    "    full_metadata[\"failure\"] = full_metadata[\"failure\"].astype(str)\n",
    "    # replace the 'nan' values with 'NA'\n",
    "    full_metadata[\"failure\"] = full_metadata[\"failure\"].replace(\"nan\", \"NA\")\n",
    "\n",
    "\n",
    "    # adding replacement for the missing values for object type columns\n",
    "    full_metadata = fill_na_for_object_columns(full_metadata)\n",
    "    \n",
    "    return full_metadata"
   ]
  },
  {
   "cell_type": "code",
   "execution_count": 3,
   "metadata": {},
   "outputs": [],
   "source": [
    "# parquet files\n",
    "if 'google.colab' in str(get_ipython()):\n",
    "    root_folder = os.path.abspath(os.path.join('/content/momics-demos'))\n",
    "else:\n",
    "    root_folder = os.path.abspath(os.path.join('../'))\n",
    "\n",
    "\n",
    "data_folder = os.path.join(root_folder, 'data/parquet_files')\n",
    "assets_folder = os.path.join(root_folder, 'assets')\n",
    "\n",
    "\n",
    "mgf_parquet_dfs = get_data(data_folder)\n",
    "\n",
    "# metadata\n",
    "# Load and merge metadata\n",
    "full_metadata = get_metadata(data_folder)\n",
    "\n",
    "# select categorical columns from metadata\n",
    "categorical_columns = sorted(full_metadata.select_dtypes(include=['object', \"boolean\"]).columns)\n",
    "cat_to_remove = [\"ref_code\", \"samp_description\", \"source_mat_id\", \"source_mat_id_orig\"]\n",
    "categorical_columns = [k for k in categorical_columns if k not in cat_to_remove]\n",
    "\n",
    "# select numerical columns from metadata\n",
    "numerical_columns = sorted(full_metadata.select_dtypes(include=['int64', 'float64']).columns)\n",
    "\n",
    "assert len(full_metadata.columns) == len(numerical_columns) + len(categorical_columns) + len(cat_to_remove)  # +1 for 'ref_code'"
   ]
  },
  {
   "cell_type": "code",
   "execution_count": 4,
   "metadata": {},
   "outputs": [
    {
     "data": {
      "text/plain": [
       "(dict, 7, pandas.core.frame.DataFrame)"
      ]
     },
     "execution_count": 4,
     "metadata": {},
     "output_type": "execute_result"
    }
   ],
   "source": [
    "type(mgf_parquet_dfs), len(mgf_parquet_dfs), type(mgf_parquet_dfs['go'])"
   ]
  },
  {
   "cell_type": "code",
   "execution_count": 5,
   "metadata": {},
   "outputs": [],
   "source": [
    "# no problem here, just ADD the normalization option\n",
    "beta = beta_diversity_parametrized(mgf_parquet_dfs['SSU'], 'class')\n",
    "# beta.to_data_frame().columns"
   ]
  },
  {
   "cell_type": "code",
   "execution_count": 10,
   "metadata": {},
   "outputs": [
    {
     "data": {
      "text/html": [
       "<div>\n",
       "<style scoped>\n",
       "    .dataframe tbody tr th:only-of-type {\n",
       "        vertical-align: middle;\n",
       "    }\n",
       "\n",
       "    .dataframe tbody tr th {\n",
       "        vertical-align: top;\n",
       "    }\n",
       "\n",
       "    .dataframe thead th {\n",
       "        text-align: right;\n",
       "    }\n",
       "</style>\n",
       "<table border=\"1\" class=\"dataframe\">\n",
       "  <thead>\n",
       "    <tr style=\"text-align: right;\">\n",
       "      <th></th>\n",
       "      <th>PC1</th>\n",
       "      <th>PC2</th>\n",
       "      <th>PC3</th>\n",
       "      <th>PC4</th>\n",
       "      <th>PC5</th>\n",
       "      <th>PC6</th>\n",
       "      <th>PC7</th>\n",
       "      <th>PC8</th>\n",
       "      <th>PC9</th>\n",
       "      <th>PC10</th>\n",
       "      <th>...</th>\n",
       "      <th>PC45</th>\n",
       "      <th>PC46</th>\n",
       "      <th>PC47</th>\n",
       "      <th>PC48</th>\n",
       "      <th>PC49</th>\n",
       "      <th>PC50</th>\n",
       "      <th>PC51</th>\n",
       "      <th>PC52</th>\n",
       "      <th>PC53</th>\n",
       "      <th>PC54</th>\n",
       "    </tr>\n",
       "  </thead>\n",
       "  <tbody>\n",
       "    <tr>\n",
       "      <th>EMOBON00001</th>\n",
       "      <td>-0.264807</td>\n",
       "      <td>-0.032960</td>\n",
       "      <td>0.061166</td>\n",
       "      <td>-0.088810</td>\n",
       "      <td>0.004280</td>\n",
       "      <td>-0.118417</td>\n",
       "      <td>0.029262</td>\n",
       "      <td>-0.032240</td>\n",
       "      <td>-0.048454</td>\n",
       "      <td>-0.008452</td>\n",
       "      <td>...</td>\n",
       "      <td>0.0</td>\n",
       "      <td>0.0</td>\n",
       "      <td>0.0</td>\n",
       "      <td>0.0</td>\n",
       "      <td>0.0</td>\n",
       "      <td>0.0</td>\n",
       "      <td>0.0</td>\n",
       "      <td>0.0</td>\n",
       "      <td>0.0</td>\n",
       "      <td>0.0</td>\n",
       "    </tr>\n",
       "    <tr>\n",
       "      <th>EMOBON00084</th>\n",
       "      <td>-0.243453</td>\n",
       "      <td>-0.046238</td>\n",
       "      <td>0.048309</td>\n",
       "      <td>-0.167371</td>\n",
       "      <td>0.121040</td>\n",
       "      <td>-0.148858</td>\n",
       "      <td>0.098479</td>\n",
       "      <td>-0.104726</td>\n",
       "      <td>-0.018356</td>\n",
       "      <td>-0.045707</td>\n",
       "      <td>...</td>\n",
       "      <td>0.0</td>\n",
       "      <td>0.0</td>\n",
       "      <td>0.0</td>\n",
       "      <td>0.0</td>\n",
       "      <td>0.0</td>\n",
       "      <td>0.0</td>\n",
       "      <td>0.0</td>\n",
       "      <td>0.0</td>\n",
       "      <td>0.0</td>\n",
       "      <td>0.0</td>\n",
       "    </tr>\n",
       "    <tr>\n",
       "      <th>EMOBON00086</th>\n",
       "      <td>-0.102705</td>\n",
       "      <td>-0.048966</td>\n",
       "      <td>0.002641</td>\n",
       "      <td>0.046028</td>\n",
       "      <td>0.211569</td>\n",
       "      <td>-0.119856</td>\n",
       "      <td>-0.140285</td>\n",
       "      <td>-0.139277</td>\n",
       "      <td>-0.050580</td>\n",
       "      <td>0.037447</td>\n",
       "      <td>...</td>\n",
       "      <td>0.0</td>\n",
       "      <td>0.0</td>\n",
       "      <td>0.0</td>\n",
       "      <td>0.0</td>\n",
       "      <td>0.0</td>\n",
       "      <td>0.0</td>\n",
       "      <td>0.0</td>\n",
       "      <td>0.0</td>\n",
       "      <td>0.0</td>\n",
       "      <td>0.0</td>\n",
       "    </tr>\n",
       "    <tr>\n",
       "      <th>EMOBON00088</th>\n",
       "      <td>-0.253481</td>\n",
       "      <td>-0.011165</td>\n",
       "      <td>-0.005298</td>\n",
       "      <td>-0.030183</td>\n",
       "      <td>-0.008775</td>\n",
       "      <td>-0.088108</td>\n",
       "      <td>-0.001221</td>\n",
       "      <td>-0.016257</td>\n",
       "      <td>-0.056592</td>\n",
       "      <td>-0.002055</td>\n",
       "      <td>...</td>\n",
       "      <td>0.0</td>\n",
       "      <td>0.0</td>\n",
       "      <td>0.0</td>\n",
       "      <td>0.0</td>\n",
       "      <td>0.0</td>\n",
       "      <td>0.0</td>\n",
       "      <td>0.0</td>\n",
       "      <td>0.0</td>\n",
       "      <td>0.0</td>\n",
       "      <td>0.0</td>\n",
       "    </tr>\n",
       "    <tr>\n",
       "      <th>EMOBON00091</th>\n",
       "      <td>-0.275367</td>\n",
       "      <td>-0.033219</td>\n",
       "      <td>0.008284</td>\n",
       "      <td>-0.047196</td>\n",
       "      <td>0.043599</td>\n",
       "      <td>-0.055258</td>\n",
       "      <td>0.035214</td>\n",
       "      <td>-0.025480</td>\n",
       "      <td>-0.071940</td>\n",
       "      <td>0.016451</td>\n",
       "      <td>...</td>\n",
       "      <td>0.0</td>\n",
       "      <td>0.0</td>\n",
       "      <td>0.0</td>\n",
       "      <td>0.0</td>\n",
       "      <td>0.0</td>\n",
       "      <td>0.0</td>\n",
       "      <td>0.0</td>\n",
       "      <td>0.0</td>\n",
       "      <td>0.0</td>\n",
       "      <td>0.0</td>\n",
       "    </tr>\n",
       "  </tbody>\n",
       "</table>\n",
       "<p>5 rows × 54 columns</p>\n",
       "</div>"
      ],
      "text/plain": [
       "                  PC1       PC2       PC3       PC4       PC5       PC6  \\\n",
       "EMOBON00001 -0.264807 -0.032960  0.061166 -0.088810  0.004280 -0.118417   \n",
       "EMOBON00084 -0.243453 -0.046238  0.048309 -0.167371  0.121040 -0.148858   \n",
       "EMOBON00086 -0.102705 -0.048966  0.002641  0.046028  0.211569 -0.119856   \n",
       "EMOBON00088 -0.253481 -0.011165 -0.005298 -0.030183 -0.008775 -0.088108   \n",
       "EMOBON00091 -0.275367 -0.033219  0.008284 -0.047196  0.043599 -0.055258   \n",
       "\n",
       "                  PC7       PC8       PC9      PC10  ...  PC45  PC46  PC47  \\\n",
       "EMOBON00001  0.029262 -0.032240 -0.048454 -0.008452  ...   0.0   0.0   0.0   \n",
       "EMOBON00084  0.098479 -0.104726 -0.018356 -0.045707  ...   0.0   0.0   0.0   \n",
       "EMOBON00086 -0.140285 -0.139277 -0.050580  0.037447  ...   0.0   0.0   0.0   \n",
       "EMOBON00088 -0.001221 -0.016257 -0.056592 -0.002055  ...   0.0   0.0   0.0   \n",
       "EMOBON00091  0.035214 -0.025480 -0.071940  0.016451  ...   0.0   0.0   0.0   \n",
       "\n",
       "             PC48  PC49  PC50  PC51  PC52  PC53  PC54  \n",
       "EMOBON00001   0.0   0.0   0.0   0.0   0.0   0.0   0.0  \n",
       "EMOBON00084   0.0   0.0   0.0   0.0   0.0   0.0   0.0  \n",
       "EMOBON00086   0.0   0.0   0.0   0.0   0.0   0.0   0.0  \n",
       "EMOBON00088   0.0   0.0   0.0   0.0   0.0   0.0   0.0  \n",
       "EMOBON00091   0.0   0.0   0.0   0.0   0.0   0.0   0.0  \n",
       "\n",
       "[5 rows x 54 columns]"
      ]
     },
     "execution_count": 10,
     "metadata": {},
     "output_type": "execute_result"
    }
   ],
   "source": [
    "pcoa_result = pcoa(beta, method=\"eigh\") #, number_of_dimensions=3)\n",
    "pcoa_result.samples.head()"
   ]
  },
  {
   "cell_type": "markdown",
   "metadata": {},
   "source": [
    "## I just need to use pcoa_results.proportion_explained"
   ]
  },
  {
   "cell_type": "code",
   "execution_count": 14,
   "metadata": {},
   "outputs": [
    {
     "data": {
      "text/plain": [
       "10.251691497065252"
      ]
     },
     "execution_count": 14,
     "metadata": {},
     "output_type": "execute_result"
    },
    {
     "data": {
      "image/png": "[encoded data removed]",
      "text/plain": [
       "<Figure size 640x480 with 1 Axes>"
      ]
     },
     "metadata": {},
     "output_type": "display_data"
    }
   ],
   "source": [
    "## test if eigen values are ordered\n",
    "plt.bar(range(len(pcoa_result.eigvals)), pcoa_result.eigvals)\n",
    "sum(pcoa_result.eigvals)"
   ]
  },
  {
   "cell_type": "code",
   "execution_count": 17,
   "metadata": {},
   "outputs": [
    {
     "data": {
      "text/plain": [
       "np.float64(56.41870203837217)"
      ]
     },
     "execution_count": 17,
     "metadata": {},
     "output_type": "execute_result"
    }
   ],
   "source": [
    "pcoa_result.proportion_explained[:2].sum() * 100"
   ]
  },
  {
   "cell_type": "code",
   "execution_count": 13,
   "metadata": {},
   "outputs": [],
   "source": [
    "pcoa_df = pd.merge(\n",
    "        pcoa_result.samples,\n",
    "        full_metadata,\n",
    "        left_index=True,\n",
    "        right_on=\"ref_code\",\n",
    "        how=\"inner\",\n",
    "    )"
   ]
  },
  {
   "cell_type": "code",
   "execution_count": null,
   "metadata": {},
   "outputs": [],
   "source": [
    "pcoa_df.head()"
   ]
  },
  {
   "cell_type": "code",
   "execution_count": null,
   "metadata": {},
   "outputs": [],
   "source": [
    "pcoa_df.describe()"
   ]
  },
  {
   "cell_type": "code",
   "execution_count": null,
   "metadata": {},
   "outputs": [],
   "source": [
    "pcoa_df['contact_name'].value_counts()"
   ]
  },
  {
   "cell_type": "code",
   "execution_count": null,
   "metadata": {},
   "outputs": [],
   "source": [
    "for factor in categorical_columns:\n",
    "    fig = pl.plot_pcoa_black(pcoa_df, color_by=factor)\n",
    "    display(fig)"
   ]
  },
  {
   "cell_type": "code",
   "execution_count": null,
   "metadata": {},
   "outputs": [],
   "source": [
    "pl.plot_pcoa_black(pcoa_df, color_by=\"alkalinity\")\n",
    "pcoa_df['alkalinity'].value_counts()"
   ]
  },
  {
   "cell_type": "code",
   "execution_count": null,
   "metadata": {},
   "outputs": [],
   "source": [
    "full_metadata['alkalinity'].unique()"
   ]
  },
  {
   "cell_type": "markdown",
   "metadata": {},
   "source": [
    "## Testing the tests"
   ]
  },
  {
   "cell_type": "code",
   "execution_count": 31,
   "metadata": {},
   "outputs": [],
   "source": [
    "def sample_tables_dict():\n",
    "    \"\"\"Fixture that provides a dictionary of sample tables for testing.\"\"\"\n",
    "    data = {\n",
    "        \"ref_code\": [\"sample1\", \"sample2\", \"sample3\"],\n",
    "        \"GO:0001\": [10, 0, 5],\n",
    "        \"GO:0002\": [20, 0, 5],\n",
    "        \"IPR0001\": [30, 0, 5],\n",
    "        \"K0001\": [40, 0, 5],\n",
    "        \"PF0001\": [50, 0, 5],\n",
    "        }\n",
    "    return {\"sample_table\": pd.DataFrame(data)}\n",
    "\n",
    "\n",
    "def sample_data(sample_tables_dict):\n",
    "    return sample_tables_dict[\"sample_table\"]\n",
    "\n",
    "\n",
    "def sample_factors():\n",
    "    \"\"\"Fixture that provides sample factors for testing.\"\"\"\n",
    "    factors = {\n",
    "        \"ref_code\": [\"sample1\", \"sample2\", \"sample3\"],\n",
    "        \"factor1\": [\"A\", \"B\", \"C\"],\n",
    "    }\n",
    "\n",
    "    return pd.DataFrame(factors)\n",
    "\n",
    "\n",
    "def test_calculate_alpha_diversity(sample_data, sample_factors):\n",
    "    \"\"\"Tests the calculate_alpha_diversity function.\"\"\"\n",
    "    result = calculate_alpha_diversity(sample_data, sample_factors)\n",
    "\n",
    "    # Check if the result is a DataFrame\n",
    "    assert isinstance(result, pd.DataFrame), \"The result should be a DataFrame\"\n",
    "\n",
    "    # Check if the result contains the expected columns\n",
    "    expected_columns = [\"ref_code\", \"Shannon\", \"factor1\"]\n",
    "    assert all(\n",
    "        col in result.columns for col in expected_columns\n",
    "    ), f\"Expected columns {expected_columns}, but got {result.columns.tolist()}\"\n",
    "\n",
    "    # Check if the Shannon index values are calculated correctly\n",
    "    expected_shannon = sample_data.apply(lambda row: shannon_index(row[1:]), axis=1)\n",
    "    expected_shannon2 = sample_data.apply(lambda row: shannon_index(row[1:]))\n",
    "\n",
    "    display(expected_shannon, result[\"Shannon\"], result, expected_shannon2)\n",
    "\n",
    "    # assert all(\n",
    "    #     result[\"Shannon\"].round(3) == expected_shannon.round(3)\n",
    "    # ), \"The Shannon index values are not calculated correctly\"\n",
    "\n",
    "    assert np.isclose(result[\"Shannon\"], expected_shannon).all(), (\n",
    "        \"The Shannon_index values are not calculated correctly, diff is \" + \n",
    "        f\"{(result['Shannon'] - expected_shannon).tolist()}\"\n",
    "    )\n",
    "\n",
    "    # Check if the factors are merged correctly\n",
    "    assert all(\n",
    "        result[\"factor1\"] == sample_factors[\"factor1\"]\n",
    "    ), \"The factors are not merged correctly\""
   ]
  },
  {
   "cell_type": "code",
   "execution_count": 32,
   "metadata": {},
   "outputs": [
    {
     "data": {
      "text/plain": [
       "0    1.489750\n",
       "1         NaN\n",
       "2    1.609438\n",
       "dtype: float64"
      ]
     },
     "metadata": {},
     "output_type": "display_data"
    },
    {
     "data": {
      "text/plain": [
       "0    1.489750\n",
       "1         NaN\n",
       "2    1.609438\n",
       "Name: Shannon, dtype: float64"
      ]
     },
     "metadata": {},
     "output_type": "display_data"
    },
    {
     "data": {
      "text/html": [
       "<div>\n",
       "<style scoped>\n",
       "    .dataframe tbody tr th:only-of-type {\n",
       "        vertical-align: middle;\n",
       "    }\n",
       "\n",
       "    .dataframe tbody tr th {\n",
       "        vertical-align: top;\n",
       "    }\n",
       "\n",
       "    .dataframe thead th {\n",
       "        text-align: right;\n",
       "    }\n",
       "</style>\n",
       "<table border=\"1\" class=\"dataframe\">\n",
       "  <thead>\n",
       "    <tr style=\"text-align: right;\">\n",
       "      <th></th>\n",
       "      <th>ref_code</th>\n",
       "      <th>Shannon</th>\n",
       "      <th>factor1</th>\n",
       "    </tr>\n",
       "  </thead>\n",
       "  <tbody>\n",
       "    <tr>\n",
       "      <th>0</th>\n",
       "      <td>sample1</td>\n",
       "      <td>1.489750</td>\n",
       "      <td>A</td>\n",
       "    </tr>\n",
       "    <tr>\n",
       "      <th>1</th>\n",
       "      <td>sample2</td>\n",
       "      <td>NaN</td>\n",
       "      <td>B</td>\n",
       "    </tr>\n",
       "    <tr>\n",
       "      <th>2</th>\n",
       "      <td>sample3</td>\n",
       "      <td>1.609438</td>\n",
       "      <td>C</td>\n",
       "    </tr>\n",
       "  </tbody>\n",
       "</table>\n",
       "</div>"
      ],
      "text/plain": [
       "  ref_code   Shannon factor1\n",
       "0  sample1  1.489750       A\n",
       "1  sample2       NaN       B\n",
       "2  sample3  1.609438       C"
      ]
     },
     "metadata": {},
     "output_type": "display_data"
    },
    {
     "data": {
      "text/plain": [
       "ref_code    NaN\n",
       "GO:0001     0.0\n",
       "GO:0002     0.0\n",
       "IPR0001     0.0\n",
       "K0001       0.0\n",
       "PF0001      0.0\n",
       "dtype: float64"
      ]
     },
     "metadata": {},
     "output_type": "display_data"
    },
    {
     "ename": "AssertionError",
     "evalue": "The Shannon_index values are not calculated correctly, diff is [0.0, nan, 0.0]",
     "output_type": "error",
     "traceback": [
      "\u001b[0;31m---------------------------------------------------------------------------\u001b[0m",
      "\u001b[0;31mAssertionError\u001b[0m                            Traceback (most recent call last)",
      "Cell \u001b[0;32mIn[32], line 5\u001b[0m\n\u001b[1;32m      2\u001b[0m sample_data \u001b[38;5;241m=\u001b[39m sample_data(d)\n\u001b[1;32m      3\u001b[0m sample_factors \u001b[38;5;241m=\u001b[39m sample_factors()\n\u001b[0;32m----> 5\u001b[0m \u001b[43mtest_calculate_alpha_diversity\u001b[49m\u001b[43m(\u001b[49m\u001b[43msample_data\u001b[49m\u001b[43m,\u001b[49m\u001b[43m \u001b[49m\u001b[43msample_factors\u001b[49m\u001b[43m)\u001b[49m\n",
      "Cell \u001b[0;32mIn[31], line 51\u001b[0m, in \u001b[0;36mtest_calculate_alpha_diversity\u001b[0;34m(sample_data, sample_factors)\u001b[0m\n\u001b[1;32m     45\u001b[0m display(expected_shannon, result[\u001b[38;5;124m\"\u001b[39m\u001b[38;5;124mShannon\u001b[39m\u001b[38;5;124m\"\u001b[39m], result, expected_shannon2)\n\u001b[1;32m     47\u001b[0m \u001b[38;5;66;03m# assert all(\u001b[39;00m\n\u001b[1;32m     48\u001b[0m \u001b[38;5;66;03m#     result[\"Shannon\"].round(3) == expected_shannon.round(3)\u001b[39;00m\n\u001b[1;32m     49\u001b[0m \u001b[38;5;66;03m# ), \"The Shannon index values are not calculated correctly\"\u001b[39;00m\n\u001b[0;32m---> 51\u001b[0m \u001b[38;5;28;01massert\u001b[39;00m np\u001b[38;5;241m.\u001b[39misclose(result[\u001b[38;5;124m\"\u001b[39m\u001b[38;5;124mShannon\u001b[39m\u001b[38;5;124m\"\u001b[39m], expected_shannon)\u001b[38;5;241m.\u001b[39mall(), (\n\u001b[1;32m     52\u001b[0m     \u001b[38;5;124m\"\u001b[39m\u001b[38;5;124mThe Shannon_index values are not calculated correctly, diff is \u001b[39m\u001b[38;5;124m\"\u001b[39m \u001b[38;5;241m+\u001b[39m \n\u001b[1;32m     53\u001b[0m     \u001b[38;5;124mf\u001b[39m\u001b[38;5;124m\"\u001b[39m\u001b[38;5;132;01m{\u001b[39;00m(result[\u001b[38;5;124m'\u001b[39m\u001b[38;5;124mShannon\u001b[39m\u001b[38;5;124m'\u001b[39m]\u001b[38;5;250m \u001b[39m\u001b[38;5;241m-\u001b[39m\u001b[38;5;250m \u001b[39mexpected_shannon)\u001b[38;5;241m.\u001b[39mtolist()\u001b[38;5;132;01m}\u001b[39;00m\u001b[38;5;124m\"\u001b[39m\n\u001b[1;32m     54\u001b[0m )\n\u001b[1;32m     56\u001b[0m \u001b[38;5;66;03m# Check if the factors are merged correctly\u001b[39;00m\n\u001b[1;32m     57\u001b[0m \u001b[38;5;28;01massert\u001b[39;00m \u001b[38;5;28mall\u001b[39m(\n\u001b[1;32m     58\u001b[0m     result[\u001b[38;5;124m\"\u001b[39m\u001b[38;5;124mfactor1\u001b[39m\u001b[38;5;124m\"\u001b[39m] \u001b[38;5;241m==\u001b[39m sample_factors[\u001b[38;5;124m\"\u001b[39m\u001b[38;5;124mfactor1\u001b[39m\u001b[38;5;124m\"\u001b[39m]\n\u001b[1;32m     59\u001b[0m ), \u001b[38;5;124m\"\u001b[39m\u001b[38;5;124mThe factors are not merged correctly\u001b[39m\u001b[38;5;124m\"\u001b[39m\n",
      "\u001b[0;31mAssertionError\u001b[0m: The Shannon_index values are not calculated correctly, diff is [0.0, nan, 0.0]"
     ]
    }
   ],
   "source": [
    "d= sample_tables_dict()\n",
    "sample_data = sample_data(d)\n",
    "sample_factors = sample_factors()\n",
    "\n",
    "test_calculate_alpha_diversity(sample_data, sample_factors)\n"
   ]
  },
  {
   "cell_type": "code",
   "execution_count": null,
   "metadata": {},
   "outputs": [],
   "source": []
  }
 ],
 "metadata": {
  "kernelspec": {
   "display_name": "momicsdem",
   "language": "python",
   "name": "python3"
  },
  "language_info": {
   "codemirror_mode": {
    "name": "ipython",
    "version": 3
   },
   "file_extension": ".py",
   "mimetype": "text/x-python",
   "name": "python",
   "nbconvert_exporter": "python",
   "pygments_lexer": "ipython3",
   "version": "3.10.12"
  }
 },
 "nbformat": 4,
 "nbformat_minor": 2
}
