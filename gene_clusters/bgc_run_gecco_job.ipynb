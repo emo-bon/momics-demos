{
 "cells": [
  {
   "cell_type": "markdown",
   "metadata": {},
   "source": [
    "# App for running GECCO jobs in Galaxy\n",
    "\n",
    "1. Upload and run workflow.\n",
    "2. Monitor the job.\n",
    "3. Receive completion notification with some basic summary provided by Galaxy.\n",
    "\n",
    "Note: \"Receiving\" the results (tentatively download) is part of the analysis pipeline."
   ]
  },
  {
   "cell_type": "markdown",
   "metadata": {},
   "source": [
    "## TODOs\n",
    "- clean up the dict with the histories display, which currently shows full dict in the dropdown\n",
    "- Add selector (checkbox) which dataset input should be used.\n",
    "- add bindings for all the params to construct the input file\n",
    "- actually submit, and receive email\n",
    "- save json, from the analysis dashboard, update the json (this will be heavily environmental dependent)\n",
    "  - note for which parts it works.\n",
    "- Can Gecco receive multiple `fasta` files?"
   ]
  },
  {
   "cell_type": "code",
   "execution_count": 1,
   "metadata": {},
   "outputs": [
    {
     "name": "stdout",
     "output_type": "stream",
     "text": [
      "Platform: local Linux\n"
     ]
    }
   ],
   "source": [
    "import os\n",
    "import sys\n",
    "import json\n",
    "import logging\n",
    "logger = logging.getLogger(name=\"GECCO galaxy runner\")\n",
    "\n",
    "if 'google.colab' in str(get_ipython()):\n",
    "    # clone the momics-demos repository to use the utils module from there\n",
    "    # TODO: eventually utils from momics will be used for that\n",
    "    try:\n",
    "        os.system('git clone https://github.com/palec87/momics-demos.git')\n",
    "        logger.info(f\"Repository cloned\")\n",
    "    except OSError as e:\n",
    "        logger.info(f\"An error occurred while cloning the repository: {e}\")\n",
    "\n",
    "    sys.path.insert(0,'/content/momics-demos')\n",
    "\n",
    "else:\n",
    "    sys.path.append(os.path.abspath(os.path.join(os.getcwd(), '..')))  # local utils, to be removed in the future\n",
    "\n",
    "    # downside of this is that all the deps need to be installed in the current (momics-demos) environment\n",
    "    sys.path.append(os.path.abspath(os.path.join(os.getcwd(), '../../../marine-omics')))  # local momics package, to be removed too\n",
    "\n",
    "from utils import init_setup, get_notebook_environment\n",
    "init_setup()\n",
    "\n",
    "# Initialize the environment variable\n",
    "notebook_environment = 'unknown'\n",
    "# Determine the notebook environment\n",
    "env = get_notebook_environment()\n",
    "logger.info(f\"Environment: {env}\")"
   ]
  },
  {
   "cell_type": "code",
   "execution_count": null,
   "metadata": {},
   "outputs": [],
   "source": [
    "# This needs to be repeated here for the Pannel dashboard to work, WEIRD\n",
    "# TODO: report as possible bug\n",
    "import sys\n",
    "import os\n",
    "import io\n",
    "import warnings\n",
    "import psutil\n",
    "\n",
    "import bioblend.galaxy as g  # BioBlend is a Python library, wrapping the functionality of Galaxy and CloudMan APIs\n",
    "# import boto3\n",
    "import pandas as pd\n",
    "import panel as pn\n",
    "# from bioblend.galaxy import GalaxyInstance\n",
    "# from bioblend.galaxy.config import ConfigClient\n",
    "\n",
    "sys.path.append(os.path.abspath(os.path.join(os.getcwd(), '..')))\n",
    "from utils import init_setup\n",
    "init_setup()\n",
    "\n",
    "from bioblend.galaxy.datasets import DatasetClient\n",
    "\n",
    "from momics.galaxy import BCGalaxy\n",
    "from momics.panel_utils import (\n",
    "    serve_app, close_server,\n",
    ")\n",
    "from momics.utils import memory_load, reconfig_logger\n",
    "\n",
    "# instead of the jupyter magic, you can also use\n",
    "from dotenv import load_dotenv\n",
    "load_dotenv()"
   ]
  },
  {
   "cell_type": "markdown",
   "metadata": {},
   "source": [
    "## User settings"
   ]
  },
  {
   "cell_type": "code",
   "execution_count": null,
   "metadata": {},
   "outputs": [],
   "source": [
    "DEBUG = True  # enable stdout logging\n",
    "\n",
    "# Set up logging\n",
    "reconfig_logger()"
   ]
  },
  {
   "cell_type": "code",
   "execution_count": 4,
   "metadata": {},
   "outputs": [],
   "source": [
    "exp = BCGalaxy(\"GALAXY_EARTH_URL\", \"GALAXY_EARTH_KEY\")"
   ]
  },
  {
   "cell_type": "code",
   "execution_count": null,
   "metadata": {},
   "outputs": [],
   "source": [
    "if DEBUG:\n",
    "    exp.get_histories()\n",
    "    logger.info(exp.histories)\n",
    "\n",
    "    # exp.set_history(create=False, hid=\"8d8d4bf21253beda\")"
   ]
  },
  {
   "cell_type": "markdown",
   "metadata": {},
   "source": [
    "## Environment setup"
   ]
  },
  {
   "cell_type": "code",
   "execution_count": null,
   "metadata": {},
   "outputs": [],
   "source": [
    "if 'google.colab' in str(get_ipython()):\n",
    "    root_folder = os.path.abspath(os.path.join('/content/momics-demos'))\n",
    "else:\n",
    "    root_folder = os.path.abspath(os.path.join('../'))\n",
    "\n",
    "assets_folder = os.path.join(root_folder, 'assets')"
   ]
  },
  {
   "cell_type": "markdown",
   "metadata": {},
   "source": [
    "## App setup"
   ]
  },
  {
   "cell_type": "code",
   "execution_count": null,
   "metadata": {},
   "outputs": [],
   "source": [
    "# buttons\n",
    "but_login = pn.widgets.Button(name=\"🔐 Galaxy Login\")\n",
    "but_get_histories = pn.widgets.Button(name=\"📚 Refresh Histories\")\n",
    "but_get_datasets = pn.widgets.Button(name=\"📖 Refresh Datasets\")\n",
    "\n",
    "# input file handling\n",
    "# but_upload_dataset = pn.widgets.Button(name=\"📤 Upload Dataset\")\n",
    "file_input = pn.widgets.FileInput(accept='.fasta', name=\"Upload a fasta file\")\n",
    "\n",
    "but_submit = pn.widgets.Button(name=\"🚀 Submit GECCO task\")\n",
    "\n",
    "# selectors\n",
    "select_history = pn.widgets.Select(\n",
    "    name=\"Select history\",\n",
    "    options=[],\n",
    "    description=\"Your Galaxy histories, create a new one if needed\",\n",
    ")\n",
    "select_dataset = pn.widgets.Select(\n",
    "    name=\"Select dataset\",\n",
    "    options=[],\n",
    "    description=\"Your Galaxy fasta datasets\",\n",
    ")\n",
    "\n",
    "# gecco params\n",
    "mask = pn.widgets.Checkbox(name='Enable masking of regions with unknown nucleotides', value=True)\n",
    "cds = pn.widgets.IntInput(name='IntInMinimum number of genes required for a clusterput',\n",
    "                          value=3, step=1, start=2, end=1000,\n",
    "                          )\n",
    "threshold = pn.widgets.FloatInput(name='Probability threshold for cluster detection',\n",
    "                                  value=0.05, step=0.01, start=0.0, end=1.0,\n",
    "                                  )\n",
    "postproc = pn.widgets.Select(\n",
    "    name=\"Post-processing method for gene cluster validation\",\n",
    "    options=[\"gecco\"],\n",
    ")\n",
    "antimash_sideload = pn.widgets.Checkbox(name='Generate an antiSMASH v6 sideload JSON file', value=False)\n",
    "email_input = pn.widgets.TextInput(name='Email notification', placeholder='Enter a string here...')"
   ]
  },
  {
   "cell_type": "code",
   "execution_count": null,
   "metadata": {},
   "outputs": [],
   "source": [
    "# callbacks and methods\n",
    "def handle_login(clicks):\n",
    "    exp = BCGalaxy(\"GALAXY_EARTH_URL\", \"GALAXY_EARTH_KEY\")\n",
    "    if DEBUG:\n",
    "        logger.debug(\"exp id: \", id(exp))\n",
    "    pn.state.notifications.info(f\"User logged in: {exp.cfg.whoami()}\")\n",
    "    logger.info(f'You have clicked me {clicks} times')\n",
    "\n",
    "    # get the histories right upon login\n",
    "    handle_get_histories(clicks)\n",
    "\n",
    "    # get the datasets right upon login\n",
    "    handle_get_datasets(clicks)\n",
    "\n",
    "def handle_get_histories(clicks):\n",
    "    if DEBUG:\n",
    "        logger.debug(\"exp id: \", id(exp))\n",
    "    exp.get_histories()\n",
    "    select_history.options = exp.histories\n",
    "    select_history.value = exp.histories[0]\n",
    "    logger.info(f\"{len(exp.histories)} histories found.\")\n",
    "\n",
    "def handle_get_datasets(clicks):\n",
    "    if DEBUG:\n",
    "        logger.debug(\"exp id: \", id(exp))\n",
    "    \n",
    "    # this already filters the datasets by the extension\n",
    "    datasets = exp.get_datasets_by_key(\"extension\", \"fasta\")\n",
    "\n",
    "    # fill the select_dataset widget\n",
    "    select_dataset.options = datasets\n",
    "    select_dataset.value = datasets[0]\n",
    "    logger.info(f\"{len(datasets)} datasets found.\")"
   ]
  },
  {
   "cell_type": "code",
   "execution_count": null,
   "metadata": {},
   "outputs": [],
   "source": [
    "pn.extension(\"tabulator\")\n",
    "if 'google.colab' in str(get_ipython()):\n",
    "    pn.extension(comms='colab')\n",
    "pn.extension(notifications=True)\n",
    "ACCENT = \"teal\"\n",
    "\n",
    "styles = {\n",
    "    \"box-shadow\": \"rgba(50, 50, 93, 0.25) 0px 6px 12px -2px, rgba(0, 0, 0, 0.3) 0px 3px 7px -3px\",\n",
    "    \"border-radius\": \"4px\",\n",
    "    \"padding\": \"10px\",\n",
    "}\n",
    "\n",
    "# TODO: there is a bug in the panel library that does not allow to open png files, renoming does not help \n",
    "image = pn.pane.JPG(os.path.join(assets_folder, \"figs/logo_gecco.jpeg\"),\n",
    "                    width=200,\n",
    "                    # height=100,\n",
    "                    )\n",
    "\n",
    "\n",
    "def app():\n",
    "    history_flexbox = pn.Column(\n",
    "        but_get_histories, select_history,\n",
    "        pn.bind(handle_get_histories, clicks=but_get_histories.param.clicks),\n",
    "        sizing_mode=\"stretch_width\",\n",
    "    )\n",
    "    dataset_flexbox = pn.Column(\n",
    "        but_get_datasets, select_dataset,\n",
    "        pn.bind(handle_get_datasets, clicks=but_get_datasets.param.clicks),  # this callback cannot be moved, do I need it with clicks?\n",
    "        file_input,\n",
    "        sizing_mode=\"stretch_width\",\n",
    "    )\n",
    "    gecco_flexbox = pn.FlexBox(\n",
    "        pn.Column(mask, cds, threshold, postproc, antimash_sideload, email_input),\n",
    "        # mask, cds, threshold, postproc, antimash_sideload, email_input,\n",
    "        sizing_mode=\"stretch_width\",\n",
    "    )\n",
    "\n",
    "    template = pn.template.FastListTemplate(\n",
    "        title=\"Run GECCO on Galaxy\",\n",
    "        sidebar=[image,\n",
    "                but_login, pn.bind(handle_login, clicks=but_login.param.clicks),\n",
    "                pn.layout.Divider(),\n",
    "                \"## Histories\", history_flexbox,\n",
    "                \"## Datasets\", dataset_flexbox,\n",
    "                ],\n",
    "        main=[pn.Column(#\"## Histories\", history_flexbox,\n",
    "                        #\"## Datasets\", dataset_flexbox,\n",
    "                        \"## GECCO parameters\", gecco_flexbox,\n",
    "                        \"## Submit\", but_submit,\n",
    "                        sizing_mode=\"stretch_width\",\n",
    "                    )],\n",
    "        main_layout=None,\n",
    "        accent=ACCENT,\n",
    "    )\n",
    "    return template\n",
    "\n",
    "template = app()\n",
    "logger.info(\"Template created\")\n",
    "\n",
    "# serve the app\n",
    "s = serve_app(template, env=env, name=\"GECCO_galaxy_runner\")"
   ]
  },
  {
   "cell_type": "markdown",
   "metadata": {},
   "source": [
    "### Uncomment this if running if running ngrok tunnel which you want to quit"
   ]
  },
  {
   "cell_type": "code",
   "execution_count": null,
   "metadata": {},
   "outputs": [],
   "source": [
    "# old way\n",
    "# server.stop()\n",
    "# ngrok.disconnect(server)\n",
    "# ngrok.kill()\n",
    "\n",
    "# new way\n",
    "# close_server(s, env=env)"
   ]
  }
 ],
 "metadata": {
  "kernelspec": {
   "display_name": "momicsdem",
   "language": "python",
   "name": "momicsdem"
  },
  "language_info": {
   "codemirror_mode": {
    "name": "ipython",
    "version": 3
   },
   "file_extension": ".py",
   "mimetype": "text/x-python",
   "name": "python",
   "nbconvert_exporter": "python",
   "pygments_lexer": "ipython3",
   "version": "3.10.12"
  },
  "panel-cell-order": [
   "3b5b425d",
   "77607dfa",
   "9ae57366",
   "277a1a47",
   "a9696e21",
   "4c68d2a8",
   "49450d1b",
   "c686e4d8"
  ]
 },
 "nbformat": 4,
 "nbformat_minor": 4
}
