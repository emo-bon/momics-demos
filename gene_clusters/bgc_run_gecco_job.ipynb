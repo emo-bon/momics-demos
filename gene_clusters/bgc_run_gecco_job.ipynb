{
 "cells": [
  {
   "cell_type": "markdown",
   "metadata": {},
   "source": [
    "# App for running GECCO jobs in Galaxy\n",
    "\n",
    "1. Upload and run workflow.\n",
    "2. Monitor the job.\n",
    "3. Receive completion notification with some basic summary provided by Galaxy.\n",
    "\n",
    "Note: \"Receiving\" the results (tentatively download) is part of the analysis pipeline."
   ]
  },
  {
   "cell_type": "code",
   "execution_count": 1,
   "metadata": {},
   "outputs": [
    {
     "name": "stdout",
     "output_type": "stream",
     "text": [
      "local Linux\n"
     ]
    },
    {
     "data": {
      "text/plain": [
       "True"
      ]
     },
     "execution_count": 1,
     "metadata": {},
     "output_type": "execute_result"
    }
   ],
   "source": [
    "import os\n",
    "import sys\n",
    "import json\n",
    "from datetime import datetime\n",
    "from platform import python_version\n",
    "import logging\n",
    "\n",
    "# Import\n",
    "import bioblend.galaxy as g  # BioBlend is a Python library, wrapping the functionality of Galaxy and CloudMan APIs\n",
    "# import boto3\n",
    "import pandas as pd\n",
    "import panel as pn\n",
    "# from bioblend.galaxy import GalaxyInstance\n",
    "# from bioblend.galaxy.config import ConfigClient\n",
    "\n",
    "sys.path.append(os.path.abspath(os.path.join(os.getcwd(), '..')))\n",
    "from utils import init_setup\n",
    "init_setup()\n",
    "\n",
    "from momics.galaxy import BCGalaxy\n",
    "\n",
    "# instead of the jupyter magic, you can also use\n",
    "from dotenv import load_dotenv\n",
    "load_dotenv()\n",
    "# %load_ext dotenv\n",
    "# %dotenv"
   ]
  },
  {
   "cell_type": "code",
   "execution_count": 2,
   "metadata": {},
   "outputs": [],
   "source": [
    "\n",
    "FORMAT = \"%(asctime)s | %(levelname)s | %(name)s | %(message)s\"\n",
    "\n",
    "@pn.cache\n",
    "def reconfig_basic_config(format_=FORMAT, level=logging.INFO):\n",
    "    \"\"\"(Re-)configure logging\"\"\"\n",
    "    logging.basicConfig(format=format_, level=level, force=True)\n",
    "    logging.info(\"Logging.basicConfig completed successfully\")"
   ]
  },
  {
   "cell_type": "code",
   "execution_count": 3,
   "metadata": {},
   "outputs": [],
   "source": []
  },
  {
   "cell_type": "code",
   "execution_count": 4,
   "metadata": {},
   "outputs": [],
   "source": [
    "exp = BCGalaxy(\"GALAXY_EARTH_URL\", \"GALAXY_EARTH_KEY\")"
   ]
  },
  {
   "cell_type": "code",
   "execution_count": 7,
   "metadata": {},
   "outputs": [],
   "source": [
    "## debugging\n",
    "\n",
    "# exp.get_histories()\n",
    "# exp.histories\n",
    "\n",
    "# exp.set_history(create=False, hid=\"8d8d4bf21253beda\")"
   ]
  },
  {
   "cell_type": "markdown",
   "metadata": {},
   "source": [
    "## Environment setup"
   ]
  },
  {
   "cell_type": "code",
   "execution_count": 38,
   "metadata": {},
   "outputs": [],
   "source": [
    "# setup the galaxy environment"
   ]
  },
  {
   "cell_type": "code",
   "execution_count": 41,
   "metadata": {},
   "outputs": [],
   "source": [
    "if 'google.colab' in str(get_ipython()):\n",
    "    root_folder = os.path.abspath(os.path.join('/content/momics-demos'))\n",
    "    # data_folder = os.path.join(root_folder, 'parquet_files')\n",
    "else:\n",
    "    root_folder = os.path.abspath(os.path.join('../'))\n",
    "\n",
    "assets_folder = os.path.join(root_folder, 'assets')"
   ]
  },
  {
   "cell_type": "markdown",
   "metadata": {},
   "source": [
    "## App setup"
   ]
  },
  {
   "cell_type": "code",
   "execution_count": 37,
   "metadata": {},
   "outputs": [],
   "source": [
    "import panel as pn"
   ]
  },
  {
   "cell_type": "code",
   "execution_count": 9,
   "metadata": {},
   "outputs": [],
   "source": [
    "def handle_login(clicks):\n",
    "    exp = BCGalaxy(\"GALAXY_EARTH_URL\", \"GALAXY_EARTH_KEY\")\n",
    "    pn.state.notifications.info(f\"User logged in: {exp.cfg.whoami()}\")\n",
    "    logger.info(f'You have clicked me {clicks} times')"
   ]
  },
  {
   "cell_type": "code",
   "execution_count": 8,
   "metadata": {},
   "outputs": [],
   "source": [
    "# buttons\n",
    "but_login = pn.widgets.Button(name=\"🔐 Galaxy Login\")"
   ]
  },
  {
   "cell_type": "code",
   "execution_count": null,
   "metadata": {},
   "outputs": [],
   "source": [
    "# histories\n",
    "get_histories = pn.widgets.Button(name=\"📚 Get Histories\")"
   ]
  },
  {
   "cell_type": "code",
   "execution_count": null,
   "metadata": {},
   "outputs": [],
   "source": [
    "reconfig_basic_config()\n",
    "logger = logging.getLogger(name=\"app\")\n",
    "\n",
    "pn.extension(\"tabulator\")\n",
    "pn.extension(notifications=True)\n",
    "ACCENT = \"teal\"\n",
    "\n",
    "styles = {\n",
    "    \"box-shadow\": \"rgba(50, 50, 93, 0.25) 0px 6px 12px -2px, rgba(0, 0, 0, 0.3) 0px 3px 7px -3px\",\n",
    "    \"border-radius\": \"4px\",\n",
    "    \"padding\": \"10px\",\n",
    "}\n",
    "\n",
    "# TODO: there is a bug in the panel library that does not allow to open png files, renoming does not help \n",
    "image = pn.pane.JPG(os.path.join(assets_folder, \"figs/metaGOflow_logo_italics.jpg\"),\n",
    "                    width=200, height=100)\n",
    "\n",
    "\n",
    "\n",
    "\n",
    "template = pn.template.FastListTemplate(\n",
    "    title=\"Run GECCO on Galaxy\",\n",
    "    sidebar=[image,\n",
    "             but_login, pn.bind(handle_login, clicks=but_login.param.clicks),\n",
    "             pn.layout.Divider(),\n",
    "             \n",
    "             ],\n",
    "    main=[pn.Column(\"## Histories\", \n",
    "                    # get_histories, pn.bind(handle_login, clicks=but_login.param.clicks), select_history,\n",
    "                    \"## Datasets\", #get_datasets, select_dataset,\n",
    "                    sizing_mode=\"stretch_both\",\n",
    "                   )],\n",
    "    main_layout=None,\n",
    "    accent=ACCENT,\n",
    "    meta_refresh=\"2\",\n",
    ")\n",
    "logger.info(\"Template created\")\n",
    "template.servable()"
   ]
  },
  {
   "cell_type": "code",
   "execution_count": null,
   "metadata": {},
   "outputs": [],
   "source": []
  }
 ],
 "metadata": {
  "kernelspec": {
   "display_name": "momicsdem",
   "language": "python",
   "name": "python3"
  },
  "language_info": {
   "codemirror_mode": {
    "name": "ipython",
    "version": 3
   },
   "file_extension": ".py",
   "mimetype": "text/x-python",
   "name": "python",
   "nbconvert_exporter": "python",
   "pygments_lexer": "ipython3",
   "version": "3.10.12"
  }
 },
 "nbformat": 4,
 "nbformat_minor": 4
}
