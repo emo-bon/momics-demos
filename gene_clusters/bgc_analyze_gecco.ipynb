{
 "cells": [
  {
   "cell_type": "markdown",
   "metadata": {},
   "source": [
    "# App for analyzing GECCO runs from the Galaxy\n",
    "\n",
    "1. Upload local data or query results of the GECCO from the Galaxy.\n",
    "2. Identifying Biosynthetic Gene Clusters (BGCs).\n",
    "3. Visualize BGCs.\n",
    "4. Compare two samples in respect to each other.\n",
    "\n",
    "Note: Sending GECCO jobs to Galaxy is part of another separate application."
   ]
  },
  {
   "cell_type": "markdown",
   "metadata": {},
   "source": [
    "## Platform dependent part\n",
    "- Resolve platform setup\n",
    "- the difference to local imports should be resolved by setting the VRE packages well"
   ]
  },
  {
   "cell_type": "code",
   "execution_count": null,
   "metadata": {},
   "outputs": [],
   "source": [
    "import sys\n",
    "import os\n",
    "import io\n",
    "\n",
    "sys.path.append(os.path.abspath(os.path.join(os.getcwd(), '..')))\n",
    "from utils import init_setup\n",
    "init_setup()"
   ]
  },
  {
   "cell_type": "code",
   "execution_count": null,
   "metadata": {},
   "outputs": [],
   "source": [
    "# This needs to be repeated here for the Pannel dashboard to work, WEIRD\n",
    "# TODO: report as possible bug\n",
    "import sys\n",
    "import os\n",
    "import io\n",
    "\n",
    "# import numpy as np\n",
    "import pandas as pd\n",
    "# import matplotlib.pyplot as plt\n",
    "# import seaborn as sns\n",
    "import panel as pn\n",
    "\n",
    "# Import\n",
    "import bioblend.galaxy as g  # BioBlend is a Python library, wrapping the functionality of Galaxy and CloudMan APIs\n",
    "from bioblend.galaxy import GalaxyInstance\n",
    "\n",
    "# All low level functions are imported from the momics package\n",
    "import momics.diversity as div\n",
    "import momics.plotting as pl\n",
    "from momics.panel_utils import create_widgets, create_indicators\n",
    "from momics.helpers import memory_load\n",
    "\n",
    "# Note: This is breaking the panel preview functionality\n",
    "# %load_ext autoreload\n",
    "# %autoreload 2"
   ]
  },
  {
   "cell_type": "markdown",
   "metadata": {},
   "source": [
    "## Loading and setup"
   ]
  },
  {
   "cell_type": "code",
   "execution_count": 3,
   "metadata": {},
   "outputs": [],
   "source": [
    "if 'google.colab' in str(get_ipython()):\n",
    "    root_folder = os.path.abspath(os.path.join('/content/momics-demos'))\n",
    "else:\n",
    "    root_folder = os.path.abspath(os.path.join('../'))\n",
    "\n",
    "assets_folder = os.path.join(root_folder, 'assets')"
   ]
  },
  {
   "cell_type": "markdown",
   "metadata": {},
   "source": [
    "## App Setup"
   ]
  },
  {
   "cell_type": "code",
   "execution_count": 4,
   "metadata": {},
   "outputs": [],
   "source": [
    "def display_tables_after_upload(d1, d2=None, d3=None):\n",
    "    print(d1)\n",
    "    df1 = pd.DataFrame.from_dict(d1)\n",
    "    t1 = pn.widgets.Tabulator(df1, sizing_mode=\"stretch_both\", name=\"Data View\")\n",
    "    return t1"
   ]
  },
  {
   "cell_type": "code",
   "execution_count": null,
   "metadata": {},
   "outputs": [],
   "source": [
    "pn.extension(\"tabulator\", \"mathjax\", \"filedropper\")\n",
    "ACCENT = \"teal\"\n",
    "\n",
    "styles = {\n",
    "    \"box-shadow\": \"rgba(50, 50, 93, 0.25) 0px 6px 12px -2px, rgba(0, 0, 0, 0.3) 0px 3px 7px -3px\",\n",
    "    \"border-radius\": \"4px\",\n",
    "    \"padding\": \"10px\",\n",
    "}\n",
    "\n",
    "image = pn.pane.JPG(os.path.join(assets_folder, \"figs/logo_gecco.jpeg\"),\n",
    "                    width=100, height=100)\n",
    "\n",
    "markdown_intro = pn.pane.Markdown(\n",
    "\"\"\"\n",
    "**If you want to use the Galaxy API:**\n",
    "- you need to provide your credentials.\n",
    "- and `job_id` of the job that created the files to get those files.\n",
    "- For comparison study, you need to provide two job_ids.\n",
    "\"\"\"\n",
    ")\n",
    "\n",
    "md_upload = pn.pane.Markdown(\n",
    "\"\"\"\n",
    "**Upload your files:**\n",
    "You need to select exactly 3 files with endings:\n",
    "- `_BGC.tsv`\n",
    "- `_features.tsv`\n",
    "- `_genes.tsv`\n",
    "\"\"\"\n",
    ")\n",
    "\n",
    "md_get_galaxy = pn.pane.Markdown(\n",
    "\"\"\"\n",
    "**Get files from Galaxy:**\n",
    "You need to provide your credentials and `job_id`.\n",
    "\"\"\"\n",
    ")\n",
    "\n",
    "upload_local = pn.widgets.FileDropper(multiple=True,\n",
    "                                    #   accepted_filetypes=[\".tsv\"],\n",
    "                                      layout=\"compact\")\n",
    "literal_galaxy_url = pn.widgets.TextInput(\n",
    "    name='Galaxy server URL',\n",
    "    placeholder='Enter a https server address here...')\n",
    "\n",
    "\n",
    "literal_galaxy_key = pn.widgets.PasswordInput(\n",
    "    name='Password',\n",
    "    placeholder='Enter your password here...')\n",
    "\n",
    "table1 = pn.bind(display_tables_after_upload,\n",
    "                 d1=upload_local,\n",
    "                 watch=True,\n",
    "                 )\n",
    "\n",
    "tabs = pn.Tabs(\n",
    "    (\"Table 1\", table1),\n",
    "    dynamic=True,\n",
    "    styles=styles, sizing_mode=\"stretch_width\", height=500, margin=10,\n",
    ")\n",
    "\n",
    "template = pn.template.FastListTemplate(\n",
    "    title=\"DBiosynthetic Gene Cluster Analysis\",\n",
    "    sidebar=[image,\n",
    "             md_upload, upload_local,\n",
    "             md_get_galaxy, literal_galaxy_url, literal_galaxy_key,\n",
    "            #  get_galaxy_files,\n",
    "            #  pn.layout.Divider(),\n",
    "            #  \"# Beta diversity\", select_table_beta, select_taxon, select_beta_factor,\n",
    "             ],\n",
    "    main=[pn.Column(markdown_intro,\n",
    "                    pn.layout.Divider(),\n",
    "                    tabs,\n",
    "                    sizing_mode=\"stretch_both\",\n",
    "                   )],\n",
    "    main_layout=None,\n",
    "    accent=ACCENT,\n",
    "    meta_refresh=\"2\",\n",
    ")\n",
    "\n",
    "template.servable()"
   ]
  },
  {
   "cell_type": "code",
   "execution_count": null,
   "metadata": {},
   "outputs": [],
   "source": []
  }
 ],
 "metadata": {
  "kernelspec": {
   "display_name": "momicsdem",
   "language": "python",
   "name": "python3"
  },
  "language_info": {
   "codemirror_mode": {
    "name": "ipython",
    "version": 3
   },
   "file_extension": ".py",
   "mimetype": "text/x-python",
   "name": "python",
   "nbconvert_exporter": "python",
   "pygments_lexer": "ipython3",
   "version": "3.10.12"
  }
 },
 "nbformat": 4,
 "nbformat_minor": 4
}
