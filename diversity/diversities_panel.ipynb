{
 "cells": [
  {
   "cell_type": "markdown",
   "metadata": {},
   "source": [
    "# Visualize taxonomy and alpha/beta diversities"
   ]
  },
  {
   "cell_type": "code",
   "execution_count": 1,
   "metadata": {},
   "outputs": [],
   "source": [
    "## server-side imports\n",
    "#- the difference to local imports should be resolved by setting the VRE packages well"
   ]
  },
  {
   "cell_type": "code",
   "execution_count": 2,
   "metadata": {},
   "outputs": [],
   "source": [
    "# #Install\n",
    "# !pip install scikit-bio\n",
    "# !pip install duckdb\n",
    "# !pip install pingouin"
   ]
  },
  {
   "cell_type": "markdown",
   "metadata": {},
   "source": [
    "## Local imports"
   ]
  },
  {
   "cell_type": "code",
   "execution_count": 34,
   "metadata": {},
   "outputs": [],
   "source": [
    "import sys\n",
    "import os\n",
    "import io\n",
    "\n",
    "sys.path.append(os.path.abspath(os.path.join('..')))\n",
    "\n",
    "import numpy as np\n",
    "import pandas as pd\n",
    "import ipywidgets as widgets\n",
    "import matplotlib.pyplot as plt\n",
    "import seaborn as sns\n",
    "import pingouin as pg\n",
    "import panel as pn\n",
    "\n",
    "from skbio.diversity import alpha_diversity, beta_diversity\n",
    "from skbio.stats.ordination import pcoa, pcoa_biplot\n",
    "from scipy.stats import levene, shapiro, ttest_ind\n",
    "\n",
    "import momics as mo\n",
    "from momics.loader import load_parquet_files\n",
    "# %load_ext autoreload\n",
    "# %autoreload 2"
   ]
  },
  {
   "cell_type": "markdown",
   "metadata": {},
   "source": [
    "## Loading"
   ]
  },
  {
   "cell_type": "markdown",
   "metadata": {},
   "source": [
    "### methods"
   ]
  },
  {
   "cell_type": "code",
   "execution_count": 35,
   "metadata": {},
   "outputs": [],
   "source": [
    "@pn.cache()\n",
    "def get_data(folder):\n",
    "    return load_parquet_files(folder)\n",
    "\n",
    "@pn.cache()\n",
    "def get_metadata(folder):\n",
    "    # Load metadata\n",
    "    sample_metadata = pd.read_csv(\n",
    "        os.path.join(folder, \"Batch1and2_combined_logsheets_2024-09-11.csv\")\n",
    "    )\n",
    "\n",
    "    observatory_metadata = pd.read_csv(\n",
    "        os.path.join(folder, \"Observatory_combined_logsheets_validated.csv\")\n",
    "    )\n",
    "\n",
    "    # Merge metadata\n",
    "    full_metadata = pd.merge(\n",
    "        sample_metadata,\n",
    "        observatory_metadata,\n",
    "        on=[\"obs_id\", \"env_package\"],  # Matching conditions\n",
    "        how=\"inner\"  # Inner join\n",
    "    )\n",
    "\n",
    "    # Sort the merged dataframe by 'ref_code' column in ascending order\n",
    "    full_metadata = full_metadata.sort_values(by=\"ref_code\", ascending=True)\n",
    "    \n",
    "    return full_metadata"
   ]
  },
  {
   "cell_type": "code",
   "execution_count": 36,
   "metadata": {},
   "outputs": [],
   "source": [
    "# parquet files\n",
    "root_folder = os.path.abspath(os.path.join('../'))\n",
    "data_folder = os.path.join(root_folder, 'parquet_files')\n",
    "assets_folder = os.path.join(root_folder, 'assets')\n",
    "\n",
    "mgf_parquet_dfs = get_data(data_folder)"
   ]
  },
  {
   "cell_type": "code",
   "execution_count": 37,
   "metadata": {},
   "outputs": [],
   "source": [
    "# Load and merge metadata\n",
    "full_metadata = get_metadata(data_folder)\n",
    "\n",
    "# select categorical columns from metadata\n",
    "categorical_columns = sorted(full_metadata.select_dtypes(include=['object']).columns)\n",
    "\n",
    "# select numerical columns from metadata\n",
    "numerical_columns = sorted(full_metadata.select_dtypes(include=['int64', 'float64']).columns)\n",
    "\n",
    "assert len(full_metadata.columns) == len(numerical_columns) + len(categorical_columns)\n",
    "\n",
    "# print(f\"Data table names are:\\n{mgf_parquet_dfs.keys()}\")\n",
    "# print(f\"Categorical metadata columns are:\\n{categorical_columns}\")\n",
    "# print(f\"Numerical metadata columns are:\\n{numerical_columns}\")"
   ]
  },
  {
   "cell_type": "code",
   "execution_count": 38,
   "metadata": {},
   "outputs": [],
   "source": [
    "# mgf_parquet_dfs['SSU'].sort_values(by='abundance', ascending=False)"
   ]
  },
  {
   "cell_type": "code",
   "execution_count": 39,
   "metadata": {},
   "outputs": [
    {
     "data": {
      "text/plain": [
       "(54, 54)"
      ]
     },
     "execution_count": 39,
     "metadata": {},
     "output_type": "execute_result"
    }
   ],
   "source": [
    "df = mgf_parquet_dfs['SSU'].copy()\n",
    "df.ref_code.nunique(), df.reads_name.nunique()"
   ]
  },
  {
   "cell_type": "markdown",
   "metadata": {},
   "source": [
    "`ref_code` and `reads_name` are the same length so I will use the `ref_code`"
   ]
  },
  {
   "cell_type": "markdown",
   "metadata": {},
   "source": [
    "## Methods"
   ]
  },
  {
   "cell_type": "markdown",
   "metadata": {},
   "source": [
    "### Panel\n",
    "- TODO: put this into some function in the end"
   ]
  },
  {
   "cell_type": "markdown",
   "metadata": {},
   "source": [
    "### Taxonomy"
   ]
  },
  {
   "cell_type": "code",
   "execution_count": null,
   "metadata": {},
   "outputs": [],
   "source": []
  },
  {
   "cell_type": "markdown",
   "metadata": {},
   "source": [
    "### Diversity"
   ]
  },
  {
   "cell_type": "code",
   "execution_count": 40,
   "metadata": {},
   "outputs": [],
   "source": [
    "# I think this is only useful for beta, not alpha diversity\n",
    "def diversity_input(df, kind='alpha', taxon_col=\"ncbi_tax_id\"):\n",
    "    \"\"\"\n",
    "    Prepare input for diversity analysis.\n",
    "\n",
    "    Args:\n",
    "        df (pd.DataFrame): The input dataframe.\n",
    "        kind (str): The type of diversity analysis. Either 'alpha' or 'beta'.\n",
    "        taxon_col (str): The column name containing the taxon IDs.\n",
    "\n",
    "    Returns:\n",
    "        pd.DataFrame: The input for diversity analysis.\n",
    "    \"\"\"\n",
    "    # Convert DF\n",
    "    out = pd.pivot_table(\n",
    "        df,\n",
    "        index=\"ref_code\",\n",
    "        columns=taxon_col,\n",
    "        values=\"abundance\",\n",
    "        fill_value=0,\n",
    "    )\n",
    "\n",
    "    # Normalize rows\n",
    "    if kind == 'beta':\n",
    "        out = out.div(out.sum(axis=1), axis=0)\n",
    "\n",
    "    assert df.ncbi_tax_id.nunique(), out.shape[1]\n",
    "    return out\n",
    "\n",
    "\n",
    "# Function to get the appropriate column based on the selected table\n",
    "# Example tables: ['go', 'go_slim', 'ips', 'ko', 'pfam']\n",
    "def get_key_column(table_name):\n",
    "    if table_name in [\"go\", \"go_slim\"]:\n",
    "        return \"id\"\n",
    "    elif table_name == \"ips\":\n",
    "        return \"accession\"\n",
    "    elif table_name in [\"ko\", \"pfam\"]:\n",
    "        return \"entry\"\n",
    "    else:\n",
    "        raise ValueError(f\"Unknown table: {table_name}\")\n",
    "    \n",
    "\n",
    "def alpha_input(table_name):\n",
    "    key_column = get_key_column(table_name)\n",
    "    print(\"Key column:\", key_column)\n",
    "\n",
    "    # select distinct ref_codes from the dataframe\n",
    "    ref_codes = mgf_parquet_dfs[table_name]['ref_code'].unique()\n",
    "    print('length of the ref_codes:', len(ref_codes))\n",
    "    out = pd.pivot_table(mgf_parquet_dfs[table_name],\n",
    "                           values='abundance',\n",
    "                           index=[key_column],\n",
    "                           columns=['ref_code'],\n",
    "                           aggfunc='sum',\n",
    "                           fill_value=0,\n",
    "                           )\n",
    "    print('table shape:', out.shape)\n",
    "    return out\n",
    "# Example usage\n",
    "# alpha_input = diversity_input(df, king='alpha')\n",
    "# beta_input = diversity_input(df, king='beta')\n",
    "\n",
    "\n",
    "def shannon_index(row):\n",
    "    row = pd.to_numeric(row, errors=\"coerce\")\n",
    "    total_abundance = row.sum()\n",
    "    if total_abundance == 0:\n",
    "        return np.nan\n",
    "    relative_abundance = row / total_abundance\n",
    "    ln_relative_abundance = np.log(relative_abundance)\n",
    "    ln_relative_abundance[relative_abundance == 0] = 0\n",
    "    multi = relative_abundance * ln_relative_abundance * -1\n",
    "    return multi.sum()  # Shannon entropy\n",
    "\n",
    "\n",
    "def calculate_shannon_index(df):\n",
    "    return df.apply(shannon_index, axis=1)\n",
    "\n",
    "\n",
    "def calculate_alpha_diversity(df, factors):\n",
    "    # Select columns that start with the appropriate prefix\n",
    "    numeric_columns = [\n",
    "        col\n",
    "        for col in df.columns\n",
    "        if col.startswith(\"GO:\")\n",
    "        or col.startswith(\"IPR\")\n",
    "        or col.startswith(\"K\")\n",
    "        or col.startswith(\"PF\")\n",
    "    ]\n",
    "\n",
    "    # Calculate Shannon index only from the selected columns\n",
    "    shannon_values = calculate_shannon_index(df[numeric_columns])\n",
    "\n",
    "    # Create DataFrame with Shannon index and ref_code\n",
    "    alpha_diversity_df = pd.DataFrame(\n",
    "        {\"ref_code\": df[\"ref_code\"], \"Shannon\": shannon_values}\n",
    "    )\n",
    "\n",
    "    # Merge with factors\n",
    "    alpha_diversity_df = alpha_diversity_df.merge(factors, on=\"ref_code\")\n",
    "\n",
    "    return alpha_diversity_df\n",
    "\n",
    "\n"
   ]
  },
  {
   "cell_type": "markdown",
   "metadata": {},
   "source": [
    "### Plotting"
   ]
  },
  {
   "cell_type": "code",
   "execution_count": 54,
   "metadata": {},
   "outputs": [],
   "source": [
    "# Plot the PCoA with optional coloring\n",
    "# TODO: color_by does not work for categorical data\n",
    "def plot_pcoa_black(pcoa_df, color_by=None):\n",
    "    \n",
    "    plt.figure(figsize=(10, 6))\n",
    "\n",
    "    if color_by is not None:\n",
    "        scatter = plt.scatter(\n",
    "            pcoa_df[\"PC1\"], pcoa_df[\"PC2\"], c=color_by, cmap=\"RdYlGn\", edgecolor=\"k\"\n",
    "        )\n",
    "        plt.colorbar(scatter, label=color_by.name)\n",
    "    else:\n",
    "        plt.scatter(pcoa_df[\"PC1\"], pcoa_df[\"PC2\"], color=\"black\")\n",
    "\n",
    "    plt.xlabel(\"PC1\")\n",
    "    plt.ylabel(\"PC2\")\n",
    "    plt.title(\"PCoA Plot\")\n",
    "    # plt.grid(True)\n",
    "    plt.show()\n",
    "\n",
    "\n",
    "def plot_heatmap(df):\n",
    "    plt.figure(figsize=(10, 6))\n",
    "    sns.heatmap(df, cmap=\"viridis\")\n",
    "    plt.title(f\"Heatmap of beta diversity\")\n",
    "    plt.show()\n",
    "\n",
    "\n",
    "def plot_alpha_diversity(series, factor=None):\n",
    "    plt.figure(figsize=(10, 6))\n",
    "    sns.barplot(x=series.index, y=series.values, hue=factor)\n",
    "    plt.title(f\"Alpha diversity\")\n",
    "    plt.show()\n",
    "\n",
    "\n",
    "def mpl_alpha_diversity(df, factor=None, show_legend=True):\n",
    "\n",
    "    plot = plt.figure(figsize=(10, 6), facecolor=(0, 0, 0, 0))\n",
    "    ax = plot.add_subplot(111)\n",
    "    ax.set_title(f\"Alpha diversity\")\n",
    "    ax.set_xlabel(factor)\n",
    "    # ax.set_ylabel(YLABEL)\n",
    "    # ax.set_ylim(YLIM)\n",
    "    # ax.set_xlim(xlim)\n",
    "\n",
    "    # for continent, df in data.groupby('continent'):\n",
    "    #     ax.scatter(df.gdpPercap, y=df.lifeExp, s=df['size']*5,\n",
    "    #                edgecolor='black', label=continent)\n",
    "    \n",
    "    sns.barplot(x=df.index, y=df['Shannon'], hue=df[factor])\n",
    "\n",
    "    if show_legend:\n",
    "        ax.legend(loc=4)\n",
    "\n",
    "    plt.close(plot)\n",
    "    return plot\n"
   ]
  },
  {
   "cell_type": "markdown",
   "metadata": {},
   "source": [
    "## Data setup"
   ]
  },
  {
   "cell_type": "code",
   "execution_count": 65,
   "metadata": {},
   "outputs": [],
   "source": [
    "# alpha diversity\n",
    "def alpha_diversity_parametrized(table_name, metadata):\n",
    "\n",
    "    df_alpha_input = alpha_input(table_name).T.sort_values(by=\"ref_code\")\n",
    "    df_alpha_input = pd.merge(df_alpha_input, metadata, left_index=True, right_on='ref_code')\n",
    "    alpha = calculate_alpha_diversity(df_alpha_input, metadata)\n",
    "    return alpha\n",
    "\n",
    "\n",
    "# beta diversity\n",
    "df_beta_input = diversity_input(df, kind='beta', taxon_col=\"ncbi_tax_id\")\n",
    "\n",
    "beta = beta_diversity(\"braycurtis\", df_beta_input)\n",
    "\n",
    "# merge metadata\n",
    "df_beta = pd.merge(beta.to_data_frame(), full_metadata, left_index=True, right_on='ref_code')"
   ]
  },
  {
   "cell_type": "markdown",
   "metadata": {},
   "source": [
    "## App setup"
   ]
  },
  {
   "cell_type": "code",
   "execution_count": 44,
   "metadata": {},
   "outputs": [],
   "source": [
    "# dfa = diversity_input(df, kind='alpha')"
   ]
  },
  {
   "cell_type": "code",
   "execution_count": null,
   "metadata": {},
   "outputs": [],
   "source": [
    "pn.extension(\"tabulator\")\n",
    "ACCENT = \"teal\"\n",
    "\n",
    "styles = {\n",
    "    \"box-shadow\": \"rgba(50, 50, 93, 0.25) 0px 6px 12px -2px, rgba(0, 0, 0, 0.3) 0px 3px 7px -3px\",\n",
    "    \"border-radius\": \"4px\",\n",
    "    \"padding\": \"10px\",\n",
    "}\n",
    "\n",
    "# TODO: there is a bug in the panel library that does not allow to open png files, renamed to jpg\n",
    "image = pn.pane.JPG(os.path.join(assets_folder, \"figs/metaGOflow_logo_italics.jpg\"),\n",
    "                    width=200, height=100)\n",
    "\n",
    "## Widgets\n",
    "select_table = pn.widgets.Select(\n",
    "    name=\"Alpha diversity source table\",\n",
    "    value=\"go\",\n",
    "    options=[\"go\", \"go_slim\", \"ips\", \"ko\", \"pfam\"],\n",
    "    description=\"Select a table for alpha diversity analysis\",\n",
    ")\n",
    "\n",
    "# TODO: probably not all of these make sense\n",
    "select_categorical_factor = pn.widgets.Select(\n",
    "    name=\"Factor\",\n",
    "    value=categorical_columns[0],\n",
    "    options=categorical_columns,\n",
    "    description=\"Categorical columns to compare alpha diversities\",\n",
    ")\n",
    "\n",
    "\n",
    "indicators = pn.FlexBox(\n",
    "    pn.indicators.Number(\n",
    "        value=10, name=\"Not implemented\", format=\"{value:,.0f}\", styles=styles\n",
    "    ),\n",
    ")\n",
    "\n",
    "\n",
    "def alpha_plot(table_name, factor):\n",
    "    alpha = alpha_diversity_parametrized(table_name, full_metadata)\n",
    "    fig = pn.pane.Matplotlib(\n",
    "        mpl_alpha_diversity(alpha, factor=factor),\n",
    "                            sizing_mode=\"stretch_both\",\n",
    "                            name=\"Plot\",\n",
    "                            )\n",
    "    return fig\n",
    "\n",
    "bplot = pn.bind(alpha_plot, table_name=select_table, factor=select_categorical_factor)\n",
    "table = pn.widgets.Tabulator(df, sizing_mode=\"stretch_both\", name=\"Table\")\n",
    "\n",
    "tabs = pn.Tabs(\n",
    "    bplot, table, styles=styles, sizing_mode=\"stretch_width\", height=500, margin=10\n",
    ")\n",
    "\n",
    "template = pn.template.FastListTemplate(\n",
    "    title=\"Diversity Analysis\",\n",
    "    sidebar=[image, select_table, select_categorical_factor],\n",
    "    main=[pn.Column(indicators,\n",
    "                    tabs,\n",
    "                    sizing_mode=\"stretch_both\",\n",
    "                   )],\n",
    "    main_layout=None,\n",
    "    accent=ACCENT,\n",
    ")\n",
    "\n",
    "template.servable()"
   ]
  },
  {
   "cell_type": "code",
   "execution_count": null,
   "metadata": {},
   "outputs": [],
   "source": []
  }
 ],
 "metadata": {
  "kernelspec": {
   "display_name": "Python 3 (ipykernel)",
   "language": "python",
   "name": "python3"
  },
  "language_info": {
   "codemirror_mode": {
    "name": "ipython",
    "version": 3
   },
   "file_extension": ".py",
   "mimetype": "text/x-python",
   "name": "python",
   "nbconvert_exporter": "python",
   "pygments_lexer": "ipython3",
   "version": "3.10.12"
  }
 },
 "nbformat": 4,
 "nbformat_minor": 4
}
