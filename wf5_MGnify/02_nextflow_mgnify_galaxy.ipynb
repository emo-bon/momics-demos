{
 "cells": [
  {
   "cell_type": "markdown",
   "metadata": {},
   "source": [
    "# Jupyter to Galaxy for nextflow with data from MGnify\n",
    "\n",
    "* need to upload nextflow directory with the files and dependencies\n",
    "* trigger the Galaxy workflow\n",
    "* retrieve results"
   ]
  },
  {
   "cell_type": "code",
   "execution_count": null,
   "metadata": {},
   "outputs": [],
   "source": [
    "import sys\n",
    "import os\n",
    "import io\n",
    "\n",
    "if 'google.colab' in str(get_ipython()):\n",
    "    # clone the momics-demos repository to use the utils module from there\n",
    "    # TODO: eventually utils from momics will be used for that\n",
    "    try:\n",
    "        os.system('git clone https://github.com/palec87/momics-demos.git')\n",
    "        print(f\"Repository cloned\")\n",
    "    except OSError as e:\n",
    "        print(f\"An error occurred while cloning the repository: {e}\")\n",
    "\n",
    "    sys.path.insert(0,'/content/momics-demos')\n",
    "\n",
    "else:\n",
    "    sys.path.append(os.path.abspath(os.path.join(os.getcwd(), '..')))\n",
    "\n",
    "from utils import init_setup, get_notebook_environment\n",
    "init_setup()\n",
    "\n",
    "# Initialize the environment variable\n",
    "notebook_environment = 'unknown'\n",
    "# Determine the notebook environment\n",
    "env = get_notebook_environment()\n",
    "print(f\"Environment: {env}\")"
   ]
  },
  {
   "cell_type": "markdown",
   "metadata": {},
   "source": [
    "## XML for galaxy\n",
    "\n",
    "**XML taken from [here](https://galaxyproject.org/blog/2022-08-15-making-nextflow-work-with-galaxy-at-cfsan-fda/)**\n",
    "```xml\n",
    "<requirements>\n",
    "    <requirement type=\"package\" version=\"22.04\">nextflow</requirement>\n",
    "    <requirement type=\"package\">graphviz</requirement>\n",
    "</requirements>\n",
    "<command detect_errors=\"exit_code\"><![CDATA[\n",
    "    nextflow run $__tool_directory__/nf-pipelines/my_pipeline.nf --input /path/to/input\n",
    "]]></command>\n",
    "```\n",
    "\n",
    "**nf-core/rnaseq**\n",
    "```bash\n",
    "nextflow run nf-core/rnaseq \\\n",
    "    --input <SAMPLESHEET> \\\n",
    "    --outdir <OUTDIR> \\\n",
    "    --gtf <GTF> \\\n",
    "    --fasta <GENOME FASTA> \\\n",
    "    -profile <docker/singularity/.../institute>\n",
    "```\n",
    "\n",
    "**with the input sample `.csv` sheet as follows**\n",
    "```csv\n",
    "sample,fastq_1,fastq_2,strandedness\n",
    "CONTROL_REP1,AEG588A1_S1_L002_R1_001.fastq.gz,AEG588A1_S1_L002_R2_001.fastq.gz,auto\n",
    "CONTROL_REP1,AEG588A1_S1_L003_R1_001.fastq.gz,AEG588A1_S1_L003_R2_001.fastq.gz,auto\n",
    "CONTROL_REP1,AEG588A1_S1_L004_R1_001.fastq.gz,AEG588A1_S1_L004_R2_001.fastq.gz,auto\n",
    "```\n"
   ]
  },
  {
   "cell_type": "code",
   "execution_count": null,
   "metadata": {},
   "outputs": [],
   "source": [
    "import os\n",
    "import sys\n",
    "import json\n",
    "from datetime import datetime\n",
    "from platform import python_version\n",
    "import logging\n",
    "\n",
    "from jsonapi_client import Session as APISession\n",
    "from jsonapi_client import Modifier\n",
    "import requests\n",
    "\n",
    "# Import\n",
    "import bioblend.galaxy as g  # BioBlend is a Python library, wrapping the functionality of Galaxy and CloudMan APIs\n",
    "# import boto3\n",
    "import pandas as pd\n",
    "from bioblend.galaxy import GalaxyInstance\n",
    "from bioblend.galaxy.datasets import DatasetClient\n",
    "\n",
    "from momics.galaxy.blue_cloud import BCGalaxy\n",
    "# instead of the jupyter magic, you can also use\n",
    "from dotenv import load_dotenv\n",
    "load_dotenv()"
   ]
  },
  {
   "cell_type": "code",
   "execution_count": 3,
   "metadata": {},
   "outputs": [],
   "source": [
    "# Read your secrets from the .env file\n",
    "# To see your API key login -> click 'user' (top right) -> click 'preferences' -> click 'Manage API Key' (menu to the left) -> click the icon to 'copy key'\n",
    "GALAXY_URL = os.getenv(\"GALAXY_EARTH_URL\")  # alternatively os.environ.get('GALAXY_URL'), \"https://earth-system.usegalaxy.eu/\"\n",
    "GALAXY_KEY = os.getenv(\"GALAXY_EARTH_KEY\")  # alternatively os.environ.get('GALAXY_KEY')"
   ]
  },
  {
   "cell_type": "markdown",
   "metadata": {},
   "source": [
    "## Downloads of fastq files from ena are under heavy construction"
   ]
  },
  {
   "cell_type": "code",
   "execution_count": null,
   "metadata": {},
   "outputs": [],
   "source": [
    "r = requests.get(f\"https://www.ebi.ac.uk/ena/portal/api/results?dataPortal=ena\")\n",
    "content = r.content.decode('utf-8')\n",
    "print(content)"
   ]
  },
  {
   "cell_type": "code",
   "execution_count": null,
   "metadata": {},
   "outputs": [],
   "source": [
    "r = requests.get(f\"https://www.ebi.ac.uk/ena/portal/api/searchFields?result=read_run\")\n",
    "content = r.content.decode('utf-8')\n",
    "print(content)"
   ]
  },
  {
   "cell_type": "code",
   "execution_count": null,
   "metadata": {},
   "outputs": [],
   "source": [
    "# this actually works but it is not waht I want\n",
    "search = \"ERS1153743\"\n",
    "r = requests.get(f\"https://www.ebi.ac.uk/ena/portal/api/search?result=read_run&{search}?dataPortal=ena\")\n",
    "content = r.content.decode('utf-8')\n",
    "print(content)"
   ]
  },
  {
   "cell_type": "code",
   "execution_count": null,
   "metadata": {},
   "outputs": [],
   "source": [
    "r = requests.get(f\"https://www.ebi.ac.uk/ena/browser/api/fasta/{search}\")\n",
    "content = r.content.decode('utf-8')\n",
    "print(content)"
   ]
  },
  {
   "cell_type": "markdown",
   "metadata": {},
   "source": [
    "## Loading local FASTQ files"
   ]
  },
  {
   "cell_type": "markdown",
   "metadata": {},
   "source": []
  },
  {
   "cell_type": "markdown",
   "metadata": {},
   "source": []
  }
 ],
 "metadata": {
  "kernelspec": {
   "display_name": "momicsdem",
   "language": "python",
   "name": "python3"
  },
  "language_info": {
   "codemirror_mode": {
    "name": "ipython",
    "version": 3
   },
   "file_extension": ".py",
   "mimetype": "text/x-python",
   "name": "python",
   "nbconvert_exporter": "python",
   "pygments_lexer": "ipython3",
   "version": "3.10.12"
  }
 },
 "nbformat": 4,
 "nbformat_minor": 2
}
